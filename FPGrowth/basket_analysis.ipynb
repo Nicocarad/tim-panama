{
 "cells": [
  {
   "cell_type": "code",
   "execution_count": 2,
   "metadata": {},
   "outputs": [],
   "source": [
    "import pandas as pd\n",
    "from mlxtend.frequent_patterns import fpgrowth, association_rules\n",
    "from mlxtend.preprocessing import TransactionEncoder\n",
    "from tabulate import tabulate"
   ]
  },
  {
   "cell_type": "markdown",
   "metadata": {},
   "source": [
    "### Load Clusters\n"
   ]
  },
  {
   "cell_type": "code",
   "execution_count": 3,
   "metadata": {},
   "outputs": [],
   "source": [
    "clusters_ne_id_loc_name = pd.read_parquet(\n",
    "    \"20240601_20240828_clusters_rdg_all_ne_id_loc_name_aggregation_column_first_occurrence_5min_5min_5min_delta.parquet\"\n",
    ")\n",
    "\n",
    "clusters_ne_id_ne_address_first_three_octets = pd.read_parquet(\n",
    "    \"20240601_20240828_clusters_rdg_all_ne_id_ne_address_first_three_octets_aggregation_column_first_occurrence_5min_5min_5min_delta.parquet\"\n",
    ")"
   ]
  },
  {
   "cell_type": "markdown",
   "metadata": {},
   "source": [
    "### Filter only important columns\n"
   ]
  },
  {
   "cell_type": "code",
   "execution_count": 4,
   "metadata": {},
   "outputs": [],
   "source": [
    "clusters_ne_id_loc_name_filtered = clusters_ne_id_loc_name[\n",
    "    [\"cluster_id\", \"cluster_id2\", \"cluster_id3\", \"ne_type\", \"probable_cause\"]\n",
    "]\n",
    "\n",
    "clusters_ne_id_ne_address_first_three_octets_filtered = (\n",
    "    clusters_ne_id_ne_address_first_three_octets[\n",
    "        [\"cluster_id\", \"cluster_id2\", \"cluster_id3\", \"ne_type\", \"probable_cause\"]\n",
    "    ]\n",
    ")"
   ]
  },
  {
   "cell_type": "code",
   "execution_count": 5,
   "metadata": {},
   "outputs": [
    {
     "data": {
      "text/html": [
       "<div>\n",
       "<style scoped>\n",
       "    .dataframe tbody tr th:only-of-type {\n",
       "        vertical-align: middle;\n",
       "    }\n",
       "\n",
       "    .dataframe tbody tr th {\n",
       "        vertical-align: top;\n",
       "    }\n",
       "\n",
       "    .dataframe thead th {\n",
       "        text-align: right;\n",
       "    }\n",
       "</style>\n",
       "<table border=\"1\" class=\"dataframe\">\n",
       "  <thead>\n",
       "    <tr style=\"text-align: right;\">\n",
       "      <th></th>\n",
       "      <th>cluster_id</th>\n",
       "      <th>cluster_id2</th>\n",
       "      <th>cluster_id3</th>\n",
       "      <th>ne_type</th>\n",
       "      <th>probable_cause</th>\n",
       "    </tr>\n",
       "  </thead>\n",
       "  <tbody>\n",
       "    <tr>\n",
       "      <th>48867</th>\n",
       "      <td>55805</td>\n",
       "      <td>1</td>\n",
       "      <td>1</td>\n",
       "      <td>accesspoint</td>\n",
       "      <td>link-down-alarms</td>\n",
       "    </tr>\n",
       "    <tr>\n",
       "      <th>29596</th>\n",
       "      <td>55806</td>\n",
       "      <td>2</td>\n",
       "      <td>2</td>\n",
       "      <td>accesspoint</td>\n",
       "      <td>link-down-alarms</td>\n",
       "    </tr>\n",
       "    <tr>\n",
       "      <th>23576</th>\n",
       "      <td>55807</td>\n",
       "      <td>3</td>\n",
       "      <td>3</td>\n",
       "      <td>accesspoint</td>\n",
       "      <td>link-down-alarms</td>\n",
       "    </tr>\n",
       "    <tr>\n",
       "      <th>20715</th>\n",
       "      <td>55808</td>\n",
       "      <td>4</td>\n",
       "      <td>4</td>\n",
       "      <td>accesspoint</td>\n",
       "      <td>link-down-alarms</td>\n",
       "    </tr>\n",
       "    <tr>\n",
       "      <th>39779</th>\n",
       "      <td>55809</td>\n",
       "      <td>5</td>\n",
       "      <td>5</td>\n",
       "      <td>accesspoint</td>\n",
       "      <td>link-down-alarms</td>\n",
       "    </tr>\n",
       "    <tr>\n",
       "      <th>...</th>\n",
       "      <td>...</td>\n",
       "      <td>...</td>\n",
       "      <td>...</td>\n",
       "      <td>...</td>\n",
       "      <td>...</td>\n",
       "    </tr>\n",
       "    <tr>\n",
       "      <th>6667</th>\n",
       "      <td>39978</td>\n",
       "      <td>52678</td>\n",
       "      <td>52885</td>\n",
       "      <td>n/d</td>\n",
       "      <td>dns-link-down-alarms</td>\n",
       "    </tr>\n",
       "    <tr>\n",
       "      <th>6666</th>\n",
       "      <td>39978</td>\n",
       "      <td>52678</td>\n",
       "      <td>52885</td>\n",
       "      <td>n/d</td>\n",
       "      <td>dns-link-down-alarms</td>\n",
       "    </tr>\n",
       "    <tr>\n",
       "      <th>6677</th>\n",
       "      <td>39978</td>\n",
       "      <td>52678</td>\n",
       "      <td>52885</td>\n",
       "      <td>n/d</td>\n",
       "      <td>dns-snmplinkup-alarms</td>\n",
       "    </tr>\n",
       "    <tr>\n",
       "      <th>6670</th>\n",
       "      <td>39978</td>\n",
       "      <td>52678</td>\n",
       "      <td>52885</td>\n",
       "      <td>n/d</td>\n",
       "      <td>dns-link-down-alarms</td>\n",
       "    </tr>\n",
       "    <tr>\n",
       "      <th>6671</th>\n",
       "      <td>39978</td>\n",
       "      <td>52678</td>\n",
       "      <td>52885</td>\n",
       "      <td>n/d</td>\n",
       "      <td>dns-snmplinkup-alarms</td>\n",
       "    </tr>\n",
       "  </tbody>\n",
       "</table>\n",
       "<p>151975 rows × 5 columns</p>\n",
       "</div>"
      ],
      "text/plain": [
       "       cluster_id  cluster_id2  cluster_id3      ne_type  \\\n",
       "48867       55805            1            1  accesspoint   \n",
       "29596       55806            2            2  accesspoint   \n",
       "23576       55807            3            3  accesspoint   \n",
       "20715       55808            4            4  accesspoint   \n",
       "39779       55809            5            5  accesspoint   \n",
       "...           ...          ...          ...          ...   \n",
       "6667        39978        52678        52885          n/d   \n",
       "6666        39978        52678        52885          n/d   \n",
       "6677        39978        52678        52885          n/d   \n",
       "6670        39978        52678        52885          n/d   \n",
       "6671        39978        52678        52885          n/d   \n",
       "\n",
       "              probable_cause  \n",
       "48867       link-down-alarms  \n",
       "29596       link-down-alarms  \n",
       "23576       link-down-alarms  \n",
       "20715       link-down-alarms  \n",
       "39779       link-down-alarms  \n",
       "...                      ...  \n",
       "6667    dns-link-down-alarms  \n",
       "6666    dns-link-down-alarms  \n",
       "6677   dns-snmplinkup-alarms  \n",
       "6670    dns-link-down-alarms  \n",
       "6671   dns-snmplinkup-alarms  \n",
       "\n",
       "[151975 rows x 5 columns]"
      ]
     },
     "execution_count": 5,
     "metadata": {},
     "output_type": "execute_result"
    }
   ],
   "source": [
    "clusters_ne_id_ne_address_first_three_octets_filtered"
   ]
  },
  {
   "cell_type": "markdown",
   "metadata": {},
   "source": [
    "## Statistics\n"
   ]
  },
  {
   "cell_type": "code",
   "execution_count": 7,
   "metadata": {},
   "outputs": [
    {
     "name": "stdout",
     "output_type": "stream",
     "text": [
      "Percentuale di righe con ne_type uguale a 'n/d': 94.10%\n",
      "Percentuale di righe con ne_type uguale a NA: 0.00%\n",
      "Percentuale di righe con probable_cause uguale a NA: 0.00%\n"
     ]
    }
   ],
   "source": [
    "total_rows = len(clusters_ne_id_loc_name_filtered)\n",
    "\n",
    "\n",
    "filtered_rows_ne_type_nd = clusters_ne_id_loc_name_filtered[\n",
    "    clusters_ne_id_loc_name_filtered[\"ne_type\"] == \"n/d\"\n",
    "]\n",
    "num_filtered_rows_ne_type_nd = len(filtered_rows_ne_type_nd)\n",
    "percentage_ne_type_nd = (num_filtered_rows_ne_type_nd / total_rows) * 100\n",
    "\n",
    "\n",
    "filtered_rows_ne_type_na = clusters_ne_id_loc_name_filtered[\n",
    "    clusters_ne_id_loc_name_filtered[\"ne_type\"].isna()\n",
    "]\n",
    "num_filtered_rows_ne_type_na = len(filtered_rows_ne_type_na)\n",
    "percentage_ne_type_na = (num_filtered_rows_ne_type_na / total_rows) * 100\n",
    "\n",
    "\n",
    "filtered_rows_probable_cause_na = clusters_ne_id_loc_name_filtered[\n",
    "    clusters_ne_id_loc_name_filtered[\"probable_cause\"].isna()\n",
    "]\n",
    "num_filtered_rows_probable_cause_na = len(filtered_rows_probable_cause_na)\n",
    "percentage_probable_cause_na = (num_filtered_rows_probable_cause_na / total_rows) * 100\n",
    "\n",
    "\n",
    "print(f\"Percentuale di righe con ne_type uguale a 'n/d': {percentage_ne_type_nd:.2f}%\")\n",
    "print(f\"Percentuale di righe con ne_type uguale a NA: {percentage_ne_type_na:.2f}%\")\n",
    "print(\n",
    "    f\"Percentuale di righe con probable_cause uguale a NA: {percentage_probable_cause_na:.2f}%\"\n",
    ")"
   ]
  },
  {
   "cell_type": "code",
   "execution_count": 8,
   "metadata": {},
   "outputs": [
    {
     "name": "stdout",
     "output_type": "stream",
     "text": [
      "Percentuale di righe con ne_type uguale a 'n/d': 83.43%\n",
      "Percentuale di righe con ne_type uguale a NA: 0.36%\n",
      "Percentuale di righe con probable_cause uguale a NA: 0.00%\n"
     ]
    }
   ],
   "source": [
    "total_rows = len(clusters_ne_id_ne_address_first_three_octets_filtered)\n",
    "\n",
    "\n",
    "filtered_rows_ne_type_nd = clusters_ne_id_ne_address_first_three_octets_filtered[\n",
    "    clusters_ne_id_ne_address_first_three_octets_filtered[\"ne_type\"] == \"n/d\"\n",
    "]\n",
    "num_filtered_rows_ne_type_nd = len(filtered_rows_ne_type_nd)\n",
    "percentage_ne_type_nd = (num_filtered_rows_ne_type_nd / total_rows) * 100\n",
    "\n",
    "\n",
    "filtered_rows_ne_type_na = clusters_ne_id_ne_address_first_three_octets_filtered[\n",
    "    clusters_ne_id_ne_address_first_three_octets_filtered[\"ne_type\"].isna()\n",
    "]\n",
    "num_filtered_rows_ne_type_na = len(filtered_rows_ne_type_na)\n",
    "percentage_ne_type_na = (num_filtered_rows_ne_type_na / total_rows) * 100\n",
    "\n",
    "filtered_rows_probable_cause_na = clusters_ne_id_ne_address_first_three_octets_filtered[\n",
    "    clusters_ne_id_ne_address_first_three_octets_filtered[\"probable_cause\"].isna()\n",
    "]\n",
    "num_filtered_rows_probable_cause_na = len(filtered_rows_probable_cause_na)\n",
    "percentage_probable_cause_na = (num_filtered_rows_probable_cause_na / total_rows) * 100\n",
    "\n",
    "\n",
    "print(f\"Percentuale di righe con ne_type uguale a 'n/d': {percentage_ne_type_nd:.2f}%\")\n",
    "print(f\"Percentuale di righe con ne_type uguale a NA: {percentage_ne_type_na:.2f}%\")\n",
    "print(\n",
    "    f\"Percentuale di righe con probable_cause uguale a NA: {percentage_probable_cause_na:.2f}%\"\n",
    ")"
   ]
  },
  {
   "cell_type": "markdown",
   "metadata": {},
   "source": [
    "### Create new column \"slogan_netype\"\n"
   ]
  },
  {
   "cell_type": "code",
   "execution_count": 9,
   "metadata": {},
   "outputs": [],
   "source": [
    "clusters_ne_id_loc_name_filtered = clusters_ne_id_loc_name_filtered.rename(\n",
    "    columns={\"probable_cause\": \"slogan\"}\n",
    ")\n",
    "\n",
    "clusters_ne_id_ne_address_first_three_octets_filtered = (\n",
    "    clusters_ne_id_ne_address_first_three_octets_filtered.rename(\n",
    "        columns={\"probable_cause\": \"slogan\"}\n",
    "    )\n",
    ")\n",
    "\n",
    "\n",
    "clusters_ne_id_loc_name_filtered[\"slogan_netype\"] = (\n",
    "    clusters_ne_id_loc_name_filtered[\"slogan\"]\n",
    "    + \"_\"\n",
    "    + clusters_ne_id_loc_name_filtered[\"ne_type\"]\n",
    "\n",
    ")\n",
    "clusters_ne_id_ne_address_first_three_octets_filtered[\"slogan_netype\"] = (\n",
    "    clusters_ne_id_ne_address_first_three_octets_filtered[\"slogan\"]\n",
    "    + \"_\"\n",
    "    + clusters_ne_id_ne_address_first_three_octets_filtered[\"ne_type\"]\n",
    ")"
   ]
  },
  {
   "cell_type": "markdown",
   "metadata": {},
   "source": [
    "### Drop columns with ne_type = NA\n"
   ]
  },
  {
   "cell_type": "code",
   "execution_count": 10,
   "metadata": {},
   "outputs": [],
   "source": [
    "clusters_ne_id_ne_address_first_three_octets_filtered = (\n",
    "    clusters_ne_id_ne_address_first_three_octets_filtered.dropna(subset=[\"ne_type\"])\n",
    ")"
   ]
  },
  {
   "cell_type": "markdown",
   "metadata": {},
   "source": [
    "## Preprocessing and FP-Growth\n"
   ]
  },
  {
   "cell_type": "code",
   "execution_count": 11,
   "metadata": {},
   "outputs": [],
   "source": [
    "def create_baskets(data, aggregation_field):\n",
    "    baskets = data.groupby(aggregation_field)[\"slogan_netype\"].apply(list)\n",
    "    te = TransactionEncoder()\n",
    "    te_ary = te.fit(baskets).transform(baskets)\n",
    "    basket_df = pd.DataFrame(te_ary, columns=te.columns_)\n",
    "\n",
    "    return basket_df"
   ]
  },
  {
   "cell_type": "code",
   "execution_count": 12,
   "metadata": {},
   "outputs": [],
   "source": [
    "def print_frequent_itemsets(frequent_itemsets):\n",
    "    frequent_itemsets[\"itemsets\"] = frequent_itemsets[\"itemsets\"].apply(\n",
    "        lambda x: \", \".join(list(x))\n",
    "    )\n",
    "    table = frequent_itemsets.values.tolist()\n",
    "    return tabulate(table, headers=frequent_itemsets.columns, tablefmt=\"grid\")"
   ]
  },
  {
   "cell_type": "code",
   "execution_count": 18,
   "metadata": {},
   "outputs": [],
   "source": [
    "def print_first_N_rules(rules, N):\n",
    "    rules_df = rules[\n",
    "        [\"antecedents\", \"consequents\", \"support\", \"confidence\", \"lift\"]\n",
    "    ].head(N)\n",
    "\n",
    "    rules_df[\"antecedents\"] = rules_df[\"antecedents\"].apply(\n",
    "        lambda x: \", \".join(list(x))\n",
    "    )\n",
    "    rules_df[\"consequents\"] = rules_df[\"consequents\"].apply(\n",
    "        lambda x: \", \".join(list(x))\n",
    "    )\n",
    "\n",
    "    print(\"\\nAssociation Rules:\")\n",
    "    print(tabulate(rules_df, headers=\"keys\", tablefmt=\"pretty\", showindex=False))"
   ]
  },
  {
   "cell_type": "markdown",
   "metadata": {},
   "source": [
    "### ITEMSETS AND ASSOCIATION RULES\n"
   ]
  },
  {
   "cell_type": "code",
   "execution_count": 24,
   "metadata": {},
   "outputs": [],
   "source": [
    "DATASET = \"ne_id_loc_name\"  # ne_id_ne_address\n",
    "AGGREGATION_FIELD = \"cluster_id2\"  # cluster_id2, cluster_id3\n",
    "MIN_SUPPORT = 0.005\n",
    "\n",
    "ASSOCIATION_RULES_METRIC = \"confidence\"  # confidence, lift, leverage, conviction\n",
    "MIN_THRESHOLD = 0.01\n",
    "NUM_ASSOCIATION_RULES = 20"
   ]
  },
  {
   "cell_type": "code",
   "execution_count": 25,
   "metadata": {},
   "outputs": [
    {
     "name": "stdout",
     "output_type": "stream",
     "text": [
      "AGGREGATION: cluster_id2\n",
      "\n",
      "+------------+--------------------------------------------------------------------------------------------+\n",
      "|    support | itemsets                                                                                   |\n",
      "+============+============================================================================================+\n",
      "| 0.15049    | dns-node-down-alarms_n/d, dns-nodeunmanagable-alarms_n/d                                   |\n",
      "+------------+--------------------------------------------------------------------------------------------+\n",
      "| 0.0470239  | dns-link-down-alarms_n/d, dns-nodeunmanagable-alarms_n/d                                   |\n",
      "+------------+--------------------------------------------------------------------------------------------+\n",
      "| 0.0443833  | dns-node-down-alarms_n/d, dns-link-down-alarms_n/d                                         |\n",
      "+------------+--------------------------------------------------------------------------------------------+\n",
      "| 0.0400484  | dns-node-down-alarms_n/d, dns-link-down-alarms_n/d, dns-nodeunmanagable-alarms_n/d         |\n",
      "+------------+--------------------------------------------------------------------------------------------+\n",
      "| 0.0391242  | dns-islandgroupdown-alarms_n/d, dns-nodeunmanagable-alarms_n/d                             |\n",
      "+------------+--------------------------------------------------------------------------------------------+\n",
      "| 0.0269337  | dns-snmplinkup-alarms_n/d, dns-link-down-alarms_n/d                                        |\n",
      "+------------+--------------------------------------------------------------------------------------------+\n",
      "| 0.0167455  | dns-snmplinkup-alarms_n/d, dns-snmpcoldstart-alarms_n/d                                    |\n",
      "+------------+--------------------------------------------------------------------------------------------+\n",
      "| 0.0147431  | dns-snmplinkup-alarms_n/d, dns-nodeunmanagable-alarms_n/d                                  |\n",
      "+------------+--------------------------------------------------------------------------------------------+\n",
      "| 0.014193   | dns-rrgnosecondary-alarms_n/d, dns-nodeunmanagable-alarms_n/d                              |\n",
      "+------------+--------------------------------------------------------------------------------------------+\n",
      "| 0.0131588  | dns-rrgnoprimary-alarms_n/d, dns-rrgnosecondary-alarms_n/d                                 |\n",
      "+------------+--------------------------------------------------------------------------------------------+\n",
      "| 0.0105622  | dns-rrgnosecondary-alarms_n/d, dns-node-down-alarms_n/d                                    |\n",
      "+------------+--------------------------------------------------------------------------------------------+\n",
      "| 0.0101441  | dns-snmplinkup-alarms_n/d, dns-node-down-alarms_n/d                                        |\n",
      "+------------+--------------------------------------------------------------------------------------------+\n",
      "| 0.00990208 | dns-rrgnoprimary-alarms_n/d, dns-nodeunmanagable-alarms_n/d                                |\n",
      "+------------+--------------------------------------------------------------------------------------------+\n",
      "| 0.00970404 | dns-rrgnosecondary-alarms_n/d, dns-node-down-alarms_n/d, dns-nodeunmanagable-alarms_n/d    |\n",
      "+------------+--------------------------------------------------------------------------------------------+\n",
      "| 0.00970404 | dns-snmpcoldstart-alarms_n/d, dns-nodeunmanagable-alarms_n/d                               |\n",
      "+------------+--------------------------------------------------------------------------------------------+\n",
      "| 0.00957201 | dns-snmplinkup-alarms_n/d, dns-node-down-alarms_n/d, dns-nodeunmanagable-alarms_n/d        |\n",
      "+------------+--------------------------------------------------------------------------------------------+\n",
      "| 0.00902189 | dns-rrgnoprimary-alarms_n/d, dns-rrgnosecondary-alarms_n/d, dns-nodeunmanagable-alarms_n/d |\n",
      "+------------+--------------------------------------------------------------------------------------------+\n",
      "| 0.00745957 | dns-rrgnosecondary-alarms_n/d, dns-link-down-alarms_n/d                                    |\n",
      "+------------+--------------------------------------------------------------------------------------------+\n",
      "| 0.00739355 | dns-snmplinkup-alarms_n/d, dns-snmpcoldstart-alarms_n/d, dns-nodeunmanagable-alarms_n/d    |\n",
      "+------------+--------------------------------------------------------------------------------------------+\n",
      "| 0.00719551 | dns-rrgnoprimary-alarms_n/d, dns-node-down-alarms_n/d                                      |\n",
      "+------------+--------------------------------------------------------------------------------------------+\n"
     ]
    },
    {
     "name": "stderr",
     "output_type": "stream",
     "text": [
      "C:\\Users\\Nicolò Caradonna\\AppData\\Local\\Temp\\ipykernel_3660\\2516030695.py:2: SettingWithCopyWarning: \n",
      "A value is trying to be set on a copy of a slice from a DataFrame.\n",
      "Try using .loc[row_indexer,col_indexer] = value instead\n",
      "\n",
      "See the caveats in the documentation: https://pandas.pydata.org/pandas-docs/stable/user_guide/indexing.html#returning-a-view-versus-a-copy\n",
      "  frequent_itemsets['itemsets'] = frequent_itemsets['itemsets'].apply(lambda x: ', '.join(list(x)))\n"
     ]
    }
   ],
   "source": [
    "if DATASET == \"ne_id_loc_name\":\n",
    "    data = clusters_ne_id_loc_name_filtered\n",
    "else:\n",
    "    data = clusters_ne_id_ne_address_first_three_octets_filtered\n",
    "\n",
    "\n",
    "\n",
    "# Create baskets from dataframe of clusters\n",
    "basket_df = create_baskets(data, AGGREGATION_FIELD)\n",
    "# Find frequent itemsets with fpgrowth\n",
    "frequent_itemsets = fpgrowth(basket_df, min_support=MIN_SUPPORT, use_colnames=True)\n",
    "# Sort itemsets by support\n",
    "frequent_itemsets = frequent_itemsets.sort_values(by=\"support\", ascending=False)\n",
    "\n",
    "\n",
    "\n",
    "# Filter out itemsets with only one item\n",
    "frequent_itemsets_copy = frequent_itemsets.copy()\n",
    "frequent_itemsets_copy = frequent_itemsets_copy[\n",
    "\n",
    "    frequent_itemsets_copy[\"itemsets\"].apply(lambda x: len(x) > 1)\n",
    "\n",
    "]\n",
    "\n",
    "\n",
    "\n",
    "print(\"AGGREGATION: \" + AGGREGATION_FIELD + \"\\n\")\n",
    "print(print_frequent_itemsets(frequent_itemsets_copy.head(20)))"
   ]
  },
  {
   "cell_type": "code",
   "execution_count": 26,
   "metadata": {},
   "outputs": [
    {
     "name": "stdout",
     "output_type": "stream",
     "text": [
      "AGGREGATION: cluster_id2\n",
      "\n",
      "\n",
      "Association Rules:\n",
      "+----------------------------------------------------------+----------------------------------------------------------+----------------------+----------------------+--------------------+\n",
      "|                       antecedents                        |                       consequents                        |       support        |      confidence      |        lift        |\n",
      "+----------------------------------------------------------+----------------------------------------------------------+----------------------+----------------------+--------------------+\n",
      "|                 dns-node-down-alarms_n/d                 |              dns-nodeunmanagable-alarms_n/d              |  0.1504896028165915  |  0.8243731918997108  | 2.7672949996958454 |\n",
      "|              dns-nodeunmanagable-alarms_n/d              |                 dns-node-down-alarms_n/d                 |  0.1504896028165915  |  0.5051706308169597  | 2.7672949996958454 |\n",
      "|                 dns-link-down-alarms_n/d                 |              dns-nodeunmanagable-alarms_n/d              | 0.04702387501375289  | 0.09181919738764285  | 0.3082230333344238 |\n",
      "|              dns-nodeunmanagable-alarms_n/d              |                 dns-link-down-alarms_n/d                 | 0.04702387501375289  | 0.15785197222632588  | 0.3082230333344238 |\n",
      "|                 dns-node-down-alarms_n/d                 |                 dns-link-down-alarms_n/d                 | 0.04438332049730443  | 0.24312921890067501  | 0.4747360725677226 |\n",
      "|                 dns-link-down-alarms_n/d                 |                 dns-node-down-alarms_n/d                 | 0.04438332049730443  | 0.08666322935464466  | 0.4747360725677226 |\n",
      "|    dns-node-down-alarms_n/d, dns-link-down-alarms_n/d    |              dns-nodeunmanagable-alarms_n/d              | 0.04004841016613489  |  0.9023301933564701  | 3.028984756765016  |\n",
      "| dns-node-down-alarms_n/d, dns-nodeunmanagable-alarms_n/d |                 dns-link-down-alarms_n/d                 | 0.04004841016613489  |  0.2661207778915046  | 0.5196295759766016 |\n",
      "| dns-link-down-alarms_n/d, dns-nodeunmanagable-alarms_n/d |                 dns-node-down-alarms_n/d                 | 0.04004841016613489  |  0.8516612072999532  | 4.665349995871067  |\n",
      "|                 dns-node-down-alarms_n/d                 | dns-link-down-alarms_n/d, dns-nodeunmanagable-alarms_n/d | 0.04004841016613489  | 0.21938283510125364  | 4.665349995871068  |\n",
      "|                 dns-link-down-alarms_n/d                 | dns-node-down-alarms_n/d, dns-nodeunmanagable-alarms_n/d | 0.04004841016613489  | 0.07819884850047262  | 0.5196295759766015 |\n",
      "|              dns-nodeunmanagable-alarms_n/d              |    dns-node-down-alarms_n/d, dns-link-down-alarms_n/d    | 0.04004841016613489  |  0.1344364012409514  | 3.028984756765016  |\n",
      "|              dns-islandgroupdown-alarms_n/d              |              dns-nodeunmanagable-alarms_n/d              | 0.03912421608537793  |  0.8163452708907255  | 2.7403464939894384 |\n",
      "|              dns-nodeunmanagable-alarms_n/d              |              dns-islandgroupdown-alarms_n/d              | 0.03912421608537793  |  0.1313340227507756  | 2.740346493989439  |\n",
      "|                dns-snmplinkup-alarms_n/d                 |                 dns-link-down-alarms_n/d                 | 0.02693365606777423  |  0.3926852743022136  | 0.7667604318408566 |\n",
      "|                 dns-link-down-alarms_n/d                 |                dns-snmplinkup-alarms_n/d                 | 0.02693365606777423  | 0.052590873936581586 | 0.7667604318408566 |\n",
      "|                dns-snmplinkup-alarms_n/d                 |               dns-snmpcoldstart-alarms_n/d               | 0.01674551655847728  | 0.24414501122874557  | 10.141837326590807 |\n",
      "|               dns-snmpcoldstart-alarms_n/d               |                dns-snmplinkup-alarms_n/d                 | 0.01674551655847728  |  0.6956124314442413  | 10.141837326590807 |\n",
      "|                dns-snmplinkup-alarms_n/d                 |              dns-nodeunmanagable-alarms_n/d              | 0.014743096050170535 | 0.21495027269810713  | 0.7215552624291238 |\n",
      "|              dns-nodeunmanagable-alarms_n/d              |                dns-snmplinkup-alarms_n/d                 | 0.014743096050170535 | 0.049490323533756826 | 0.7215552624291238 |\n",
      "+----------------------------------------------------------+----------------------------------------------------------+----------------------+----------------------+--------------------+\n"
     ]
    }
   ],
   "source": [
    "rules = association_rules(\n",
    "    frequent_itemsets, metric=ASSOCIATION_RULES_METRIC, min_threshold=MIN_THRESHOLD\n",
    ")\n",
    "\n",
    "print(\"AGGREGATION: \" + AGGREGATION_FIELD + \"\\n\")\n",
    "print_first_N_rules(rules, NUM_ASSOCIATION_RULES)"
   ]
  }
 ],
 "metadata": {
  "kernelspec": {
   "display_name": "Python 3",
   "language": "python",
   "name": "python3"
  },
  "language_info": {
   "codemirror_mode": {
    "name": "ipython",
    "version": 3
   },
   "file_extension": ".py",
   "mimetype": "text/x-python",
   "name": "python",
   "nbconvert_exporter": "python",
   "pygments_lexer": "ipython3",
   "version": "3.12.4"
  }
 },
 "nbformat": 4,
 "nbformat_minor": 2
}
