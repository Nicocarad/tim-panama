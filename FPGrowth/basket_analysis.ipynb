{
 "cells": [
  {
   "cell_type": "code",
   "execution_count": 60,
   "metadata": {},
   "outputs": [],
   "source": [
    "import pandas as pd\n",
    "from mlxtend.frequent_patterns import fpgrowth\n",
    "from mlxtend.preprocessing import TransactionEncoder\n",
    "from tabulate import tabulate\n"
   ]
  },
  {
   "cell_type": "markdown",
   "metadata": {},
   "source": [
    "### Load Clusters"
   ]
  },
  {
   "cell_type": "code",
   "execution_count": 33,
   "metadata": {},
   "outputs": [],
   "source": [
    "clusters_ne_id_loc_name = pd.read_parquet(\"20240601_20240828_clusters_rdg_all_ne_id_loc_name_aggregation_column_first_occurrence_5min_5min_5min_delta.parquet\")\n",
    "clusters_ne_id_ne_address_first_three_octets = pd.read_parquet(\"20240601_20240828_clusters_rdg_all_ne_id_ne_address_first_three_octets_aggregation_column_first_occurrence_5min_5min_5min_delta.parquet\")"
   ]
  },
  {
   "cell_type": "markdown",
   "metadata": {},
   "source": [
    "### Filter only important columns"
   ]
  },
  {
   "cell_type": "code",
   "execution_count": 34,
   "metadata": {},
   "outputs": [],
   "source": [
    "clusters_ne_id_loc_name_filtered = clusters_ne_id_loc_name[[\"cluster_id\", \"cluster_id2\", \"cluster_id3\", \"ne_type\", \"std_probable_cause_no\"]]\n",
    "clusters_ne_id_ne_address_first_three_octets_filtered = clusters_ne_id_ne_address_first_three_octets[[\"cluster_id\", \"cluster_id2\", \"cluster_id3\", \"ne_type\", \"std_probable_cause_no\"]]"
   ]
  },
  {
   "cell_type": "markdown",
   "metadata": {},
   "source": [
    "### Create new column \"slogan_netype\""
   ]
  },
  {
   "cell_type": "code",
   "execution_count": 50,
   "metadata": {},
   "outputs": [],
   "source": [
    "clusters_ne_id_loc_name_filtered = clusters_ne_id_loc_name_filtered.rename(columns={\"std_probable_cause_no\": \"slogan\"})\n",
    "clusters_ne_id_ne_address_first_three_octets_filtered = clusters_ne_id_ne_address_first_three_octets_filtered.rename(columns={\"std_probable_cause_no\": \"slogan\"})\n",
    "\n",
    "clusters_ne_id_loc_name_filtered[\"slogan_netype\"] = clusters_ne_id_loc_name_filtered[\"slogan\"] + \"_\" + clusters_ne_id_loc_name_filtered[\"ne_type\"]\n",
    "clusters_ne_id_ne_address_first_three_octets_filtered[\"slogan_netype\"] = clusters_ne_id_ne_address_first_three_octets_filtered[\"slogan\"] + \"_\" + clusters_ne_id_ne_address_first_three_octets_filtered[\"ne_type\"]"
   ]
  },
  {
   "cell_type": "code",
   "execution_count": 80,
   "metadata": {},
   "outputs": [],
   "source": [
    "clusters_ne_id_ne_address_first_three_octets_filtered = clusters_ne_id_ne_address_first_three_octets_filtered.dropna(subset=['slogan_netype'])"
   ]
  },
  {
   "cell_type": "markdown",
   "metadata": {},
   "source": [
    "## Preprocessing and FP-Growth"
   ]
  },
  {
   "cell_type": "code",
   "execution_count": 61,
   "metadata": {},
   "outputs": [],
   "source": [
    "def create_basket(data,aggregation_field):\n",
    "    basket = data.groupby(aggregation_field)['slogan_netype'].apply(list)\n",
    "    te = TransactionEncoder()\n",
    "    te_ary = te.fit(basket).transform(basket)\n",
    "    basket_df = pd.DataFrame(te_ary, columns=te.columns_)\n",
    "    \n",
    "    return basket_df"
   ]
  },
  {
   "cell_type": "code",
   "execution_count": 70,
   "metadata": {},
   "outputs": [],
   "source": [
    "def print_frequent_itemsets(frequent_itemsets):\n",
    "    frequent_itemsets['itemsets'] = frequent_itemsets['itemsets'].apply(lambda x: ', '.join(list(x)))\n",
    "    table = frequent_itemsets.values.tolist()\n",
    "    return tabulate(table, headers=frequent_itemsets.columns, tablefmt='grid')"
   ]
  },
  {
   "cell_type": "markdown",
   "metadata": {},
   "source": [
    "### Cluster ne_id_loc_name LVL 1-2-3"
   ]
  },
  {
   "cell_type": "code",
   "execution_count": 74,
   "metadata": {},
   "outputs": [
    {
     "name": "stdout",
     "output_type": "stream",
     "text": [
      "LVL 1\n",
      "+-----------+------------------------------------+\n",
      "|   support | itemsets                           |\n",
      "+===========+====================================+\n",
      "| 0.42876   | link-down_n/d                      |\n",
      "+-----------+------------------------------------+\n",
      "| 0.351292  | nodeunmanagable_n/d                |\n",
      "+-----------+------------------------------------+\n",
      "| 0.168442  | node-down_n/d                      |\n",
      "+-----------+------------------------------------+\n",
      "| 0.137755  | nodeunmanagable_n/d, node-down_n/d |\n",
      "+-----------+------------------------------------+\n",
      "| 0.0588854 | snmplinkup_n/d                     |\n",
      "+-----------+------------------------------------+\n",
      "\n",
      "\n",
      "LVL 2\n",
      "+-----------+------------------------------------+\n",
      "|   support | itemsets                           |\n",
      "+===========+====================================+\n",
      "| 0.512136  | link-down_n/d                      |\n",
      "+-----------+------------------------------------+\n",
      "| 0.297899  | nodeunmanagable_n/d                |\n",
      "+-----------+------------------------------------+\n",
      "| 0.18255   | node-down_n/d                      |\n",
      "+-----------+------------------------------------+\n",
      "| 0.15049   | nodeunmanagable_n/d, node-down_n/d |\n",
      "+-----------+------------------------------------+\n",
      "| 0.0685884 | snmplinkup_n/d                     |\n",
      "+-----------+------------------------------------+\n",
      "\n",
      "\n",
      "LVL 3\n",
      "+-----------+------------------------------------+\n",
      "|   support | itemsets                           |\n",
      "+===========+====================================+\n",
      "| 0.539256  | link-down_n/d                      |\n",
      "+-----------+------------------------------------+\n",
      "| 0.281818  | nodeunmanagable_n/d                |\n",
      "+-----------+------------------------------------+\n",
      "| 0.184905  | node-down_n/d                      |\n",
      "+-----------+------------------------------------+\n",
      "| 0.151629  | nodeunmanagable_n/d, node-down_n/d |\n",
      "+-----------+------------------------------------+\n",
      "| 0.0724356 | snmplinkup_n/d                     |\n",
      "+-----------+------------------------------------+\n",
      "| 0.0613515 | nodeunmanagable_n/d, link-down_n/d |\n",
      "+-----------+------------------------------------+\n",
      "| 0.0538892 | node-down_n/d, link-down_n/d       |\n",
      "+-----------+------------------------------------+\n"
     ]
    }
   ],
   "source": [
    "basket_df_lvl1 = create_basket(clusters_ne_id_loc_name_filtered, \"cluster_id\")\n",
    "basket_df_lvl2 = create_basket(clusters_ne_id_loc_name_filtered, \"cluster_id2\")\n",
    "basket_df_lvl3 = create_basket(clusters_ne_id_loc_name_filtered, \"cluster_id3\")\n",
    "\n",
    "frequent_itemsets_lvl1 = fpgrowth(basket_df_lvl1, min_support=0.05, use_colnames=True)\n",
    "frequent_itemsets_lvl2 = fpgrowth(basket_df_lvl2, min_support=0.05, use_colnames=True)\n",
    "frequent_itemsets_lvl3 = fpgrowth(basket_df_lvl3, min_support=0.05, use_colnames=True)\n",
    "\n",
    "frequent_itemsets_lvl1 = frequent_itemsets_lvl1.sort_values(by='support', ascending=False)\n",
    "frequent_itemsets_lvl2 = frequent_itemsets_lvl2.sort_values(by='support', ascending=False)\n",
    "frequent_itemsets_lvl3 = frequent_itemsets_lvl3.sort_values(by='support', ascending=False)\n",
    "\n",
    "print(\"LVL 1\")\n",
    "print(print_frequent_itemsets(frequent_itemsets_lvl1))\n",
    "print(\"\\n\")\n",
    "print(\"LVL 2\")\n",
    "print(print_frequent_itemsets(frequent_itemsets_lvl2))\n",
    "print(\"\\n\")\n",
    "print(\"LVL 3\")\n",
    "print(print_frequent_itemsets(frequent_itemsets_lvl3))\n"
   ]
  },
  {
   "cell_type": "markdown",
   "metadata": {},
   "source": [
    "### Cluster ne_id_ne_address_first_three_octets LVL 1-2-3"
   ]
  },
  {
   "cell_type": "code",
   "execution_count": 82,
   "metadata": {},
   "outputs": [
    {
     "name": "stdout",
     "output_type": "stream",
     "text": [
      "LVL 1\n",
      "+-----------+------------------------------------+\n",
      "|   support | itemsets                           |\n",
      "+===========+====================================+\n",
      "| 0.428924  | link-down_n/d                      |\n",
      "+-----------+------------------------------------+\n",
      "| 0.351054  | nodeunmanagable_n/d                |\n",
      "+-----------+------------------------------------+\n",
      "| 0.168247  | node-down_n/d                      |\n",
      "+-----------+------------------------------------+\n",
      "| 0.137576  | nodeunmanagable_n/d, node-down_n/d |\n",
      "+-----------+------------------------------------+\n",
      "| 0.0589542 | snmplinkup_n/d                     |\n",
      "+-----------+------------------------------------+\n",
      "\n",
      "\n",
      "LVL 2\n",
      "+-----------+------------------------------------+\n",
      "|   support | itemsets                           |\n",
      "+===========+====================================+\n",
      "| 0.49554   | link-down_n/d                      |\n",
      "+-----------+------------------------------------+\n",
      "| 0.314145  | nodeunmanagable_n/d                |\n",
      "+-----------+------------------------------------+\n",
      "| 0.175776  | node-down_n/d                      |\n",
      "+-----------+------------------------------------+\n",
      "| 0.143704  | nodeunmanagable_n/d, node-down_n/d |\n",
      "+-----------+------------------------------------+\n",
      "| 0.0671185 | snmplinkup_n/d                     |\n",
      "+-----------+------------------------------------+\n",
      "\n",
      "\n",
      "LVL 3\n",
      "+-----------+------------------------------------+\n",
      "|   support | itemsets                           |\n",
      "+===========+====================================+\n",
      "| 0.53874   | link-down_n/d                      |\n",
      "+-----------+------------------------------------+\n",
      "| 0.281494  | nodeunmanagable_n/d                |\n",
      "+-----------+------------------------------------+\n",
      "| 0.184548  | node-down_n/d                      |\n",
      "+-----------+------------------------------------+\n",
      "| 0.151269  | nodeunmanagable_n/d, node-down_n/d |\n",
      "+-----------+------------------------------------+\n",
      "| 0.0725035 | snmplinkup_n/d                     |\n",
      "+-----------+------------------------------------+\n",
      "| 0.0612166 | nodeunmanagable_n/d, link-down_n/d |\n",
      "+-----------+------------------------------------+\n",
      "| 0.0537647 | node-down_n/d, link-down_n/d       |\n",
      "+-----------+------------------------------------+\n"
     ]
    }
   ],
   "source": [
    "basket_df_lvl1 = create_basket(clusters_ne_id_ne_address_first_three_octets_filtered, \"cluster_id\")\n",
    "basket_df_lvl2 = create_basket(clusters_ne_id_ne_address_first_three_octets_filtered, \"cluster_id2\")\n",
    "basket_df_lvl3 = create_basket(clusters_ne_id_ne_address_first_three_octets_filtered, \"cluster_id3\")\n",
    "\n",
    "frequent_itemsets_lvl1 = fpgrowth(basket_df_lvl1, min_support=0.05, use_colnames=True)\n",
    "frequent_itemsets_lvl2 = fpgrowth(basket_df_lvl2, min_support=0.05, use_colnames=True)\n",
    "frequent_itemsets_lvl3 = fpgrowth(basket_df_lvl3, min_support=0.05, use_colnames=True)\n",
    "\n",
    "frequent_itemsets_lvl1 = frequent_itemsets_lvl1.sort_values(by='support', ascending=False)\n",
    "frequent_itemsets_lvl2 = frequent_itemsets_lvl2.sort_values(by='support', ascending=False)\n",
    "frequent_itemsets_lvl3 = frequent_itemsets_lvl3.sort_values(by='support', ascending=False)\n",
    "\n",
    "print(\"LVL 1\")\n",
    "print(print_frequent_itemsets(frequent_itemsets_lvl1))\n",
    "print(\"\\n\")\n",
    "print(\"LVL 2\")\n",
    "print(print_frequent_itemsets(frequent_itemsets_lvl2))\n",
    "print(\"\\n\")\n",
    "print(\"LVL 3\")\n",
    "print(print_frequent_itemsets(frequent_itemsets_lvl3))"
   ]
  }
 ],
 "metadata": {
  "kernelspec": {
   "display_name": "Python 3",
   "language": "python",
   "name": "python3"
  },
  "language_info": {
   "codemirror_mode": {
    "name": "ipython",
    "version": 3
   },
   "file_extension": ".py",
   "mimetype": "text/x-python",
   "name": "python",
   "nbconvert_exporter": "python",
   "pygments_lexer": "ipython3",
   "version": "3.12.4"
  }
 },
 "nbformat": 4,
 "nbformat_minor": 2
}
