{
 "cells": [
  {
   "cell_type": "code",
   "execution_count": 2,
   "metadata": {},
   "outputs": [],
   "source": [
    "import pandas as pd\n",
    "from mlxtend.frequent_patterns import fpgrowth\n",
    "from mlxtend.preprocessing import TransactionEncoder\n",
    "from tabulate import tabulate\n"
   ]
  },
  {
   "cell_type": "markdown",
   "metadata": {},
   "source": [
    "### Load Clusters"
   ]
  },
  {
   "cell_type": "code",
   "execution_count": 3,
   "metadata": {},
   "outputs": [],
   "source": [
    "clusters_ne_id_loc_name = pd.read_parquet(\"20240601_20240828_clusters_rdg_all_ne_id_loc_name_aggregation_column_first_occurrence_5min_5min_5min_delta.parquet\")\n",
    "clusters_ne_id_ne_address_first_three_octets = pd.read_parquet(\"20240601_20240828_clusters_rdg_all_ne_id_ne_address_first_three_octets_aggregation_column_first_occurrence_5min_5min_5min_delta.parquet\")"
   ]
  },
  {
   "cell_type": "markdown",
   "metadata": {},
   "source": [
    "### Filter only important columns"
   ]
  },
  {
   "cell_type": "code",
   "execution_count": 4,
   "metadata": {},
   "outputs": [],
   "source": [
    "clusters_ne_id_loc_name_filtered = clusters_ne_id_loc_name[[\"cluster_id\", \"cluster_id2\", \"cluster_id3\", \"ne_type\", \"std_probable_cause_no\"]]\n",
    "clusters_ne_id_ne_address_first_three_octets_filtered = clusters_ne_id_ne_address_first_three_octets[[\"cluster_id\", \"cluster_id2\", \"cluster_id3\", \"ne_type\", \"std_probable_cause_no\"]]"
   ]
  },
  {
   "cell_type": "code",
   "execution_count": 10,
   "metadata": {},
   "outputs": [
    {
     "data": {
      "text/html": [
       "<div>\n",
       "<style scoped>\n",
       "    .dataframe tbody tr th:only-of-type {\n",
       "        vertical-align: middle;\n",
       "    }\n",
       "\n",
       "    .dataframe tbody tr th {\n",
       "        vertical-align: top;\n",
       "    }\n",
       "\n",
       "    .dataframe thead th {\n",
       "        text-align: right;\n",
       "    }\n",
       "</style>\n",
       "<table border=\"1\" class=\"dataframe\">\n",
       "  <thead>\n",
       "    <tr style=\"text-align: right;\">\n",
       "      <th></th>\n",
       "      <th>cluster_id</th>\n",
       "      <th>cluster_id2</th>\n",
       "      <th>cluster_id3</th>\n",
       "      <th>ne_type</th>\n",
       "      <th>std_probable_cause_no</th>\n",
       "    </tr>\n",
       "  </thead>\n",
       "  <tbody>\n",
       "    <tr>\n",
       "      <th>48867</th>\n",
       "      <td>55805</td>\n",
       "      <td>1</td>\n",
       "      <td>1</td>\n",
       "      <td>accesspoint</td>\n",
       "      <td>&lt;NA&gt;</td>\n",
       "    </tr>\n",
       "    <tr>\n",
       "      <th>29596</th>\n",
       "      <td>55806</td>\n",
       "      <td>2</td>\n",
       "      <td>2</td>\n",
       "      <td>accesspoint</td>\n",
       "      <td>&lt;NA&gt;</td>\n",
       "    </tr>\n",
       "    <tr>\n",
       "      <th>23576</th>\n",
       "      <td>55807</td>\n",
       "      <td>3</td>\n",
       "      <td>3</td>\n",
       "      <td>accesspoint</td>\n",
       "      <td>&lt;NA&gt;</td>\n",
       "    </tr>\n",
       "    <tr>\n",
       "      <th>20715</th>\n",
       "      <td>55808</td>\n",
       "      <td>4</td>\n",
       "      <td>4</td>\n",
       "      <td>accesspoint</td>\n",
       "      <td>&lt;NA&gt;</td>\n",
       "    </tr>\n",
       "    <tr>\n",
       "      <th>39779</th>\n",
       "      <td>55809</td>\n",
       "      <td>5</td>\n",
       "      <td>5</td>\n",
       "      <td>accesspoint</td>\n",
       "      <td>&lt;NA&gt;</td>\n",
       "    </tr>\n",
       "    <tr>\n",
       "      <th>...</th>\n",
       "      <td>...</td>\n",
       "      <td>...</td>\n",
       "      <td>...</td>\n",
       "      <td>...</td>\n",
       "      <td>...</td>\n",
       "    </tr>\n",
       "    <tr>\n",
       "      <th>6667</th>\n",
       "      <td>39978</td>\n",
       "      <td>52678</td>\n",
       "      <td>52885</td>\n",
       "      <td>n/d</td>\n",
       "      <td>link-down</td>\n",
       "    </tr>\n",
       "    <tr>\n",
       "      <th>6666</th>\n",
       "      <td>39978</td>\n",
       "      <td>52678</td>\n",
       "      <td>52885</td>\n",
       "      <td>n/d</td>\n",
       "      <td>link-down</td>\n",
       "    </tr>\n",
       "    <tr>\n",
       "      <th>6677</th>\n",
       "      <td>39978</td>\n",
       "      <td>52678</td>\n",
       "      <td>52885</td>\n",
       "      <td>n/d</td>\n",
       "      <td>snmplinkup</td>\n",
       "    </tr>\n",
       "    <tr>\n",
       "      <th>6670</th>\n",
       "      <td>39978</td>\n",
       "      <td>52678</td>\n",
       "      <td>52885</td>\n",
       "      <td>n/d</td>\n",
       "      <td>link-down</td>\n",
       "    </tr>\n",
       "    <tr>\n",
       "      <th>6671</th>\n",
       "      <td>39978</td>\n",
       "      <td>52678</td>\n",
       "      <td>52885</td>\n",
       "      <td>n/d</td>\n",
       "      <td>snmplinkup</td>\n",
       "    </tr>\n",
       "  </tbody>\n",
       "</table>\n",
       "<p>151975 rows × 5 columns</p>\n",
       "</div>"
      ],
      "text/plain": [
       "       cluster_id  cluster_id2  cluster_id3      ne_type std_probable_cause_no\n",
       "48867       55805            1            1  accesspoint                  <NA>\n",
       "29596       55806            2            2  accesspoint                  <NA>\n",
       "23576       55807            3            3  accesspoint                  <NA>\n",
       "20715       55808            4            4  accesspoint                  <NA>\n",
       "39779       55809            5            5  accesspoint                  <NA>\n",
       "...           ...          ...          ...          ...                   ...\n",
       "6667        39978        52678        52885          n/d             link-down\n",
       "6666        39978        52678        52885          n/d             link-down\n",
       "6677        39978        52678        52885          n/d            snmplinkup\n",
       "6670        39978        52678        52885          n/d             link-down\n",
       "6671        39978        52678        52885          n/d            snmplinkup\n",
       "\n",
       "[151975 rows x 5 columns]"
      ]
     },
     "execution_count": 10,
     "metadata": {},
     "output_type": "execute_result"
    }
   ],
   "source": [
    "clusters_ne_id_ne_address_first_three_octets_filtered"
   ]
  },
  {
   "cell_type": "markdown",
   "metadata": {},
   "source": [
    "## Statistics"
   ]
  },
  {
   "cell_type": "code",
   "execution_count": 7,
   "metadata": {},
   "outputs": [
    {
     "name": "stdout",
     "output_type": "stream",
     "text": [
      "Percentuale di righe con ne_type uguale a 'n/d': 94.10%\n",
      "Percentuale di righe con std_probable_cause_no uguale a NaN/Null/NA: 0.00%\n"
     ]
    }
   ],
   "source": [
    "\n",
    "total_rows = len(clusters_ne_id_loc_name_filtered)\n",
    "filtered_rows_ne_type = clusters_ne_id_loc_name_filtered[clusters_ne_id_loc_name_filtered['ne_type'] == 'n/d']\n",
    "num_filtered_rows_ne_type = len(filtered_rows_ne_type)\n",
    "percentage_ne_type = (num_filtered_rows_ne_type / total_rows) * 100\n",
    "filtered_rows_std_probable_cause_no = clusters_ne_id_loc_name_filtered[clusters_ne_id_loc_name_filtered['std_probable_cause_no'].isna()]\n",
    "num_filtered_rows_std_probable_cause_no = len(filtered_rows_std_probable_cause_no)\n",
    "percentage_std_probable_cause_no = (num_filtered_rows_std_probable_cause_no / total_rows) * 100\n",
    "\n",
    "# Stampare i risultati\n",
    "print(f\"Percentuale di righe con ne_type uguale a 'n/d': {percentage_ne_type:.2f}%\")\n",
    "print(f\"Percentuale di righe con std_probable_cause_no uguale a NaN/Null/NA: {percentage_std_probable_cause_no:.2f}%\")"
   ]
  },
  {
   "cell_type": "code",
   "execution_count": 8,
   "metadata": {},
   "outputs": [
    {
     "name": "stdout",
     "output_type": "stream",
     "text": [
      "Percentuale di righe con ne_type uguale a 'n/d': 83.43%\n",
      "Percentuale di righe con std_probable_cause_no uguale a NaN/Null/NA: 10.98%\n"
     ]
    }
   ],
   "source": [
    "\n",
    "total_rows = len(clusters_ne_id_ne_address_first_three_octets_filtered)\n",
    "filtered_rows_ne_type = clusters_ne_id_ne_address_first_three_octets_filtered[clusters_ne_id_ne_address_first_three_octets_filtered['ne_type'] == 'n/d']\n",
    "num_filtered_rows_ne_type = len(filtered_rows_ne_type)\n",
    "percentage_ne_type = (num_filtered_rows_ne_type / total_rows) * 100\n",
    "filtered_rows_std_probable_cause_no = clusters_ne_id_ne_address_first_three_octets_filtered[clusters_ne_id_ne_address_first_three_octets_filtered['std_probable_cause_no'].isna()]\n",
    "num_filtered_rows_std_probable_cause_no = len(filtered_rows_std_probable_cause_no)\n",
    "percentage_std_probable_cause_no = (num_filtered_rows_std_probable_cause_no / total_rows) * 100\n",
    "\n",
    "print(f\"Percentuale di righe con ne_type uguale a 'n/d': {percentage_ne_type:.2f}%\")\n",
    "print(f\"Percentuale di righe con std_probable_cause_no uguale a NaN/Null/NA: {percentage_std_probable_cause_no:.2f}%\")"
   ]
  },
  {
   "cell_type": "markdown",
   "metadata": {},
   "source": [
    "### Create new column \"slogan_netype\""
   ]
  },
  {
   "cell_type": "code",
   "execution_count": 50,
   "metadata": {},
   "outputs": [],
   "source": [
    "clusters_ne_id_loc_name_filtered = clusters_ne_id_loc_name_filtered.rename(columns={\"std_probable_cause_no\": \"slogan\"})\n",
    "clusters_ne_id_ne_address_first_three_octets_filtered = clusters_ne_id_ne_address_first_three_octets_filtered.rename(columns={\"std_probable_cause_no\": \"slogan\"})\n",
    "\n",
    "clusters_ne_id_loc_name_filtered[\"slogan_netype\"] = clusters_ne_id_loc_name_filtered[\"slogan\"] + \"_\" + clusters_ne_id_loc_name_filtered[\"ne_type\"]\n",
    "clusters_ne_id_ne_address_first_three_octets_filtered[\"slogan_netype\"] = clusters_ne_id_ne_address_first_three_octets_filtered[\"slogan\"] + \"_\" + clusters_ne_id_ne_address_first_three_octets_filtered[\"ne_type\"]"
   ]
  },
  {
   "cell_type": "code",
   "execution_count": 80,
   "metadata": {},
   "outputs": [],
   "source": [
    "clusters_ne_id_ne_address_first_three_octets_filtered = clusters_ne_id_ne_address_first_three_octets_filtered.dropna(subset=['slogan_netype'])"
   ]
  },
  {
   "cell_type": "markdown",
   "metadata": {},
   "source": [
    "## Preprocessing and FP-Growth"
   ]
  },
  {
   "cell_type": "code",
   "execution_count": 61,
   "metadata": {},
   "outputs": [],
   "source": [
    "def create_baskets(data,aggregation_field):\n",
    "    baskets = data.groupby(aggregation_field)['slogan_netype'].apply(list)\n",
    "    te = TransactionEncoder()\n",
    "    te_ary = te.fit(baskets).transform(baskets)\n",
    "    basket_df = pd.DataFrame(te_ary, columns=te.columns_)\n",
    "    \n",
    "    return basket_df"
   ]
  },
  {
   "cell_type": "code",
   "execution_count": 70,
   "metadata": {},
   "outputs": [],
   "source": [
    "def print_frequent_itemsets(frequent_itemsets):\n",
    "    frequent_itemsets['itemsets'] = frequent_itemsets['itemsets'].apply(lambda x: ', '.join(list(x)))\n",
    "    table = frequent_itemsets.values.tolist()\n",
    "    return tabulate(table, headers=frequent_itemsets.columns, tablefmt='grid')"
   ]
  },
  {
   "cell_type": "markdown",
   "metadata": {},
   "source": [
    "### Cluster ne_id_loc_name LVL 1-2-3"
   ]
  },
  {
   "cell_type": "code",
   "execution_count": 74,
   "metadata": {},
   "outputs": [
    {
     "name": "stdout",
     "output_type": "stream",
     "text": [
      "LVL 1\n",
      "+-----------+------------------------------------+\n",
      "|   support | itemsets                           |\n",
      "+===========+====================================+\n",
      "| 0.42876   | link-down_n/d                      |\n",
      "+-----------+------------------------------------+\n",
      "| 0.351292  | nodeunmanagable_n/d                |\n",
      "+-----------+------------------------------------+\n",
      "| 0.168442  | node-down_n/d                      |\n",
      "+-----------+------------------------------------+\n",
      "| 0.137755  | nodeunmanagable_n/d, node-down_n/d |\n",
      "+-----------+------------------------------------+\n",
      "| 0.0588854 | snmplinkup_n/d                     |\n",
      "+-----------+------------------------------------+\n",
      "\n",
      "\n",
      "LVL 2\n",
      "+-----------+------------------------------------+\n",
      "|   support | itemsets                           |\n",
      "+===========+====================================+\n",
      "| 0.512136  | link-down_n/d                      |\n",
      "+-----------+------------------------------------+\n",
      "| 0.297899  | nodeunmanagable_n/d                |\n",
      "+-----------+------------------------------------+\n",
      "| 0.18255   | node-down_n/d                      |\n",
      "+-----------+------------------------------------+\n",
      "| 0.15049   | nodeunmanagable_n/d, node-down_n/d |\n",
      "+-----------+------------------------------------+\n",
      "| 0.0685884 | snmplinkup_n/d                     |\n",
      "+-----------+------------------------------------+\n",
      "\n",
      "\n",
      "LVL 3\n",
      "+-----------+------------------------------------+\n",
      "|   support | itemsets                           |\n",
      "+===========+====================================+\n",
      "| 0.539256  | link-down_n/d                      |\n",
      "+-----------+------------------------------------+\n",
      "| 0.281818  | nodeunmanagable_n/d                |\n",
      "+-----------+------------------------------------+\n",
      "| 0.184905  | node-down_n/d                      |\n",
      "+-----------+------------------------------------+\n",
      "| 0.151629  | nodeunmanagable_n/d, node-down_n/d |\n",
      "+-----------+------------------------------------+\n",
      "| 0.0724356 | snmplinkup_n/d                     |\n",
      "+-----------+------------------------------------+\n",
      "| 0.0613515 | nodeunmanagable_n/d, link-down_n/d |\n",
      "+-----------+------------------------------------+\n",
      "| 0.0538892 | node-down_n/d, link-down_n/d       |\n",
      "+-----------+------------------------------------+\n"
     ]
    }
   ],
   "source": [
    "basket_df_lvl1 = create_baskets(clusters_ne_id_loc_name_filtered, \"cluster_id\")\n",
    "basket_df_lvl2 = create_baskets(clusters_ne_id_loc_name_filtered, \"cluster_id2\")\n",
    "basket_df_lvl3 = create_baskets(clusters_ne_id_loc_name_filtered, \"cluster_id3\")\n",
    "\n",
    "frequent_itemsets_lvl1 = fpgrowth(basket_df_lvl1, min_support=0.05, use_colnames=True)\n",
    "frequent_itemsets_lvl2 = fpgrowth(basket_df_lvl2, min_support=0.05, use_colnames=True)\n",
    "frequent_itemsets_lvl3 = fpgrowth(basket_df_lvl3, min_support=0.05, use_colnames=True)\n",
    "\n",
    "frequent_itemsets_lvl1 = frequent_itemsets_lvl1.sort_values(by='support', ascending=False)\n",
    "frequent_itemsets_lvl2 = frequent_itemsets_lvl2.sort_values(by='support', ascending=False)\n",
    "frequent_itemsets_lvl3 = frequent_itemsets_lvl3.sort_values(by='support', ascending=False)\n",
    "\n",
    "print(\"LVL 1\")\n",
    "print(print_frequent_itemsets(frequent_itemsets_lvl1))\n",
    "print(\"\\n\")\n",
    "print(\"LVL 2\")\n",
    "print(print_frequent_itemsets(frequent_itemsets_lvl2))\n",
    "print(\"\\n\")\n",
    "print(\"LVL 3\")\n",
    "print(print_frequent_itemsets(frequent_itemsets_lvl3))\n"
   ]
  },
  {
   "cell_type": "markdown",
   "metadata": {},
   "source": [
    "### Cluster ne_id_ne_address_first_three_octets LVL 1-2-3"
   ]
  },
  {
   "cell_type": "code",
   "execution_count": 82,
   "metadata": {},
   "outputs": [
    {
     "name": "stdout",
     "output_type": "stream",
     "text": [
      "LVL 1\n",
      "+-----------+------------------------------------+\n",
      "|   support | itemsets                           |\n",
      "+===========+====================================+\n",
      "| 0.428924  | link-down_n/d                      |\n",
      "+-----------+------------------------------------+\n",
      "| 0.351054  | nodeunmanagable_n/d                |\n",
      "+-----------+------------------------------------+\n",
      "| 0.168247  | node-down_n/d                      |\n",
      "+-----------+------------------------------------+\n",
      "| 0.137576  | nodeunmanagable_n/d, node-down_n/d |\n",
      "+-----------+------------------------------------+\n",
      "| 0.0589542 | snmplinkup_n/d                     |\n",
      "+-----------+------------------------------------+\n",
      "\n",
      "\n",
      "LVL 2\n",
      "+-----------+------------------------------------+\n",
      "|   support | itemsets                           |\n",
      "+===========+====================================+\n",
      "| 0.49554   | link-down_n/d                      |\n",
      "+-----------+------------------------------------+\n",
      "| 0.314145  | nodeunmanagable_n/d                |\n",
      "+-----------+------------------------------------+\n",
      "| 0.175776  | node-down_n/d                      |\n",
      "+-----------+------------------------------------+\n",
      "| 0.143704  | nodeunmanagable_n/d, node-down_n/d |\n",
      "+-----------+------------------------------------+\n",
      "| 0.0671185 | snmplinkup_n/d                     |\n",
      "+-----------+------------------------------------+\n",
      "\n",
      "\n",
      "LVL 3\n",
      "+-----------+------------------------------------+\n",
      "|   support | itemsets                           |\n",
      "+===========+====================================+\n",
      "| 0.53874   | link-down_n/d                      |\n",
      "+-----------+------------------------------------+\n",
      "| 0.281494  | nodeunmanagable_n/d                |\n",
      "+-----------+------------------------------------+\n",
      "| 0.184548  | node-down_n/d                      |\n",
      "+-----------+------------------------------------+\n",
      "| 0.151269  | nodeunmanagable_n/d, node-down_n/d |\n",
      "+-----------+------------------------------------+\n",
      "| 0.0725035 | snmplinkup_n/d                     |\n",
      "+-----------+------------------------------------+\n",
      "| 0.0612166 | nodeunmanagable_n/d, link-down_n/d |\n",
      "+-----------+------------------------------------+\n",
      "| 0.0537647 | node-down_n/d, link-down_n/d       |\n",
      "+-----------+------------------------------------+\n"
     ]
    }
   ],
   "source": [
    "basket_df_lvl1 = create_baskets(clusters_ne_id_ne_address_first_three_octets_filtered, \"cluster_id\")\n",
    "basket_df_lvl2 = create_baskets(clusters_ne_id_ne_address_first_three_octets_filtered, \"cluster_id2\")\n",
    "basket_df_lvl3 = create_baskets(clusters_ne_id_ne_address_first_three_octets_filtered, \"cluster_id3\")\n",
    "\n",
    "frequent_itemsets_lvl1 = fpgrowth(basket_df_lvl1, min_support=0.05, use_colnames=True)\n",
    "frequent_itemsets_lvl2 = fpgrowth(basket_df_lvl2, min_support=0.05, use_colnames=True)\n",
    "frequent_itemsets_lvl3 = fpgrowth(basket_df_lvl3, min_support=0.05, use_colnames=True)\n",
    "\n",
    "frequent_itemsets_lvl1 = frequent_itemsets_lvl1.sort_values(by='support', ascending=False)\n",
    "frequent_itemsets_lvl2 = frequent_itemsets_lvl2.sort_values(by='support', ascending=False)\n",
    "frequent_itemsets_lvl3 = frequent_itemsets_lvl3.sort_values(by='support', ascending=False)\n",
    "\n",
    "print(\"LVL 1\")\n",
    "print(print_frequent_itemsets(frequent_itemsets_lvl1))\n",
    "print(\"\\n\")\n",
    "print(\"LVL 2\")\n",
    "print(print_frequent_itemsets(frequent_itemsets_lvl2))\n",
    "print(\"\\n\")\n",
    "print(\"LVL 3\")\n",
    "print(print_frequent_itemsets(frequent_itemsets_lvl3))"
   ]
  }
 ],
 "metadata": {
  "kernelspec": {
   "display_name": "Python 3",
   "language": "python",
   "name": "python3"
  },
  "language_info": {
   "codemirror_mode": {
    "name": "ipython",
    "version": 3
   },
   "file_extension": ".py",
   "mimetype": "text/x-python",
   "name": "python",
   "nbconvert_exporter": "python",
   "pygments_lexer": "ipython3",
   "version": "3.12.4"
  }
 },
 "nbformat": 4,
 "nbformat_minor": 2
}
