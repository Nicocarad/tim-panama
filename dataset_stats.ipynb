{
 "cells": [
  {
   "cell_type": "code",
   "execution_count": 2,
   "metadata": {},
   "outputs": [],
   "source": [
    "import pandas as pd\n",
    "import matplotlib.pyplot as plt\n",
    "from matplotlib import ticker"
   ]
  },
  {
   "cell_type": "code",
   "execution_count": 3,
   "metadata": {},
   "outputs": [],
   "source": [
    "train_df = pd.read_parquet(\"Autoencoders/Autoencoder/Dataset split/train_df.parquet\")"
   ]
  },
  {
   "cell_type": "code",
   "execution_count": 4,
   "metadata": {},
   "outputs": [],
   "source": [
    "val_df = pd.read_parquet(\"Autoencoders/Autoencoder/Dataset split/val_df.parquet\")"
   ]
  },
  {
   "cell_type": "code",
   "execution_count": 5,
   "metadata": {},
   "outputs": [],
   "source": [
    "test_df = pd.read_parquet(\"Autoencoders/Autoencoder/Dataset split/test_df.parquet\")"
   ]
  },
  {
   "cell_type": "code",
   "execution_count": 46,
   "metadata": {},
   "outputs": [],
   "source": [
    "def plot_occurrences(df, filename):\n",
    "    \"\"\"Creates a bar plot of the occurrences of each slogan in the DataFrame.\"\"\"\n",
    "\n",
    "    occurrences = df.sum(axis=0)\n",
    "    occurrences = occurrences.sort_values(ascending=True)  # Ordina in modo ascendente per il grafico a barre orizzontali\n",
    "\n",
    "    plt.figure(figsize=(15, 15))  # Aumenta le dimensioni del grafico\n",
    "\n",
    "    plt.barh(occurrences.index, occurrences.values)  # Crea un grafico a barre orizzontali\n",
    "    plt.ylabel(\"Slogan\")\n",
    "    plt.xlabel(\"Occorrenze\")\n",
    "    plt.title(\"Occorrenze di Slogan nel Dataset\")\n",
    "\n",
    "    ax = plt.gca()\n",
    "    ax.xaxis.set_major_locator(ticker.MaxNLocator(integer=True))\n",
    "\n",
    "    plt.tight_layout()  # Assicura che tutto sia visibile quando si salva l'immagine\n",
    "    plt.savefig(filename)\n",
    "    plt.close()"
   ]
  },
  {
   "cell_type": "code",
   "execution_count": 47,
   "metadata": {},
   "outputs": [],
   "source": [
    "plot_occurrences(train_df, \"train_occurrences.png\")\n",
    "plot_occurrences(val_df, \"val_occurrences.png\")\n",
    "plot_occurrences(test_df, \"test_occurrences.png\")"
   ]
  },
  {
   "cell_type": "code",
   "execution_count": 15,
   "metadata": {},
   "outputs": [],
   "source": [
    "dataset = pd.read_parquet(\"real-time clusters/result_df_gt_2.parquet\")"
   ]
  },
  {
   "cell_type": "code",
   "execution_count": 71,
   "metadata": {},
   "outputs": [],
   "source": [
    "occurrences = dataset.sum(axis=0)\n",
    "occurrences = occurrences.sort_values(ascending=False)"
   ]
  },
  {
   "cell_type": "code",
   "execution_count": 72,
   "metadata": {},
   "outputs": [
    {
     "data": {
      "text/plain": [
       "None                                                  499659\n",
       "apparato isolato                                      176702\n",
       "signal degraded                                       143259\n",
       "loss of signal los                                     94152\n",
       "apparato isolato pr                                    63635\n",
       "                                                       ...  \n",
       "cardinitcard initializing                                  1\n",
       "vc unequipped ho vc unequipped                             1\n",
       "net specific problem non inviato da agent                  1\n",
       "unidentified specific problem non inviato da agent         1\n",
       "crdpwroff card power off xexc xexc                         1\n",
       "Length: 87, dtype: int64"
      ]
     },
     "execution_count": 72,
     "metadata": {},
     "output_type": "execute_result"
    }
   ],
   "source": [
    "occurrences"
   ]
  },
  {
   "cell_type": "code",
   "execution_count": 81,
   "metadata": {},
   "outputs": [
    {
     "name": "stdout",
     "output_type": "stream",
     "text": [
      "51\n",
      "52\n",
      "51\n"
     ]
    }
   ],
   "source": [
    "def get_top_slogans(df, percentage):\n",
    "    \"\"\"Restituisce gli slogan che costituiscono una certa percentuale delle occorrenze totali.\"\"\"\n",
    "    occurrences = df.sum(axis=0)\n",
    "    sorted_occurrences = occurrences.sort_values(ascending=False)\n",
    "    cumulative_percentage = sorted_occurrences.cumsum() / sorted_occurrences.sum()\n",
    "    top_slogans = cumulative_percentage[cumulative_percentage <= percentage].index\n",
    "    return top_slogans\n",
    "\n",
    "# Ottieni gli slogan per ciascun DataFrame\n",
    "slogans_95_train = get_top_slogans(train_df, 0.99)\n",
    "slogans_95_test = get_top_slogans(test_df, 0.99)\n",
    "slogans_95_val = get_top_slogans(val_df, 0.99)\n",
    "\n",
    "# Stampa gli slogan e il loro numero\n",
    "\n",
    "print(len(slogans_95_train))\n",
    "\n",
    "print(len(slogans_95_test))\n",
    "\n",
    "print(len(slogans_95_val))"
   ]
  },
  {
   "cell_type": "code",
   "execution_count": 82,
   "metadata": {},
   "outputs": [],
   "source": [
    "train_df_99 = train_df[slogans_95_train]\n",
    "test_df_99 = test_df[slogans_95_test]\n",
    "val_df_99 = val_df[slogans_95_val]\n"
   ]
  },
  {
   "cell_type": "code",
   "execution_count": 83,
   "metadata": {},
   "outputs": [],
   "source": [
    "plot_occurrences(train_df_99, \"train_occurrences_99.png\")\n",
    "plot_occurrences(val_df_99, \"val_occurrences_99.png\")\n",
    "plot_occurrences(test_df_99, \"test_occurrences_99.png\")\n"
   ]
  },
  {
   "cell_type": "code",
   "execution_count": 86,
   "metadata": {},
   "outputs": [],
   "source": [
    "def plot_occurrences(dfs, labels, filename):\n",
    "    \"\"\"Creates a bar plot of the occurrences of each slogan in the DataFrames.\"\"\"\n",
    "\n",
    "    plt.figure(figsize=(15, 15))  # Aumenta le dimensioni del grafico\n",
    "\n",
    "    for df, label in zip(dfs, labels):\n",
    "        occurrences = df.sum(axis=0)\n",
    "        occurrences = occurrences.sort_values(ascending=True)  # Ordina in modo ascendente per il grafico a barre orizzontali\n",
    "        plt.barh(occurrences.index, occurrences.values, alpha=0.5, label=label)  # Crea un grafico a barre orizzontali\n",
    "\n",
    "    plt.ylabel(\"Slogan\")\n",
    "    plt.xlabel(\"Occorrenze\")\n",
    "    plt.title(\"Occorrenze di Slogan nel Dataset\")\n",
    "    plt.legend()\n",
    "\n",
    "    ax = plt.gca()\n",
    "    ax.xaxis.set_major_locator(ticker.MaxNLocator(integer=True))\n",
    "\n",
    "    plt.tight_layout()  # Assicura che tutto sia visibile quando si salva l'immagine\n",
    "    plt.savefig(filename)\n",
    "    plt.close()\n",
    "    \n",
    "    \n",
    "    \n",
    "plot_occurrences([train_df, test_df, val_df], ['Train', 'Test', 'Validation'], 'occurrences.png')"
   ]
  },
  {
   "cell_type": "code",
   "execution_count": 93,
   "metadata": {},
   "outputs": [],
   "source": [
    "def plot_percentage_occurrences(dfs, labels, colors, filename):\n",
    "    \"\"\"Crea un grafico a barre delle percentuali di occorrenze di ciascun slogan nei DataFrame.\"\"\"\n",
    "\n",
    "    plt.figure(figsize=(15, 15))  # Aumenta le dimensioni del grafico\n",
    "\n",
    "    for df, label, color in zip(dfs, labels, colors):\n",
    "        occurrences = df.sum(axis=0)\n",
    "        percentages = occurrences / df.sum().sum() * 100  # Calcola le percentuali\n",
    "        percentages = percentages.sort_values(ascending=True)  # Ordina in modo ascendente per il grafico a barre orizzontali\n",
    "        plt.barh(percentages.index, percentages.values, color=color, alpha=0.5, label=label)  # Crea un grafico a barre orizzontali\n",
    "\n",
    "    plt.ylabel(\"Slogan\")\n",
    "    plt.xlabel(\"Percentuale (%)\")\n",
    "    plt.title(\"Percentuale di Occorrenze di Slogan nel Dataset\")\n",
    "    plt.legend()\n",
    "\n",
    "    ax = plt.gca()\n",
    "    ax.xaxis.set_major_locator(ticker.MaxNLocator(integer=True))\n",
    "\n",
    "    plt.tight_layout()  # Assicura che tutto sia visibile quando si salva l'immagine\n",
    "    plt.savefig(filename)\n",
    "    plt.close()\n",
    "\n",
    "# Chiamata alla funzione con i colori specificati\n",
    "plot_percentage_occurrences([train_df, test_df, val_df], ['Train', 'Test', 'Validation'], ['red', 'grey', 'yellow'], 'percentage_occurrences.png')"
   ]
  },
  {
   "cell_type": "code",
   "execution_count": 41,
   "metadata": {},
   "outputs": [
    {
     "name": "stdout",
     "output_type": "stream",
     "text": [
      "unidentified specific problem non inviato da agent         0.0\n",
      "net specific problem non inviato da agent                  0.0\n",
      "vc unequipped ho vc unequipped                             0.0\n",
      "crdpwroff card power off xexc xexc                         1.0\n",
      "guasto bus di comunicazione                                1.0\n",
      "                                                        ...   \n",
      "apparato isolato pr                                    44467.0\n",
      "loss of signal los                                     65895.0\n",
      "signal degraded                                       100215.0\n",
      "apparato isolato                                      123784.0\n",
      "None                                                  349210.0\n",
      "Length: 87, dtype: float32\n",
      "\n",
      "crdpwroff card power off xexc xexc                            0.0\n",
      "oproutgoing channel optical power out of range xexc zb        0.0\n",
      "guasto bus di comunicazione                                   0.0\n",
      "net specific problem non inviato da agent                     0.0\n",
      "cardinitcard initializing                                     0.0\n",
      "                                                           ...   \n",
      "apparato isolato pr                                        9637.0\n",
      "loss of signal los                                        14076.0\n",
      "signal degraded                                           21426.0\n",
      "apparato isolato                                          26603.0\n",
      "None                                                      75161.0\n",
      "Length: 87, dtype: float32\n",
      "\n"
     ]
    },
    {
     "data": {
      "text/plain": [
       "crdpwroff card power off xexc xexc        0.0\n",
       "guasto bus di comunicazione               0.0\n",
       "serversignalfailure odu ssf               0.0\n",
       "nan                                       0.0\n",
       "cardinitcard initializing                 0.0\n",
       "                                       ...   \n",
       "apparato isolato pr                    9531.0\n",
       "loss of signal los                    14181.0\n",
       "signal degraded                       21618.0\n",
       "apparato isolato                      26315.0\n",
       "None                                  75288.0\n",
       "Length: 87, dtype: float32"
      ]
     },
     "execution_count": 41,
     "metadata": {},
     "output_type": "execute_result"
    }
   ],
   "source": [
    "occurrences_train = train_df.sum(axis=0)\n",
    "occurrences_train = occurrences_train.sort_values(ascending=True)\n",
    "print(occurrences_train) \n",
    "print()\n",
    "occurrences_test = test_df.sum(axis=0)\n",
    "occurrences_test = occurrences_test.sort_values(ascending=True)\n",
    "print(occurrences_test)\n",
    "print()\n",
    "occurrences_val = val_df.sum(axis=0)\n",
    "occurrences_val = occurrences_val.sort_values(ascending=True)\n",
    "occurrences_val"
   ]
  },
  {
   "cell_type": "code",
   "execution_count": 43,
   "metadata": {},
   "outputs": [
    {
     "name": "stdout",
     "output_type": "stream",
     "text": [
      "Slogan con occorrenza 0 nel gruppo di training:\n",
      "unidentified specific problem non inviato da agent    0.0\n",
      "net specific problem non inviato da agent             0.0\n",
      "vc unequipped ho vc unequipped                        0.0\n",
      "dtype: float32\n",
      "\n",
      "Slogan con occorrenza 0 nel gruppo di test:\n",
      "crdpwroff card power off xexc xexc                        0.0\n",
      "oproutgoing channel optical power out of range xexc zb    0.0\n",
      "guasto bus di comunicazione                               0.0\n",
      "net specific problem non inviato da agent                 0.0\n",
      "cardinitcard initializing                                 0.0\n",
      "unidentified specific problem non inviato da agent        0.0\n",
      "serversignalfailure odu ssf                               0.0\n",
      "dtype: float32\n",
      "\n",
      "Slogan con occorrenza 0 nel gruppo di validazione:\n",
      "crdpwroff card power off xexc xexc    0.0\n",
      "guasto bus di comunicazione           0.0\n",
      "serversignalfailure odu ssf           0.0\n",
      "nan                                   0.0\n",
      "cardinitcard initializing             0.0\n",
      "vc unequipped ho vc unequipped        0.0\n",
      "dtype: float32\n"
     ]
    }
   ],
   "source": [
    "# Trova i \"slogan\" con occorrenza 0 nel gruppo di addestramento\n",
    "zero_occurrences_train = occurrences_train.loc[occurrences_train == 0]\n",
    "print(\"Slogan con occorrenza 0 nel gruppo di training:\")\n",
    "print(zero_occurrences_train)\n",
    "print()\n",
    "\n",
    "# Trova i \"slogan\" con occorrenza 0 nel gruppo di test\n",
    "zero_occurrences_test = occurrences_test.loc[occurrences_test == 0]\n",
    "print(\"Slogan con occorrenza 0 nel gruppo di test:\")\n",
    "print(zero_occurrences_test)\n",
    "print()\n",
    "\n",
    "# Trova i \"slogan\" con occorrenza 0 nel gruppo di validazione\n",
    "zero_occurrences_val = occurrences_val.loc[occurrences_val == 0]\n",
    "print(\"Slogan con occorrenza 0 nel gruppo di validazione:\")\n",
    "print(zero_occurrences_val)"
   ]
  },
  {
   "cell_type": "code",
   "execution_count": 45,
   "metadata": {},
   "outputs": [
    {
     "name": "stdout",
     "output_type": "stream",
     "text": [
      "Slogan con occorrenza 0 nel gruppo di training:\n",
      "                                                    Occorrenze\n",
      "unidentified specific problem non inviato da agent         0.0\n",
      "net specific problem non inviato da agent                  0.0\n",
      "vc unequipped ho vc unequipped                             0.0\n",
      "\n",
      "Slogan con occorrenza 0 nel gruppo di test:\n",
      "                                                    Occorrenze\n",
      "crdpwroff card power off xexc xexc                         0.0\n",
      "oproutgoing channel optical power out of range ...         0.0\n",
      "guasto bus di comunicazione                                0.0\n",
      "net specific problem non inviato da agent                  0.0\n",
      "cardinitcard initializing                                  0.0\n",
      "unidentified specific problem non inviato da agent         0.0\n",
      "serversignalfailure odu ssf                                0.0\n",
      "\n",
      "Slogan con occorrenza 0 nel gruppo di validazione:\n",
      "                                    Occorrenze\n",
      "crdpwroff card power off xexc xexc         0.0\n",
      "guasto bus di comunicazione                0.0\n",
      "serversignalfailure odu ssf                0.0\n",
      "nan                                        0.0\n",
      "cardinitcard initializing                  0.0\n",
      "vc unequipped ho vc unequipped             0.0\n"
     ]
    }
   ],
   "source": [
    "# Converti le serie in DataFrame\n",
    "zero_occurrences_train_df = zero_occurrences_train.to_frame('Occorrenze')\n",
    "zero_occurrences_test_df = zero_occurrences_test.to_frame('Occorrenze')\n",
    "zero_occurrences_val_df = zero_occurrences_val.to_frame('Occorrenze')\n",
    "\n",
    "# Stampa i DataFrame\n",
    "print(\"Slogan con occorrenza 0 nel gruppo di training:\")\n",
    "print(zero_occurrences_train_df)\n",
    "print()\n",
    "\n",
    "print(\"Slogan con occorrenza 0 nel gruppo di test:\")\n",
    "print(zero_occurrences_test_df)\n",
    "print()\n",
    "\n",
    "print(\"Slogan con occorrenza 0 nel gruppo di validazione:\")\n",
    "print(zero_occurrences_val_df)"
   ]
  }
 ],
 "metadata": {
  "kernelspec": {
   "display_name": "TIM_thesis",
   "language": "python",
   "name": "python3"
  },
  "language_info": {
   "codemirror_mode": {
    "name": "ipython",
    "version": 3
   },
   "file_extension": ".py",
   "mimetype": "text/x-python",
   "name": "python",
   "nbconvert_exporter": "python",
   "pygments_lexer": "ipython3",
   "version": "3.12.2"
  }
 },
 "nbformat": 4,
 "nbformat_minor": 2
}
