{
 "cells": [
  {
   "cell_type": "code",
   "execution_count": 1,
   "metadata": {},
   "outputs": [],
   "source": [
    "import zipfile\n",
    "import pandas as pd"
   ]
  },
  {
   "cell_type": "markdown",
   "metadata": {},
   "source": [
    "## Unzip Cluster Dataset"
   ]
  },
  {
   "cell_type": "code",
   "execution_count": 2,
   "metadata": {},
   "outputs": [],
   "source": [
    "# Percorso del file ZIP da estrarre\n",
    "zip_file_path = \"real-time clusters/20230101-20240101_real_time_clusters.parquet.zip\"\n",
    "\n",
    "# Percorso della cartella di destinazione per l'estrazione\n",
    "extract_to_folder = \"real-time clusters\"\n",
    "\n",
    "# Aprire il file ZIP\n",
    "with zipfile.ZipFile(zip_file_path, 'r') as zip_ref:\n",
    "    # Estrarre tutto il contenuto nella cartella di destinazione\n",
    "    zip_ref.extractall(extract_to_folder)"
   ]
  },
  {
   "cell_type": "code",
   "execution_count": 2,
   "metadata": {},
   "outputs": [],
   "source": [
    "real_time_clusters_df = pd.read_parquet(\"real-time clusters/20230101-20240101_real_time_clusters.parquet\")"
   ]
  },
  {
   "cell_type": "code",
   "execution_count": 3,
   "metadata": {},
   "outputs": [
    {
     "data": {
      "text/plain": [
       "Index(['alarm_id', 'network', 'ne_type', 'first_occurrence', 'last_update',\n",
       "       'data', 'ne_id', 'geo_code', 'min_cluster_first_occurrence',\n",
       "       'link_cluster', 'domain', 'cluster_id', 'cluster_id2'],\n",
       "      dtype='object')"
      ]
     },
     "execution_count": 3,
     "metadata": {},
     "output_type": "execute_result"
    }
   ],
   "source": [
    "real_time_clusters_df.columns"
   ]
  },
  {
   "cell_type": "code",
   "execution_count": 4,
   "metadata": {},
   "outputs": [
    {
     "data": {
      "text/plain": [
       "array(['an', 'sdh', 'ptn', 'adsl'], dtype=object)"
      ]
     },
     "execution_count": 4,
     "metadata": {},
     "output_type": "execute_result"
    }
   ],
   "source": [
    "real_time_clusters_df[\"network\"].unique()"
   ]
  },
  {
   "cell_type": "markdown",
   "metadata": {},
   "source": [
    "## Filter Clusters\n",
    "- At least 3 alarms inside a cluster\n",
    "- At least 2 different devices inside a cluster"
   ]
  },
  {
   "cell_type": "code",
   "execution_count": 5,
   "metadata": {},
   "outputs": [],
   "source": [
    "counts = real_time_clusters_df['cluster_id2'].value_counts()\n",
    "unique_ne_ids = real_time_clusters_df.groupby('cluster_id2')['ne_id'].nunique()\n",
    "\n",
    "filtered_df = real_time_clusters_df[\n",
    "    (real_time_clusters_df['cluster_id2'].isin(counts[counts >= 3].index)) &\n",
    "    (real_time_clusters_df['cluster_id2'].isin(unique_ne_ids[unique_ne_ids > 1].index))\n",
    "]"
   ]
  },
  {
   "cell_type": "code",
   "execution_count": 6,
   "metadata": {},
   "outputs": [
    {
     "data": {
      "text/plain": [
       "cluster_id2\n",
       "202309181126_17    10079\n",
       "202308080334_43     7989\n",
       "202311270204_5      6736\n",
       "202311270406_8      6618\n",
       "202310110506_21     6226\n",
       "                   ...  \n",
       "202309070948_8         3\n",
       "202309070950_21        3\n",
       "202309070958_3         3\n",
       "202309070958_8         3\n",
       "202312312358_14        3\n",
       "Length: 816089, dtype: int64"
      ]
     },
     "execution_count": 6,
     "metadata": {},
     "output_type": "execute_result"
    }
   ],
   "source": [
    "filtered_df.groupby('cluster_id2').size().sort_values(ascending=False)"
   ]
  },
  {
   "cell_type": "code",
   "execution_count": 7,
   "metadata": {},
   "outputs": [],
   "source": [
    "filtered_df.to_parquet(\"real-time clusters/20230101-20240101_real_time_clusters_filtered.parquet\")"
   ]
  }
 ],
 "metadata": {
  "kernelspec": {
   "display_name": "TIM_thesis",
   "language": "python",
   "name": "python3"
  },
  "language_info": {
   "codemirror_mode": {
    "name": "ipython",
    "version": 3
   },
   "file_extension": ".py",
   "mimetype": "text/x-python",
   "name": "python",
   "nbconvert_exporter": "python",
   "pygments_lexer": "ipython3",
   "version": "3.12.4"
  }
 },
 "nbformat": 4,
 "nbformat_minor": 2
}
