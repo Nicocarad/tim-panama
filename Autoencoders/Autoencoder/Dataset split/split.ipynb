{
 "cells": [
  {
   "cell_type": "code",
   "execution_count": 1,
   "metadata": {},
   "outputs": [],
   "source": [
    "import pandas as pd  "
   ]
  },
  {
   "cell_type": "markdown",
   "metadata": {},
   "source": [
    "## Create Train, Val and Test parquet file from indexes"
   ]
  },
  {
   "cell_type": "code",
   "execution_count": 2,
   "metadata": {},
   "outputs": [],
   "source": [
    "train_indexes_df = pd.read_csv('train_indexes.csv')  \n",
    "val_indexes_df = pd.read_csv('val_indexes.csv')\n",
    "test_indexes_df = pd.read_csv('test_indexes.csv')"
   ]
  },
  {
   "cell_type": "code",
   "execution_count": 3,
   "metadata": {},
   "outputs": [],
   "source": [
    "# Estrai gli indici dai DataFrame\n",
    "train_indexes = train_indexes_df.iloc[:, 0].values\n",
    "val_indexes = val_indexes_df.iloc[:, 0].values\n",
    "test_indexes = test_indexes_df.iloc[:, 0].values"
   ]
  },
  {
   "cell_type": "code",
   "execution_count": 4,
   "metadata": {},
   "outputs": [],
   "source": [
    "result_df_gt_2 = pd.read_parquet('result_df_gt_2.parquet')\n",
    "result_df_gt_2 = result_df_gt_2.reset_index()"
   ]
  },
  {
   "cell_type": "code",
   "execution_count": 5,
   "metadata": {},
   "outputs": [],
   "source": [
    "# Divide il DataFrame utilizzando gli indici\n",
    "train_df = result_df_gt_2.loc[train_indexes]\n",
    "val_df = result_df_gt_2.loc[val_indexes]\n",
    "test_df = result_df_gt_2.loc[test_indexes]"
   ]
  },
  {
   "cell_type": "code",
   "execution_count": 6,
   "metadata": {},
   "outputs": [],
   "source": [
    "train_df = train_df.reset_index(drop=True).set_index('cluster_id2')\n",
    "val_df = val_df.reset_index(drop=True).set_index('cluster_id2')\n",
    "test_df = test_df.reset_index(drop=True).set_index('cluster_id2')"
   ]
  },
  {
   "cell_type": "code",
   "execution_count": 7,
   "metadata": {},
   "outputs": [],
   "source": [
    "train_df = train_df.rename(columns={None: \"None\"})\n",
    "val_df = val_df.rename(columns={None: \"None\"})\n",
    "test_df = test_df.rename(columns={None: \"None\"})"
   ]
  },
  {
   "cell_type": "code",
   "execution_count": 8,
   "metadata": {},
   "outputs": [],
   "source": [
    "train_df.to_parquet('train_df.parquet')\n",
    "val_df.to_parquet('val_df.parquet')\n",
    "test_df.to_parquet('test_df.parquet')"
   ]
  }
 ],
 "metadata": {
  "kernelspec": {
   "display_name": "TIM_thesis",
   "language": "python",
   "name": "python3"
  },
  "language_info": {
   "codemirror_mode": {
    "name": "ipython",
    "version": 3
   },
   "file_extension": ".py",
   "mimetype": "text/x-python",
   "name": "python",
   "nbconvert_exporter": "python",
   "pygments_lexer": "ipython3",
   "version": "3.12.2"
  }
 },
 "nbformat": 4,
 "nbformat_minor": 2
}
