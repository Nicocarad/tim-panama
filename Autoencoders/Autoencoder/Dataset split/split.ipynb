{
 "cells": [
  {
   "cell_type": "code",
   "execution_count": 30,
   "metadata": {},
   "outputs": [],
   "source": [
    "import pandas as pd  \n",
    "from sklearn.model_selection import train_test_split\n",
    "import numpy as np"
   ]
  },
  {
   "cell_type": "markdown",
   "metadata": {},
   "source": [
    "## Create Train, Val and Test parquet file from indexes"
   ]
  },
  {
   "cell_type": "code",
   "execution_count": 31,
   "metadata": {},
   "outputs": [],
   "source": [
    "bitmap = pd.read_parquet(\"Lavoro Programmato datasets/result_df_gt_2_lavoriprogrammati.parquet\")\n"
   ]
  },
  {
   "cell_type": "code",
   "execution_count": 32,
   "metadata": {},
   "outputs": [],
   "source": [
    "indices = np.arange(len(bitmap))\n",
    "train_indices, test_indices = train_test_split(indices, test_size=0.3, random_state=42)\n",
    "val_indices, test_indices = train_test_split(test_indices, test_size=0.5, random_state=42)"
   ]
  },
  {
   "cell_type": "code",
   "execution_count": 33,
   "metadata": {},
   "outputs": [],
   "source": [
    "pd.DataFrame(train_indices).to_csv(\"train_indexes_lp.csv\", index=False)\n",
    "pd.DataFrame(val_indices).to_csv(\"val_indexes_lp.csv\", index=False)\n",
    "pd.DataFrame(test_indices).to_csv(\"test_indexes_lp.csv\", index=False)"
   ]
  },
  {
   "cell_type": "code",
   "execution_count": 34,
   "metadata": {},
   "outputs": [],
   "source": [
    "train_indexes_df = pd.read_csv('train_indexes_lp.csv')  \n",
    "val_indexes_df = pd.read_csv('val_indexes_lp.csv')\n",
    "test_indexes_df = pd.read_csv('test_indexes_lp.csv')"
   ]
  },
  {
   "cell_type": "code",
   "execution_count": 35,
   "metadata": {},
   "outputs": [],
   "source": [
    "train_indexes = train_indexes_df.iloc[:, 0].values\n",
    "val_indexes = val_indexes_df.iloc[:, 0].values\n",
    "test_indexes = test_indexes_df.iloc[:, 0].values"
   ]
  },
  {
   "cell_type": "code",
   "execution_count": 36,
   "metadata": {},
   "outputs": [],
   "source": [
    "result_df_gt_2 = pd.read_parquet('Lavoro Programmato datasets/result_df_gt_2_lavoriprogrammati.parquet')\n",
    "result_df_gt_2 = result_df_gt_2.reset_index()"
   ]
  },
  {
   "cell_type": "code",
   "execution_count": 37,
   "metadata": {},
   "outputs": [],
   "source": [
    "# Divide il DataFrame utilizzando gli indici\n",
    "train_df = result_df_gt_2.loc[train_indexes]\n",
    "val_df = result_df_gt_2.loc[val_indexes]\n",
    "test_df = result_df_gt_2.loc[test_indexes]"
   ]
  },
  {
   "cell_type": "code",
   "execution_count": 38,
   "metadata": {},
   "outputs": [],
   "source": [
    "train_df = train_df.reset_index(drop=True).set_index('cluster_id2')\n",
    "val_df = val_df.reset_index(drop=True).set_index('cluster_id2')\n",
    "test_df = test_df.reset_index(drop=True).set_index('cluster_id2')"
   ]
  },
  {
   "cell_type": "code",
   "execution_count": 39,
   "metadata": {},
   "outputs": [],
   "source": [
    "train_df.to_parquet('train_df_lp.parquet')\n",
    "val_df.to_parquet('val_df_lp.parquet')\n",
    "test_df.to_parquet('test_df_lp.parquet')"
   ]
  }
 ],
 "metadata": {
  "kernelspec": {
   "display_name": "TIM_thesis",
   "language": "python",
   "name": "python3"
  },
  "language_info": {
   "codemirror_mode": {
    "name": "ipython",
    "version": 3
   },
   "file_extension": ".py",
   "mimetype": "text/x-python",
   "name": "python",
   "nbconvert_exporter": "python",
   "pygments_lexer": "ipython3",
   "version": "3.12.2"
  }
 },
 "nbformat": 4,
 "nbformat_minor": 2
}
