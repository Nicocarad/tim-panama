{
 "cells": [
  {
   "cell_type": "code",
   "execution_count": 35,
   "metadata": {},
   "outputs": [],
   "source": [
    "import pandas as pd\n",
    "from sklearn.ensemble import RandomForestClassifier\n",
    "from sklearn.linear_model import LogisticRegression\n",
    "from sklearn.svm import SVC\n",
    "from sklearn.metrics import classification_report, accuracy_score"
   ]
  },
  {
   "cell_type": "code",
   "execution_count": 32,
   "metadata": {},
   "outputs": [],
   "source": [
    "cluster_with_guastocavo_labels = pd.read_csv(\"real-time clusters/20230101-20240101_real_time_clusters_filtered_guasto_cavo.csv\")\n",
    "train_df = pd.read_parquet(\"Autoencoders/Autoencoder/Dataset split/Lavoro Programmato datasets/train_df_lp.parquet\")\n",
    "merge_train_df = pd.merge(train_df, cluster_with_guastocavo_labels, on='cluster_id2', how='left')\n",
    "merge_train_df.set_index('cluster_id2', inplace=True)\n",
    "val_df = pd.read_parquet(\"Autoencoders/Autoencoder/Dataset split/Lavoro Programmato datasets/val_df_lp.parquet\")\n",
    "merge_val_df = pd.merge(val_df, cluster_with_guastocavo_labels, on='cluster_id2', how='left')\n",
    "merge_val_df.set_index('cluster_id2', inplace=True)\n",
    "test_df = pd.read_parquet(\"Autoencoders/Autoencoder/Dataset split/Lavoro Programmato datasets/test_df_lp.parquet\")\n",
    "merge_test_df = pd.merge(test_df, cluster_with_guastocavo_labels, on='cluster_id2', how='left')\n",
    "merge_test_df.set_index('cluster_id2', inplace=True)"
   ]
  },
  {
   "cell_type": "code",
   "execution_count": 33,
   "metadata": {},
   "outputs": [],
   "source": [
    "# Caricare i dataset\n",
    "# Separare le feature dalle etichette\n",
    "X_train = merge_train_df.drop(columns=['GUASTO CAVO'])  # Sostituisci 'GUASTO CAVO' con il nome della colonna etichetta\n",
    "y_train = merge_train_df['GUASTO CAVO']\n",
    "\n",
    "X_val = merge_val_df.drop(columns=['GUASTO CAVO'])\n",
    "y_val = merge_val_df['GUASTO CAVO']\n",
    "\n",
    "X_test = merge_test_df.drop(columns=['GUASTO CAVO'])\n",
    "y_test = merge_test_df['GUASTO CAVO']"
   ]
  },
  {
   "cell_type": "code",
   "execution_count": 40,
   "metadata": {},
   "outputs": [
    {
     "name": "stdout",
     "output_type": "stream",
     "text": [
      "Validation Accuracy: 0.8134057971014492\n",
      "Validation Classification Report:\n",
      "              precision    recall  f1-score   support\n",
      "\n",
      "       False       0.42      0.16      0.24        97\n",
      "        True       0.84      0.95      0.89       455\n",
      "\n",
      "    accuracy                           0.81       552\n",
      "   macro avg       0.63      0.56      0.57       552\n",
      "weighted avg       0.77      0.81      0.78       552\n",
      "\n",
      "Test Accuracy: 0.779385171790235\n",
      "Test Classification Report:\n",
      "              precision    recall  f1-score   support\n",
      "\n",
      "       False       0.42      0.11      0.18       117\n",
      "        True       0.80      0.96      0.87       436\n",
      "\n",
      "    accuracy                           0.78       553\n",
      "   macro avg       0.61      0.53      0.52       553\n",
      "weighted avg       0.72      0.78      0.73       553\n",
      "\n"
     ]
    }
   ],
   "source": [
    "# Inizializzare e allenare il modello Random Forest\n",
    "clf = RandomForestClassifier(n_estimators=200, random_state=42)\n",
    "clf.fit(X_train, y_train.values.ravel())  # Assicurarsi che y_train sia un array 1D\n",
    "\n",
    "# Valutare il modello sul set di validazione\n",
    "y_val_pred = clf.predict(X_val)\n",
    "print(\"Validation Accuracy:\", accuracy_score(y_val, y_val_pred))\n",
    "print(\"Validation Classification Report:\")\n",
    "print(classification_report(y_val, y_val_pred))\n",
    "\n",
    "# Valutare il modello sul set di test\n",
    "y_test_pred = clf.predict(X_test)\n",
    "print(\"Test Accuracy:\", accuracy_score(y_test, y_test_pred))\n",
    "print(\"Test Classification Report:\")\n",
    "print(classification_report(y_test, y_test_pred))\n"
   ]
  },
  {
   "cell_type": "code",
   "execution_count": 34,
   "metadata": {},
   "outputs": [
    {
     "name": "stdout",
     "output_type": "stream",
     "text": [
      "Validation Accuracy: 0.8315217391304348\n",
      "Validation Classification Report:\n",
      "              precision    recall  f1-score   support\n",
      "\n",
      "       False       0.83      0.05      0.10        97\n",
      "        True       0.83      1.00      0.91       455\n",
      "\n",
      "    accuracy                           0.83       552\n",
      "   macro avg       0.83      0.52      0.50       552\n",
      "weighted avg       0.83      0.83      0.76       552\n",
      "\n",
      "Test Accuracy: 0.7920433996383364\n",
      "Test Classification Report:\n",
      "              precision    recall  f1-score   support\n",
      "\n",
      "       False       0.60      0.05      0.09       117\n",
      "        True       0.80      0.99      0.88       436\n",
      "\n",
      "    accuracy                           0.79       553\n",
      "   macro avg       0.70      0.52      0.49       553\n",
      "weighted avg       0.75      0.79      0.72       553\n",
      "\n"
     ]
    }
   ],
   "source": [
    "clf = LogisticRegression(random_state=42, max_iter=200)\n",
    "clf.fit(X_train, y_train.values.ravel())  # Assicurarsi che y_train sia un array 1D\n",
    "\n",
    "# Valutare il modello sul set di validazione\n",
    "y_val_pred = clf.predict(X_val)\n",
    "print(\"Validation Accuracy:\", accuracy_score(y_val, y_val_pred))\n",
    "print(\"Validation Classification Report:\")\n",
    "print(classification_report(y_val, y_val_pred))\n",
    "\n",
    "# Valutare il modello sul set di test\n",
    "y_test_pred = clf.predict(X_test)\n",
    "print(\"Test Accuracy:\", accuracy_score(y_test, y_test_pred))\n",
    "print(\"Test Classification Report:\")\n",
    "print(classification_report(y_test, y_test_pred))"
   ]
  },
  {
   "cell_type": "code",
   "execution_count": 38,
   "metadata": {},
   "outputs": [
    {
     "name": "stdout",
     "output_type": "stream",
     "text": [
      "Validation Accuracy: 0.8297101449275363\n",
      "Validation Classification Report:\n",
      "              precision    recall  f1-score   support\n",
      "\n",
      "       False       0.80      0.04      0.08        97\n",
      "        True       0.83      1.00      0.91       455\n",
      "\n",
      "    accuracy                           0.83       552\n",
      "   macro avg       0.81      0.52      0.49       552\n",
      "weighted avg       0.82      0.83      0.76       552\n",
      "\n",
      "Test Accuracy: 0.7902350813743219\n",
      "Test Classification Report:\n",
      "              precision    recall  f1-score   support\n",
      "\n",
      "       False       0.67      0.02      0.03       117\n",
      "        True       0.79      1.00      0.88       436\n",
      "\n",
      "    accuracy                           0.79       553\n",
      "   macro avg       0.73      0.51      0.46       553\n",
      "weighted avg       0.76      0.79      0.70       553\n",
      "\n"
     ]
    }
   ],
   "source": [
    "# Inizializzare e allenare il modello SVM\n",
    "clf = SVC(kernel='linear', random_state=42)\n",
    "clf.fit(X_train, y_train.values.ravel())  # Assicurarsi che y_train sia un array 1D\n",
    "\n",
    "# Valutare il modello sul set di validazione\n",
    "y_val_pred = clf.predict(X_val)\n",
    "print(\"Validation Accuracy:\", accuracy_score(y_val, y_val_pred))\n",
    "print(\"Validation Classification Report:\")\n",
    "print(classification_report(y_val, y_val_pred))\n",
    "\n",
    "# Valutare il modello sul set di test\n",
    "y_test_pred = clf.predict(X_test)\n",
    "print(\"Test Accuracy:\", accuracy_score(y_test, y_test_pred))\n",
    "print(\"Test Classification Report:\")\n",
    "print(classification_report(y_test, y_test_pred))"
   ]
  }
 ],
 "metadata": {
  "kernelspec": {
   "display_name": "TIM_thesis",
   "language": "python",
   "name": "python3"
  },
  "language_info": {
   "codemirror_mode": {
    "name": "ipython",
    "version": 3
   },
   "file_extension": ".py",
   "mimetype": "text/x-python",
   "name": "python",
   "nbconvert_exporter": "python",
   "pygments_lexer": "ipython3",
   "version": "3.12.2"
  }
 },
 "nbformat": 4,
 "nbformat_minor": 2
}
