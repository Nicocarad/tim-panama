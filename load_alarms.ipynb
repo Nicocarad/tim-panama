{
 "cells": [
  {
   "cell_type": "code",
   "execution_count": null,
   "metadata": {},
   "outputs": [],
   "source": [
    "import zipfile\n",
    "import pandas as pd\n",
    "from association_alarm_id_to_lp_id import associate_alarm_id_to_lp_id"
   ]
  },
  {
   "cell_type": "markdown",
   "metadata": {},
   "source": [
    "## Unzip Alarms Datasets"
   ]
  },
  {
   "cell_type": "code",
   "execution_count": null,
   "metadata": {},
   "outputs": [],
   "source": [
    "# Percorso del file ZIP da estrarre\n",
    "zip_mob_file_path = \"alarms datasets/mob/20230101-20240101_inpas_mob_preprocess__an__last_event__last_event__ext1.zip\"\n",
    "zip_tx_adsl_file_path = \"alarms datasets/tx/20230101-20240101_inpas_tx_preprocess__adsl__last_event__last_event__ext1.zip\"\n",
    "zip_tx_pdh_file_path = \"alarms datasets/tx/20230101-20240101_inpas_tx_preprocess__pdh__last_event__last_event__ext1.zip\"\n",
    "zip_tx_ptn_file_path = \"alarms datasets/tx/20230101-20240101_inpas_tx_preprocess__ptn__last_event__last_event__ext1.zip\"\n",
    "zip_tx_sdh_file_path = \"alarms datasets/tx/20230101-20240101_inpas_tx_preprocess__sdh__last_event__last_event__ext1.zip\"\n",
    "\n",
    "# Percorso della cartella di destinazione per l'estrazione\n",
    "extract_to_folder_mob = \"alarms datasets/mob\"\n",
    "extract_to_folder_tx = \"alarms datasets/tx\"\n",
    "\n",
    "# Percorso del file ZIP da estrarre\n",
    "zip_files_paths = {\n",
    "    zip_mob_file_path: extract_to_folder_mob,\n",
    "    zip_tx_adsl_file_path: extract_to_folder_tx,\n",
    "    zip_tx_pdh_file_path: extract_to_folder_tx,\n",
    "    zip_tx_ptn_file_path: extract_to_folder_tx,\n",
    "    zip_tx_sdh_file_path: extract_to_folder_tx\n",
    "}\n",
    "\n",
    "# Aprire il file ZIP\n",
    "for zip_file_path, extract_to_folder in zip_files_paths.items():\n",
    "    with zipfile.ZipFile(zip_file_path, 'r') as zip_ref:\n",
    "        # Estrarre tutto il contenuto nella cartella di destinazione\n",
    "        zip_ref.extractall(extract_to_folder)"
   ]
  },
  {
   "cell_type": "markdown",
   "metadata": {},
   "source": [
    "## Load Datasets in a Dataframe"
   ]
  },
  {
   "cell_type": "code",
   "execution_count": null,
   "metadata": {},
   "outputs": [],
   "source": [
    "mob_alarms_df = pd.read_parquet('alarms datasets/mob/20230101-20240101_inpas_mob_preprocess__an__last_event__last_event__ext1.parquet')"
   ]
  },
  {
   "cell_type": "code",
   "execution_count": null,
   "metadata": {},
   "outputs": [],
   "source": [
    "tx_alarms_adsl_df = pd.read_parquet('alarms datasets/tx/20230101-20240101_inpas_tx_preprocess__adsl__last_event__last_event__ext1.parquet')\n",
    "tx_alarms_pdh_df = pd.read_parquet('alarms datasets/tx/20230101-20240101_inpas_tx_preprocess__pdh__last_event__last_event__ext1.parquet')\n",
    "tx_alarms_ptn_df = pd.read_parquet('alarms datasets/tx/20230101-20240101_inpas_tx_preprocess__ptn__last_event__last_event__ext1.parquet')\n",
    "tx_alarms_sdh_df = pd.read_parquet('alarms datasets/tx/20230101-20240101_inpas_tx_preprocess__sdh__last_event__last_event__ext1.parquet')"
   ]
  },
  {
   "cell_type": "markdown",
   "metadata": {},
   "source": [
    "## Clean Alarms Datasets removing old \"lavori programmati\" columns"
   ]
  },
  {
   "cell_type": "code",
   "execution_count": null,
   "metadata": {},
   "outputs": [],
   "source": [
    "filtered_mob_alarms_df = mob_alarms_df.drop(columns=['lp_type', 'lp_id'])"
   ]
  },
  {
   "cell_type": "code",
   "execution_count": null,
   "metadata": {},
   "outputs": [],
   "source": [
    "filtered_tx_alarms_adsl_df = tx_alarms_adsl_df.drop(columns=['lp_type', 'lp_id'])"
   ]
  },
  {
   "cell_type": "code",
   "execution_count": null,
   "metadata": {},
   "outputs": [],
   "source": [
    "filtered_tx_alarms_pdh_df = tx_alarms_pdh_df.drop(columns=['lp_type', 'lp_id'])"
   ]
  },
  {
   "cell_type": "code",
   "execution_count": null,
   "metadata": {},
   "outputs": [],
   "source": [
    "filtered_tx_alarms_ptn_df = tx_alarms_ptn_df.drop(columns=['lp_type', 'lp_id'])"
   ]
  },
  {
   "cell_type": "code",
   "execution_count": null,
   "metadata": {},
   "outputs": [],
   "source": [
    "filtered_tx_alarms_sdh_df = tx_alarms_sdh_df.drop(columns=['lp_type', 'lp_id'])"
   ]
  },
  {
   "cell_type": "markdown",
   "metadata": {},
   "source": [
    "## Save Cleaned Datasets \n"
   ]
  },
  {
   "cell_type": "code",
   "execution_count": null,
   "metadata": {},
   "outputs": [],
   "source": [
    "filtered_mob_alarms_df.to_parquet('alarms datasets/mob/[filtered]20230101-20240101_inpas_mob_preprocess__an__last_event__last_event__ext1.parquet')"
   ]
  },
  {
   "cell_type": "code",
   "execution_count": null,
   "metadata": {},
   "outputs": [],
   "source": [
    "filtered_tx_alarms_adsl_df.to_parquet('alarms datasets/tx/[filtered]20230101-20240101_inpas_tx_preprocess__adsl__last_event__last_event__ext1.parquet')"
   ]
  },
  {
   "cell_type": "code",
   "execution_count": null,
   "metadata": {},
   "outputs": [],
   "source": [
    "filtered_tx_alarms_pdh_df.to_parquet('alarms datasets/tx/[filtered]20230101-20240101_inpas_tx_preprocess__pdh__last_event__last_event__ext1.parquet')"
   ]
  },
  {
   "cell_type": "code",
   "execution_count": null,
   "metadata": {},
   "outputs": [],
   "source": [
    "filtered_tx_alarms_ptn_df.to_parquet('alarms datasets/tx/[filtered]20230101-20240101_inpas_tx_preprocess__ptn__last_event__last_event__ext1.parquet')"
   ]
  },
  {
   "cell_type": "code",
   "execution_count": null,
   "metadata": {},
   "outputs": [],
   "source": [
    "filtered_tx_alarms_sdh_df.to_parquet('alarms datasets/tx/[filtered]20230101-20240101_inpas_tx_preprocess__sdh__last_event__last_event__ext1.parquet')"
   ]
  },
  {
   "cell_type": "markdown",
   "metadata": {},
   "source": [
    "## Associate Alarms with Lavori Programmati"
   ]
  },
  {
   "cell_type": "code",
   "execution_count": null,
   "metadata": {},
   "outputs": [],
   "source": [
    "lavori_programmati_df = pd.read_csv(\"lavori programmati/20230101_20240101_export_cac_all_preprocessed.csv\")"
   ]
  },
  {
   "cell_type": "code",
   "execution_count": null,
   "metadata": {},
   "outputs": [],
   "source": [
    "new_mob_alarms_df = associate_alarm_id_to_lp_id(filtered_mob_alarms_df, lavori_programmati_df)"
   ]
  },
  {
   "cell_type": "code",
   "execution_count": null,
   "metadata": {},
   "outputs": [],
   "source": [
    "new_tx_alarms_adsl_df = associate_alarm_id_to_lp_id(filtered_tx_alarms_adsl_df, lavori_programmati_df)"
   ]
  },
  {
   "cell_type": "code",
   "execution_count": null,
   "metadata": {},
   "outputs": [],
   "source": [
    "new_tx_alarms_pdh_df = associate_alarm_id_to_lp_id(filtered_tx_alarms_pdh_df, lavori_programmati_df)"
   ]
  },
  {
   "cell_type": "code",
   "execution_count": null,
   "metadata": {},
   "outputs": [],
   "source": [
    "new_tx_alarms_ptn_df = associate_alarm_id_to_lp_id(filtered_tx_alarms_ptn_df, lavori_programmati_df)"
   ]
  },
  {
   "cell_type": "markdown",
   "metadata": {},
   "source": [
    "## Associate Alarms with Lavori Programmati v2"
   ]
  },
  {
   "cell_type": "code",
   "execution_count": null,
   "metadata": {},
   "outputs": [],
   "source": [
    "filtered_mob_alarms_df = pd.read_parquet('alarms datasets/mob/[filtered]20230101-20240101_inpas_mob_preprocess__an__last_event__last_event__ext1.parquet')"
   ]
  },
  {
   "cell_type": "code",
   "execution_count": null,
   "metadata": {},
   "outputs": [],
   "source": [
    "filtered_tx_alarms_adsl_df = pd.read_parquet('alarms datasets/tx/[filtered]20230101-20240101_inpas_tx_preprocess__adsl__last_event__last_event__ext1.parquet')"
   ]
  },
  {
   "cell_type": "code",
   "execution_count": null,
   "metadata": {},
   "outputs": [],
   "source": [
    "filtered_tx_alarms_pdh_df = pd.read_parquet('alarms datasets/tx/[filtered]20230101-20240101_inpas_tx_preprocess__pdh__last_event__last_event__ext1.parquet')"
   ]
  },
  {
   "cell_type": "code",
   "execution_count": null,
   "metadata": {},
   "outputs": [],
   "source": [
    "filtered_tx_alarms_ptn_df = pd.read_parquet('alarms datasets/tx/[filtered]20230101-20240101_inpas_tx_preprocess__ptn__last_event__last_event__ext1.parquet')"
   ]
  },
  {
   "cell_type": "code",
   "execution_count": null,
   "metadata": {},
   "outputs": [],
   "source": [
    "filtered_tx_alarms_sdh_df = pd.read_parquet('alarms datasets/tx/[filtered]20230101-20240101_inpas_tx_preprocess__sdh__last_event__last_event__ext1.parquet')"
   ]
  },
  {
   "cell_type": "code",
   "execution_count": null,
   "metadata": {},
   "outputs": [],
   "source": [
    "lavori_programmati_short_df = pd.read_csv(\"lavori programmati/20230101_20240101_lp.csv\")\n",
    "lavori_programmati_short_df = lavori_programmati_short_df.iloc[:, 1:] # drop the first column"
   ]
  },
  {
   "cell_type": "code",
   "execution_count": null,
   "metadata": {},
   "outputs": [],
   "source": [
    "new_mob_alarms_df = filtered_mob_alarms_df.merge(lavori_programmati_short_df, on='alarm_id', how='left')\n",
    "new_mob_alarms_df.to_parquet('alarms datasets/mob/[new]20230101-20240101_inpas_mob_preprocess__an__last_event__last_event__ext1.parquet')"
   ]
  },
  {
   "cell_type": "code",
   "execution_count": null,
   "metadata": {},
   "outputs": [],
   "source": [
    "new_tx_alarms_adsl_df = filtered_tx_alarms_adsl_df.merge(lavori_programmati_short_df, on='alarm_id', how='left')\n",
    "new_tx_alarms_adsl_df.to_parquet('alarms datasets/tx/[new]20230101-20240101_inpas_tx_preprocess__adsl__last_event__last_event__ext1.parquet')"
   ]
  },
  {
   "cell_type": "code",
   "execution_count": null,
   "metadata": {},
   "outputs": [],
   "source": [
    "new_tx_alarms_pdh_df = filtered_tx_alarms_pdh_df.merge(lavori_programmati_short_df, on='alarm_id', how='left')\n",
    "new_tx_alarms_pdh_df.to_parquet('alarms datasets/tx/[new]20230101-20240101_inpas_tx_preprocess__pdh__last_event__last_event__ext1.parquet')"
   ]
  },
  {
   "cell_type": "code",
   "execution_count": null,
   "metadata": {},
   "outputs": [],
   "source": [
    "new_tx_alarms_ptn_df = filtered_tx_alarms_ptn_df.merge(lavori_programmati_short_df, on='alarm_id', how='left')\n",
    "new_tx_alarms_ptn_df.to_parquet('alarms datasets/tx/[new]20230101-20240101_inpas_tx_preprocess__ptn__last_event__last_event__ext1.parquet')"
   ]
  },
  {
   "cell_type": "code",
   "execution_count": null,
   "metadata": {},
   "outputs": [],
   "source": [
    "new_tx_alarms_sdh_df = filtered_tx_alarms_sdh_df.merge(lavori_programmati_short_df, on='alarm_id', how='left')\n",
    "new_tx_alarms_sdh_df.to_parquet('alarms datasets/tx/[new]20230101-20240101_inpas_tx_preprocess__sdh__last_event__last_event__ext1.parquet')"
   ]
  }
 ],
 "metadata": {
  "kernelspec": {
   "display_name": "TIM_thesis",
   "language": "python",
   "name": "python3"
  },
  "language_info": {
   "codemirror_mode": {
    "name": "ipython",
    "version": 3
   },
   "file_extension": ".py",
   "mimetype": "text/x-python",
   "name": "python",
   "nbconvert_exporter": "python",
   "pygments_lexer": "ipython3",
   "version": "3.12.2"
  }
 },
 "nbformat": 4,
 "nbformat_minor": 2
}
