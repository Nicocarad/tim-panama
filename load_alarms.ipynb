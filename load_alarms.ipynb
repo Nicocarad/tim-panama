{
 "cells": [
  {
   "cell_type": "code",
   "execution_count": 1,
   "metadata": {},
   "outputs": [],
   "source": [
    "import zipfile\n",
    "import pandas as pd"
   ]
  },
  {
   "cell_type": "markdown",
   "metadata": {},
   "source": [
    "## Unzip Alarms Datasets"
   ]
  },
  {
   "cell_type": "code",
   "execution_count": 3,
   "metadata": {},
   "outputs": [],
   "source": [
    "# Percorso del file ZIP da estrarre\n",
    "zip_mob_file_path = \"alarms datasets/mob/20230101-20240101_inpas_mob_preprocess__an__last_event__last_event__ext1.zip\"\n",
    "zip_tx_adsl_file_path = \"alarms datasets/tx/20230101-20240101_inpas_tx_preprocess__adsl__last_event__last_event__ext1.zip\"\n",
    "zip_tx_pdh_file_path = \"alarms datasets/tx/20230101-20240101_inpas_tx_preprocess__pdh__last_event__last_event__ext1.zip\"\n",
    "zip_tx_ptn_file_path = \"alarms datasets/tx/20230101-20240101_inpas_tx_preprocess__ptn__last_event__last_event__ext1.zip\"\n",
    "zip_tx_sdh_file_path = \"alarms datasets/tx/20230101-20240101_inpas_tx_preprocess__sdh__last_event__last_event__ext1.zip\"\n",
    "\n",
    "# Percorso della cartella di destinazione per l'estrazione\n",
    "extract_to_folder_mob = \"alarms datasets/mob\"\n",
    "extract_to_folder_tx = \"alarms datasets/tx\"\n",
    "\n",
    "# Percorso del file ZIP da estrarre\n",
    "zip_files_paths = {\n",
    "    zip_mob_file_path: extract_to_folder_mob,\n",
    "    zip_tx_adsl_file_path: extract_to_folder_tx,\n",
    "    zip_tx_pdh_file_path: extract_to_folder_tx,\n",
    "    zip_tx_ptn_file_path: extract_to_folder_tx,\n",
    "    zip_tx_sdh_file_path: extract_to_folder_tx\n",
    "}\n",
    "\n",
    "# Aprire il file ZIP\n",
    "for zip_file_path, extract_to_folder in zip_files_paths.items():\n",
    "    with zipfile.ZipFile(zip_file_path, 'r') as zip_ref:\n",
    "        # Estrarre tutto il contenuto nella cartella di destinazione\n",
    "        zip_ref.extractall(extract_to_folder)"
   ]
  },
  {
   "cell_type": "markdown",
   "metadata": {},
   "source": [
    "## Load Datasets in a Dataframe"
   ]
  },
  {
   "cell_type": "code",
   "execution_count": 2,
   "metadata": {},
   "outputs": [],
   "source": [
    "mob_alarms_df = pd.read_parquet('alarms datasets/mob/20230101-20240101_inpas_mob_preprocess__an__last_event__last_event__ext1.parquet')"
   ]
  },
  {
   "cell_type": "code",
   "execution_count": 2,
   "metadata": {},
   "outputs": [],
   "source": [
    "tx_alarms_adsl_df = pd.read_parquet('alarms datasets/tx/20230101-20240101_inpas_tx_preprocess__adsl__last_event__last_event__ext1.parquet')\n",
    "tx_alarms_pdh_df = pd.read_parquet('alarms datasets/tx/20230101-20240101_inpas_tx_preprocess__pdh__last_event__last_event__ext1.parquet')\n",
    "tx_alarms_ptn_df = pd.read_parquet('alarms datasets/tx/20230101-20240101_inpas_tx_preprocess__ptn__last_event__last_event__ext1.parquet')\n",
    "tx_alarms_sdh_df = pd.read_parquet('alarms datasets/tx/20230101-20240101_inpas_tx_preprocess__sdh__last_event__last_event__ext1.parquet')"
   ]
  },
  {
   "cell_type": "code",
   "execution_count": 3,
   "metadata": {},
   "outputs": [
    {
     "data": {
      "text/plain": [
       "Index(['alarm_id', 'data', 'first_occurrence', 'first_severity',\n",
       "       'last_occurrence', 'last_update', 'loc_descr', 'make_prediction',\n",
       "       'ne_id', 'network', 'severity', 'std_probable_cause_no',\n",
       "       'correlation_role', 'corr_intra', 'data_presentazione',\n",
       "       'delay_expire_time', 'is_correlated', 'is_root_cause', 'mob_cat_sito',\n",
       "       'mob_key_type', 'num_figli', 'outage', 'park', 'tt_correlation_state',\n",
       "       'to_operation_view', 'tt_request_status', 'wr_status', 'alarm_count',\n",
       "       'category', 'cx_auton_batterie', 'em', 'loc_group', 'manager',\n",
       "       'manufacturer', 'mob_slogan', 'ne_type', 'origine_guasto',\n",
       "       'strategicita', 'subnetwork', 'alarm_duration',\n",
       "       'first_occurrence_time_of_week', 'first_occurrence_day_of_week',\n",
       "       'first_occurrence_hour', 'province', 'loc_descr_cat', 'province_cat',\n",
       "       'is_note_present', 'is_ack_or_notes', 'is_tt', 'is_abam_tt', 'loc_name',\n",
       "       'tt_id', 'link_id', 'loc_name_a', 'loc_name_z', 'lp_id', 'lp_type'],\n",
       "      dtype='object')"
      ]
     },
     "execution_count": 3,
     "metadata": {},
     "output_type": "execute_result"
    }
   ],
   "source": [
    "mob_alarms_df.columns"
   ]
  },
  {
   "cell_type": "code",
   "execution_count": 6,
   "metadata": {},
   "outputs": [
    {
     "data": {
      "text/plain": [
       "['/0-', 'itl', NaN, 'nq0', '30', ..., '.nq', 'dz1', 'lla', 'xsh', 'al']\n",
       "Length: 437\n",
       "Categories (436, object): ['-', '-an', '-bo', '-bz', ..., 'x1c', 'xf', 'xsh', 'xti']"
      ]
     },
     "execution_count": 6,
     "metadata": {},
     "output_type": "execute_result"
    }
   ],
   "source": [
    "tx_alarms_pdh_df[\"link_type\"].unique()"
   ]
  },
  {
   "cell_type": "markdown",
   "metadata": {},
   "source": [
    "## Clean Alarms Datasets removing old \"lavori programmati\" columns"
   ]
  },
  {
   "cell_type": "code",
   "execution_count": 5,
   "metadata": {},
   "outputs": [],
   "source": [
    "filtered_mob_alarms_df = mob_alarms_df.drop(columns=['lp_type', 'lp_id'])"
   ]
  },
  {
   "cell_type": "code",
   "execution_count": 4,
   "metadata": {},
   "outputs": [],
   "source": [
    "filtered_tx_alarms_adsl_df = tx_alarms_adsl_df.drop(columns=['lp_type', 'lp_id'])"
   ]
  },
  {
   "cell_type": "code",
   "execution_count": 5,
   "metadata": {},
   "outputs": [],
   "source": [
    "filtered_tx_alarms_pdh_df = tx_alarms_pdh_df.drop(columns=['lp_type', 'lp_id'])"
   ]
  },
  {
   "cell_type": "code",
   "execution_count": 6,
   "metadata": {},
   "outputs": [],
   "source": [
    "filtered_tx_alarms_ptn_df = tx_alarms_ptn_df.drop(columns=['lp_type', 'lp_id'])"
   ]
  },
  {
   "cell_type": "code",
   "execution_count": 7,
   "metadata": {},
   "outputs": [],
   "source": [
    "filtered_tx_alarms_sdh_df = tx_alarms_sdh_df.drop(columns=['lp_type', 'lp_id'])"
   ]
  },
  {
   "cell_type": "markdown",
   "metadata": {},
   "source": [
    "## Associate Alarms with Lavori Programmati "
   ]
  },
  {
   "cell_type": "code",
   "execution_count": 9,
   "metadata": {},
   "outputs": [],
   "source": [
    "lavori_programmati_short_df = pd.read_csv(\"lavori programmati/20230101_20240101_lp.csv\")\n",
    "lavori_programmati_short_df = lavori_programmati_short_df.iloc[:, 1:] # drop the first column"
   ]
  },
  {
   "cell_type": "code",
   "execution_count": 7,
   "metadata": {},
   "outputs": [],
   "source": [
    "new_mob_alarms_df = pd.merge(filtered_mob_alarms_df,lavori_programmati_short_df, on='alarm_id', how='left')\n",
    "new_mob_alarms_df.to_parquet('alarms datasets/mob/[new]20230101-20240101_inpas_mob_preprocess__an__last_event__last_event__ext1.parquet')"
   ]
  },
  {
   "cell_type": "code",
   "execution_count": 10,
   "metadata": {},
   "outputs": [],
   "source": [
    "new_tx_alarms_adsl_df = pd.merge(filtered_tx_alarms_adsl_df,lavori_programmati_short_df, on='alarm_id', how='left')\n",
    "new_tx_alarms_adsl_df.to_parquet('alarms datasets/tx/[new]20230101-20240101_inpas_tx_preprocess__adsl__last_event__last_event__ext1.parquet')"
   ]
  },
  {
   "cell_type": "code",
   "execution_count": 11,
   "metadata": {},
   "outputs": [],
   "source": [
    "new_tx_alarms_pdh_df = pd.merge(filtered_tx_alarms_pdh_df,lavori_programmati_short_df, on='alarm_id', how='left')\n",
    "new_tx_alarms_pdh_df.to_parquet('alarms datasets/tx/[new]20230101-20240101_inpas_tx_preprocess__pdh__last_event__last_event__ext1.parquet')"
   ]
  },
  {
   "cell_type": "code",
   "execution_count": 12,
   "metadata": {},
   "outputs": [],
   "source": [
    "new_tx_alarms_ptn_df = pd.merge(filtered_tx_alarms_ptn_df,lavori_programmati_short_df, on='alarm_id', how='left')\n",
    "new_tx_alarms_ptn_df.to_parquet('alarms datasets/tx/[new]20230101-20240101_inpas_tx_preprocess__ptn__last_event__last_event__ext1.parquet')"
   ]
  },
  {
   "cell_type": "code",
   "execution_count": 13,
   "metadata": {},
   "outputs": [],
   "source": [
    "new_tx_alarms_sdh_df = pd.merge(filtered_tx_alarms_sdh_df,lavori_programmati_short_df, on='alarm_id', how='left')\n",
    "new_tx_alarms_sdh_df.to_parquet('alarms datasets/tx/[new]20230101-20240101_inpas_tx_preprocess__sdh__last_event__last_event__ext1.parquet')"
   ]
  }
 ],
 "metadata": {
  "kernelspec": {
   "display_name": "TIM_thesis",
   "language": "python",
   "name": "python3"
  },
  "language_info": {
   "codemirror_mode": {
    "name": "ipython",
    "version": 3
   },
   "file_extension": ".py",
   "mimetype": "text/x-python",
   "name": "python",
   "nbconvert_exporter": "python",
   "pygments_lexer": "ipython3",
   "version": "3.12.4"
  }
 },
 "nbformat": 4,
 "nbformat_minor": 2
}
