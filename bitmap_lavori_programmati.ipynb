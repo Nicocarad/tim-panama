{
 "cells": [
  {
   "cell_type": "code",
   "execution_count": 1,
   "metadata": {},
   "outputs": [],
   "source": [
    "import pandas as pd"
   ]
  },
  {
   "cell_type": "markdown",
   "metadata": {},
   "source": [
    "## Load Alarms with Lavori Programmati"
   ]
  },
  {
   "cell_type": "code",
   "execution_count": 11,
   "metadata": {},
   "outputs": [],
   "source": [
    "mob = pd.read_parquet(\"alarms datasets/mob/[new]20230101-20240101_inpas_mob_preprocess__an__last_event__last_event__ext1.parquet\")"
   ]
  },
  {
   "cell_type": "code",
   "execution_count": 2,
   "metadata": {},
   "outputs": [],
   "source": [
    "adsl = pd.read_parquet(\"alarms datasets/tx/[new]20230101-20240101_inpas_tx_preprocess__adsl__last_event__last_event__ext1.parquet\")\n",
    "pdh = pd.read_parquet(\"alarms datasets/tx/[new]20230101-20240101_inpas_tx_preprocess__pdh__last_event__last_event__ext1.parquet\")\n",
    "ptn = pd.read_parquet(\"alarms datasets/tx/[new]20230101-20240101_inpas_tx_preprocess__ptn__last_event__last_event__ext1.parquet\")\n",
    "sdh = pd.read_parquet(\"alarms datasets/tx/[new]20230101-20240101_inpas_tx_preprocess__sdh__last_event__last_event__ext1.parquet\")"
   ]
  },
  {
   "cell_type": "code",
   "execution_count": 12,
   "metadata": {},
   "outputs": [],
   "source": [
    "mob = mob[[\"alarm_id\", \"std_probable_cause_no\", \"lp_id\", \"lp_type\"]]\n",
    "adsl = adsl[[\"alarm_id\", \"std_probable_cause_no\", \"lp_id\", \"lp_type\"]]\n",
    "pdh = pdh[[\"alarm_id\", \"std_probable_cause_no\", \"lp_id\", \"lp_type\"]]\n",
    "ptn = ptn[[\"alarm_id\", \"std_probable_cause_no\", \"lp_id\", \"lp_type\"]]\n",
    "sdh = sdh[[\"alarm_id\", \"std_probable_cause_no\", \"lp_id\", \"lp_type\"]]"
   ]
  },
  {
   "cell_type": "code",
   "execution_count": 13,
   "metadata": {},
   "outputs": [],
   "source": [
    "alarms_slogan_lavori_programmati = pd.concat([mob, adsl, pdh, ptn, sdh])"
   ]
  },
  {
   "cell_type": "code",
   "execution_count": 14,
   "metadata": {},
   "outputs": [],
   "source": [
    "alarms_slogan_lavori_programmati.to_parquet(\"alarms datasets/alarms_slogan_lavori_programmati.parquet\")"
   ]
  },
  {
   "cell_type": "markdown",
   "metadata": {},
   "source": [
    "## Merge Clusters and Alarms with Lavori Programmati"
   ]
  },
  {
   "cell_type": "code",
   "execution_count": 67,
   "metadata": {},
   "outputs": [],
   "source": [
    "clusters = pd.read_parquet(\"real-time clusters/20230101-20240101_real_time_clusters_filtered.parquet\")"
   ]
  },
  {
   "cell_type": "code",
   "execution_count": 68,
   "metadata": {},
   "outputs": [],
   "source": [
    "clusters_with_lavori_programmati = pd.merge(clusters, alarms_slogan_lavori_programmati, on=\"alarm_id\", how=\"left\")"
   ]
  },
  {
   "cell_type": "code",
   "execution_count": 69,
   "metadata": {},
   "outputs": [],
   "source": [
    "clusters_with_lavori_programmati = clusters_with_lavori_programmati[\n",
    "    [\"alarm_id\", \"cluster_id2\", \"std_probable_cause_no\", \"lp_type\"]\n",
    "]"
   ]
  },
  {
   "cell_type": "code",
   "execution_count": null,
   "metadata": {},
   "outputs": [],
   "source": []
  },
  {
   "cell_type": "code",
   "execution_count": 94,
   "metadata": {},
   "outputs": [
    {
     "data": {
      "text/html": [
       "<div>\n",
       "<style scoped>\n",
       "    .dataframe tbody tr th:only-of-type {\n",
       "        vertical-align: middle;\n",
       "    }\n",
       "\n",
       "    .dataframe tbody tr th {\n",
       "        vertical-align: top;\n",
       "    }\n",
       "\n",
       "    .dataframe thead th {\n",
       "        text-align: right;\n",
       "    }\n",
       "</style>\n",
       "<table border=\"1\" class=\"dataframe\">\n",
       "  <thead>\n",
       "    <tr style=\"text-align: right;\">\n",
       "      <th></th>\n",
       "      <th>alarm_id</th>\n",
       "      <th>cluster_id2</th>\n",
       "      <th>std_probable_cause_no</th>\n",
       "      <th>lp_type</th>\n",
       "    </tr>\n",
       "  </thead>\n",
       "  <tbody>\n",
       "    <tr>\n",
       "      <th>71358</th>\n",
       "      <td>COS1P;137150415</td>\n",
       "      <td>202301090504_2</td>\n",
       "      <td>loss of signal los</td>\n",
       "      <td>['APPARATI']</td>\n",
       "    </tr>\n",
       "    <tr>\n",
       "      <th>71359</th>\n",
       "      <td>COS1P;137150413</td>\n",
       "      <td>202301090504_2</td>\n",
       "      <td>loss of frame lof</td>\n",
       "      <td>['APPARATI']</td>\n",
       "    </tr>\n",
       "    <tr>\n",
       "      <th>71361</th>\n",
       "      <td>COS1P;137150372</td>\n",
       "      <td>202301090504_2</td>\n",
       "      <td>loss of signal los</td>\n",
       "      <td>['APPARATI']</td>\n",
       "    </tr>\n",
       "    <tr>\n",
       "      <th>71362</th>\n",
       "      <td>COS1P;137150380</td>\n",
       "      <td>202301090506_4</td>\n",
       "      <td>loss of signal los</td>\n",
       "      <td>['APPARATI']</td>\n",
       "    </tr>\n",
       "    <tr>\n",
       "      <th>71363</th>\n",
       "      <td>COS1P;137150381</td>\n",
       "      <td>202301090506_4</td>\n",
       "      <td>loss of signal los</td>\n",
       "      <td>['APPARATI']</td>\n",
       "    </tr>\n",
       "    <tr>\n",
       "      <th>...</th>\n",
       "      <td>...</td>\n",
       "      <td>...</td>\n",
       "      <td>...</td>\n",
       "      <td>...</td>\n",
       "    </tr>\n",
       "    <tr>\n",
       "      <th>8450196</th>\n",
       "      <td>EFMTX;65838f67373d2e0001c8d1d0</td>\n",
       "      <td>202312210208_7</td>\n",
       "      <td>loss of frame lof</td>\n",
       "      <td>['CAVO']</td>\n",
       "    </tr>\n",
       "    <tr>\n",
       "      <th>8450199</th>\n",
       "      <td>EFMTX;65838ef188b9a400019bf349</td>\n",
       "      <td>202312210200_6</td>\n",
       "      <td>loss of frame lof</td>\n",
       "      <td>['CAVO']</td>\n",
       "    </tr>\n",
       "    <tr>\n",
       "      <th>8450200</th>\n",
       "      <td>EFMTX;65838f2b40918a0001130ca9</td>\n",
       "      <td>202312210200_6</td>\n",
       "      <td>loss of frame lof</td>\n",
       "      <td>['CAVO']</td>\n",
       "    </tr>\n",
       "    <tr>\n",
       "      <th>8450203</th>\n",
       "      <td>EFMTX;65838f67373d2e0001c8d1d0</td>\n",
       "      <td>202312210200_6</td>\n",
       "      <td>loss of frame lof</td>\n",
       "      <td>['CAVO']</td>\n",
       "    </tr>\n",
       "    <tr>\n",
       "      <th>8450225</th>\n",
       "      <td>EFMTX;65838eefc3980b000120f4ab</td>\n",
       "      <td>202312210200_6</td>\n",
       "      <td>loss of frame lof</td>\n",
       "      <td>['CAVO']</td>\n",
       "    </tr>\n",
       "  </tbody>\n",
       "</table>\n",
       "<p>35216 rows × 4 columns</p>\n",
       "</div>"
      ],
      "text/plain": [
       "                               alarm_id     cluster_id2 std_probable_cause_no  \\\n",
       "71358                   COS1P;137150415  202301090504_2    loss of signal los   \n",
       "71359                   COS1P;137150413  202301090504_2     loss of frame lof   \n",
       "71361                   COS1P;137150372  202301090504_2    loss of signal los   \n",
       "71362                   COS1P;137150380  202301090506_4    loss of signal los   \n",
       "71363                   COS1P;137150381  202301090506_4    loss of signal los   \n",
       "...                                 ...             ...                   ...   \n",
       "8450196  EFMTX;65838f67373d2e0001c8d1d0  202312210208_7     loss of frame lof   \n",
       "8450199  EFMTX;65838ef188b9a400019bf349  202312210200_6     loss of frame lof   \n",
       "8450200  EFMTX;65838f2b40918a0001130ca9  202312210200_6     loss of frame lof   \n",
       "8450203  EFMTX;65838f67373d2e0001c8d1d0  202312210200_6     loss of frame lof   \n",
       "8450225  EFMTX;65838eefc3980b000120f4ab  202312210200_6     loss of frame lof   \n",
       "\n",
       "              lp_type  \n",
       "71358    ['APPARATI']  \n",
       "71359    ['APPARATI']  \n",
       "71361    ['APPARATI']  \n",
       "71362    ['APPARATI']  \n",
       "71363    ['APPARATI']  \n",
       "...               ...  \n",
       "8450196      ['CAVO']  \n",
       "8450199      ['CAVO']  \n",
       "8450200      ['CAVO']  \n",
       "8450203      ['CAVO']  \n",
       "8450225      ['CAVO']  \n",
       "\n",
       "[35216 rows x 4 columns]"
      ]
     },
     "execution_count": 94,
     "metadata": {},
     "output_type": "execute_result"
    }
   ],
   "source": [
    "filtered_df = clusters_with_lavori_programmati[clusters_with_lavori_programmati['lp_type'].apply(lambda x: x != 'None')]\n",
    "filtered_df"
   ]
  },
  {
   "cell_type": "code",
   "execution_count": 90,
   "metadata": {},
   "outputs": [
    {
     "data": {
      "text/html": [
       "<div>\n",
       "<style scoped>\n",
       "    .dataframe tbody tr th:only-of-type {\n",
       "        vertical-align: middle;\n",
       "    }\n",
       "\n",
       "    .dataframe tbody tr th {\n",
       "        vertical-align: top;\n",
       "    }\n",
       "\n",
       "    .dataframe thead th {\n",
       "        text-align: right;\n",
       "    }\n",
       "</style>\n",
       "<table border=\"1\" class=\"dataframe\">\n",
       "  <thead>\n",
       "    <tr style=\"text-align: right;\">\n",
       "      <th></th>\n",
       "      <th>alarm_id</th>\n",
       "      <th>cluster_id2</th>\n",
       "      <th>std_probable_cause_no</th>\n",
       "      <th>lp_type</th>\n",
       "    </tr>\n",
       "  </thead>\n",
       "  <tbody>\n",
       "    <tr>\n",
       "      <th>0</th>\n",
       "      <td>COS1P;136885076</td>\n",
       "      <td>202301010000_16</td>\n",
       "      <td>apparato isolato</td>\n",
       "      <td>None</td>\n",
       "    </tr>\n",
       "    <tr>\n",
       "      <th>1</th>\n",
       "      <td>COS1P;136885115</td>\n",
       "      <td>202301010000_16</td>\n",
       "      <td>apparato isolato</td>\n",
       "      <td>None</td>\n",
       "    </tr>\n",
       "    <tr>\n",
       "      <th>2</th>\n",
       "      <td>COS1P;136884642</td>\n",
       "      <td>202301010000_25</td>\n",
       "      <td>apparato isolato</td>\n",
       "      <td>None</td>\n",
       "    </tr>\n",
       "    <tr>\n",
       "      <th>3</th>\n",
       "      <td>COS1P;136884882</td>\n",
       "      <td>202301010000_25</td>\n",
       "      <td>apparato isolato</td>\n",
       "      <td>None</td>\n",
       "    </tr>\n",
       "    <tr>\n",
       "      <th>4</th>\n",
       "      <td>COS1P;136884883</td>\n",
       "      <td>202301010000_25</td>\n",
       "      <td>apparato isolato</td>\n",
       "      <td>None</td>\n",
       "    </tr>\n",
       "    <tr>\n",
       "      <th>...</th>\n",
       "      <td>...</td>\n",
       "      <td>...</td>\n",
       "      <td>...</td>\n",
       "      <td>...</td>\n",
       "    </tr>\n",
       "    <tr>\n",
       "      <th>8607319</th>\n",
       "      <td>EFM;6591f07dadefac0001744e96</td>\n",
       "      <td>202312312354_7</td>\n",
       "      <td>base station connectivity problem</td>\n",
       "      <td>None</td>\n",
       "    </tr>\n",
       "    <tr>\n",
       "      <th>8607320</th>\n",
       "      <td>EFM;6591f08739628d00013784db</td>\n",
       "      <td>202312312354_7</td>\n",
       "      <td>base station connectivity problem</td>\n",
       "      <td>None</td>\n",
       "    </tr>\n",
       "    <tr>\n",
       "      <th>8607321</th>\n",
       "      <td>EFM;6591f08cadefac0001744ea1</td>\n",
       "      <td>202312312354_7</td>\n",
       "      <td>base station connectivity problem</td>\n",
       "      <td>None</td>\n",
       "    </tr>\n",
       "    <tr>\n",
       "      <th>8607322</th>\n",
       "      <td>EFMTX;6591ee0801021b00010facb4</td>\n",
       "      <td>202312312340_13</td>\n",
       "      <td>fermo totale apparato</td>\n",
       "      <td>None</td>\n",
       "    </tr>\n",
       "    <tr>\n",
       "      <th>8607323</th>\n",
       "      <td>EFMTX;6591f046d8beb800016deaef</td>\n",
       "      <td>202312312344_9</td>\n",
       "      <td>oamloc locv</td>\n",
       "      <td>None</td>\n",
       "    </tr>\n",
       "  </tbody>\n",
       "</table>\n",
       "<p>8607324 rows × 4 columns</p>\n",
       "</div>"
      ],
      "text/plain": [
       "                               alarm_id      cluster_id2  \\\n",
       "0                       COS1P;136885076  202301010000_16   \n",
       "1                       COS1P;136885115  202301010000_16   \n",
       "2                       COS1P;136884642  202301010000_25   \n",
       "3                       COS1P;136884882  202301010000_25   \n",
       "4                       COS1P;136884883  202301010000_25   \n",
       "...                                 ...              ...   \n",
       "8607319    EFM;6591f07dadefac0001744e96   202312312354_7   \n",
       "8607320    EFM;6591f08739628d00013784db   202312312354_7   \n",
       "8607321    EFM;6591f08cadefac0001744ea1   202312312354_7   \n",
       "8607322  EFMTX;6591ee0801021b00010facb4  202312312340_13   \n",
       "8607323  EFMTX;6591f046d8beb800016deaef   202312312344_9   \n",
       "\n",
       "                     std_probable_cause_no lp_type  \n",
       "0                         apparato isolato    None  \n",
       "1                         apparato isolato    None  \n",
       "2                         apparato isolato    None  \n",
       "3                         apparato isolato    None  \n",
       "4                         apparato isolato    None  \n",
       "...                                    ...     ...  \n",
       "8607319  base station connectivity problem    None  \n",
       "8607320  base station connectivity problem    None  \n",
       "8607321  base station connectivity problem    None  \n",
       "8607322              fermo totale apparato    None  \n",
       "8607323                        oamloc locv    None  \n",
       "\n",
       "[8607324 rows x 4 columns]"
      ]
     },
     "execution_count": 90,
     "metadata": {},
     "output_type": "execute_result"
    }
   ],
   "source": [
    "clusters_with_lavori_programmati"
   ]
  },
  {
   "cell_type": "code",
   "execution_count": 77,
   "metadata": {},
   "outputs": [
    {
     "data": {
      "text/plain": [
       "array(['None', \"['APPARATI']\", \"['CAVO']\", \"['DWDM/PTN']\",\n",
       "       \"['REIX/UPGRADE']\", \"['CAMBI RELEASE']\", \"['CAVO' 'DWDM/PTN']\",\n",
       "       \"['CAVO' 'APPARATI']\"], dtype=object)"
      ]
     },
     "execution_count": 77,
     "metadata": {},
     "output_type": "execute_result"
    }
   ],
   "source": [
    "unique_lp_type_values = clusters_with_lavori_programmati['lp_type'].apply(lambda x: str(x)).unique()\n",
    "unique_lp_type_values"
   ]
  },
  {
   "cell_type": "code",
   "execution_count": 76,
   "metadata": {},
   "outputs": [],
   "source": [
    "clusters_with_lavori_programmati['lp_type'] = clusters_with_lavori_programmati['lp_type'].replace([None], ['None'])"
   ]
  },
  {
   "cell_type": "code",
   "execution_count": 78,
   "metadata": {},
   "outputs": [],
   "source": [
    "clusters_grouped = clusters_with_lavori_programmati.groupby([\"cluster_id2\"])"
   ]
  },
  {
   "cell_type": "code",
   "execution_count": 83,
   "metadata": {},
   "outputs": [
    {
     "name": "stderr",
     "output_type": "stream",
     "text": [
      "C:\\Users\\Nicolò Caradonna\\AppData\\Local\\Temp\\ipykernel_13796\\1027940921.py:4: DeprecationWarning: DataFrameGroupBy.apply operated on the grouping columns. This behavior is deprecated, and in a future version of pandas the grouping columns will be excluded from the operation. Either pass `include_groups=False` to exclude the groupings or explicitly select the grouping columns after groupby to silence this warning.\n",
      "  new_df = clusters_grouped.apply(lambda group: pd.Series({\n"
     ]
    }
   ],
   "source": [
    "def check_cavo_alarm(group):\n",
    "    return int(any('CAVO' in sublist for sublist in group['lp_type'].values if sublist is not None))\n",
    "\n",
    "new_df = clusters_grouped.apply(lambda group: pd.Series({\n",
    "    'cluster_id2': group.name,\n",
    "    'GUASTO CAVO': check_cavo_alarm(group)\n",
    "})).reset_index(drop=True)"
   ]
  },
  {
   "cell_type": "code",
   "execution_count": 85,
   "metadata": {},
   "outputs": [
    {
     "data": {
      "text/html": [
       "<div>\n",
       "<style scoped>\n",
       "    .dataframe tbody tr th:only-of-type {\n",
       "        vertical-align: middle;\n",
       "    }\n",
       "\n",
       "    .dataframe tbody tr th {\n",
       "        vertical-align: top;\n",
       "    }\n",
       "\n",
       "    .dataframe thead th {\n",
       "        text-align: right;\n",
       "    }\n",
       "</style>\n",
       "<table border=\"1\" class=\"dataframe\">\n",
       "  <thead>\n",
       "    <tr style=\"text-align: right;\">\n",
       "      <th></th>\n",
       "      <th>cluster_id2</th>\n",
       "      <th>GUASTO CAVO</th>\n",
       "    </tr>\n",
       "  </thead>\n",
       "  <tbody>\n",
       "    <tr>\n",
       "      <th>755904</th>\n",
       "      <td>202311230212_1</td>\n",
       "      <td>1</td>\n",
       "    </tr>\n",
       "    <tr>\n",
       "      <th>625667</th>\n",
       "      <td>202310120512_1</td>\n",
       "      <td>1</td>\n",
       "    </tr>\n",
       "    <tr>\n",
       "      <th>237116</th>\n",
       "      <td>202305240122_12</td>\n",
       "      <td>1</td>\n",
       "    </tr>\n",
       "    <tr>\n",
       "      <th>214405</th>\n",
       "      <td>202305120432_11</td>\n",
       "      <td>1</td>\n",
       "    </tr>\n",
       "    <tr>\n",
       "      <th>714004</th>\n",
       "      <td>202311090118_21</td>\n",
       "      <td>1</td>\n",
       "    </tr>\n",
       "    <tr>\n",
       "      <th>...</th>\n",
       "      <td>...</td>\n",
       "      <td>...</td>\n",
       "    </tr>\n",
       "    <tr>\n",
       "      <th>288987</th>\n",
       "      <td>202306151940_15</td>\n",
       "      <td>0</td>\n",
       "    </tr>\n",
       "    <tr>\n",
       "      <th>288988</th>\n",
       "      <td>202306151940_8</td>\n",
       "      <td>0</td>\n",
       "    </tr>\n",
       "    <tr>\n",
       "      <th>288989</th>\n",
       "      <td>202306151942_4</td>\n",
       "      <td>0</td>\n",
       "    </tr>\n",
       "    <tr>\n",
       "      <th>288990</th>\n",
       "      <td>202306151944_2</td>\n",
       "      <td>0</td>\n",
       "    </tr>\n",
       "    <tr>\n",
       "      <th>864159</th>\n",
       "      <td>202312312358_6</td>\n",
       "      <td>0</td>\n",
       "    </tr>\n",
       "  </tbody>\n",
       "</table>\n",
       "<p>864160 rows × 2 columns</p>\n",
       "</div>"
      ],
      "text/plain": [
       "            cluster_id2  GUASTO CAVO\n",
       "755904   202311230212_1            1\n",
       "625667   202310120512_1            1\n",
       "237116  202305240122_12            1\n",
       "214405  202305120432_11            1\n",
       "714004  202311090118_21            1\n",
       "...                 ...          ...\n",
       "288987  202306151940_15            0\n",
       "288988   202306151940_8            0\n",
       "288989   202306151942_4            0\n",
       "288990   202306151944_2            0\n",
       "864159   202312312358_6            0\n",
       "\n",
       "[864160 rows x 2 columns]"
      ]
     },
     "execution_count": 85,
     "metadata": {},
     "output_type": "execute_result"
    }
   ],
   "source": [
    "new_df.sort_values(by='GUASTO CAVO', ascending=False)"
   ]
  },
  {
   "cell_type": "code",
   "execution_count": 87,
   "metadata": {},
   "outputs": [
    {
     "data": {
      "text/plain": [
       "3447"
      ]
     },
     "execution_count": 87,
     "metadata": {},
     "output_type": "execute_result"
    }
   ],
   "source": [
    "guasto_cavo_count = new_df['GUASTO CAVO'].sum()\n",
    "guasto_cavo_count"
   ]
  }
 ],
 "metadata": {
  "kernelspec": {
   "display_name": "TIM_thesis",
   "language": "python",
   "name": "python3"
  },
  "language_info": {
   "codemirror_mode": {
    "name": "ipython",
    "version": 3
   },
   "file_extension": ".py",
   "mimetype": "text/x-python",
   "name": "python",
   "nbconvert_exporter": "python",
   "pygments_lexer": "ipython3",
   "version": "3.12.2"
  }
 },
 "nbformat": 4,
 "nbformat_minor": 2
}
