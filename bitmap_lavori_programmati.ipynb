{
 "cells": [
  {
   "cell_type": "code",
   "execution_count": 2,
   "metadata": {},
   "outputs": [],
   "source": [
    "import pandas as pd"
   ]
  },
  {
   "cell_type": "markdown",
   "metadata": {},
   "source": [
    "## Load Alarms with Lavori Programmati"
   ]
  },
  {
   "cell_type": "code",
   "execution_count": 2,
   "metadata": {},
   "outputs": [],
   "source": [
    "mob = pd.read_parquet(\"alarms datasets/mob/[new]20230101-20240101_inpas_mob_preprocess__an__last_event__last_event__ext1.parquet\")"
   ]
  },
  {
   "cell_type": "code",
   "execution_count": null,
   "metadata": {},
   "outputs": [],
   "source": [
    "adsl = pd.read_parquet(\"alarms datasets/tx/[new]20230101-20240101_inpas_tx_preprocess__adsl__last_event__last_event__ext1.parquet\")\n",
    "pdh = pd.read_parquet(\"alarms datasets/tx/[new]20230101-20240101_inpas_tx_preprocess__pdh__last_event__last_event__ext1.parquet\")\n",
    "ptn = pd.read_parquet(\"alarms datasets/tx/[new]20230101-20240101_inpas_tx_preprocess__ptn__last_event__last_event__ext1.parquet\")\n",
    "sdh = pd.read_parquet(\"alarms datasets/tx/[new]20230101-20240101_inpas_tx_preprocess__sdh__last_event__last_event__ext1.parquet\")"
   ]
  },
  {
   "cell_type": "code",
   "execution_count": 12,
   "metadata": {},
   "outputs": [],
   "source": [
    "mob = mob[[\"alarm_id\", \"std_probable_cause_no\", \"lp_id\", \"lp_type\"]]\n",
    "adsl = adsl[[\"alarm_id\", \"std_probable_cause_no\", \"lp_id\", \"lp_type\"]]\n",
    "pdh = pdh[[\"alarm_id\", \"std_probable_cause_no\", \"lp_id\", \"lp_type\"]]\n",
    "ptn = ptn[[\"alarm_id\", \"std_probable_cause_no\", \"lp_id\", \"lp_type\"]]\n",
    "sdh = sdh[[\"alarm_id\", \"std_probable_cause_no\", \"lp_id\", \"lp_type\"]]"
   ]
  },
  {
   "cell_type": "code",
   "execution_count": 13,
   "metadata": {},
   "outputs": [],
   "source": [
    "alarms_slogan_lavori_programmati = pd.concat([mob, adsl, pdh, ptn, sdh])"
   ]
  },
  {
   "cell_type": "code",
   "execution_count": 14,
   "metadata": {},
   "outputs": [],
   "source": [
    "alarms_slogan_lavori_programmati.to_parquet(\"alarms datasets/alarms_slogan_lavori_programmati.parquet\")"
   ]
  },
  {
   "cell_type": "markdown",
   "metadata": {},
   "source": [
    "## Merge Clusters and Alarms with Lavori Programmati"
   ]
  },
  {
   "cell_type": "code",
   "execution_count": 33,
   "metadata": {},
   "outputs": [],
   "source": [
    "clusters = pd.read_parquet(\"real-time clusters/20230101-20240101_real_time_clusters_filtered.parquet\")"
   ]
  },
  {
   "cell_type": "code",
   "execution_count": 35,
   "metadata": {},
   "outputs": [
    {
     "data": {
      "text/plain": [
       "cluster_id2\n",
       "202309181126_19    10079\n",
       "202308080334_40     7989\n",
       "202311270204_5      6728\n",
       "202311270406_7      6611\n",
       "202310110506_13     6226\n",
       "                   ...  \n",
       "202309301148_6         2\n",
       "202309301148_5         2\n",
       "202304271552_8         2\n",
       "202304271552_9         2\n",
       "202312312358_6         2\n",
       "Length: 864160, dtype: int64"
      ]
     },
     "execution_count": 35,
     "metadata": {},
     "output_type": "execute_result"
    }
   ],
   "source": [
    "clusters.groupby(\"cluster_id2\").size().sort_values(ascending=False)"
   ]
  },
  {
   "cell_type": "code",
   "execution_count": 4,
   "metadata": {},
   "outputs": [],
   "source": [
    "alarms_slogan_lavori_programmati = pd.read_parquet(\"alarms datasets/alarms_slogan_lavori_programmati.parquet\")"
   ]
  },
  {
   "cell_type": "code",
   "execution_count": 5,
   "metadata": {},
   "outputs": [],
   "source": [
    "clusters_with_lavori_programmati = pd.merge(clusters, alarms_slogan_lavori_programmati, on=\"alarm_id\", how=\"left\")"
   ]
  },
  {
   "cell_type": "code",
   "execution_count": 6,
   "metadata": {},
   "outputs": [],
   "source": [
    "clusters_with_lavori_programmati = clusters_with_lavori_programmati[\n",
    "    [\"alarm_id\", \"cluster_id2\", \"std_probable_cause_no\", \"lp_type\"]\n",
    "]"
   ]
  },
  {
   "cell_type": "code",
   "execution_count": 7,
   "metadata": {},
   "outputs": [
    {
     "data": {
      "text/html": [
       "<div>\n",
       "<style scoped>\n",
       "    .dataframe tbody tr th:only-of-type {\n",
       "        vertical-align: middle;\n",
       "    }\n",
       "\n",
       "    .dataframe tbody tr th {\n",
       "        vertical-align: top;\n",
       "    }\n",
       "\n",
       "    .dataframe thead th {\n",
       "        text-align: right;\n",
       "    }\n",
       "</style>\n",
       "<table border=\"1\" class=\"dataframe\">\n",
       "  <thead>\n",
       "    <tr style=\"text-align: right;\">\n",
       "      <th></th>\n",
       "      <th>alarm_id</th>\n",
       "      <th>cluster_id2</th>\n",
       "      <th>std_probable_cause_no</th>\n",
       "      <th>lp_type</th>\n",
       "    </tr>\n",
       "  </thead>\n",
       "  <tbody>\n",
       "    <tr>\n",
       "      <th>0</th>\n",
       "      <td>COS1P;136885076</td>\n",
       "      <td>202301010000_16</td>\n",
       "      <td>apparato isolato</td>\n",
       "      <td>None</td>\n",
       "    </tr>\n",
       "    <tr>\n",
       "      <th>1</th>\n",
       "      <td>COS1P;136885115</td>\n",
       "      <td>202301010000_16</td>\n",
       "      <td>apparato isolato</td>\n",
       "      <td>None</td>\n",
       "    </tr>\n",
       "    <tr>\n",
       "      <th>2</th>\n",
       "      <td>COS1P;136884642</td>\n",
       "      <td>202301010000_25</td>\n",
       "      <td>apparato isolato</td>\n",
       "      <td>None</td>\n",
       "    </tr>\n",
       "    <tr>\n",
       "      <th>3</th>\n",
       "      <td>COS1P;136884882</td>\n",
       "      <td>202301010000_25</td>\n",
       "      <td>apparato isolato</td>\n",
       "      <td>None</td>\n",
       "    </tr>\n",
       "    <tr>\n",
       "      <th>4</th>\n",
       "      <td>COS1P;136884883</td>\n",
       "      <td>202301010000_25</td>\n",
       "      <td>apparato isolato</td>\n",
       "      <td>None</td>\n",
       "    </tr>\n",
       "    <tr>\n",
       "      <th>...</th>\n",
       "      <td>...</td>\n",
       "      <td>...</td>\n",
       "      <td>...</td>\n",
       "      <td>...</td>\n",
       "    </tr>\n",
       "    <tr>\n",
       "      <th>8607319</th>\n",
       "      <td>EFM;6591f07dadefac0001744e96</td>\n",
       "      <td>202312312354_7</td>\n",
       "      <td>base station connectivity problem</td>\n",
       "      <td>None</td>\n",
       "    </tr>\n",
       "    <tr>\n",
       "      <th>8607320</th>\n",
       "      <td>EFM;6591f08739628d00013784db</td>\n",
       "      <td>202312312354_7</td>\n",
       "      <td>base station connectivity problem</td>\n",
       "      <td>None</td>\n",
       "    </tr>\n",
       "    <tr>\n",
       "      <th>8607321</th>\n",
       "      <td>EFM;6591f08cadefac0001744ea1</td>\n",
       "      <td>202312312354_7</td>\n",
       "      <td>base station connectivity problem</td>\n",
       "      <td>None</td>\n",
       "    </tr>\n",
       "    <tr>\n",
       "      <th>8607322</th>\n",
       "      <td>EFMTX;6591ee0801021b00010facb4</td>\n",
       "      <td>202312312340_13</td>\n",
       "      <td>fermo totale apparato</td>\n",
       "      <td>None</td>\n",
       "    </tr>\n",
       "    <tr>\n",
       "      <th>8607323</th>\n",
       "      <td>EFMTX;6591f046d8beb800016deaef</td>\n",
       "      <td>202312312344_9</td>\n",
       "      <td>oamloc locv</td>\n",
       "      <td>None</td>\n",
       "    </tr>\n",
       "  </tbody>\n",
       "</table>\n",
       "<p>8607324 rows × 4 columns</p>\n",
       "</div>"
      ],
      "text/plain": [
       "                               alarm_id      cluster_id2  \\\n",
       "0                       COS1P;136885076  202301010000_16   \n",
       "1                       COS1P;136885115  202301010000_16   \n",
       "2                       COS1P;136884642  202301010000_25   \n",
       "3                       COS1P;136884882  202301010000_25   \n",
       "4                       COS1P;136884883  202301010000_25   \n",
       "...                                 ...              ...   \n",
       "8607319    EFM;6591f07dadefac0001744e96   202312312354_7   \n",
       "8607320    EFM;6591f08739628d00013784db   202312312354_7   \n",
       "8607321    EFM;6591f08cadefac0001744ea1   202312312354_7   \n",
       "8607322  EFMTX;6591ee0801021b00010facb4  202312312340_13   \n",
       "8607323  EFMTX;6591f046d8beb800016deaef   202312312344_9   \n",
       "\n",
       "                     std_probable_cause_no lp_type  \n",
       "0                         apparato isolato    None  \n",
       "1                         apparato isolato    None  \n",
       "2                         apparato isolato    None  \n",
       "3                         apparato isolato    None  \n",
       "4                         apparato isolato    None  \n",
       "...                                    ...     ...  \n",
       "8607319  base station connectivity problem    None  \n",
       "8607320  base station connectivity problem    None  \n",
       "8607321  base station connectivity problem    None  \n",
       "8607322              fermo totale apparato    None  \n",
       "8607323                        oamloc locv    None  \n",
       "\n",
       "[8607324 rows x 4 columns]"
      ]
     },
     "execution_count": 7,
     "metadata": {},
     "output_type": "execute_result"
    }
   ],
   "source": [
    "filtered_df = clusters_with_lavori_programmati[clusters_with_lavori_programmati['lp_type'].apply(lambda x: x != 'None')]\n",
    "filtered_df"
   ]
  },
  {
   "cell_type": "code",
   "execution_count": 8,
   "metadata": {},
   "outputs": [
    {
     "data": {
      "text/html": [
       "<div>\n",
       "<style scoped>\n",
       "    .dataframe tbody tr th:only-of-type {\n",
       "        vertical-align: middle;\n",
       "    }\n",
       "\n",
       "    .dataframe tbody tr th {\n",
       "        vertical-align: top;\n",
       "    }\n",
       "\n",
       "    .dataframe thead th {\n",
       "        text-align: right;\n",
       "    }\n",
       "</style>\n",
       "<table border=\"1\" class=\"dataframe\">\n",
       "  <thead>\n",
       "    <tr style=\"text-align: right;\">\n",
       "      <th></th>\n",
       "      <th>alarm_id</th>\n",
       "      <th>cluster_id2</th>\n",
       "      <th>std_probable_cause_no</th>\n",
       "      <th>lp_type</th>\n",
       "    </tr>\n",
       "  </thead>\n",
       "  <tbody>\n",
       "    <tr>\n",
       "      <th>0</th>\n",
       "      <td>COS1P;136885076</td>\n",
       "      <td>202301010000_16</td>\n",
       "      <td>apparato isolato</td>\n",
       "      <td>None</td>\n",
       "    </tr>\n",
       "    <tr>\n",
       "      <th>1</th>\n",
       "      <td>COS1P;136885115</td>\n",
       "      <td>202301010000_16</td>\n",
       "      <td>apparato isolato</td>\n",
       "      <td>None</td>\n",
       "    </tr>\n",
       "    <tr>\n",
       "      <th>2</th>\n",
       "      <td>COS1P;136884642</td>\n",
       "      <td>202301010000_25</td>\n",
       "      <td>apparato isolato</td>\n",
       "      <td>None</td>\n",
       "    </tr>\n",
       "    <tr>\n",
       "      <th>3</th>\n",
       "      <td>COS1P;136884882</td>\n",
       "      <td>202301010000_25</td>\n",
       "      <td>apparato isolato</td>\n",
       "      <td>None</td>\n",
       "    </tr>\n",
       "    <tr>\n",
       "      <th>4</th>\n",
       "      <td>COS1P;136884883</td>\n",
       "      <td>202301010000_25</td>\n",
       "      <td>apparato isolato</td>\n",
       "      <td>None</td>\n",
       "    </tr>\n",
       "    <tr>\n",
       "      <th>...</th>\n",
       "      <td>...</td>\n",
       "      <td>...</td>\n",
       "      <td>...</td>\n",
       "      <td>...</td>\n",
       "    </tr>\n",
       "    <tr>\n",
       "      <th>8607319</th>\n",
       "      <td>EFM;6591f07dadefac0001744e96</td>\n",
       "      <td>202312312354_7</td>\n",
       "      <td>base station connectivity problem</td>\n",
       "      <td>None</td>\n",
       "    </tr>\n",
       "    <tr>\n",
       "      <th>8607320</th>\n",
       "      <td>EFM;6591f08739628d00013784db</td>\n",
       "      <td>202312312354_7</td>\n",
       "      <td>base station connectivity problem</td>\n",
       "      <td>None</td>\n",
       "    </tr>\n",
       "    <tr>\n",
       "      <th>8607321</th>\n",
       "      <td>EFM;6591f08cadefac0001744ea1</td>\n",
       "      <td>202312312354_7</td>\n",
       "      <td>base station connectivity problem</td>\n",
       "      <td>None</td>\n",
       "    </tr>\n",
       "    <tr>\n",
       "      <th>8607322</th>\n",
       "      <td>EFMTX;6591ee0801021b00010facb4</td>\n",
       "      <td>202312312340_13</td>\n",
       "      <td>fermo totale apparato</td>\n",
       "      <td>None</td>\n",
       "    </tr>\n",
       "    <tr>\n",
       "      <th>8607323</th>\n",
       "      <td>EFMTX;6591f046d8beb800016deaef</td>\n",
       "      <td>202312312344_9</td>\n",
       "      <td>oamloc locv</td>\n",
       "      <td>None</td>\n",
       "    </tr>\n",
       "  </tbody>\n",
       "</table>\n",
       "<p>8607324 rows × 4 columns</p>\n",
       "</div>"
      ],
      "text/plain": [
       "                               alarm_id      cluster_id2  \\\n",
       "0                       COS1P;136885076  202301010000_16   \n",
       "1                       COS1P;136885115  202301010000_16   \n",
       "2                       COS1P;136884642  202301010000_25   \n",
       "3                       COS1P;136884882  202301010000_25   \n",
       "4                       COS1P;136884883  202301010000_25   \n",
       "...                                 ...              ...   \n",
       "8607319    EFM;6591f07dadefac0001744e96   202312312354_7   \n",
       "8607320    EFM;6591f08739628d00013784db   202312312354_7   \n",
       "8607321    EFM;6591f08cadefac0001744ea1   202312312354_7   \n",
       "8607322  EFMTX;6591ee0801021b00010facb4  202312312340_13   \n",
       "8607323  EFMTX;6591f046d8beb800016deaef   202312312344_9   \n",
       "\n",
       "                     std_probable_cause_no lp_type  \n",
       "0                         apparato isolato    None  \n",
       "1                         apparato isolato    None  \n",
       "2                         apparato isolato    None  \n",
       "3                         apparato isolato    None  \n",
       "4                         apparato isolato    None  \n",
       "...                                    ...     ...  \n",
       "8607319  base station connectivity problem    None  \n",
       "8607320  base station connectivity problem    None  \n",
       "8607321  base station connectivity problem    None  \n",
       "8607322              fermo totale apparato    None  \n",
       "8607323                        oamloc locv    None  \n",
       "\n",
       "[8607324 rows x 4 columns]"
      ]
     },
     "execution_count": 8,
     "metadata": {},
     "output_type": "execute_result"
    }
   ],
   "source": [
    "clusters_with_lavori_programmati"
   ]
  },
  {
   "cell_type": "code",
   "execution_count": 9,
   "metadata": {},
   "outputs": [
    {
     "data": {
      "text/plain": [
       "array(['None', 'nan', \"['APPARATI']\", \"['CAVO']\", \"['DWDM/PTN']\",\n",
       "       \"['REIX/UPGRADE']\", \"['CAMBI RELEASE']\", \"['CAVO' 'DWDM/PTN']\",\n",
       "       \"['CAVO' 'APPARATI']\"], dtype=object)"
      ]
     },
     "execution_count": 9,
     "metadata": {},
     "output_type": "execute_result"
    }
   ],
   "source": [
    "unique_lp_type_values = clusters_with_lavori_programmati['lp_type'].apply(lambda x: str(x)).unique()\n",
    "unique_lp_type_values"
   ]
  },
  {
   "cell_type": "code",
   "execution_count": 10,
   "metadata": {},
   "outputs": [],
   "source": [
    "clusters_with_lavori_programmati['lp_type'] = clusters_with_lavori_programmati['lp_type'].replace([None], ['None'])"
   ]
  },
  {
   "cell_type": "code",
   "execution_count": 11,
   "metadata": {},
   "outputs": [],
   "source": [
    "clusters_with_lavori_programmati['lp_type'] = clusters_with_lavori_programmati['lp_type'].str.replace(r\"\\[|\\]|\\'\", \"\", regex=True)"
   ]
  },
  {
   "cell_type": "code",
   "execution_count": 12,
   "metadata": {},
   "outputs": [
    {
     "data": {
      "text/plain": [
       "array(['None', 'APPARATI', 'CAVO', 'DWDM/PTN', 'REIX/UPGRADE',\n",
       "       'CAMBI RELEASE', 'CAVO DWDM/PTN', 'CAVO APPARATI'], dtype=object)"
      ]
     },
     "execution_count": 12,
     "metadata": {},
     "output_type": "execute_result"
    }
   ],
   "source": [
    "unique_lp_type_values = clusters_with_lavori_programmati['lp_type'].apply(lambda x: str(x)).unique()\n",
    "unique_lp_type_values"
   ]
  },
  {
   "cell_type": "markdown",
   "metadata": {},
   "source": [
    "## Create a Dataframe with Clusters and \"GUASTO CAVO\" label"
   ]
  },
  {
   "cell_type": "code",
   "execution_count": 13,
   "metadata": {},
   "outputs": [],
   "source": [
    "clusters_grouped = clusters_with_lavori_programmati.groupby([\"cluster_id2\"])"
   ]
  },
  {
   "cell_type": "code",
   "execution_count": 23,
   "metadata": {},
   "outputs": [
    {
     "name": "stderr",
     "output_type": "stream",
     "text": [
      "C:\\Users\\Nicolò Caradonna\\AppData\\Local\\Temp\\ipykernel_11488\\1376551276.py:4: DeprecationWarning: DataFrameGroupBy.apply operated on the grouping columns. This behavior is deprecated, and in a future version of pandas the grouping columns will be excluded from the operation. Either pass `include_groups=False` to exclude the groupings or explicitly select the grouping columns after groupby to silence this warning.\n",
      "  clusters_grouped.apply(check_cavo_alarm).sum()\n"
     ]
    },
    {
     "data": {
      "text/plain": [
       "4191"
      ]
     },
     "execution_count": 23,
     "metadata": {},
     "output_type": "execute_result"
    }
   ],
   "source": [
    "def check_cavo_alarm(group):\n",
    "    return any(sublist != 'None' for sublist in group['lp_type'].values)\n",
    "\n",
    "clusters_grouped.apply(check_cavo_alarm).sum()"
   ]
  },
  {
   "cell_type": "markdown",
   "metadata": {},
   "source": [
    "### Labeling Rule\n",
    "\n",
    "- GUASTO CAVO = 1 : if at least one alarm inside the cluster has a lp_type == 'CAVO'\n",
    "- GUASTO CAVO = 0 : if there are no alarms with a lp_type == 'CAVO'\n",
    "- No labeling (cluster not in the dataframe) : if whole number of alarms in the cluster have a lp_type == 'None' (no lavoro programmato info)"
   ]
  },
  {
   "cell_type": "code",
   "execution_count": 24,
   "metadata": {},
   "outputs": [
    {
     "name": "stderr",
     "output_type": "stream",
     "text": [
      "C:\\Users\\Nicolò Caradonna\\AppData\\Local\\Temp\\ipykernel_11488\\1928354519.py:6: DeprecationWarning: DataFrameGroupBy.apply operated on the grouping columns. This behavior is deprecated, and in a future version of pandas the grouping columns will be excluded from the operation. Either pass `include_groups=False` to exclude the groupings or explicitly select the grouping columns after groupby to silence this warning.\n",
      "  temp_df = clusters_grouped.apply(lambda group: pd.Series({\n"
     ]
    }
   ],
   "source": [
    "def check_cavo_alarm(group):\n",
    "    if all(x == 'None' for x in group['lp_type'].values):\n",
    "        return None\n",
    "    return any(sublist == 'CAVO' for sublist in group['lp_type'].values if sublist is not None)\n",
    "\n",
    "temp_df = clusters_grouped.apply(lambda group: pd.Series({\n",
    "    'cluster_id2': group.name,\n",
    "    'GUASTO CAVO': check_cavo_alarm(group)\n",
    "}))\n",
    "\n",
    "new_df = temp_df.dropna().reset_index(drop=True)"
   ]
  },
  {
   "cell_type": "code",
   "execution_count": 25,
   "metadata": {},
   "outputs": [
    {
     "data": {
      "text/html": [
       "<div>\n",
       "<style scoped>\n",
       "    .dataframe tbody tr th:only-of-type {\n",
       "        vertical-align: middle;\n",
       "    }\n",
       "\n",
       "    .dataframe tbody tr th {\n",
       "        vertical-align: top;\n",
       "    }\n",
       "\n",
       "    .dataframe thead th {\n",
       "        text-align: right;\n",
       "    }\n",
       "</style>\n",
       "<table border=\"1\" class=\"dataframe\">\n",
       "  <thead>\n",
       "    <tr style=\"text-align: right;\">\n",
       "      <th></th>\n",
       "      <th>cluster_id2</th>\n",
       "      <th>GUASTO CAVO</th>\n",
       "    </tr>\n",
       "  </thead>\n",
       "  <tbody>\n",
       "    <tr>\n",
       "      <th>2095</th>\n",
       "      <td>202306230208_3</td>\n",
       "      <td>True</td>\n",
       "    </tr>\n",
       "    <tr>\n",
       "      <th>2644</th>\n",
       "      <td>202308310114_23</td>\n",
       "      <td>True</td>\n",
       "    </tr>\n",
       "    <tr>\n",
       "      <th>2630</th>\n",
       "      <td>202308300216_23</td>\n",
       "      <td>True</td>\n",
       "    </tr>\n",
       "    <tr>\n",
       "      <th>2631</th>\n",
       "      <td>202308300216_33</td>\n",
       "      <td>True</td>\n",
       "    </tr>\n",
       "    <tr>\n",
       "      <th>2632</th>\n",
       "      <td>202308300216_34</td>\n",
       "      <td>True</td>\n",
       "    </tr>\n",
       "    <tr>\n",
       "      <th>...</th>\n",
       "      <td>...</td>\n",
       "      <td>...</td>\n",
       "    </tr>\n",
       "    <tr>\n",
       "      <th>871</th>\n",
       "      <td>202303231406_21</td>\n",
       "      <td>False</td>\n",
       "    </tr>\n",
       "    <tr>\n",
       "      <th>870</th>\n",
       "      <td>202303231406_2</td>\n",
       "      <td>False</td>\n",
       "    </tr>\n",
       "    <tr>\n",
       "      <th>869</th>\n",
       "      <td>202303230450_5</td>\n",
       "      <td>False</td>\n",
       "    </tr>\n",
       "    <tr>\n",
       "      <th>868</th>\n",
       "      <td>202303230428_4</td>\n",
       "      <td>False</td>\n",
       "    </tr>\n",
       "    <tr>\n",
       "      <th>0</th>\n",
       "      <td>202301090504_2</td>\n",
       "      <td>False</td>\n",
       "    </tr>\n",
       "  </tbody>\n",
       "</table>\n",
       "<p>4191 rows × 2 columns</p>\n",
       "</div>"
      ],
      "text/plain": [
       "          cluster_id2 GUASTO CAVO\n",
       "2095   202306230208_3        True\n",
       "2644  202308310114_23        True\n",
       "2630  202308300216_23        True\n",
       "2631  202308300216_33        True\n",
       "2632  202308300216_34        True\n",
       "...               ...         ...\n",
       "871   202303231406_21       False\n",
       "870    202303231406_2       False\n",
       "869    202303230450_5       False\n",
       "868    202303230428_4       False\n",
       "0      202301090504_2       False\n",
       "\n",
       "[4191 rows x 2 columns]"
      ]
     },
     "execution_count": 25,
     "metadata": {},
     "output_type": "execute_result"
    }
   ],
   "source": [
    "new_df.sort_values(by='GUASTO CAVO', ascending=False)"
   ]
  },
  {
   "cell_type": "code",
   "execution_count": 26,
   "metadata": {},
   "outputs": [
    {
     "data": {
      "text/plain": [
       "3442"
      ]
     },
     "execution_count": 26,
     "metadata": {},
     "output_type": "execute_result"
    }
   ],
   "source": [
    "guasto_cavo_count = new_df['GUASTO CAVO'].sum()\n",
    "guasto_cavo_count"
   ]
  },
  {
   "cell_type": "code",
   "execution_count": 27,
   "metadata": {},
   "outputs": [],
   "source": [
    "new_df.to_csv(\"real-time clusters/20230101-20240101_real_time_clusters_filtered_guasto_cavo.csv\", index=False)"
   ]
  },
  {
   "cell_type": "code",
   "execution_count": 30,
   "metadata": {},
   "outputs": [],
   "source": [
    "filtered_clusters = clusters[clusters['cluster_id2'].isin(new_df['cluster_id2'])]"
   ]
  },
  {
   "cell_type": "code",
   "execution_count": 32,
   "metadata": {},
   "outputs": [
    {
     "data": {
      "text/plain": [
       "cluster_id2\n",
       "202310240038_9     3487\n",
       "202306080506_13    2126\n",
       "202312050110_59    1609\n",
       "202311140056_10    1300\n",
       "202302150200_9     1142\n",
       "                   ... \n",
       "202306060226_3        2\n",
       "202302230306_6        2\n",
       "202308100306_11       2\n",
       "202302230258_13       2\n",
       "202305240210_15       2\n",
       "Length: 4191, dtype: int64"
      ]
     },
     "execution_count": 32,
     "metadata": {},
     "output_type": "execute_result"
    }
   ],
   "source": [
    "filtered_clusters.groupby(\"cluster_id2\").size().sort_values(ascending=False)"
   ]
  }
 ],
 "metadata": {
  "kernelspec": {
   "display_name": "TIM_thesis",
   "language": "python",
   "name": "python3"
  },
  "language_info": {
   "codemirror_mode": {
    "name": "ipython",
    "version": 3
   },
   "file_extension": ".py",
   "mimetype": "text/x-python",
   "name": "python",
   "nbconvert_exporter": "python",
   "pygments_lexer": "ipython3",
   "version": "3.12.2"
  }
 },
 "nbformat": 4,
 "nbformat_minor": 2
}
