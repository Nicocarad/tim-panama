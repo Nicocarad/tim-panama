{
 "cells": [
  {
   "cell_type": "code",
   "execution_count": 1,
   "metadata": {},
   "outputs": [],
   "source": [
    "import pandas as pd\n",
    "from tqdm import tqdm"
   ]
  },
  {
   "cell_type": "markdown",
   "metadata": {},
   "source": [
    "## Add Slogan column to Clusters Alarms"
   ]
  },
  {
   "cell_type": "code",
   "execution_count": 8,
   "metadata": {},
   "outputs": [],
   "source": [
    "cluster_filtered = pd.read_parquet(\"real-time clusters/20230101-20240101_real_time_clusters_filtered.parquet\")"
   ]
  },
  {
   "cell_type": "code",
   "execution_count": 3,
   "metadata": {},
   "outputs": [],
   "source": [
    "adsl = pd.read_parquet(\"alarms datasets/tx/20230101-20240101_inpas_tx_preprocess__adsl__last_event__last_event__ext1.parquet\")\n",
    "pdh = pd.read_parquet(\"alarms datasets/tx/20230101-20240101_inpas_tx_preprocess__pdh__last_event__last_event__ext1.parquet\")\n",
    "sdh = pd.read_parquet(\"alarms datasets/tx/20230101-20240101_inpas_tx_preprocess__sdh__last_event__last_event__ext1.parquet\")\n",
    "ptn = pd.read_parquet(\"alarms datasets/tx/20230101-20240101_inpas_tx_preprocess__ptn__last_event__last_event__ext1.parquet\")"
   ]
  },
  {
   "cell_type": "code",
   "execution_count": 5,
   "metadata": {},
   "outputs": [],
   "source": [
    "mob = pd.read_parquet(\"alarms datasets/mob/20230101-20240101_inpas_mob_preprocess__an__last_event__last_event__ext1.parquet\")"
   ]
  },
  {
   "cell_type": "code",
   "execution_count": 6,
   "metadata": {},
   "outputs": [],
   "source": [
    "mob[\"link_type\"] = \"None\""
   ]
  },
  {
   "cell_type": "code",
   "execution_count": 7,
   "metadata": {},
   "outputs": [],
   "source": [
    "mob = mob[[\"alarm_id\", \"std_probable_cause_no\", \"link_type\"]]"
   ]
  },
  {
   "cell_type": "code",
   "execution_count": 4,
   "metadata": {},
   "outputs": [],
   "source": [
    "\n",
    "adsl = adsl[[\"alarm_id\", \"std_probable_cause_no\", \"link_type\"]]\n",
    "pdh = pdh[[\"alarm_id\", \"std_probable_cause_no\", \"link_type\"]]\n",
    "sdh = sdh[[\"alarm_id\", \"std_probable_cause_no\", \"link_type\"]]\n",
    "ptn = ptn[[\"alarm_id\", \"std_probable_cause_no\", \"link_type\"]]"
   ]
  },
  {
   "cell_type": "code",
   "execution_count": 9,
   "metadata": {},
   "outputs": [],
   "source": [
    "all_alarms = pd.concat([adsl, pdh, sdh, ptn, mob])"
   ]
  },
  {
   "cell_type": "code",
   "execution_count": 10,
   "metadata": {},
   "outputs": [],
   "source": [
    "all_alarms[\"link_type\"] = all_alarms[\"link_type\"].fillna(\"None\")"
   ]
  },
  {
   "cell_type": "code",
   "execution_count": 11,
   "metadata": {},
   "outputs": [
    {
     "data": {
      "text/plain": [
       "array(['l12', 'None', 'otc', 'lfd', 'at1', 'dmx2', 'ps3', 'ps4', 'ps',\n",
       "       'nd', 'ad3', 'gb8', 'gb1', 'go1', 'l10', 'gbe', 'l100', '/0-',\n",
       "       'itl', 'nq0', '30', 'lim', 'sqp', 'n34', 'rs-', 'nq', 's3t', 'nm',\n",
       "       '482', 'ubt', 'n80', 'f-m', 'prn', '3-s', 'f-t', 'res', 'qp',\n",
       "       '480', 'sdh', 'ed', 's1t', 'nsq', 'sc1', 'sc4', 'f-i', 'ode',\n",
       "       '2rm', 'n8', 'px1', 'qp0', 'dlo', 'sc3', '120', 'ala', '0pv',\n",
       "       'dcn', 'dc2', 'erv', 'fm', 'bb-', '3ll', 'ds1', 'dm1', 'tim',\n",
       "       's3r', '3s1', 'gen', '300', 's1r', 'eri', '.e.', 'cdz', 'om',\n",
       "       'dtv', 'ela', 'dvr', 't-i', '.o.', 'cs0', 't-t', 'dbz', '3rm',\n",
       "       '.tx', 'rio', 'dcf', 'nm0', '100', 'ond', 'fm6', 'n2', 'dm-', 'll',\n",
       "       'sit', 'ali', 'cam', 'sub', '3li', '1pv', 'dz', 'qp2', '132',\n",
       "       'os2', 'emp', '0', '0vr', '16w', 'ibe', 'k9', 'n20', '301', 'px',\n",
       "       'cdn', '3-c', '5-c', '5-s', '1-c', '1-s', 'ene', '-ca', '-ss',\n",
       "       '2-s', '0-s', '8-s', '6-s', '9-s', '7-s', '6-c', '8-c', '0-c',\n",
       "       '2-c', '7-c', '9-c', 's1', 'is1', 'scs', 'mpl', 'sh1', 'px-', 'li',\n",
       "       'omp', '400', 'dbl', 'e', 'ux-', '000', 'alc', 'f-1', '10', 'c3',\n",
       "       '345', '349', 'dv1', '6ne', 'd-m', '3c2', 'ner', 'tl', '4c1',\n",
       "       'l t', 'qp9', 'drm', 'ist', 'wdm', 'dat', 's.e', 'ce', 'att', 's3',\n",
       "       '3lu', 'onv', 'st.', 'r.e', '/o', 's-s', 'obo', 'hds', 'dmi',\n",
       "       'sut', 'n43', '2c1', '0c1', 'sq5', '/4-', 'sc2', 'ss-', '1t',\n",
       "       'c30', 'h-1', 'ise', 'ub.', 'nqp', 'q-1', 's-1', 'as1', 'a00',\n",
       "       'sr3', '1rm', 't-m', 'ub', 'q 9', 'q 5', '1ne', 'xf', '3s2', 'vc0',\n",
       "       'su', 'ign', 'f.i', 'n2/', 'dc1', 'ip', '-vr', '1cn', 'orr', '240',\n",
       "       'as3', 'as4', 't.t', 'as2', '3c1', 'os-', 'sau', 'ebi', 'ova',\n",
       "       'so', 'tm1', 'n', '820', 'sq9', '1c2', '0s2', 'avo', 'ux1', 'uas',\n",
       "       'qp-', 'nm1', '/0_', 'ds2', 'nq1', '-bz', '1-b', '31t', 'st1',\n",
       "       'ux', 'c n', 'egn', '.r.', 'pla', 'rov', '-fi', '0-p', '-pg', 'fi',\n",
       "       'fi0', 'nq-', 'dm', 'px2', 'n85', 'lat', 'wc1', 'odu', 'at', '009',\n",
       "       '.c.', 'mn0', 'd12', 'd20', '0s1', 'th.', '170', '-bo', '-an',\n",
       "       '0-a', '-fg', '9-r', '1cg', '7-r', 'nco', 'mur', '801', 'ups',\n",
       "       'bn', '155', 'la7', 's2', '.e', 'eco', 'in-', 'f 1', 'dz+', 'l',\n",
       "       '82.', 'k', '.48', 'dma', 'ta', '3', 's4t', 'mn', '2s2', '200',\n",
       "       'ds0', 'r96', 'n 3', 'w96', 'omb', 'p30', '82', 'oca', 'f h',\n",
       "       'axe', 'af1', 'n17', 'sct', '2/0', '481', 'd', 'sbt', 'td', '340',\n",
       "       'sq0', '1', 'sc0', 'el0', 'ub0', 'qp1', 'a', 'dgo', 'n8.', 'n15',\n",
       "       '65', '001', 'dl0', 'uci', 'd48', '/0', 'add', 'uc1', 'sc', 'c1',\n",
       "       'ov', 'et5', 'nmp', '8-a', '0-b', '0-f', '9-p', '7-p', '1-f',\n",
       "       '3-p', 'p/1', '2-p', '4-p', '-pi', '0-r', '-rm', '2-r', '4-r',\n",
       "       'omu', 'f-', 'utb', 'mp', 'x1c', 'n2.', '1/0', 'tmp', 'alm', '1r',\n",
       "       '0bl', 'n29', 'ont', 'asc', 'cor', '.ca', '302', '303', 'con',\n",
       "       'dsl', 'm46', 'se', '-st', 'n2-', 'ian', 'mid', 'as5', 'sdn',\n",
       "       'uad', 'el.', '9-f', 'nn', 'lta', '829', 'erm', 'fi-', '-', '030',\n",
       "       'mbi', '032', 'n8t', 'pr', '800', 'k2m', '.ra', 'ste', 'tz', 'pq0',\n",
       "       'x', '7-f', 'dvi', 'rg', '3ne', 'plt', 'et', 'tem', '-fv', '1-p',\n",
       "       'sr', 'nq5', 'nq9', 'xti', 'ral', '-pr', 'ma', '01', 'fv', '. e',\n",
       "       'ad', 'stt', '2', '500', 'c00', 'st3', 'tx', 'ase', 'f', 'uid',\n",
       "       'em', 'os', 're.', 'f30', 'f-s', 'ws2', '3rl', 's2t', '-mi', '2-m',\n",
       "       '.nq', 'dz1', 'lla', 'xsh', 'al', 'vc1', 'vc4', 'epr', 'vc3',\n",
       "       'och', 'pdr', 'odu2', 'odu1', 'etr', 'dsp', 'odu3', 'odu4', 'pre',\n",
       "       'odu0', 'umts', 'oph', 'kt1', 'f12', 'otc2', 'ot1', 'rt02', 'o40',\n",
       "       'otr', 'peth', 'l25', 'kt00', 'ots', 'kt01', 'rt00', 'odu2e',\n",
       "       'g100', 'r40', 'tu3', 'o4', 'eth', 'g1s', 'gea', 'oms', 'et2',\n",
       "       'gb5', 'rt04', 'et4', 'dst', 'v16', 'ot16', 'ethc', 'cvph', 'r12',\n",
       "       'v04', 'sec10', 's2c', 'o16', 'o32', 'e2egwk', 'gb3', 's4r', 'l15',\n",
       "       'oducn', 'r16', 'g1g', 'e2egig', 'sa', 'qf', 'l40', 'rt02e',\n",
       "       'gb100', 'lsp', 'epl', 'vpls', 'pw', 'evpl', 'pepk', 'sec1', 'lag',\n",
       "       'oss', 'avpls'], dtype=object)"
      ]
     },
     "execution_count": 11,
     "metadata": {},
     "output_type": "execute_result"
    }
   ],
   "source": [
    "all_alarms[\"link_type\"].unique()"
   ]
  },
  {
   "cell_type": "code",
   "execution_count": 12,
   "metadata": {},
   "outputs": [],
   "source": [
    "clusters_with_slogans = pd.merge(cluster_filtered, all_alarms, on=\"alarm_id\", how=\"left\")"
   ]
  },
  {
   "cell_type": "code",
   "execution_count": 13,
   "metadata": {},
   "outputs": [],
   "source": [
    "clusters_with_slogans.to_parquet(\"real-time clusters/20230101-20240101_real_time_clusters_filtered_with_slogans.parquet\")"
   ]
  },
  {
   "cell_type": "markdown",
   "metadata": {},
   "source": [
    "## Create Bitmap"
   ]
  },
  {
   "cell_type": "code",
   "execution_count": 2,
   "metadata": {},
   "outputs": [],
   "source": [
    "clusters_with_slogans = pd.read_parquet(\"real-time clusters/20230101-20240101_real_time_clusters_filtered_with_slogans.parquet\")"
   ]
  },
  {
   "cell_type": "code",
   "execution_count": 3,
   "metadata": {},
   "outputs": [
    {
     "data": {
      "text/html": [
       "<div>\n",
       "<style scoped>\n",
       "    .dataframe tbody tr th:only-of-type {\n",
       "        vertical-align: middle;\n",
       "    }\n",
       "\n",
       "    .dataframe tbody tr th {\n",
       "        vertical-align: top;\n",
       "    }\n",
       "\n",
       "    .dataframe thead th {\n",
       "        text-align: right;\n",
       "    }\n",
       "</style>\n",
       "<table border=\"1\" class=\"dataframe\">\n",
       "  <thead>\n",
       "    <tr style=\"text-align: right;\">\n",
       "      <th></th>\n",
       "      <th>alarm_id</th>\n",
       "      <th>network</th>\n",
       "      <th>ne_type</th>\n",
       "      <th>first_occurrence</th>\n",
       "      <th>last_update</th>\n",
       "      <th>data</th>\n",
       "      <th>ne_id</th>\n",
       "      <th>geo_code</th>\n",
       "      <th>min_cluster_first_occurrence</th>\n",
       "      <th>link_cluster</th>\n",
       "      <th>domain</th>\n",
       "      <th>cluster_id</th>\n",
       "      <th>cluster_id2</th>\n",
       "      <th>std_probable_cause_no</th>\n",
       "      <th>link_type</th>\n",
       "    </tr>\n",
       "  </thead>\n",
       "  <tbody>\n",
       "    <tr>\n",
       "      <th>0</th>\n",
       "      <td>COS1P;136885076</td>\n",
       "      <td>sdh</td>\n",
       "      <td>ad16</td>\n",
       "      <td>2022-12-31 03:18:22</td>\n",
       "      <td>2022-12-31 23:59:59</td>\n",
       "      <td>2023-01-01 00:00:02</td>\n",
       "      <td>bracitah/ad16/1</td>\n",
       "      <td>brac</td>\n",
       "      <td>2022-12-31 03:18:22</td>\n",
       "      <td>None</td>\n",
       "      <td>tx</td>\n",
       "      <td>202301010000_32</td>\n",
       "      <td>202301010000_17</td>\n",
       "      <td>apparato isolato</td>\n",
       "      <td>None</td>\n",
       "    </tr>\n",
       "    <tr>\n",
       "      <th>1</th>\n",
       "      <td>COS1P;136885115</td>\n",
       "      <td>sdh</td>\n",
       "      <td>ad16</td>\n",
       "      <td>2022-12-31 03:18:26</td>\n",
       "      <td>2022-12-31 23:59:50</td>\n",
       "      <td>2023-01-01 00:00:02</td>\n",
       "      <td>bracitam/ad16/3</td>\n",
       "      <td>brac</td>\n",
       "      <td>2022-12-31 03:18:26</td>\n",
       "      <td>None</td>\n",
       "      <td>tx</td>\n",
       "      <td>202301010000_33</td>\n",
       "      <td>202301010000_17</td>\n",
       "      <td>apparato isolato</td>\n",
       "      <td>None</td>\n",
       "    </tr>\n",
       "    <tr>\n",
       "      <th>2</th>\n",
       "      <td>COS1P;136884642</td>\n",
       "      <td>sdh</td>\n",
       "      <td>adm4</td>\n",
       "      <td>2022-12-31 03:15:35</td>\n",
       "      <td>2022-12-31 23:59:52</td>\n",
       "      <td>2023-01-01 00:00:02</td>\n",
       "      <td>capoitam/adm4/1</td>\n",
       "      <td>capo</td>\n",
       "      <td>2022-12-31 03:15:35</td>\n",
       "      <td>None</td>\n",
       "      <td>tx</td>\n",
       "      <td>202301010000_38</td>\n",
       "      <td>202301010000_26</td>\n",
       "      <td>apparato isolato</td>\n",
       "      <td>None</td>\n",
       "    </tr>\n",
       "    <tr>\n",
       "      <th>3</th>\n",
       "      <td>COS1P;136884882</td>\n",
       "      <td>sdh</td>\n",
       "      <td>ad16</td>\n",
       "      <td>2022-12-31 03:17:37</td>\n",
       "      <td>2022-12-31 23:59:56</td>\n",
       "      <td>2023-01-01 00:00:02</td>\n",
       "      <td>capoitaq/ad16/1</td>\n",
       "      <td>capo</td>\n",
       "      <td>2022-12-31 03:17:37</td>\n",
       "      <td>None</td>\n",
       "      <td>tx</td>\n",
       "      <td>202301010000_39</td>\n",
       "      <td>202301010000_26</td>\n",
       "      <td>apparato isolato</td>\n",
       "      <td>None</td>\n",
       "    </tr>\n",
       "    <tr>\n",
       "      <th>4</th>\n",
       "      <td>COS1P;136884883</td>\n",
       "      <td>sdh</td>\n",
       "      <td>ad16</td>\n",
       "      <td>2022-12-31 03:17:37</td>\n",
       "      <td>2022-12-31 23:59:50</td>\n",
       "      <td>2023-01-01 00:00:02</td>\n",
       "      <td>capoitaq/ad16/1</td>\n",
       "      <td>capo</td>\n",
       "      <td>2022-12-31 03:17:37</td>\n",
       "      <td>None</td>\n",
       "      <td>tx</td>\n",
       "      <td>202301010000_39</td>\n",
       "      <td>202301010000_26</td>\n",
       "      <td>apparato isolato</td>\n",
       "      <td>None</td>\n",
       "    </tr>\n",
       "    <tr>\n",
       "      <th>...</th>\n",
       "      <td>...</td>\n",
       "      <td>...</td>\n",
       "      <td>...</td>\n",
       "      <td>...</td>\n",
       "      <td>...</td>\n",
       "      <td>...</td>\n",
       "      <td>...</td>\n",
       "      <td>...</td>\n",
       "      <td>...</td>\n",
       "      <td>...</td>\n",
       "      <td>...</td>\n",
       "      <td>...</td>\n",
       "      <td>...</td>\n",
       "      <td>...</td>\n",
       "      <td>...</td>\n",
       "    </tr>\n",
       "    <tr>\n",
       "      <th>11933090</th>\n",
       "      <td>EFMTX;6591f14afeea70000175b0cd</td>\n",
       "      <td>sdh</td>\n",
       "      <td>None</td>\n",
       "      <td>2023-12-31 23:55:06</td>\n",
       "      <td>2023-12-31 23:56:52</td>\n",
       "      <td>2023-12-31 23:58:02</td>\n",
       "      <td>bergitaxk82/trevitaf</td>\n",
       "      <td>trev</td>\n",
       "      <td>2023-12-31 23:55:06</td>\n",
       "      <td>second</td>\n",
       "      <td>tx</td>\n",
       "      <td>202312312358_29</td>\n",
       "      <td>202312312346_17</td>\n",
       "      <td>fuori servizio</td>\n",
       "      <td>vc1</td>\n",
       "    </tr>\n",
       "    <tr>\n",
       "      <th>11933091</th>\n",
       "      <td>EFMTX;6591f14aad7bae0001861f6b</td>\n",
       "      <td>sdh</td>\n",
       "      <td>None</td>\n",
       "      <td>2023-12-31 23:55:06</td>\n",
       "      <td>2023-12-31 23:57:34</td>\n",
       "      <td>2023-12-31 23:58:02</td>\n",
       "      <td>bresitaw06d/trevitaf</td>\n",
       "      <td>trev</td>\n",
       "      <td>2023-12-31 23:55:06</td>\n",
       "      <td>second</td>\n",
       "      <td>tx</td>\n",
       "      <td>202312312358_30</td>\n",
       "      <td>202312312346_17</td>\n",
       "      <td>fuori servizio</td>\n",
       "      <td>vc1</td>\n",
       "    </tr>\n",
       "    <tr>\n",
       "      <th>11933092</th>\n",
       "      <td>EFMTX;6591f14ad8beb800016debf6</td>\n",
       "      <td>sdh</td>\n",
       "      <td>None</td>\n",
       "      <td>2023-12-31 23:55:06</td>\n",
       "      <td>2023-12-31 23:56:29</td>\n",
       "      <td>2023-12-31 23:58:02</td>\n",
       "      <td>mlanitay/trevitaf</td>\n",
       "      <td>trev</td>\n",
       "      <td>2023-12-31 23:55:06</td>\n",
       "      <td>second</td>\n",
       "      <td>tx</td>\n",
       "      <td>202312312358_41</td>\n",
       "      <td>202312312346_17</td>\n",
       "      <td>fuori servizio</td>\n",
       "      <td>None</td>\n",
       "    </tr>\n",
       "    <tr>\n",
       "      <th>11933093</th>\n",
       "      <td>EFMTX;6591ef8b975f5100015a479b</td>\n",
       "      <td>sdh</td>\n",
       "      <td>None</td>\n",
       "      <td>2023-12-31 23:47:39</td>\n",
       "      <td>2023-12-31 23:57:56</td>\n",
       "      <td>2023-12-31 23:58:02</td>\n",
       "      <td>tarcitaf/udinitask81</td>\n",
       "      <td>udin</td>\n",
       "      <td>2023-12-31 23:47:36</td>\n",
       "      <td>second</td>\n",
       "      <td>tx</td>\n",
       "      <td>202312312350_28</td>\n",
       "      <td>202312312342_10</td>\n",
       "      <td>fuori servizio</td>\n",
       "      <td>vc1</td>\n",
       "    </tr>\n",
       "    <tr>\n",
       "      <th>11933094</th>\n",
       "      <td>EFMTX;6591f085e294c600010bf21a</td>\n",
       "      <td>sdh</td>\n",
       "      <td>ad16</td>\n",
       "      <td>2023-12-31 23:51:49</td>\n",
       "      <td>2023-12-31 23:56:11</td>\n",
       "      <td>2023-12-31 23:58:02</td>\n",
       "      <td>udinitav/ad16/3</td>\n",
       "      <td>udin</td>\n",
       "      <td>2023-12-31 23:47:36</td>\n",
       "      <td>None</td>\n",
       "      <td>tx</td>\n",
       "      <td>202312312352_29</td>\n",
       "      <td>202312312342_10</td>\n",
       "      <td>allarme sincronismo</td>\n",
       "      <td>None</td>\n",
       "    </tr>\n",
       "  </tbody>\n",
       "</table>\n",
       "<p>11933095 rows × 15 columns</p>\n",
       "</div>"
      ],
      "text/plain": [
       "                                alarm_id network ne_type    first_occurrence  \\\n",
       "0                        COS1P;136885076     sdh    ad16 2022-12-31 03:18:22   \n",
       "1                        COS1P;136885115     sdh    ad16 2022-12-31 03:18:26   \n",
       "2                        COS1P;136884642     sdh    adm4 2022-12-31 03:15:35   \n",
       "3                        COS1P;136884882     sdh    ad16 2022-12-31 03:17:37   \n",
       "4                        COS1P;136884883     sdh    ad16 2022-12-31 03:17:37   \n",
       "...                                  ...     ...     ...                 ...   \n",
       "11933090  EFMTX;6591f14afeea70000175b0cd     sdh    None 2023-12-31 23:55:06   \n",
       "11933091  EFMTX;6591f14aad7bae0001861f6b     sdh    None 2023-12-31 23:55:06   \n",
       "11933092  EFMTX;6591f14ad8beb800016debf6     sdh    None 2023-12-31 23:55:06   \n",
       "11933093  EFMTX;6591ef8b975f5100015a479b     sdh    None 2023-12-31 23:47:39   \n",
       "11933094  EFMTX;6591f085e294c600010bf21a     sdh    ad16 2023-12-31 23:51:49   \n",
       "\n",
       "                  last_update                data                 ne_id  \\\n",
       "0         2022-12-31 23:59:59 2023-01-01 00:00:02       bracitah/ad16/1   \n",
       "1         2022-12-31 23:59:50 2023-01-01 00:00:02       bracitam/ad16/3   \n",
       "2         2022-12-31 23:59:52 2023-01-01 00:00:02       capoitam/adm4/1   \n",
       "3         2022-12-31 23:59:56 2023-01-01 00:00:02       capoitaq/ad16/1   \n",
       "4         2022-12-31 23:59:50 2023-01-01 00:00:02       capoitaq/ad16/1   \n",
       "...                       ...                 ...                   ...   \n",
       "11933090  2023-12-31 23:56:52 2023-12-31 23:58:02  bergitaxk82/trevitaf   \n",
       "11933091  2023-12-31 23:57:34 2023-12-31 23:58:02  bresitaw06d/trevitaf   \n",
       "11933092  2023-12-31 23:56:29 2023-12-31 23:58:02     mlanitay/trevitaf   \n",
       "11933093  2023-12-31 23:57:56 2023-12-31 23:58:02  tarcitaf/udinitask81   \n",
       "11933094  2023-12-31 23:56:11 2023-12-31 23:58:02       udinitav/ad16/3   \n",
       "\n",
       "         geo_code min_cluster_first_occurrence link_cluster domain  \\\n",
       "0            brac          2022-12-31 03:18:22         None     tx   \n",
       "1            brac          2022-12-31 03:18:26         None     tx   \n",
       "2            capo          2022-12-31 03:15:35         None     tx   \n",
       "3            capo          2022-12-31 03:17:37         None     tx   \n",
       "4            capo          2022-12-31 03:17:37         None     tx   \n",
       "...           ...                          ...          ...    ...   \n",
       "11933090     trev          2023-12-31 23:55:06       second     tx   \n",
       "11933091     trev          2023-12-31 23:55:06       second     tx   \n",
       "11933092     trev          2023-12-31 23:55:06       second     tx   \n",
       "11933093     udin          2023-12-31 23:47:36       second     tx   \n",
       "11933094     udin          2023-12-31 23:47:36         None     tx   \n",
       "\n",
       "               cluster_id      cluster_id2 std_probable_cause_no link_type  \n",
       "0         202301010000_32  202301010000_17      apparato isolato      None  \n",
       "1         202301010000_33  202301010000_17      apparato isolato      None  \n",
       "2         202301010000_38  202301010000_26      apparato isolato      None  \n",
       "3         202301010000_39  202301010000_26      apparato isolato      None  \n",
       "4         202301010000_39  202301010000_26      apparato isolato      None  \n",
       "...                   ...              ...                   ...       ...  \n",
       "11933090  202312312358_29  202312312346_17        fuori servizio       vc1  \n",
       "11933091  202312312358_30  202312312346_17        fuori servizio       vc1  \n",
       "11933092  202312312358_41  202312312346_17        fuori servizio      None  \n",
       "11933093  202312312350_28  202312312342_10        fuori servizio       vc1  \n",
       "11933094  202312312352_29  202312312342_10   allarme sincronismo      None  \n",
       "\n",
       "[11933095 rows x 15 columns]"
      ]
     },
     "execution_count": 3,
     "metadata": {},
     "output_type": "execute_result"
    }
   ],
   "source": [
    "clusters_with_slogans"
   ]
  },
  {
   "cell_type": "code",
   "execution_count": 4,
   "metadata": {},
   "outputs": [],
   "source": [
    "clusters_with_slogans = clusters_with_slogans[[\"cluster_id2\", \"alarm_id\", \"std_probable_cause_no\", \"ne_type\", \"link_type\"]]"
   ]
  },
  {
   "cell_type": "code",
   "execution_count": 5,
   "metadata": {},
   "outputs": [
    {
     "name": "stderr",
     "output_type": "stream",
     "text": [
      "C:\\Users\\Nicolò Caradonna\\AppData\\Local\\Temp\\ipykernel_14852\\2161466081.py:1: SettingWithCopyWarning: \n",
      "A value is trying to be set on a copy of a slice from a DataFrame.\n",
      "Try using .loc[row_indexer,col_indexer] = value instead\n",
      "\n",
      "See the caveats in the documentation: https://pandas.pydata.org/pandas-docs/stable/user_guide/indexing.html#returning-a-view-versus-a-copy\n",
      "  clusters_with_slogans[\"link_type\"] = clusters_with_slogans[\"link_type\"].fillna(\"None\")\n"
     ]
    }
   ],
   "source": [
    "clusters_with_slogans[\"link_type\"] = clusters_with_slogans[\"link_type\"].fillna(\"None\")"
   ]
  },
  {
   "cell_type": "code",
   "execution_count": 6,
   "metadata": {},
   "outputs": [
    {
     "data": {
      "text/plain": [
       "98"
      ]
     },
     "execution_count": 6,
     "metadata": {},
     "output_type": "execute_result"
    }
   ],
   "source": [
    "len(clusters_with_slogans[\"link_type\"].unique())"
   ]
  },
  {
   "cell_type": "code",
   "execution_count": 7,
   "metadata": {},
   "outputs": [
    {
     "name": "stderr",
     "output_type": "stream",
     "text": [
      "C:\\Users\\Nicolò Caradonna\\AppData\\Local\\Temp\\ipykernel_14852\\2141776499.py:1: SettingWithCopyWarning: \n",
      "A value is trying to be set on a copy of a slice from a DataFrame.\n",
      "Try using .loc[row_indexer,col_indexer] = value instead\n",
      "\n",
      "See the caveats in the documentation: https://pandas.pydata.org/pandas-docs/stable/user_guide/indexing.html#returning-a-view-versus-a-copy\n",
      "  clusters_with_slogans['ne_type_slogan_link'] = clusters_with_slogans.apply(lambda row: str(row.ne_type) + '_' + str(row.std_probable_cause_no) + '_' + str(row.link_type), axis=1)\n"
     ]
    }
   ],
   "source": [
    "clusters_with_slogans['ne_type_slogan_link'] = clusters_with_slogans.apply(lambda row: str(row.ne_type) + '_' + str(row.std_probable_cause_no) + '_' + str(row.link_type), axis=1)"
   ]
  },
  {
   "cell_type": "code",
   "execution_count": 8,
   "metadata": {},
   "outputs": [
    {
     "data": {
      "text/html": [
       "<div>\n",
       "<style scoped>\n",
       "    .dataframe tbody tr th:only-of-type {\n",
       "        vertical-align: middle;\n",
       "    }\n",
       "\n",
       "    .dataframe tbody tr th {\n",
       "        vertical-align: top;\n",
       "    }\n",
       "\n",
       "    .dataframe thead th {\n",
       "        text-align: right;\n",
       "    }\n",
       "</style>\n",
       "<table border=\"1\" class=\"dataframe\">\n",
       "  <thead>\n",
       "    <tr style=\"text-align: right;\">\n",
       "      <th></th>\n",
       "      <th>cluster_id2</th>\n",
       "      <th>alarm_id</th>\n",
       "      <th>std_probable_cause_no</th>\n",
       "      <th>ne_type</th>\n",
       "      <th>link_type</th>\n",
       "      <th>ne_type_slogan_link</th>\n",
       "    </tr>\n",
       "  </thead>\n",
       "  <tbody>\n",
       "    <tr>\n",
       "      <th>0</th>\n",
       "      <td>202301010000_17</td>\n",
       "      <td>COS1P;136885076</td>\n",
       "      <td>apparato isolato</td>\n",
       "      <td>ad16</td>\n",
       "      <td>None</td>\n",
       "      <td>ad16_apparato isolato_None</td>\n",
       "    </tr>\n",
       "    <tr>\n",
       "      <th>1</th>\n",
       "      <td>202301010000_17</td>\n",
       "      <td>COS1P;136885115</td>\n",
       "      <td>apparato isolato</td>\n",
       "      <td>ad16</td>\n",
       "      <td>None</td>\n",
       "      <td>ad16_apparato isolato_None</td>\n",
       "    </tr>\n",
       "    <tr>\n",
       "      <th>2</th>\n",
       "      <td>202301010000_26</td>\n",
       "      <td>COS1P;136884642</td>\n",
       "      <td>apparato isolato</td>\n",
       "      <td>adm4</td>\n",
       "      <td>None</td>\n",
       "      <td>adm4_apparato isolato_None</td>\n",
       "    </tr>\n",
       "    <tr>\n",
       "      <th>3</th>\n",
       "      <td>202301010000_26</td>\n",
       "      <td>COS1P;136884882</td>\n",
       "      <td>apparato isolato</td>\n",
       "      <td>ad16</td>\n",
       "      <td>None</td>\n",
       "      <td>ad16_apparato isolato_None</td>\n",
       "    </tr>\n",
       "    <tr>\n",
       "      <th>4</th>\n",
       "      <td>202301010000_26</td>\n",
       "      <td>COS1P;136884883</td>\n",
       "      <td>apparato isolato</td>\n",
       "      <td>ad16</td>\n",
       "      <td>None</td>\n",
       "      <td>ad16_apparato isolato_None</td>\n",
       "    </tr>\n",
       "    <tr>\n",
       "      <th>...</th>\n",
       "      <td>...</td>\n",
       "      <td>...</td>\n",
       "      <td>...</td>\n",
       "      <td>...</td>\n",
       "      <td>...</td>\n",
       "      <td>...</td>\n",
       "    </tr>\n",
       "    <tr>\n",
       "      <th>11933090</th>\n",
       "      <td>202312312346_17</td>\n",
       "      <td>EFMTX;6591f14afeea70000175b0cd</td>\n",
       "      <td>fuori servizio</td>\n",
       "      <td>None</td>\n",
       "      <td>vc1</td>\n",
       "      <td>None_fuori servizio_vc1</td>\n",
       "    </tr>\n",
       "    <tr>\n",
       "      <th>11933091</th>\n",
       "      <td>202312312346_17</td>\n",
       "      <td>EFMTX;6591f14aad7bae0001861f6b</td>\n",
       "      <td>fuori servizio</td>\n",
       "      <td>None</td>\n",
       "      <td>vc1</td>\n",
       "      <td>None_fuori servizio_vc1</td>\n",
       "    </tr>\n",
       "    <tr>\n",
       "      <th>11933092</th>\n",
       "      <td>202312312346_17</td>\n",
       "      <td>EFMTX;6591f14ad8beb800016debf6</td>\n",
       "      <td>fuori servizio</td>\n",
       "      <td>None</td>\n",
       "      <td>None</td>\n",
       "      <td>None_fuori servizio_None</td>\n",
       "    </tr>\n",
       "    <tr>\n",
       "      <th>11933093</th>\n",
       "      <td>202312312342_10</td>\n",
       "      <td>EFMTX;6591ef8b975f5100015a479b</td>\n",
       "      <td>fuori servizio</td>\n",
       "      <td>None</td>\n",
       "      <td>vc1</td>\n",
       "      <td>None_fuori servizio_vc1</td>\n",
       "    </tr>\n",
       "    <tr>\n",
       "      <th>11933094</th>\n",
       "      <td>202312312342_10</td>\n",
       "      <td>EFMTX;6591f085e294c600010bf21a</td>\n",
       "      <td>allarme sincronismo</td>\n",
       "      <td>ad16</td>\n",
       "      <td>None</td>\n",
       "      <td>ad16_allarme sincronismo_None</td>\n",
       "    </tr>\n",
       "  </tbody>\n",
       "</table>\n",
       "<p>11933095 rows × 6 columns</p>\n",
       "</div>"
      ],
      "text/plain": [
       "              cluster_id2                        alarm_id  \\\n",
       "0         202301010000_17                 COS1P;136885076   \n",
       "1         202301010000_17                 COS1P;136885115   \n",
       "2         202301010000_26                 COS1P;136884642   \n",
       "3         202301010000_26                 COS1P;136884882   \n",
       "4         202301010000_26                 COS1P;136884883   \n",
       "...                   ...                             ...   \n",
       "11933090  202312312346_17  EFMTX;6591f14afeea70000175b0cd   \n",
       "11933091  202312312346_17  EFMTX;6591f14aad7bae0001861f6b   \n",
       "11933092  202312312346_17  EFMTX;6591f14ad8beb800016debf6   \n",
       "11933093  202312312342_10  EFMTX;6591ef8b975f5100015a479b   \n",
       "11933094  202312312342_10  EFMTX;6591f085e294c600010bf21a   \n",
       "\n",
       "         std_probable_cause_no ne_type link_type  \\\n",
       "0             apparato isolato    ad16      None   \n",
       "1             apparato isolato    ad16      None   \n",
       "2             apparato isolato    adm4      None   \n",
       "3             apparato isolato    ad16      None   \n",
       "4             apparato isolato    ad16      None   \n",
       "...                        ...     ...       ...   \n",
       "11933090        fuori servizio    None       vc1   \n",
       "11933091        fuori servizio    None       vc1   \n",
       "11933092        fuori servizio    None      None   \n",
       "11933093        fuori servizio    None       vc1   \n",
       "11933094   allarme sincronismo    ad16      None   \n",
       "\n",
       "                    ne_type_slogan_link  \n",
       "0            ad16_apparato isolato_None  \n",
       "1            ad16_apparato isolato_None  \n",
       "2            adm4_apparato isolato_None  \n",
       "3            ad16_apparato isolato_None  \n",
       "4            ad16_apparato isolato_None  \n",
       "...                                 ...  \n",
       "11933090        None_fuori servizio_vc1  \n",
       "11933091        None_fuori servizio_vc1  \n",
       "11933092       None_fuori servizio_None  \n",
       "11933093        None_fuori servizio_vc1  \n",
       "11933094  ad16_allarme sincronismo_None  \n",
       "\n",
       "[11933095 rows x 6 columns]"
      ]
     },
     "execution_count": 8,
     "metadata": {},
     "output_type": "execute_result"
    }
   ],
   "source": [
    "clusters_with_slogans"
   ]
  },
  {
   "cell_type": "code",
   "execution_count": 9,
   "metadata": {},
   "outputs": [],
   "source": [
    "grouped_clusters = clusters_with_slogans.groupby(\"cluster_id2\")\n",
    "unique_ne_type_slogans_link = clusters_with_slogans['ne_type_slogan_link'].unique()"
   ]
  },
  {
   "cell_type": "code",
   "execution_count": 10,
   "metadata": {},
   "outputs": [
    {
     "data": {
      "text/plain": [
       "array(['ad16_apparato isolato_None', 'adm4_apparato isolato_None',\n",
       "       'lhbts_fermo parziale sito tec_None', ...,\n",
       "       'oadm1_apparato isolato_None', 'rmx5_loss of signal los_None',\n",
       "       'adm1_sef intermittente sef_pre'], dtype=object)"
      ]
     },
     "execution_count": 10,
     "metadata": {},
     "output_type": "execute_result"
    }
   ],
   "source": [
    "unique_ne_type_slogans_link"
   ]
  },
  {
   "cell_type": "code",
   "execution_count": 11,
   "metadata": {},
   "outputs": [
    {
     "data": {
      "text/plain": [
       "1917"
      ]
     },
     "execution_count": 11,
     "metadata": {},
     "output_type": "execute_result"
    }
   ],
   "source": [
    "len(unique_ne_type_slogans_link)"
   ]
  },
  {
   "cell_type": "code",
   "execution_count": 12,
   "metadata": {},
   "outputs": [],
   "source": [
    "# Definisci una funzione per calcolare la presenza di ciascuno slogan\n",
    "def calculate_presence(group):\n",
    "    presence = {slogan: 0 for slogan in unique_ne_type_slogans_link}\n",
    "    for slogan in group['ne_type_slogan_link']:\n",
    "        presence[slogan] = 1\n",
    "    presence['cluster_id2'] = group['cluster_id2'].iloc[0]\n",
    "    return pd.Series(presence)\n",
    "\n",
    "tqdm.pandas()\n",
    "\n",
    "# Converti l'oggetto DataFrameGroupBy in una lista di gruppi\n",
    "grouped_clusters_list = [group for name, group in grouped_clusters]\n",
    "\n",
    "# Calcola l'indice per ogni quarto della lista\n",
    "quarter_idx = len(grouped_clusters_list) // 4\n",
    "\n",
    "# Dividi la lista in quattro parti\n",
    "grouped_clusters_list_1 = grouped_clusters_list[:quarter_idx]\n",
    "grouped_clusters_list_2 = grouped_clusters_list[quarter_idx:2*quarter_idx]\n",
    "grouped_clusters_list_3 = grouped_clusters_list[2*quarter_idx:3*quarter_idx]\n",
    "grouped_clusters_list_4 = grouped_clusters_list[3*quarter_idx:]"
   ]
  },
  {
   "cell_type": "code",
   "execution_count": 25,
   "metadata": {},
   "outputs": [
    {
     "name": "stderr",
     "output_type": "stream",
     "text": [
      "100%|██████████| 204022/204022 [03:39<00:00, 928.23it/s] \n"
     ]
    }
   ],
   "source": [
    "# Applica la funzione a ciascuna parte e crea un DataFrame\n",
    "result_df_1 = pd.concat([calculate_presence(group) for group in tqdm(grouped_clusters_list_1)], axis=1).T\n",
    "result_df_1 = result_df_1.set_index('cluster_id2')\n",
    "result_df_1.to_parquet(\"result_df_1.parquet\")"
   ]
  },
  {
   "cell_type": "code",
   "execution_count": 26,
   "metadata": {},
   "outputs": [
    {
     "name": "stderr",
     "output_type": "stream",
     "text": [
      "100%|██████████| 204022/204022 [04:13<00:00, 805.90it/s] \n"
     ]
    }
   ],
   "source": [
    "result_df_2 = pd.concat([calculate_presence(group) for group in tqdm(grouped_clusters_list_2)], axis=1).T\n",
    "result_df_2 = result_df_2.set_index('cluster_id2')\n",
    "result_df_2.to_parquet(\"result_df_2.parquet\")"
   ]
  },
  {
   "cell_type": "code",
   "execution_count": 13,
   "metadata": {},
   "outputs": [
    {
     "name": "stderr",
     "output_type": "stream",
     "text": [
      "100%|██████████| 204022/204022 [03:21<00:00, 1011.08it/s]\n"
     ]
    }
   ],
   "source": [
    "result_df_3 = pd.concat([calculate_presence(group) for group in tqdm(grouped_clusters_list_3)], axis=1).T\n",
    "result_df_3 = result_df_3.set_index('cluster_id2')\n",
    "result_df_3.to_parquet(\"result_df_3.parquet\")"
   ]
  },
  {
   "cell_type": "code",
   "execution_count": 14,
   "metadata": {},
   "outputs": [
    {
     "name": "stderr",
     "output_type": "stream",
     "text": [
      "100%|██████████| 204023/204023 [03:31<00:00, 963.55it/s] \n"
     ]
    }
   ],
   "source": [
    "result_df_4 = pd.concat([calculate_presence(group) for group in tqdm(grouped_clusters_list_4)], axis=1).T\n",
    "result_df_4 = result_df_4.set_index('cluster_id2')\n",
    "result_df_4.to_parquet(\"result_df_4.parquet\")"
   ]
  },
  {
   "cell_type": "code",
   "execution_count": 2,
   "metadata": {},
   "outputs": [],
   "source": [
    "result_df_1 = pd.read_parquet(\"result_df_1.parquet\").rename(columns={None: 'None'})\n",
    "result_df_2 = pd.read_parquet(\"result_df_2.parquet\").rename(columns={None: 'None'})\n",
    "result_df_3 = pd.read_parquet(\"result_df_3.parquet\").rename(columns={None: 'None'})\n",
    "result_df_4 = pd.read_parquet(\"result_df_4.parquet\").rename(columns={None: 'None'})\n",
    "# Unisci i risultati in un unico DataFrame\n",
    "\n",
    "result_df = pd.concat([result_df_1, result_df_2, result_df_3, result_df_4])"
   ]
  },
  {
   "cell_type": "code",
   "execution_count": 3,
   "metadata": {},
   "outputs": [],
   "source": [
    "result_df.to_parquet(\"real-time clusters/result_df_gt_2_ne_type_link.parquet\")"
   ]
  }
 ],
 "metadata": {
  "kernelspec": {
   "display_name": "TIM_thesis",
   "language": "python",
   "name": "python3"
  },
  "language_info": {
   "codemirror_mode": {
    "name": "ipython",
    "version": 3
   },
   "file_extension": ".py",
   "mimetype": "text/x-python",
   "name": "python",
   "nbconvert_exporter": "python",
   "pygments_lexer": "ipython3",
   "version": "3.12.4"
  }
 },
 "nbformat": 4,
 "nbformat_minor": 2
}
