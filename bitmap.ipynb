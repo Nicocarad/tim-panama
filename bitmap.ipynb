{
 "cells": [
  {
   "cell_type": "code",
   "execution_count": 2,
   "metadata": {},
   "outputs": [],
   "source": [
    "import pandas as pd\n",
    "from tqdm import tqdm"
   ]
  },
  {
   "cell_type": "markdown",
   "metadata": {},
   "source": [
    "## Add Slogan column to Clusters Alarms"
   ]
  },
  {
   "cell_type": "code",
   "execution_count": 9,
   "metadata": {},
   "outputs": [],
   "source": [
    "cluster_filtered = pd.read_parquet(\"real-time clusters/20230101-20240101_real_time_clusters_filtered.parquet\")"
   ]
  },
  {
   "cell_type": "code",
   "execution_count": 3,
   "metadata": {},
   "outputs": [],
   "source": [
    "adsl = pd.read_parquet(\"alarms datasets/tx/20230101-20240101_inpas_tx_preprocess__adsl__last_event__last_event__ext1.parquet\")\n",
    "pdh = pd.read_parquet(\"alarms datasets/tx/20230101-20240101_inpas_tx_preprocess__pdh__last_event__last_event__ext1.parquet\")\n",
    "sdh = pd.read_parquet(\"alarms datasets/tx/20230101-20240101_inpas_tx_preprocess__sdh__last_event__last_event__ext1.parquet\")\n",
    "ptn = pd.read_parquet(\"alarms datasets/tx/20230101-20240101_inpas_tx_preprocess__ptn__last_event__last_event__ext1.parquet\")"
   ]
  },
  {
   "cell_type": "code",
   "execution_count": 5,
   "metadata": {},
   "outputs": [],
   "source": [
    "mob = pd.read_parquet(\"alarms datasets/mob/20230101-20240101_inpas_mob_preprocess__an__last_event__last_event__ext1.parquet\")"
   ]
  },
  {
   "cell_type": "code",
   "execution_count": 6,
   "metadata": {},
   "outputs": [],
   "source": [
    "mob = mob[[\"alarm_id\", \"std_probable_cause_no\"]]\n",
    "adsl = adsl[[\"alarm_id\", \"std_probable_cause_no\"]]\n",
    "pdh = pdh[[\"alarm_id\", \"std_probable_cause_no\"]]\n",
    "sdh = sdh[[\"alarm_id\", \"std_probable_cause_no\"]]\n",
    "ptn = ptn[[\"alarm_id\", \"std_probable_cause_no\"]]"
   ]
  },
  {
   "cell_type": "code",
   "execution_count": 7,
   "metadata": {},
   "outputs": [],
   "source": [
    "all_alarms = pd.concat([adsl, pdh, sdh, ptn, mob])"
   ]
  },
  {
   "cell_type": "code",
   "execution_count": 10,
   "metadata": {},
   "outputs": [],
   "source": [
    "clusters_with_slogans = pd.merge(cluster_filtered, all_alarms, on=\"alarm_id\", how=\"left\")"
   ]
  },
  {
   "cell_type": "code",
   "execution_count": 11,
   "metadata": {},
   "outputs": [
    {
     "data": {
      "text/html": [
       "<div>\n",
       "<style scoped>\n",
       "    .dataframe tbody tr th:only-of-type {\n",
       "        vertical-align: middle;\n",
       "    }\n",
       "\n",
       "    .dataframe tbody tr th {\n",
       "        vertical-align: top;\n",
       "    }\n",
       "\n",
       "    .dataframe thead th {\n",
       "        text-align: right;\n",
       "    }\n",
       "</style>\n",
       "<table border=\"1\" class=\"dataframe\">\n",
       "  <thead>\n",
       "    <tr style=\"text-align: right;\">\n",
       "      <th></th>\n",
       "      <th>alarm_id</th>\n",
       "      <th>network</th>\n",
       "      <th>ne_type</th>\n",
       "      <th>first_occurrence</th>\n",
       "      <th>last_update</th>\n",
       "      <th>data</th>\n",
       "      <th>ne_id</th>\n",
       "      <th>geo_code</th>\n",
       "      <th>min_cluster_first_occurrence</th>\n",
       "      <th>domain</th>\n",
       "      <th>link_cluster</th>\n",
       "      <th>cluster_id</th>\n",
       "      <th>cluster_id2</th>\n",
       "      <th>std_probable_cause_no</th>\n",
       "    </tr>\n",
       "  </thead>\n",
       "  <tbody>\n",
       "    <tr>\n",
       "      <th>0</th>\n",
       "      <td>COS1P;136885076</td>\n",
       "      <td>sdh</td>\n",
       "      <td>ad16</td>\n",
       "      <td>2022-12-31 03:18:22</td>\n",
       "      <td>2022-12-31 23:59:59</td>\n",
       "      <td>2023-01-01 00:00:02</td>\n",
       "      <td>bracitah/ad16/1</td>\n",
       "      <td>brac</td>\n",
       "      <td>2022-12-31 03:18:22</td>\n",
       "      <td>tx</td>\n",
       "      <td>None</td>\n",
       "      <td>202301010000_31</td>\n",
       "      <td>202301010000_16</td>\n",
       "      <td>apparato isolato</td>\n",
       "    </tr>\n",
       "    <tr>\n",
       "      <th>1</th>\n",
       "      <td>COS1P;136885115</td>\n",
       "      <td>sdh</td>\n",
       "      <td>ad16</td>\n",
       "      <td>2022-12-31 03:18:26</td>\n",
       "      <td>2022-12-31 23:59:50</td>\n",
       "      <td>2023-01-01 00:00:02</td>\n",
       "      <td>bracitam/ad16/3</td>\n",
       "      <td>brac</td>\n",
       "      <td>2022-12-31 03:18:26</td>\n",
       "      <td>tx</td>\n",
       "      <td>None</td>\n",
       "      <td>202301010000_32</td>\n",
       "      <td>202301010000_16</td>\n",
       "      <td>apparato isolato</td>\n",
       "    </tr>\n",
       "    <tr>\n",
       "      <th>2</th>\n",
       "      <td>COS1P;136884642</td>\n",
       "      <td>sdh</td>\n",
       "      <td>adm4</td>\n",
       "      <td>2022-12-31 03:15:35</td>\n",
       "      <td>2022-12-31 23:59:52</td>\n",
       "      <td>2023-01-01 00:00:02</td>\n",
       "      <td>capoitam/adm4/1</td>\n",
       "      <td>capo</td>\n",
       "      <td>2022-12-31 03:15:35</td>\n",
       "      <td>tx</td>\n",
       "      <td>None</td>\n",
       "      <td>202301010000_37</td>\n",
       "      <td>202301010000_25</td>\n",
       "      <td>apparato isolato</td>\n",
       "    </tr>\n",
       "    <tr>\n",
       "      <th>3</th>\n",
       "      <td>COS1P;136884882</td>\n",
       "      <td>sdh</td>\n",
       "      <td>ad16</td>\n",
       "      <td>2022-12-31 03:17:37</td>\n",
       "      <td>2022-12-31 23:59:56</td>\n",
       "      <td>2023-01-01 00:00:02</td>\n",
       "      <td>capoitaq/ad16/1</td>\n",
       "      <td>capo</td>\n",
       "      <td>2022-12-31 03:17:37</td>\n",
       "      <td>tx</td>\n",
       "      <td>None</td>\n",
       "      <td>202301010000_38</td>\n",
       "      <td>202301010000_25</td>\n",
       "      <td>apparato isolato</td>\n",
       "    </tr>\n",
       "    <tr>\n",
       "      <th>4</th>\n",
       "      <td>COS1P;136884883</td>\n",
       "      <td>sdh</td>\n",
       "      <td>ad16</td>\n",
       "      <td>2022-12-31 03:17:37</td>\n",
       "      <td>2022-12-31 23:59:50</td>\n",
       "      <td>2023-01-01 00:00:02</td>\n",
       "      <td>capoitaq/ad16/1</td>\n",
       "      <td>capo</td>\n",
       "      <td>2022-12-31 03:17:37</td>\n",
       "      <td>tx</td>\n",
       "      <td>None</td>\n",
       "      <td>202301010000_38</td>\n",
       "      <td>202301010000_25</td>\n",
       "      <td>apparato isolato</td>\n",
       "    </tr>\n",
       "    <tr>\n",
       "      <th>...</th>\n",
       "      <td>...</td>\n",
       "      <td>...</td>\n",
       "      <td>...</td>\n",
       "      <td>...</td>\n",
       "      <td>...</td>\n",
       "      <td>...</td>\n",
       "      <td>...</td>\n",
       "      <td>...</td>\n",
       "      <td>...</td>\n",
       "      <td>...</td>\n",
       "      <td>...</td>\n",
       "      <td>...</td>\n",
       "      <td>...</td>\n",
       "      <td>...</td>\n",
       "    </tr>\n",
       "    <tr>\n",
       "      <th>8128873</th>\n",
       "      <td>EFM;6591f07dadefac0001744e96</td>\n",
       "      <td>an</td>\n",
       "      <td>vnbts</td>\n",
       "      <td>2023-12-31 23:51:41</td>\n",
       "      <td>2023-12-31 23:56:28</td>\n",
       "      <td>2023-12-31 23:58:03</td>\n",
       "      <td>7btsre15f</td>\n",
       "      <td>reem</td>\n",
       "      <td>2023-12-31 23:51:41</td>\n",
       "      <td>mob</td>\n",
       "      <td>None</td>\n",
       "      <td>202312312358_12</td>\n",
       "      <td>202312312354_7</td>\n",
       "      <td>base station connectivity problem</td>\n",
       "    </tr>\n",
       "    <tr>\n",
       "      <th>8128874</th>\n",
       "      <td>EFM;6591f08739628d00013784db</td>\n",
       "      <td>an</td>\n",
       "      <td>vnbts</td>\n",
       "      <td>2023-12-31 23:51:51</td>\n",
       "      <td>2023-12-31 23:56:44</td>\n",
       "      <td>2023-12-31 23:58:03</td>\n",
       "      <td>7btsre0b9</td>\n",
       "      <td>reem</td>\n",
       "      <td>2023-12-31 23:51:51</td>\n",
       "      <td>mob</td>\n",
       "      <td>None</td>\n",
       "      <td>202312312358_11</td>\n",
       "      <td>202312312354_7</td>\n",
       "      <td>base station connectivity problem</td>\n",
       "    </tr>\n",
       "    <tr>\n",
       "      <th>8128875</th>\n",
       "      <td>EFM;6591f08cadefac0001744ea1</td>\n",
       "      <td>an</td>\n",
       "      <td>vnbts</td>\n",
       "      <td>2023-12-31 23:51:56</td>\n",
       "      <td>2023-12-31 23:56:28</td>\n",
       "      <td>2023-12-31 23:58:03</td>\n",
       "      <td>7btsre04b</td>\n",
       "      <td>reem</td>\n",
       "      <td>2023-12-31 23:51:56</td>\n",
       "      <td>mob</td>\n",
       "      <td>None</td>\n",
       "      <td>202312312358_10</td>\n",
       "      <td>202312312354_7</td>\n",
       "      <td>base station connectivity problem</td>\n",
       "    </tr>\n",
       "    <tr>\n",
       "      <th>8128876</th>\n",
       "      <td>EFMTX;6591ee0801021b00010facb4</td>\n",
       "      <td>adsl</td>\n",
       "      <td>adsl</td>\n",
       "      <td>2023-12-31 23:41:12</td>\n",
       "      <td>2023-12-31 23:57:48</td>\n",
       "      <td>2023-12-31 23:58:02</td>\n",
       "      <td>sassitbn/adsl/100</td>\n",
       "      <td>sass</td>\n",
       "      <td>2023-12-31 23:39:08</td>\n",
       "      <td>tx</td>\n",
       "      <td>None</td>\n",
       "      <td>202312312342_13</td>\n",
       "      <td>202312312340_13</td>\n",
       "      <td>fermo totale apparato</td>\n",
       "    </tr>\n",
       "    <tr>\n",
       "      <th>8128877</th>\n",
       "      <td>EFMTX;6591f046d8beb800016deaef</td>\n",
       "      <td>ptn</td>\n",
       "      <td>ptn3</td>\n",
       "      <td>2023-12-31 23:50:46</td>\n",
       "      <td>2023-12-31 23:57:34</td>\n",
       "      <td>2023-12-31 23:58:02</td>\n",
       "      <td>thesitae/ptn3/1</td>\n",
       "      <td>thes</td>\n",
       "      <td>2023-12-31 23:44:44</td>\n",
       "      <td>tx</td>\n",
       "      <td>None</td>\n",
       "      <td>202312312348_17</td>\n",
       "      <td>202312312344_9</td>\n",
       "      <td>oamloc locv</td>\n",
       "    </tr>\n",
       "  </tbody>\n",
       "</table>\n",
       "<p>8128878 rows × 14 columns</p>\n",
       "</div>"
      ],
      "text/plain": [
       "                               alarm_id network ne_type     first_occurrence  \\\n",
       "0                       COS1P;136885076     sdh    ad16  2022-12-31 03:18:22   \n",
       "1                       COS1P;136885115     sdh    ad16  2022-12-31 03:18:26   \n",
       "2                       COS1P;136884642     sdh    adm4  2022-12-31 03:15:35   \n",
       "3                       COS1P;136884882     sdh    ad16  2022-12-31 03:17:37   \n",
       "4                       COS1P;136884883     sdh    ad16  2022-12-31 03:17:37   \n",
       "...                                 ...     ...     ...                  ...   \n",
       "8128873    EFM;6591f07dadefac0001744e96      an   vnbts  2023-12-31 23:51:41   \n",
       "8128874    EFM;6591f08739628d00013784db      an   vnbts  2023-12-31 23:51:51   \n",
       "8128875    EFM;6591f08cadefac0001744ea1      an   vnbts  2023-12-31 23:51:56   \n",
       "8128876  EFMTX;6591ee0801021b00010facb4    adsl    adsl  2023-12-31 23:41:12   \n",
       "8128877  EFMTX;6591f046d8beb800016deaef     ptn    ptn3  2023-12-31 23:50:46   \n",
       "\n",
       "                 last_update                 data              ne_id geo_code  \\\n",
       "0        2022-12-31 23:59:59  2023-01-01 00:00:02    bracitah/ad16/1     brac   \n",
       "1        2022-12-31 23:59:50  2023-01-01 00:00:02    bracitam/ad16/3     brac   \n",
       "2        2022-12-31 23:59:52  2023-01-01 00:00:02    capoitam/adm4/1     capo   \n",
       "3        2022-12-31 23:59:56  2023-01-01 00:00:02    capoitaq/ad16/1     capo   \n",
       "4        2022-12-31 23:59:50  2023-01-01 00:00:02    capoitaq/ad16/1     capo   \n",
       "...                      ...                  ...                ...      ...   \n",
       "8128873  2023-12-31 23:56:28  2023-12-31 23:58:03          7btsre15f     reem   \n",
       "8128874  2023-12-31 23:56:44  2023-12-31 23:58:03          7btsre0b9     reem   \n",
       "8128875  2023-12-31 23:56:28  2023-12-31 23:58:03          7btsre04b     reem   \n",
       "8128876  2023-12-31 23:57:48  2023-12-31 23:58:02  sassitbn/adsl/100     sass   \n",
       "8128877  2023-12-31 23:57:34  2023-12-31 23:58:02    thesitae/ptn3/1     thes   \n",
       "\n",
       "        min_cluster_first_occurrence domain link_cluster       cluster_id  \\\n",
       "0                2022-12-31 03:18:22     tx         None  202301010000_31   \n",
       "1                2022-12-31 03:18:26     tx         None  202301010000_32   \n",
       "2                2022-12-31 03:15:35     tx         None  202301010000_37   \n",
       "3                2022-12-31 03:17:37     tx         None  202301010000_38   \n",
       "4                2022-12-31 03:17:37     tx         None  202301010000_38   \n",
       "...                              ...    ...          ...              ...   \n",
       "8128873          2023-12-31 23:51:41    mob         None  202312312358_12   \n",
       "8128874          2023-12-31 23:51:51    mob         None  202312312358_11   \n",
       "8128875          2023-12-31 23:51:56    mob         None  202312312358_10   \n",
       "8128876          2023-12-31 23:39:08     tx         None  202312312342_13   \n",
       "8128877          2023-12-31 23:44:44     tx         None  202312312348_17   \n",
       "\n",
       "             cluster_id2              std_probable_cause_no  \n",
       "0        202301010000_16                   apparato isolato  \n",
       "1        202301010000_16                   apparato isolato  \n",
       "2        202301010000_25                   apparato isolato  \n",
       "3        202301010000_25                   apparato isolato  \n",
       "4        202301010000_25                   apparato isolato  \n",
       "...                  ...                                ...  \n",
       "8128873   202312312354_7  base station connectivity problem  \n",
       "8128874   202312312354_7  base station connectivity problem  \n",
       "8128875   202312312354_7  base station connectivity problem  \n",
       "8128876  202312312340_13              fermo totale apparato  \n",
       "8128877   202312312344_9                        oamloc locv  \n",
       "\n",
       "[8128878 rows x 14 columns]"
      ]
     },
     "execution_count": 11,
     "metadata": {},
     "output_type": "execute_result"
    }
   ],
   "source": [
    "clusters_with_slogans"
   ]
  },
  {
   "cell_type": "code",
   "execution_count": 12,
   "metadata": {},
   "outputs": [],
   "source": [
    "clusters_with_slogans.to_parquet(\"real-time clusters/20230101-20240101_real_time_clusters_filtered_with_slogans.parquet\")"
   ]
  },
  {
   "cell_type": "markdown",
   "metadata": {},
   "source": [
    "## Create Bitmap"
   ]
  },
  {
   "cell_type": "code",
   "execution_count": 13,
   "metadata": {},
   "outputs": [],
   "source": [
    "clusters_with_slogans = pd.read_parquet(\"real-time clusters/20230101-20240101_real_time_clusters_filtered_with_slogans.parquet\")"
   ]
  },
  {
   "cell_type": "code",
   "execution_count": 14,
   "metadata": {},
   "outputs": [],
   "source": [
    "clusters_with_slogans = clusters_with_slogans[[\"cluster_id2\", \"alarm_id\", \"std_probable_cause_no\"]]"
   ]
  },
  {
   "cell_type": "code",
   "execution_count": 15,
   "metadata": {},
   "outputs": [],
   "source": [
    "grouped_clusters = clusters_with_slogans.groupby(\"cluster_id2\")\n",
    "unique_slogans = clusters_with_slogans['std_probable_cause_no'].unique()"
   ]
  },
  {
   "cell_type": "code",
   "execution_count": 16,
   "metadata": {},
   "outputs": [
    {
     "data": {
      "text/plain": [
       "113"
      ]
     },
     "execution_count": 16,
     "metadata": {},
     "output_type": "execute_result"
    }
   ],
   "source": [
    "len(unique_slogans)"
   ]
  },
  {
   "cell_type": "code",
   "execution_count": 24,
   "metadata": {},
   "outputs": [
    {
     "name": "stderr",
     "output_type": "stream",
     "text": [
      "100%|██████████| 624937/624937 [02:25<00:00, 4286.62it/s]\n"
     ]
    }
   ],
   "source": [
    "# Definisci una funzione per calcolare la presenza di ciascuno slogan\n",
    "def calculate_presence(group):\n",
    "    presence = {slogan: 0 for slogan in unique_slogans}\n",
    "    for slogan in group['std_probable_cause_no']:\n",
    "        presence[slogan] = 1\n",
    "    return pd.Series(presence)\n",
    "\n",
    "tqdm.pandas()\n",
    "\n",
    "# Applica la funzione a ciascun gruppo e crea un nuovo dataframe con i risultati\n",
    "result_df = grouped_clusters.progress_apply(calculate_presence)"
   ]
  },
  {
   "cell_type": "code",
   "execution_count": 25,
   "metadata": {},
   "outputs": [],
   "source": [
    "# Rinomina la colonna 'None' in 'None' come stringa\n",
    "result_df = result_df.rename(columns={None: 'None'})"
   ]
  },
  {
   "cell_type": "code",
   "execution_count": 26,
   "metadata": {},
   "outputs": [],
   "source": [
    "result_df.to_parquet(\"real-time clusters/result_df_gt_2.parquet\")"
   ]
  }
 ],
 "metadata": {
  "kernelspec": {
   "display_name": "TIM_thesis",
   "language": "python",
   "name": "python3"
  },
  "language_info": {
   "codemirror_mode": {
    "name": "ipython",
    "version": 3
   },
   "file_extension": ".py",
   "mimetype": "text/x-python",
   "name": "python",
   "nbconvert_exporter": "python",
   "pygments_lexer": "ipython3",
   "version": "3.12.2"
  }
 },
 "nbformat": 4,
 "nbformat_minor": 2
}
