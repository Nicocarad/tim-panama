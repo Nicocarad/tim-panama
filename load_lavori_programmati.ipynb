{
 "cells": [
  {
   "cell_type": "code",
   "execution_count": 11,
   "metadata": {},
   "outputs": [],
   "source": [
    "import zipfile\n",
    "import pandas as pd\n",
    "import matplotlib.pyplot as plt"
   ]
  },
  {
   "cell_type": "code",
   "execution_count": 12,
   "metadata": {},
   "outputs": [],
   "source": [
    "# Percorso dei file ZIP da estrarre\n",
    "zip_file_paths = [\"lavori programmati/20230101_20240101_lp.csv.zip\"]\n",
    "\n",
    "# Percorso della cartella di destinazione per l'estrazione\n",
    "extract_to_folder = \"lavori programmati\"\n",
    "\n",
    "# Iterare su ogni percorso del file zip\n",
    "for zip_file_path in zip_file_paths:\n",
    "    # Aprire il file ZIP\n",
    "    with zipfile.ZipFile(zip_file_path, \"r\") as zip_ref:\n",
    "        # Estrarre tutto il contenuto nella cartella di destinazione\n",
    "        zip_ref.extractall(extract_to_folder)"
   ]
  },
  {
   "cell_type": "code",
   "execution_count": 13,
   "metadata": {},
   "outputs": [],
   "source": [
    "lavori_programmati_df = pd.read_csv('lavori programmati/20230101_20240101_lp.csv')"
   ]
  },
  {
   "cell_type": "code",
   "execution_count": 14,
   "metadata": {},
   "outputs": [],
   "source": [
    "lavori_programmati_df = lavori_programmati_df.drop(lavori_programmati_df.columns[0], axis=1)"
   ]
  },
  {
   "cell_type": "code",
   "execution_count": 15,
   "metadata": {},
   "outputs": [
    {
     "data": {
      "text/html": [
       "<div>\n",
       "<style scoped>\n",
       "    .dataframe tbody tr th:only-of-type {\n",
       "        vertical-align: middle;\n",
       "    }\n",
       "\n",
       "    .dataframe tbody tr th {\n",
       "        vertical-align: top;\n",
       "    }\n",
       "\n",
       "    .dataframe thead th {\n",
       "        text-align: right;\n",
       "    }\n",
       "</style>\n",
       "<table border=\"1\" class=\"dataframe\">\n",
       "  <thead>\n",
       "    <tr style=\"text-align: right;\">\n",
       "      <th></th>\n",
       "      <th>alarm_id</th>\n",
       "      <th>lp_id</th>\n",
       "      <th>lp_type</th>\n",
       "    </tr>\n",
       "  </thead>\n",
       "  <tbody>\n",
       "    <tr>\n",
       "      <th>0</th>\n",
       "      <td>COS1B;119303965</td>\n",
       "      <td>['3018.01/2022']</td>\n",
       "      <td>['CAVO']</td>\n",
       "    </tr>\n",
       "    <tr>\n",
       "      <th>1</th>\n",
       "      <td>COS1B;119303970</td>\n",
       "      <td>['3018.01/2022']</td>\n",
       "      <td>['CAVO']</td>\n",
       "    </tr>\n",
       "    <tr>\n",
       "      <th>2</th>\n",
       "      <td>COS1B;119303974</td>\n",
       "      <td>['3018.01/2022']</td>\n",
       "      <td>['CAVO']</td>\n",
       "    </tr>\n",
       "    <tr>\n",
       "      <th>3</th>\n",
       "      <td>COS1B;119303994</td>\n",
       "      <td>['3018/2022' '3018.01/2022']</td>\n",
       "      <td>['CAVO']</td>\n",
       "    </tr>\n",
       "    <tr>\n",
       "      <th>4</th>\n",
       "      <td>COS1B;119304000</td>\n",
       "      <td>['3018.01/2022']</td>\n",
       "      <td>['CAVO']</td>\n",
       "    </tr>\n",
       "    <tr>\n",
       "      <th>...</th>\n",
       "      <td>...</td>\n",
       "      <td>...</td>\n",
       "      <td>...</td>\n",
       "    </tr>\n",
       "    <tr>\n",
       "      <th>144034</th>\n",
       "      <td>EFMTX;6583a1f9469e8c000136ff65</td>\n",
       "      <td>['2465/2023']</td>\n",
       "      <td>['CAVO']</td>\n",
       "    </tr>\n",
       "    <tr>\n",
       "      <th>144035</th>\n",
       "      <td>EFMTX;6583a7fa469e8c0001370239</td>\n",
       "      <td>['2465/2023']</td>\n",
       "      <td>['CAVO']</td>\n",
       "    </tr>\n",
       "    <tr>\n",
       "      <th>144036</th>\n",
       "      <td>EFMTX;6583a7fa469e8c000137023b</td>\n",
       "      <td>['2465/2023']</td>\n",
       "      <td>['CAVO']</td>\n",
       "    </tr>\n",
       "    <tr>\n",
       "      <th>144037</th>\n",
       "      <td>EFMTX;6583b543ba43af0001748f94</td>\n",
       "      <td>['2465/2023']</td>\n",
       "      <td>['CAVO']</td>\n",
       "    </tr>\n",
       "    <tr>\n",
       "      <th>144038</th>\n",
       "      <td>EFMTX;6583bd2188b9a400019c0685</td>\n",
       "      <td>['2465/2023']</td>\n",
       "      <td>['CAVO']</td>\n",
       "    </tr>\n",
       "  </tbody>\n",
       "</table>\n",
       "<p>144039 rows × 3 columns</p>\n",
       "</div>"
      ],
      "text/plain": [
       "                              alarm_id                         lp_id   lp_type\n",
       "0                      COS1B;119303965              ['3018.01/2022']  ['CAVO']\n",
       "1                      COS1B;119303970              ['3018.01/2022']  ['CAVO']\n",
       "2                      COS1B;119303974              ['3018.01/2022']  ['CAVO']\n",
       "3                      COS1B;119303994  ['3018/2022' '3018.01/2022']  ['CAVO']\n",
       "4                      COS1B;119304000              ['3018.01/2022']  ['CAVO']\n",
       "...                                ...                           ...       ...\n",
       "144034  EFMTX;6583a1f9469e8c000136ff65                 ['2465/2023']  ['CAVO']\n",
       "144035  EFMTX;6583a7fa469e8c0001370239                 ['2465/2023']  ['CAVO']\n",
       "144036  EFMTX;6583a7fa469e8c000137023b                 ['2465/2023']  ['CAVO']\n",
       "144037  EFMTX;6583b543ba43af0001748f94                 ['2465/2023']  ['CAVO']\n",
       "144038  EFMTX;6583bd2188b9a400019c0685                 ['2465/2023']  ['CAVO']\n",
       "\n",
       "[144039 rows x 3 columns]"
      ]
     },
     "execution_count": 15,
     "metadata": {},
     "output_type": "execute_result"
    }
   ],
   "source": [
    "lavori_programmati_df"
   ]
  },
  {
   "cell_type": "markdown",
   "metadata": {},
   "source": [
    "## Distinct Lavori Programmati Type"
   ]
  },
  {
   "cell_type": "code",
   "execution_count": 16,
   "metadata": {},
   "outputs": [
    {
     "name": "stdout",
     "output_type": "stream",
     "text": [
      "            lp_type\n",
      "           ['CAVO']\n",
      "       ['APPARATI']\n",
      "   ['REIX/UPGRADE']\n",
      "       ['DWDM/PTN']\n",
      "['CAVO' 'APPARATI']\n",
      "  ['CAMBI RELEASE']\n",
      "['CAVO' 'DWDM/PTN']\n",
      "          ['VARIE']\n"
     ]
    }
   ],
   "source": [
    "\n",
    "lp_type_df = pd.DataFrame(lavori_programmati_df['lp_type'].unique(), columns=['lp_type'])\n",
    "print(lp_type_df.to_string(index=False))"
   ]
  },
  {
   "cell_type": "markdown",
   "metadata": {},
   "source": [
    "## Statistics"
   ]
  },
  {
   "cell_type": "code",
   "execution_count": 21,
   "metadata": {},
   "outputs": [
    {
     "name": "stdout",
     "output_type": "stream",
     "text": [
      "Distinct lp_id:  1041\n",
      "Distinct lp_type:  8\n"
     ]
    }
   ],
   "source": [
    "print(\"Distinct lp_id: \", len(lavori_programmati_df['lp_id'].unique()))\n",
    "print(\"Distinct lp_type: \", len(lavori_programmati_df['lp_type'].unique()))"
   ]
  }
 ],
 "metadata": {
  "kernelspec": {
   "display_name": "TIM_thesis",
   "language": "python",
   "name": "python3"
  },
  "language_info": {
   "codemirror_mode": {
    "name": "ipython",
    "version": 3
   },
   "file_extension": ".py",
   "mimetype": "text/x-python",
   "name": "python",
   "nbconvert_exporter": "python",
   "pygments_lexer": "ipython3",
   "version": "3.12.2"
  }
 },
 "nbformat": 4,
 "nbformat_minor": 2
}
