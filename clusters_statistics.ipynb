{
 "cells": [
  {
   "cell_type": "code",
   "execution_count": null,
   "metadata": {},
   "outputs": [],
   "source": [
    "import pandas as pd\n",
    "from tqdm import tqdm"
   ]
  },
  {
   "cell_type": "markdown",
   "metadata": {},
   "source": [
    "## Load Clusters and Alarms"
   ]
  },
  {
   "cell_type": "code",
   "execution_count": null,
   "metadata": {},
   "outputs": [],
   "source": [
    "clusters = pd.read_parquet(\"real-time clusters/20230101-20240101_real_time_clusters.parquet\")"
   ]
  },
  {
   "cell_type": "code",
   "execution_count": null,
   "metadata": {},
   "outputs": [],
   "source": [
    "mob = pd.read_parquet(\"alarms datasets/mob/20230101-20240101_inpas_mob_preprocess__an__last_event__last_event__ext1.parquet\")"
   ]
  },
  {
   "cell_type": "code",
   "execution_count": null,
   "metadata": {},
   "outputs": [],
   "source": [
    "adsl = pd.read_parquet(\"alarms datasets/tx/20230101-20240101_inpas_tx_preprocess__adsl__last_event__last_event__ext1.parquet\")"
   ]
  },
  {
   "cell_type": "code",
   "execution_count": null,
   "metadata": {},
   "outputs": [],
   "source": [
    "ptn = pd.read_parquet(\"alarms datasets/tx/20230101-20240101_inpas_tx_preprocess__ptn__last_event__last_event__ext1.parquet\")"
   ]
  },
  {
   "cell_type": "code",
   "execution_count": null,
   "metadata": {},
   "outputs": [],
   "source": [
    "sdh = pd.read_parquet(\"alarms datasets/tx/20230101-20240101_inpas_tx_preprocess__sdh__last_event__last_event__ext1.parquet\")"
   ]
  },
  {
   "cell_type": "code",
   "execution_count": null,
   "metadata": {},
   "outputs": [],
   "source": [
    "pdh = pd.read_parquet(\"alarms datasets/tx/20230101-20240101_inpas_tx_preprocess__pdh__last_event__last_event__ext1.parquet\")"
   ]
  },
  {
   "cell_type": "code",
   "execution_count": null,
   "metadata": {},
   "outputs": [],
   "source": [
    "mob = mob[[\"alarm_id\", \"last_occurrence\"]]"
   ]
  },
  {
   "cell_type": "code",
   "execution_count": null,
   "metadata": {},
   "outputs": [],
   "source": [
    "adsl = adsl[[\"alarm_id\", \"last_occurrence\"]]\n",
    "ptn = ptn[[\"alarm_id\", \"last_occurrence\"]]\n",
    "sdh = sdh[[\"alarm_id\", \"last_occurrence\"]]\n",
    "pdh = pdh[[\"alarm_id\", \"last_occurrence\"]]\n"
   ]
  },
  {
   "cell_type": "code",
   "execution_count": null,
   "metadata": {},
   "outputs": [],
   "source": [
    "alarms_with_last_occurrence = pd.concat([mob, adsl, ptn, sdh, pdh])"
   ]
  },
  {
   "cell_type": "code",
   "execution_count": null,
   "metadata": {},
   "outputs": [],
   "source": [
    "alarms_with_last_occurrence.to_parquet(\"alarms datasets/alarms_with_last_occurrence.parquet\")"
   ]
  },
  {
   "cell_type": "markdown",
   "metadata": {},
   "source": [
    "## Clusters Statistics"
   ]
  },
  {
   "cell_type": "code",
   "execution_count": null,
   "metadata": {},
   "outputs": [],
   "source": [
    "clusters = pd.read_parquet(\"real-time clusters/20230101-20240101_real_time_clusters.parquet\")\n",
    "alarms_with_last_occurrence = pd.read_parquet(\"alarms datasets/alarms_with_last_occurrence.parquet\")"
   ]
  },
  {
   "cell_type": "code",
   "execution_count": null,
   "metadata": {},
   "outputs": [],
   "source": [
    "clusters_filtered = clusters[[\"alarm_id\", \"cluster_id\", \"cluster_id2\", \"first_occurrence\"]]"
   ]
  },
  {
   "cell_type": "code",
   "execution_count": null,
   "metadata": {},
   "outputs": [],
   "source": [
    "clusters_with_last_occurrence = clusters_filtered.merge(alarms_with_last_occurrence, on=\"alarm_id\", how=\"left\")"
   ]
  },
  {
   "cell_type": "code",
   "execution_count": null,
   "metadata": {},
   "outputs": [],
   "source": [
    "clusters_with_last_occurrence[\"first_occurrence\"] = pd.to_datetime(clusters_with_last_occurrence[\"first_occurrence\"])"
   ]
  },
  {
   "cell_type": "code",
   "execution_count": null,
   "metadata": {},
   "outputs": [],
   "source": [
    "clusters_with_last_occurrence = clusters_with_last_occurrence.dropna(subset=[\"last_occurrence\"])"
   ]
  },
  {
   "cell_type": "code",
   "execution_count": null,
   "metadata": {},
   "outputs": [],
   "source": [
    "clusters_with_last_occurrence.to_parquet(\"real-time clusters/clusters_with_last_occurrence.parquet\")"
   ]
  },
  {
   "cell_type": "markdown",
   "metadata": {},
   "source": [
    "### Clusters Size\n",
    "\n",
    "Number of alarms within a cluster"
   ]
  },
  {
   "cell_type": "code",
   "execution_count": null,
   "metadata": {},
   "outputs": [],
   "source": [
    "clusters_with_last_occurrence = pd.read_parquet(\"real-time clusters/clusters_with_last_occurrence.parquet\")"
   ]
  },
  {
   "cell_type": "code",
   "execution_count": null,
   "metadata": {},
   "outputs": [],
   "source": [
    "clusters_grouped_by_id = clusters_with_last_occurrence.groupby([\"cluster_id\", \"cluster_id2\"])"
   ]
  },
  {
   "cell_type": "code",
   "execution_count": null,
   "metadata": {},
   "outputs": [],
   "source": [
    "size_df = clusters_grouped_by_id.size().reset_index(name='size')"
   ]
  },
  {
   "cell_type": "code",
   "execution_count": null,
   "metadata": {},
   "outputs": [],
   "source": [
    "size_df.to_parquet(\"real-time clusters/size_df.parquet\")"
   ]
  },
  {
   "cell_type": "markdown",
   "metadata": {},
   "source": [
    "### Clusters Lifespan\n",
    "\n",
    "Time difference from the last last_occurrence and the first first_occurrence of alarms "
   ]
  },
  {
   "cell_type": "code",
   "execution_count": null,
   "metadata": {},
   "outputs": [],
   "source": [
    "\n",
    "def calculate_lifespan(group):\n",
    "    return group['last_occurrence'].max() - group['first_occurrence'].min()\n",
    "\n",
    "tqdm.pandas()\n",
    "\n",
    "\n",
    "lifespan_df = clusters_grouped_by_id.apply(calculate_lifespan, include_groups=False).reset_index(name='lifespan')\n"
   ]
  },
  {
   "cell_type": "code",
   "execution_count": null,
   "metadata": {},
   "outputs": [],
   "source": [
    "lifespan_df.to_parquet(\"real-time clusters/lifespan_df.parquet\")"
   ]
  },
  {
   "cell_type": "markdown",
   "metadata": {},
   "source": [
    "### Clusters Delta First Occurrence\n",
    "\n",
    "Distance between the last available first_occurrence and the first"
   ]
  },
  {
   "cell_type": "code",
   "execution_count": null,
   "metadata": {},
   "outputs": [],
   "source": [
    "\n",
    "\n",
    "def calculate_lifespan(group):\n",
    "    return group['first_occurrence'].max() - group['first_occurrence'].min()\n",
    "\n",
    "\n",
    "tqdm.pandas()\n",
    "\n",
    "\n",
    "delta_df = clusters_grouped_by_id.progress_apply(calculate_lifespan).reset_index(name='delta first occurrence')"
   ]
  },
  {
   "cell_type": "code",
   "execution_count": null,
   "metadata": {},
   "outputs": [],
   "source": [
    "delta_df.to_parquet(\"real-time clusters/delta_df.parquet\")"
   ]
  },
  {
   "cell_type": "code",
   "execution_count": null,
   "metadata": {},
   "outputs": [],
   "source": [
    "delta_df = pd.read_parquet(\"real-time clusters/delta_df.parquet\")"
   ]
  },
  {
   "cell_type": "code",
   "execution_count": null,
   "metadata": {},
   "outputs": [],
   "source": [
    "delta_df.sort_values(by=\"delta first occurrence\", ascending=False)"
   ]
  },
  {
   "cell_type": "markdown",
   "metadata": {},
   "source": [
    "## Merge Statistics"
   ]
  },
  {
   "cell_type": "code",
   "execution_count": null,
   "metadata": {},
   "outputs": [],
   "source": [
    "size_df = pd.read_parquet(\"real-time clusters/size_df.parquet\")\n",
    "lifespan_df = pd.read_parquet(\"real-time clusters/lifespan_df.parquet\")\n",
    "delta_df = pd.read_parquet(\"real-time clusters/delta_df.parquet\")"
   ]
  },
  {
   "cell_type": "code",
   "execution_count": null,
   "metadata": {},
   "outputs": [],
   "source": [
    "clusters_statistics = size_df.merge(lifespan_df, on=[\"cluster_id\", \"cluster_id2\"], how=\"left\").merge(delta_df, on=[\"cluster_id\", \"cluster_id2\"], how=\"left\")"
   ]
  },
  {
   "cell_type": "code",
   "execution_count": null,
   "metadata": {},
   "outputs": [],
   "source": [
    "clusters_statistics"
   ]
  },
  {
   "cell_type": "code",
   "execution_count": null,
   "metadata": {},
   "outputs": [],
   "source": [
    "clusters_statistics.to_parquet(\"real-time clusters/clusters_statistics.parquet\")"
   ]
  },
  {
   "cell_type": "markdown",
   "metadata": {},
   "source": [
    "## Extract Unique Slogans from Alarms\n"
   ]
  },
  {
   "cell_type": "code",
   "execution_count": null,
   "metadata": {},
   "outputs": [],
   "source": [
    "mob_slogan = mob[[\"alarm_id\", \"mob_slogan\"]]\n",
    "adsl_slogan = adsl[[\"alarm_id\", \"std_probable_cause_no\"]]## , \"summary\"]\n",
    "ptn_slogan = ptn[[\"alarm_id\", \"std_probable_cause_no\"]]\n",
    "sdh_slogan = sdh[[\"alarm_id\", \"std_probable_cause_no\"]]\n",
    "pdh_slogan = pdh[[\"alarm_id\", \"std_probable_cause_no\"]]\n"
   ]
  },
  {
   "cell_type": "code",
   "execution_count": null,
   "metadata": {},
   "outputs": [],
   "source": [
    "mob_slogan.rename(columns={\"mob_slogan\": \"slogan\"}, inplace=True)\n",
    "adsl_slogan.rename(columns={\"std_probable_cause_no\": \"slogan\"}, inplace=True)\n",
    "ptn_slogan.rename(columns={\"std_probable_cause_no\": \"slogan\"}, inplace=True)\n",
    "sdh_slogan.rename(columns={\"std_probable_cause_no\": \"slogan\"}, inplace=True)\n",
    "pdh_slogan.rename(columns={\"std_probable_cause_no\": \"slogan\"}, inplace=True)\n",
    "\n"
   ]
  },
  {
   "cell_type": "code",
   "execution_count": null,
   "metadata": {},
   "outputs": [],
   "source": [
    "alarms_slogan = pd.concat([mob_slogan, adsl_slogan, ptn_slogan, sdh_slogan, pdh_slogan])"
   ]
  },
  {
   "cell_type": "code",
   "execution_count": null,
   "metadata": {},
   "outputs": [],
   "source": [
    "alarms_slogan.to_parquet(\"alarms datasets/alarms_slogan.parquet\")"
   ]
  },
  {
   "cell_type": "code",
   "execution_count": null,
   "metadata": {},
   "outputs": [],
   "source": [
    "alarms_slogan = pd.read_parquet(\"alarms datasets/alarms_slogan.parquet\")"
   ]
  },
  {
   "cell_type": "code",
   "execution_count": null,
   "metadata": {},
   "outputs": [],
   "source": [
    "alarms_slogan = alarms_slogan.drop(\"alarm_id\", axis=1)"
   ]
  },
  {
   "cell_type": "markdown",
   "metadata": {},
   "source": [
    "## Associate for each Alarm of the Cluster Dataset the corresponding slogan"
   ]
  },
  {
   "cell_type": "code",
   "execution_count": null,
   "metadata": {},
   "outputs": [],
   "source": [
    "alarms_slogan = pd.read_parquet(\"alarms datasets/alarms_slogan.parquet\")"
   ]
  },
  {
   "cell_type": "code",
   "execution_count": null,
   "metadata": {},
   "outputs": [],
   "source": [
    "grouped_alarms = alarms_slogan.groupby(\"alarm_id\")"
   ]
  },
  {
   "cell_type": "code",
   "execution_count": null,
   "metadata": {},
   "outputs": [],
   "source": [
    "grouped_alarms.size().sort_values(ascending=False)"
   ]
  },
  {
   "cell_type": "code",
   "execution_count": null,
   "metadata": {},
   "outputs": [],
   "source": [
    "clusters_filtered = clusters[[\"alarm_id\", \"cluster_id\", \"cluster_id2\"]]"
   ]
  },
  {
   "cell_type": "code",
   "execution_count": null,
   "metadata": {},
   "outputs": [],
   "source": [
    "clusters_with_slogans = pd.merge(clusters_filtered, alarms_slogan, on='alarm_id', how='left')"
   ]
  },
  {
   "cell_type": "code",
   "execution_count": null,
   "metadata": {},
   "outputs": [],
   "source": [
    "clusters_with_slogans.to_parquet(\"real-time clusters/clusters_with_slogans.parquet\")"
   ]
  },
  {
   "cell_type": "markdown",
   "metadata": {},
   "source": [
    "## Create a Bitmap Clusters/Slogan"
   ]
  },
  {
   "cell_type": "code",
   "execution_count": null,
   "metadata": {},
   "outputs": [],
   "source": [
    "\n",
    "clusters_with_slogans = pd.read_parquet(\"real-time clusters/clusters_with_slogans.parquet\")"
   ]
  },
  {
   "cell_type": "code",
   "execution_count": null,
   "metadata": {},
   "outputs": [],
   "source": [
    "grouped_clusters = clusters_with_slogans.groupby([\"cluster_id\", \"cluster_id2\"])\n",
    "group_sizes = grouped_clusters.size()\n",
    "\n",
    "# Ottieni gli indici dei gruppi con più di una riga\n",
    "multi_row_indices = group_sizes[group_sizes > 1].index\n",
    "\n",
    "# Filtra il DataFrame originale per mantenere solo le righe che appartengono a gruppi con più di una riga\n",
    "filtered_clusters = clusters_with_slogans[clusters_with_slogans.set_index([\"cluster_id\", \"cluster_id2\"]).index.isin(multi_row_indices)]"
   ]
  },
  {
   "cell_type": "code",
   "execution_count": null,
   "metadata": {},
   "outputs": [],
   "source": [
    "grouped_clusters = filtered_clusters.groupby([\"cluster_id\", \"cluster_id2\"])"
   ]
  },
  {
   "cell_type": "code",
   "execution_count": null,
   "metadata": {},
   "outputs": [],
   "source": [
    "unique_slogans = filtered_clusters['slogan'].unique()"
   ]
  },
  {
   "cell_type": "code",
   "execution_count": null,
   "metadata": {},
   "outputs": [],
   "source": [
    "\n",
    "# Definisci una funzione per calcolare la presenza di ciascuno slogan\n",
    "def calculate_presence(group):\n",
    "    presence = {slogan: 0 for slogan in unique_slogans}\n",
    "    for slogan in group['slogan']:\n",
    "        presence[slogan] = 1\n",
    "    return pd.Series(presence)\n",
    "\n",
    "tqdm.pandas()\n",
    "\n",
    "# Applica la funzione a ciascun gruppo e crea un nuovo dataframe con i risultati\n",
    "result_df = grouped_clusters.progress_apply(calculate_presence)\n"
   ]
  },
  {
   "cell_type": "code",
   "execution_count": null,
   "metadata": {},
   "outputs": [],
   "source": [
    "result_df.to_parquet(\"real-time clusters/result_df_gt_2.parquet\")"
   ]
  },
  {
   "cell_type": "markdown",
   "metadata": {},
   "source": [
    "### Bitmap for clusters with one alarm inside"
   ]
  },
  {
   "cell_type": "code",
   "execution_count": null,
   "metadata": {},
   "outputs": [],
   "source": [
    "clusters_with_one_alarm = clusters_with_slogans[clusters_with_slogans.set_index([\"cluster_id\", \"cluster_id2\"]).index.isin(multi_row_indices) == False]"
   ]
  },
  {
   "cell_type": "code",
   "execution_count": null,
   "metadata": {},
   "outputs": [],
   "source": [
    "unique_slogans = clusters_with_one_alarm['slogan'].unique()"
   ]
  },
  {
   "cell_type": "code",
   "execution_count": null,
   "metadata": {},
   "outputs": [],
   "source": [
    "import numpy as np\n",
    "\n",
    "# Dividi il DataFrame in 2 parti\n",
    "parts = np.array_split(clusters_with_one_alarm, 4)\n",
    "\n",
    "# Ora, parts[0] e parts[1] sono le 2 parti del DataFrame"
   ]
  },
  {
   "cell_type": "code",
   "execution_count": null,
   "metadata": {},
   "outputs": [],
   "source": [
    "grouped_clusters_with_one_alarm = parts[3].groupby([\"cluster_id\", \"cluster_id2\"])"
   ]
  },
  {
   "cell_type": "code",
   "execution_count": null,
   "metadata": {},
   "outputs": [],
   "source": [
    "\n",
    "# Definisci una funzione per calcolare la presenza di ciascuno slogan\n",
    "def calculate_presence(group):\n",
    "    presence = {slogan: 0 for slogan in unique_slogans}\n",
    "    for slogan in group['slogan']:\n",
    "        presence[slogan] = 1\n",
    "    return pd.Series(presence)\n",
    "\n",
    "tqdm.pandas()\n",
    "\n",
    "# Applica la funzione a ciascun gruppo e crea un nuovo dataframe con i risultati\n",
    "unique_df = grouped_clusters_with_one_alarm.progress_apply(calculate_presence)\n",
    "\n",
    "\n",
    "\n"
   ]
  },
  {
   "cell_type": "code",
   "execution_count": null,
   "metadata": {},
   "outputs": [],
   "source": [
    "unique_df.to_parquet(\"real-time clusters/unique_df_pt4.parquet\")"
   ]
  },
  {
   "cell_type": "markdown",
   "metadata": {},
   "source": [
    "## Manage Bitmap"
   ]
  },
  {
   "cell_type": "code",
   "execution_count": null,
   "metadata": {},
   "outputs": [],
   "source": [
    "clusters_bitmap_gt_2 = pd.read_parquet(\"real-time clusters/result_df_gt_2.parquet\")"
   ]
  },
  {
   "cell_type": "code",
   "execution_count": null,
   "metadata": {},
   "outputs": [],
   "source": [
    "unique_df_pt1 = pd.read_parquet(\"real-time clusters/unique_df_pt1.parquet\")"
   ]
  },
  {
   "cell_type": "code",
   "execution_count": null,
   "metadata": {},
   "outputs": [],
   "source": [
    "unique_df_pt2 = pd.read_parquet(\"real-time clusters/unique_df_pt2.parquet\")"
   ]
  },
  {
   "cell_type": "code",
   "execution_count": null,
   "metadata": {},
   "outputs": [],
   "source": [
    "unique_df_pt3 = pd.read_parquet(\"real-time clusters/unique_df_pt3.parquet\")"
   ]
  },
  {
   "cell_type": "code",
   "execution_count": null,
   "metadata": {},
   "outputs": [],
   "source": [
    "unique_df_pt4 = pd.read_parquet(\"real-time clusters/unique_df_pt4.parquet\")"
   ]
  },
  {
   "cell_type": "code",
   "execution_count": null,
   "metadata": {},
   "outputs": [],
   "source": [
    "unique_df = pd.concat([unique_df_pt1, unique_df_pt2, unique_df_pt3, unique_df_pt4])\n"
   ]
  },
  {
   "cell_type": "code",
   "execution_count": null,
   "metadata": {},
   "outputs": [],
   "source": [
    "unique_df.to_parquet(\"real-time clusters/unique_df.parquet\")"
   ]
  },
  {
   "cell_type": "code",
   "execution_count": null,
   "metadata": {},
   "outputs": [],
   "source": [
    "missing_columns = clusters_bitmap_gt_2.columns.difference(unique_df.columns)"
   ]
  },
  {
   "cell_type": "code",
   "execution_count": null,
   "metadata": {},
   "outputs": [],
   "source": [
    "unique_df = unique_df.reindex(columns=unique_df.columns.union(missing_columns), fill_value=0)"
   ]
  },
  {
   "cell_type": "code",
   "execution_count": null,
   "metadata": {},
   "outputs": [],
   "source": [
    "len(clusters_bitmap_gt_2.columns)"
   ]
  },
  {
   "cell_type": "code",
   "execution_count": null,
   "metadata": {},
   "outputs": [],
   "source": [
    "unique_slogans = clusters_with_slogans['slogan'].unique()"
   ]
  },
  {
   "cell_type": "code",
   "execution_count": null,
   "metadata": {},
   "outputs": [],
   "source": [
    "len(unique_slogans)"
   ]
  },
  {
   "cell_type": "code",
   "execution_count": null,
   "metadata": {},
   "outputs": [],
   "source": [
    "missing_columns = unique_df.columns.difference(clusters_bitmap_gt_2.columns) "
   ]
  },
  {
   "cell_type": "code",
   "execution_count": null,
   "metadata": {},
   "outputs": [],
   "source": [
    "missing_columns"
   ]
  },
  {
   "cell_type": "code",
   "execution_count": null,
   "metadata": {},
   "outputs": [],
   "source": [
    "clusters_bitmap_gt_2 = clusters_bitmap_gt_2.reindex(columns=clusters_bitmap_gt_2.columns.union(missing_columns), fill_value=0)"
   ]
  },
  {
   "cell_type": "code",
   "execution_count": null,
   "metadata": {},
   "outputs": [],
   "source": [
    "len(clusters_bitmap_gt_2.columns)"
   ]
  },
  {
   "cell_type": "code",
   "execution_count": null,
   "metadata": {},
   "outputs": [],
   "source": [
    "len(unique_df.columns)"
   ]
  },
  {
   "cell_type": "code",
   "execution_count": null,
   "metadata": {},
   "outputs": [],
   "source": [
    "unique_df = unique_df.reindex(columns=clusters_bitmap_gt_2.columns)"
   ]
  },
  {
   "cell_type": "code",
   "execution_count": null,
   "metadata": {},
   "outputs": [],
   "source": [
    "clusters_bitmap = pd.concat([clusters_bitmap_gt_2, unique_df])"
   ]
  },
  {
   "cell_type": "code",
   "execution_count": null,
   "metadata": {},
   "outputs": [],
   "source": [
    "clusters_bitmap = clusters_bitmap.sample(frac=1, random_state=42) # shuffle the rows"
   ]
  },
  {
   "cell_type": "code",
   "execution_count": null,
   "metadata": {},
   "outputs": [],
   "source": [
    "clusters_bitmap.to_parquet(\"real-time clusters/clusters_bitmap.parquet\")"
   ]
  }
 ],
 "metadata": {
  "kernelspec": {
   "display_name": "TIM_thesis",
   "language": "python",
   "name": "python3"
  },
  "language_info": {
   "codemirror_mode": {
    "name": "ipython",
    "version": 3
   },
   "file_extension": ".py",
   "mimetype": "text/x-python",
   "name": "python",
   "nbconvert_exporter": "python",
   "pygments_lexer": "ipython3",
   "version": "3.12.2"
  }
 },
 "nbformat": 4,
 "nbformat_minor": 2
}
