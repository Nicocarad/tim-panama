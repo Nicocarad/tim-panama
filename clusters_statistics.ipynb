{
 "cells": [
  {
   "cell_type": "code",
   "execution_count": 3,
   "metadata": {},
   "outputs": [],
   "source": [
    "import pandas as pd\n",
    "from tqdm import tqdm"
   ]
  },
  {
   "cell_type": "markdown",
   "metadata": {},
   "source": [
    "## Load Clusters and Alarms"
   ]
  },
  {
   "cell_type": "code",
   "execution_count": 5,
   "metadata": {},
   "outputs": [],
   "source": [
    "clusters = pd.read_parquet(\"real-time clusters/20230101-20240101_real_time_clusters.parquet\")"
   ]
  },
  {
   "cell_type": "code",
   "execution_count": 3,
   "metadata": {},
   "outputs": [],
   "source": [
    "mob = pd.read_parquet(\"alarms datasets/mob/20230101-20240101_inpas_mob_preprocess__an__last_event__last_event__ext1.parquet\")"
   ]
  },
  {
   "cell_type": "code",
   "execution_count": 4,
   "metadata": {},
   "outputs": [],
   "source": [
    "adsl = pd.read_parquet(\"alarms datasets/tx/20230101-20240101_inpas_tx_preprocess__adsl__last_event__last_event__ext1.parquet\")"
   ]
  },
  {
   "cell_type": "code",
   "execution_count": 5,
   "metadata": {},
   "outputs": [],
   "source": [
    "ptn = pd.read_parquet(\"alarms datasets/tx/20230101-20240101_inpas_tx_preprocess__ptn__last_event__last_event__ext1.parquet\")"
   ]
  },
  {
   "cell_type": "code",
   "execution_count": 6,
   "metadata": {},
   "outputs": [],
   "source": [
    "sdh = pd.read_parquet(\"alarms datasets/tx/20230101-20240101_inpas_tx_preprocess__sdh__last_event__last_event__ext1.parquet\")"
   ]
  },
  {
   "cell_type": "code",
   "execution_count": 7,
   "metadata": {},
   "outputs": [],
   "source": [
    "pdh = pd.read_parquet(\"alarms datasets/tx/20230101-20240101_inpas_tx_preprocess__pdh__last_event__last_event__ext1.parquet\")"
   ]
  },
  {
   "cell_type": "code",
   "execution_count": 8,
   "metadata": {},
   "outputs": [],
   "source": [
    "mob = mob[[\"alarm_id\", \"last_occurrence\"]]"
   ]
  },
  {
   "cell_type": "code",
   "execution_count": 9,
   "metadata": {},
   "outputs": [],
   "source": [
    "adsl = adsl[[\"alarm_id\", \"last_occurrence\"]]\n",
    "ptn = ptn[[\"alarm_id\", \"last_occurrence\"]]\n",
    "sdh = sdh[[\"alarm_id\", \"last_occurrence\"]]\n",
    "pdh = pdh[[\"alarm_id\", \"last_occurrence\"]]\n"
   ]
  },
  {
   "cell_type": "code",
   "execution_count": 10,
   "metadata": {},
   "outputs": [],
   "source": [
    "alarms = pd.concat([mob, adsl, ptn, sdh, pdh])\n"
   ]
  },
  {
   "cell_type": "code",
   "execution_count": 11,
   "metadata": {},
   "outputs": [],
   "source": [
    "alarms.to_parquet(\"alarms datasets/alarms.parquet\")"
   ]
  },
  {
   "cell_type": "markdown",
   "metadata": {},
   "source": [
    "## Clusters Statistics"
   ]
  },
  {
   "cell_type": "code",
   "execution_count": 22,
   "metadata": {},
   "outputs": [],
   "source": [
    "clusters = pd.read_parquet(\"real-time clusters/20230101-20240101_real_time_clusters.parquet\")\n",
    "alarms = pd.read_parquet(\"alarms datasets/alarms.parquet\")"
   ]
  },
  {
   "cell_type": "code",
   "execution_count": 23,
   "metadata": {},
   "outputs": [],
   "source": [
    "clusters_filtered = clusters[[\"alarm_id\", \"cluster_id\", \"cluster_id2\",\"first_occurrence\"]]"
   ]
  },
  {
   "cell_type": "code",
   "execution_count": 24,
   "metadata": {},
   "outputs": [],
   "source": [
    "clusters_complete = clusters_filtered.merge(alarms, on=\"alarm_id\", how=\"left\")"
   ]
  },
  {
   "cell_type": "code",
   "execution_count": 25,
   "metadata": {},
   "outputs": [],
   "source": [
    "clusters_complete[\"first_occurrence\"] = pd.to_datetime(clusters_complete[\"first_occurrence\"])"
   ]
  },
  {
   "cell_type": "code",
   "execution_count": 26,
   "metadata": {},
   "outputs": [],
   "source": [
    "clusters_complete = clusters_complete.dropna(subset=[\"last_occurrence\"])"
   ]
  },
  {
   "cell_type": "code",
   "execution_count": 27,
   "metadata": {},
   "outputs": [],
   "source": [
    "clusters_complete.to_parquet(\"real-time clusters/clusters_complete.parquet\")"
   ]
  },
  {
   "cell_type": "markdown",
   "metadata": {},
   "source": [
    "### Clusters Size\n",
    "\n",
    "Number of alarms within a cluster"
   ]
  },
  {
   "cell_type": "code",
   "execution_count": 28,
   "metadata": {},
   "outputs": [],
   "source": [
    "clusters_complete = pd.read_parquet(\"real-time clusters/clusters_complete.parquet\")"
   ]
  },
  {
   "cell_type": "code",
   "execution_count": 29,
   "metadata": {},
   "outputs": [],
   "source": [
    "clusters_grouped_by_id = clusters_complete.groupby([\"cluster_id\", \"cluster_id2\"])"
   ]
  },
  {
   "cell_type": "code",
   "execution_count": 30,
   "metadata": {},
   "outputs": [],
   "source": [
    "clusters_grouped = clusters_grouped_by_id "
   ]
  },
  {
   "cell_type": "code",
   "execution_count": 31,
   "metadata": {},
   "outputs": [],
   "source": [
    "size_df = clusters_grouped_by_id.size().reset_index(name='size')"
   ]
  },
  {
   "cell_type": "code",
   "execution_count": 32,
   "metadata": {},
   "outputs": [],
   "source": [
    "size_df.to_parquet(\"real-time clusters/size_df.parquet\")"
   ]
  },
  {
   "cell_type": "markdown",
   "metadata": {},
   "source": [
    "### Clusters Lifespan\n",
    "\n",
    "Time difference from the last last_occurrence and the first first_occurrence of alarms "
   ]
  },
  {
   "cell_type": "code",
   "execution_count": 33,
   "metadata": {},
   "outputs": [],
   "source": [
    "\n",
    "def calculate_lifespan(group):\n",
    "    return group['last_occurrence'].max() - group['first_occurrence'].min()\n",
    "\n",
    "tqdm.pandas()\n",
    "\n",
    "\n",
    "lifespan_df = clusters_grouped.apply(calculate_lifespan, include_groups=False).reset_index(name='lifespan')\n"
   ]
  },
  {
   "cell_type": "code",
   "execution_count": 34,
   "metadata": {},
   "outputs": [],
   "source": [
    "lifespan_df.to_parquet(\"real-time clusters/lifespan_df.parquet\")"
   ]
  },
  {
   "cell_type": "markdown",
   "metadata": {},
   "source": [
    "### Clusters Delta First Occurrence\n",
    "\n",
    "Distance between the last available first_occurrence and the first"
   ]
  },
  {
   "cell_type": "code",
   "execution_count": 35,
   "metadata": {},
   "outputs": [
    {
     "name": "stderr",
     "output_type": "stream",
     "text": [
      "  0%|          | 0/6369371 [00:00<?, ?it/s]"
     ]
    },
    {
     "name": "stderr",
     "output_type": "stream",
     "text": [
      "100%|██████████| 6369371/6369371 [16:33<00:00, 6414.14it/s]\n"
     ]
    }
   ],
   "source": [
    "\n",
    "\n",
    "def calculate_lifespan(group):\n",
    "    return group['first_occurrence'].max() - group['first_occurrence'].min()\n",
    "\n",
    "\n",
    "tqdm.pandas()\n",
    "\n",
    "\n",
    "delta_df = clusters_grouped.progress_apply(calculate_lifespan).reset_index(name='delta first occurrence')"
   ]
  },
  {
   "cell_type": "code",
   "execution_count": 77,
   "metadata": {},
   "outputs": [
    {
     "data": {
      "text/html": [
       "<div>\n",
       "<style scoped>\n",
       "    .dataframe tbody tr th:only-of-type {\n",
       "        vertical-align: middle;\n",
       "    }\n",
       "\n",
       "    .dataframe tbody tr th {\n",
       "        vertical-align: top;\n",
       "    }\n",
       "\n",
       "    .dataframe thead th {\n",
       "        text-align: right;\n",
       "    }\n",
       "</style>\n",
       "<table border=\"1\" class=\"dataframe\">\n",
       "  <thead>\n",
       "    <tr style=\"text-align: right;\">\n",
       "      <th></th>\n",
       "      <th>cluster_id</th>\n",
       "      <th>cluster_id2</th>\n",
       "      <th>lifespan</th>\n",
       "    </tr>\n",
       "  </thead>\n",
       "  <tbody>\n",
       "    <tr>\n",
       "      <th>0</th>\n",
       "      <td>202301010000_1</td>\n",
       "      <td>202301010000_33</td>\n",
       "      <td>0 days</td>\n",
       "    </tr>\n",
       "    <tr>\n",
       "      <th>1</th>\n",
       "      <td>202301010000_10</td>\n",
       "      <td>202301010000_133</td>\n",
       "      <td>0 days</td>\n",
       "    </tr>\n",
       "    <tr>\n",
       "      <th>2</th>\n",
       "      <td>202301010000_104</td>\n",
       "      <td>202301010000_79</td>\n",
       "      <td>0 days</td>\n",
       "    </tr>\n",
       "    <tr>\n",
       "      <th>3</th>\n",
       "      <td>202301010000_105</td>\n",
       "      <td>202301010000_80</td>\n",
       "      <td>0 days</td>\n",
       "    </tr>\n",
       "    <tr>\n",
       "      <th>4</th>\n",
       "      <td>202301010000_106</td>\n",
       "      <td>202301010000_81</td>\n",
       "      <td>0 days</td>\n",
       "    </tr>\n",
       "    <tr>\n",
       "      <th>...</th>\n",
       "      <td>...</td>\n",
       "      <td>...</td>\n",
       "      <td>...</td>\n",
       "    </tr>\n",
       "    <tr>\n",
       "      <th>6369366</th>\n",
       "      <td>202312312358_5</td>\n",
       "      <td>202312312354_5</td>\n",
       "      <td>0 days</td>\n",
       "    </tr>\n",
       "    <tr>\n",
       "      <th>6369367</th>\n",
       "      <td>202312312358_6</td>\n",
       "      <td>202312312354_5</td>\n",
       "      <td>0 days</td>\n",
       "    </tr>\n",
       "    <tr>\n",
       "      <th>6369368</th>\n",
       "      <td>202312312358_7</td>\n",
       "      <td>202312312354_5</td>\n",
       "      <td>0 days</td>\n",
       "    </tr>\n",
       "    <tr>\n",
       "      <th>6369369</th>\n",
       "      <td>202312312358_8</td>\n",
       "      <td>202312312354_7</td>\n",
       "      <td>0 days</td>\n",
       "    </tr>\n",
       "    <tr>\n",
       "      <th>6369370</th>\n",
       "      <td>202312312358_9</td>\n",
       "      <td>202312312354_7</td>\n",
       "      <td>0 days</td>\n",
       "    </tr>\n",
       "  </tbody>\n",
       "</table>\n",
       "<p>6369371 rows × 3 columns</p>\n",
       "</div>"
      ],
      "text/plain": [
       "               cluster_id       cluster_id2 lifespan\n",
       "0          202301010000_1   202301010000_33   0 days\n",
       "1         202301010000_10  202301010000_133   0 days\n",
       "2        202301010000_104   202301010000_79   0 days\n",
       "3        202301010000_105   202301010000_80   0 days\n",
       "4        202301010000_106   202301010000_81   0 days\n",
       "...                   ...               ...      ...\n",
       "6369366    202312312358_5    202312312354_5   0 days\n",
       "6369367    202312312358_6    202312312354_5   0 days\n",
       "6369368    202312312358_7    202312312354_5   0 days\n",
       "6369369    202312312358_8    202312312354_7   0 days\n",
       "6369370    202312312358_9    202312312354_7   0 days\n",
       "\n",
       "[6369371 rows x 3 columns]"
      ]
     },
     "execution_count": 77,
     "metadata": {},
     "output_type": "execute_result"
    }
   ],
   "source": [
    "delta_df"
   ]
  },
  {
   "cell_type": "code",
   "execution_count": 36,
   "metadata": {},
   "outputs": [],
   "source": [
    "delta_df.to_parquet(\"real-time clusters/delta_df.parquet\")"
   ]
  },
  {
   "cell_type": "code",
   "execution_count": 3,
   "metadata": {},
   "outputs": [],
   "source": [
    "delta_df = pd.read_parquet(\"real-time clusters/delta_df.parquet\")"
   ]
  },
  {
   "cell_type": "code",
   "execution_count": 5,
   "metadata": {},
   "outputs": [
    {
     "data": {
      "text/html": [
       "<div>\n",
       "<style scoped>\n",
       "    .dataframe tbody tr th:only-of-type {\n",
       "        vertical-align: middle;\n",
       "    }\n",
       "\n",
       "    .dataframe tbody tr th {\n",
       "        vertical-align: top;\n",
       "    }\n",
       "\n",
       "    .dataframe thead th {\n",
       "        text-align: right;\n",
       "    }\n",
       "</style>\n",
       "<table border=\"1\" class=\"dataframe\">\n",
       "  <thead>\n",
       "    <tr style=\"text-align: right;\">\n",
       "      <th></th>\n",
       "      <th>cluster_id</th>\n",
       "      <th>cluster_id2</th>\n",
       "      <th>lifespan</th>\n",
       "    </tr>\n",
       "  </thead>\n",
       "  <tbody>\n",
       "    <tr>\n",
       "      <th>5187223</th>\n",
       "      <td>202311041120_19</td>\n",
       "      <td>202311041120_6</td>\n",
       "      <td>0 days 02:07:54</td>\n",
       "    </tr>\n",
       "    <tr>\n",
       "      <th>4355824</th>\n",
       "      <td>202309272328_4</td>\n",
       "      <td>202309272328_3</td>\n",
       "      <td>0 days 01:53:46</td>\n",
       "    </tr>\n",
       "    <tr>\n",
       "      <th>3079985</th>\n",
       "      <td>202307270332_16</td>\n",
       "      <td>202307270332_10</td>\n",
       "      <td>0 days 01:34:24</td>\n",
       "    </tr>\n",
       "    <tr>\n",
       "      <th>5710744</th>\n",
       "      <td>202311272202_10</td>\n",
       "      <td>202311272202_3</td>\n",
       "      <td>0 days 01:32:50</td>\n",
       "    </tr>\n",
       "    <tr>\n",
       "      <th>399034</th>\n",
       "      <td>202302020154_50</td>\n",
       "      <td>202302020154_8</td>\n",
       "      <td>0 days 01:22:56</td>\n",
       "    </tr>\n",
       "    <tr>\n",
       "      <th>...</th>\n",
       "      <td>...</td>\n",
       "      <td>...</td>\n",
       "      <td>...</td>\n",
       "    </tr>\n",
       "    <tr>\n",
       "      <th>2419111</th>\n",
       "      <td>202306300446_37</td>\n",
       "      <td>202306300434_9</td>\n",
       "      <td>0 days 00:00:00</td>\n",
       "    </tr>\n",
       "    <tr>\n",
       "      <th>2419110</th>\n",
       "      <td>202306300446_36</td>\n",
       "      <td>202306300434_9</td>\n",
       "      <td>0 days 00:00:00</td>\n",
       "    </tr>\n",
       "    <tr>\n",
       "      <th>2419109</th>\n",
       "      <td>202306300446_35</td>\n",
       "      <td>202306300434_9</td>\n",
       "      <td>0 days 00:00:00</td>\n",
       "    </tr>\n",
       "    <tr>\n",
       "      <th>2419105</th>\n",
       "      <td>202306300446_31</td>\n",
       "      <td>202306300442_9</td>\n",
       "      <td>0 days 00:00:00</td>\n",
       "    </tr>\n",
       "    <tr>\n",
       "      <th>6369370</th>\n",
       "      <td>202312312358_9</td>\n",
       "      <td>202312312354_7</td>\n",
       "      <td>0 days 00:00:00</td>\n",
       "    </tr>\n",
       "  </tbody>\n",
       "</table>\n",
       "<p>6369371 rows × 3 columns</p>\n",
       "</div>"
      ],
      "text/plain": [
       "              cluster_id      cluster_id2        lifespan\n",
       "5187223  202311041120_19   202311041120_6 0 days 02:07:54\n",
       "4355824   202309272328_4   202309272328_3 0 days 01:53:46\n",
       "3079985  202307270332_16  202307270332_10 0 days 01:34:24\n",
       "5710744  202311272202_10   202311272202_3 0 days 01:32:50\n",
       "399034   202302020154_50   202302020154_8 0 days 01:22:56\n",
       "...                  ...              ...             ...\n",
       "2419111  202306300446_37   202306300434_9 0 days 00:00:00\n",
       "2419110  202306300446_36   202306300434_9 0 days 00:00:00\n",
       "2419109  202306300446_35   202306300434_9 0 days 00:00:00\n",
       "2419105  202306300446_31   202306300442_9 0 days 00:00:00\n",
       "6369370   202312312358_9   202312312354_7 0 days 00:00:00\n",
       "\n",
       "[6369371 rows x 3 columns]"
      ]
     },
     "execution_count": 5,
     "metadata": {},
     "output_type": "execute_result"
    }
   ],
   "source": [
    "delta_df.sort_values(by=\"delta first occurrence\", ascending=False)"
   ]
  },
  {
   "cell_type": "markdown",
   "metadata": {},
   "source": [
    "## Merge Statistics"
   ]
  },
  {
   "cell_type": "code",
   "execution_count": 37,
   "metadata": {},
   "outputs": [],
   "source": [
    "size_df = pd.read_parquet(\"real-time clusters/size_df.parquet\")\n",
    "lifespan_df = pd.read_parquet(\"real-time clusters/lifespan_df.parquet\")\n",
    "delta_df = pd.read_parquet(\"real-time clusters/delta_df.parquet\")"
   ]
  },
  {
   "cell_type": "code",
   "execution_count": 38,
   "metadata": {},
   "outputs": [],
   "source": [
    "clusters_statistics = size_df.merge(lifespan_df, on=[\"cluster_id\", \"cluster_id2\"], how=\"left\").merge(delta_df, on=[\"cluster_id\", \"cluster_id2\"], how=\"left\")"
   ]
  },
  {
   "cell_type": "code",
   "execution_count": 19,
   "metadata": {},
   "outputs": [
    {
     "data": {
      "text/html": [
       "<div>\n",
       "<style scoped>\n",
       "    .dataframe tbody tr th:only-of-type {\n",
       "        vertical-align: middle;\n",
       "    }\n",
       "\n",
       "    .dataframe tbody tr th {\n",
       "        vertical-align: top;\n",
       "    }\n",
       "\n",
       "    .dataframe thead th {\n",
       "        text-align: right;\n",
       "    }\n",
       "</style>\n",
       "<table border=\"1\" class=\"dataframe\">\n",
       "  <thead>\n",
       "    <tr style=\"text-align: right;\">\n",
       "      <th></th>\n",
       "      <th>cluster_id</th>\n",
       "      <th>cluster_id2</th>\n",
       "      <th>size</th>\n",
       "      <th>lifespan_x</th>\n",
       "      <th>lifespan_y</th>\n",
       "    </tr>\n",
       "  </thead>\n",
       "  <tbody>\n",
       "    <tr>\n",
       "      <th>0</th>\n",
       "      <td>202301010000_1</td>\n",
       "      <td>202301010000_33</td>\n",
       "      <td>1</td>\n",
       "      <td>1 days 23:25:34</td>\n",
       "      <td>0 days</td>\n",
       "    </tr>\n",
       "    <tr>\n",
       "      <th>1</th>\n",
       "      <td>202301010000_10</td>\n",
       "      <td>202301010000_133</td>\n",
       "      <td>1</td>\n",
       "      <td>0 days 01:14:29</td>\n",
       "      <td>0 days</td>\n",
       "    </tr>\n",
       "    <tr>\n",
       "      <th>2</th>\n",
       "      <td>202301010000_104</td>\n",
       "      <td>202301010000_79</td>\n",
       "      <td>1</td>\n",
       "      <td>0 days 01:38:28</td>\n",
       "      <td>0 days</td>\n",
       "    </tr>\n",
       "    <tr>\n",
       "      <th>3</th>\n",
       "      <td>202301010000_105</td>\n",
       "      <td>202301010000_80</td>\n",
       "      <td>1</td>\n",
       "      <td>0 days 01:58:25</td>\n",
       "      <td>0 days</td>\n",
       "    </tr>\n",
       "    <tr>\n",
       "      <th>4</th>\n",
       "      <td>202301010000_106</td>\n",
       "      <td>202301010000_81</td>\n",
       "      <td>1</td>\n",
       "      <td>0 days 06:55:03</td>\n",
       "      <td>0 days</td>\n",
       "    </tr>\n",
       "    <tr>\n",
       "      <th>...</th>\n",
       "      <td>...</td>\n",
       "      <td>...</td>\n",
       "      <td>...</td>\n",
       "      <td>...</td>\n",
       "      <td>...</td>\n",
       "    </tr>\n",
       "    <tr>\n",
       "      <th>6369366</th>\n",
       "      <td>202312312358_5</td>\n",
       "      <td>202312312354_5</td>\n",
       "      <td>1</td>\n",
       "      <td>0 days 00:04:34</td>\n",
       "      <td>0 days</td>\n",
       "    </tr>\n",
       "    <tr>\n",
       "      <th>6369367</th>\n",
       "      <td>202312312358_6</td>\n",
       "      <td>202312312354_5</td>\n",
       "      <td>1</td>\n",
       "      <td>0 days 00:03:57</td>\n",
       "      <td>0 days</td>\n",
       "    </tr>\n",
       "    <tr>\n",
       "      <th>6369368</th>\n",
       "      <td>202312312358_7</td>\n",
       "      <td>202312312354_5</td>\n",
       "      <td>1</td>\n",
       "      <td>0 days 00:00:00</td>\n",
       "      <td>0 days</td>\n",
       "    </tr>\n",
       "    <tr>\n",
       "      <th>6369369</th>\n",
       "      <td>202312312358_8</td>\n",
       "      <td>202312312354_7</td>\n",
       "      <td>1</td>\n",
       "      <td>0 days 00:05:31</td>\n",
       "      <td>0 days</td>\n",
       "    </tr>\n",
       "    <tr>\n",
       "      <th>6369370</th>\n",
       "      <td>202312312358_9</td>\n",
       "      <td>202312312354_7</td>\n",
       "      <td>1</td>\n",
       "      <td>0 days 00:04:40</td>\n",
       "      <td>0 days</td>\n",
       "    </tr>\n",
       "  </tbody>\n",
       "</table>\n",
       "<p>6369371 rows × 5 columns</p>\n",
       "</div>"
      ],
      "text/plain": [
       "               cluster_id       cluster_id2  size      lifespan_x lifespan_y\n",
       "0          202301010000_1   202301010000_33     1 1 days 23:25:34     0 days\n",
       "1         202301010000_10  202301010000_133     1 0 days 01:14:29     0 days\n",
       "2        202301010000_104   202301010000_79     1 0 days 01:38:28     0 days\n",
       "3        202301010000_105   202301010000_80     1 0 days 01:58:25     0 days\n",
       "4        202301010000_106   202301010000_81     1 0 days 06:55:03     0 days\n",
       "...                   ...               ...   ...             ...        ...\n",
       "6369366    202312312358_5    202312312354_5     1 0 days 00:04:34     0 days\n",
       "6369367    202312312358_6    202312312354_5     1 0 days 00:03:57     0 days\n",
       "6369368    202312312358_7    202312312354_5     1 0 days 00:00:00     0 days\n",
       "6369369    202312312358_8    202312312354_7     1 0 days 00:05:31     0 days\n",
       "6369370    202312312358_9    202312312354_7     1 0 days 00:04:40     0 days\n",
       "\n",
       "[6369371 rows x 5 columns]"
      ]
     },
     "execution_count": 19,
     "metadata": {},
     "output_type": "execute_result"
    }
   ],
   "source": [
    "clusters_statistics"
   ]
  },
  {
   "cell_type": "code",
   "execution_count": 39,
   "metadata": {},
   "outputs": [],
   "source": [
    "clusters_statistics.to_parquet(\"real-time clusters/clusters_statistics.parquet\")"
   ]
  },
  {
   "cell_type": "markdown",
   "metadata": {},
   "source": [
    "## Extract Unique Slogans from Alarms\n"
   ]
  },
  {
   "cell_type": "code",
   "execution_count": 8,
   "metadata": {},
   "outputs": [],
   "source": [
    "mob_slogan = mob[[\"alarm_id\", \"mob_slogan\"]]\n",
    "adsl_slogan = adsl[[\"alarm_id\", \"std_probable_cause_no\"]]## , \"summary\"]\n",
    "ptn_slogan = ptn[[\"alarm_id\", \"std_probable_cause_no\"]]\n",
    "sdh_slogan = sdh[[\"alarm_id\", \"std_probable_cause_no\"]]\n",
    "pdh_slogan = pdh[[\"alarm_id\", \"std_probable_cause_no\"]]\n"
   ]
  },
  {
   "cell_type": "code",
   "execution_count": 10,
   "metadata": {},
   "outputs": [
    {
     "name": "stderr",
     "output_type": "stream",
     "text": [
      "C:\\Users\\Nicolò Caradonna\\AppData\\Local\\Temp\\ipykernel_12784\\1332658854.py:1: SettingWithCopyWarning: \n",
      "A value is trying to be set on a copy of a slice from a DataFrame\n",
      "\n",
      "See the caveats in the documentation: https://pandas.pydata.org/pandas-docs/stable/user_guide/indexing.html#returning-a-view-versus-a-copy\n",
      "  mob_slogan.rename(columns={\"mob_slogan\": \"slogan\"}, inplace=True)\n",
      "C:\\Users\\Nicolò Caradonna\\AppData\\Local\\Temp\\ipykernel_12784\\1332658854.py:2: SettingWithCopyWarning: \n",
      "A value is trying to be set on a copy of a slice from a DataFrame\n",
      "\n",
      "See the caveats in the documentation: https://pandas.pydata.org/pandas-docs/stable/user_guide/indexing.html#returning-a-view-versus-a-copy\n",
      "  adsl_slogan.rename(columns={\"std_probable_cause_no\": \"slogan\"}, inplace=True)\n",
      "C:\\Users\\Nicolò Caradonna\\AppData\\Local\\Temp\\ipykernel_12784\\1332658854.py:3: SettingWithCopyWarning: \n",
      "A value is trying to be set on a copy of a slice from a DataFrame\n",
      "\n",
      "See the caveats in the documentation: https://pandas.pydata.org/pandas-docs/stable/user_guide/indexing.html#returning-a-view-versus-a-copy\n",
      "  ptn_slogan.rename(columns={\"std_probable_cause_no\": \"slogan\"}, inplace=True)\n",
      "C:\\Users\\Nicolò Caradonna\\AppData\\Local\\Temp\\ipykernel_12784\\1332658854.py:4: SettingWithCopyWarning: \n",
      "A value is trying to be set on a copy of a slice from a DataFrame\n",
      "\n",
      "See the caveats in the documentation: https://pandas.pydata.org/pandas-docs/stable/user_guide/indexing.html#returning-a-view-versus-a-copy\n",
      "  sdh_slogan.rename(columns={\"std_probable_cause_no\": \"slogan\"}, inplace=True)\n",
      "C:\\Users\\Nicolò Caradonna\\AppData\\Local\\Temp\\ipykernel_12784\\1332658854.py:5: SettingWithCopyWarning: \n",
      "A value is trying to be set on a copy of a slice from a DataFrame\n",
      "\n",
      "See the caveats in the documentation: https://pandas.pydata.org/pandas-docs/stable/user_guide/indexing.html#returning-a-view-versus-a-copy\n",
      "  pdh_slogan.rename(columns={\"std_probable_cause_no\": \"slogan\"}, inplace=True)\n"
     ]
    }
   ],
   "source": [
    "mob_slogan.rename(columns={\"mob_slogan\": \"slogan\"}, inplace=True)\n",
    "adsl_slogan.rename(columns={\"std_probable_cause_no\": \"slogan\"}, inplace=True)\n",
    "ptn_slogan.rename(columns={\"std_probable_cause_no\": \"slogan\"}, inplace=True)\n",
    "sdh_slogan.rename(columns={\"std_probable_cause_no\": \"slogan\"}, inplace=True)\n",
    "pdh_slogan.rename(columns={\"std_probable_cause_no\": \"slogan\"}, inplace=True)\n",
    "\n"
   ]
  },
  {
   "cell_type": "code",
   "execution_count": 11,
   "metadata": {},
   "outputs": [
    {
     "data": {
      "text/html": [
       "<div>\n",
       "<style scoped>\n",
       "    .dataframe tbody tr th:only-of-type {\n",
       "        vertical-align: middle;\n",
       "    }\n",
       "\n",
       "    .dataframe tbody tr th {\n",
       "        vertical-align: top;\n",
       "    }\n",
       "\n",
       "    .dataframe thead th {\n",
       "        text-align: right;\n",
       "    }\n",
       "</style>\n",
       "<table border=\"1\" class=\"dataframe\">\n",
       "  <thead>\n",
       "    <tr style=\"text-align: right;\">\n",
       "      <th></th>\n",
       "      <th>alarm_id</th>\n",
       "      <th>slogan</th>\n",
       "    </tr>\n",
       "  </thead>\n",
       "  <tbody>\n",
       "    <tr>\n",
       "      <th>0</th>\n",
       "      <td>COS4P;86723842</td>\n",
       "      <td>fermo totale apparato</td>\n",
       "    </tr>\n",
       "    <tr>\n",
       "      <th>1</th>\n",
       "      <td>COS3P;66481069</td>\n",
       "      <td>loss of signal los</td>\n",
       "    </tr>\n",
       "    <tr>\n",
       "      <th>2</th>\n",
       "      <td>COS4P;86723883</td>\n",
       "      <td>loss of signal los</td>\n",
       "    </tr>\n",
       "    <tr>\n",
       "      <th>3</th>\n",
       "      <td>COS4P;86723880</td>\n",
       "      <td>loss of signal los</td>\n",
       "    </tr>\n",
       "    <tr>\n",
       "      <th>4</th>\n",
       "      <td>COS4P;86723881</td>\n",
       "      <td>loss of signal los</td>\n",
       "    </tr>\n",
       "    <tr>\n",
       "      <th>...</th>\n",
       "      <td>...</td>\n",
       "      <td>...</td>\n",
       "    </tr>\n",
       "    <tr>\n",
       "      <th>9326841</th>\n",
       "      <td>EFMTX;6591efa50d1c1f0001da3661</td>\n",
       "      <td>loss of signal los</td>\n",
       "    </tr>\n",
       "    <tr>\n",
       "      <th>9326842</th>\n",
       "      <td>EFMTX;6591f1e60d1c1f0001da3841</td>\n",
       "      <td>allarme alimentazione</td>\n",
       "    </tr>\n",
       "    <tr>\n",
       "      <th>9326843</th>\n",
       "      <td>EFMTX;6591f101975f5100015a4868</td>\n",
       "      <td>apparato isolato</td>\n",
       "    </tr>\n",
       "    <tr>\n",
       "      <th>9326844</th>\n",
       "      <td>EFMTX;6591f092feea70000175b052</td>\n",
       "      <td>allarme alimentazione</td>\n",
       "    </tr>\n",
       "    <tr>\n",
       "      <th>9326845</th>\n",
       "      <td>EFMTX;658ef13bd8beb800016ac3e5</td>\n",
       "      <td>guasto ima</td>\n",
       "    </tr>\n",
       "  </tbody>\n",
       "</table>\n",
       "<p>9326846 rows × 2 columns</p>\n",
       "</div>"
      ],
      "text/plain": [
       "                               alarm_id                 slogan\n",
       "0                        COS4P;86723842  fermo totale apparato\n",
       "1                        COS3P;66481069     loss of signal los\n",
       "2                        COS4P;86723883     loss of signal los\n",
       "3                        COS4P;86723880     loss of signal los\n",
       "4                        COS4P;86723881     loss of signal los\n",
       "...                                 ...                    ...\n",
       "9326841  EFMTX;6591efa50d1c1f0001da3661     loss of signal los\n",
       "9326842  EFMTX;6591f1e60d1c1f0001da3841  allarme alimentazione\n",
       "9326843  EFMTX;6591f101975f5100015a4868       apparato isolato\n",
       "9326844  EFMTX;6591f092feea70000175b052  allarme alimentazione\n",
       "9326845  EFMTX;658ef13bd8beb800016ac3e5             guasto ima\n",
       "\n",
       "[9326846 rows x 2 columns]"
      ]
     },
     "execution_count": 11,
     "metadata": {},
     "output_type": "execute_result"
    }
   ],
   "source": [
    "adsl_slogan"
   ]
  },
  {
   "cell_type": "code",
   "execution_count": 12,
   "metadata": {},
   "outputs": [],
   "source": [
    "alarms_slogan = pd.concat([mob_slogan, adsl_slogan, ptn_slogan, sdh_slogan, pdh_slogan])"
   ]
  },
  {
   "cell_type": "code",
   "execution_count": 13,
   "metadata": {},
   "outputs": [
    {
     "data": {
      "text/html": [
       "<div>\n",
       "<style scoped>\n",
       "    .dataframe tbody tr th:only-of-type {\n",
       "        vertical-align: middle;\n",
       "    }\n",
       "\n",
       "    .dataframe tbody tr th {\n",
       "        vertical-align: top;\n",
       "    }\n",
       "\n",
       "    .dataframe thead th {\n",
       "        text-align: right;\n",
       "    }\n",
       "</style>\n",
       "<table border=\"1\" class=\"dataframe\">\n",
       "  <thead>\n",
       "    <tr style=\"text-align: right;\">\n",
       "      <th></th>\n",
       "      <th>alarm_id</th>\n",
       "      <th>slogan</th>\n",
       "    </tr>\n",
       "  </thead>\n",
       "  <tbody>\n",
       "    <tr>\n",
       "      <th>0</th>\n",
       "      <td>EFM;63b098b01a65d200011620f8</td>\n",
       "      <td>NaN</td>\n",
       "    </tr>\n",
       "    <tr>\n",
       "      <th>1</th>\n",
       "      <td>EFM;63b0b476c623b40001a68b45</td>\n",
       "      <td>NaN</td>\n",
       "    </tr>\n",
       "    <tr>\n",
       "      <th>2</th>\n",
       "      <td>EFM;63b0b5a8c623b40001a68b9b</td>\n",
       "      <td>NaN</td>\n",
       "    </tr>\n",
       "    <tr>\n",
       "      <th>3</th>\n",
       "      <td>EFM;63b0b5c6c623b40001a68ba2</td>\n",
       "      <td>NaN</td>\n",
       "    </tr>\n",
       "    <tr>\n",
       "      <th>4</th>\n",
       "      <td>EFM;63b0b675c623b40001a68c03</td>\n",
       "      <td>NaN</td>\n",
       "    </tr>\n",
       "    <tr>\n",
       "      <th>...</th>\n",
       "      <td>...</td>\n",
       "      <td>...</td>\n",
       "    </tr>\n",
       "    <tr>\n",
       "      <th>805948</th>\n",
       "      <td>EFMTX;6483fbf332d3d9000193e3a2</td>\n",
       "      <td>fama no alarm since hh</td>\n",
       "    </tr>\n",
       "    <tr>\n",
       "      <th>805949</th>\n",
       "      <td>EFMTX;64c92bbe008e1d0001c7ff49</td>\n",
       "      <td>offline sw fama nport</td>\n",
       "    </tr>\n",
       "    <tr>\n",
       "      <th>805950</th>\n",
       "      <td>EFMTX;65661efc590d4500011934d1</td>\n",
       "      <td>fama no alarm since hh</td>\n",
       "    </tr>\n",
       "    <tr>\n",
       "      <th>805951</th>\n",
       "      <td>EFMTX;6591f1b6975f5100015a48b6</td>\n",
       "      <td>signal degraded</td>\n",
       "    </tr>\n",
       "    <tr>\n",
       "      <th>805952</th>\n",
       "      <td>EFMTX;658f5efad7d6bc0001921429</td>\n",
       "      <td>ser guasto della ser</td>\n",
       "    </tr>\n",
       "  </tbody>\n",
       "</table>\n",
       "<p>49966959 rows × 2 columns</p>\n",
       "</div>"
      ],
      "text/plain": [
       "                              alarm_id                  slogan\n",
       "0         EFM;63b098b01a65d200011620f8                     NaN\n",
       "1         EFM;63b0b476c623b40001a68b45                     NaN\n",
       "2         EFM;63b0b5a8c623b40001a68b9b                     NaN\n",
       "3         EFM;63b0b5c6c623b40001a68ba2                     NaN\n",
       "4         EFM;63b0b675c623b40001a68c03                     NaN\n",
       "...                                ...                     ...\n",
       "805948  EFMTX;6483fbf332d3d9000193e3a2  fama no alarm since hh\n",
       "805949  EFMTX;64c92bbe008e1d0001c7ff49   offline sw fama nport\n",
       "805950  EFMTX;65661efc590d4500011934d1  fama no alarm since hh\n",
       "805951  EFMTX;6591f1b6975f5100015a48b6         signal degraded\n",
       "805952  EFMTX;658f5efad7d6bc0001921429    ser guasto della ser\n",
       "\n",
       "[49966959 rows x 2 columns]"
      ]
     },
     "execution_count": 13,
     "metadata": {},
     "output_type": "execute_result"
    }
   ],
   "source": [
    "alarms_slogan"
   ]
  },
  {
   "cell_type": "code",
   "execution_count": 14,
   "metadata": {},
   "outputs": [],
   "source": [
    "alarms_slogan.to_parquet(\"alarms datasets/alarms_slogan.parquet\")"
   ]
  },
  {
   "cell_type": "code",
   "execution_count": 14,
   "metadata": {},
   "outputs": [
    {
     "ename": "KeyboardInterrupt",
     "evalue": "",
     "output_type": "error",
     "traceback": [
      "\u001b[1;31m---------------------------------------------------------------------------\u001b[0m",
      "\u001b[1;31mKeyboardInterrupt\u001b[0m                         Traceback (most recent call last)",
      "Cell \u001b[1;32mIn[14], line 1\u001b[0m\n\u001b[1;32m----> 1\u001b[0m alarms_slogan \u001b[38;5;241m=\u001b[39m \u001b[43mpd\u001b[49m\u001b[38;5;241;43m.\u001b[39;49m\u001b[43mread_parquet\u001b[49m\u001b[43m(\u001b[49m\u001b[38;5;124;43m\"\u001b[39;49m\u001b[38;5;124;43malarms datasets/alarms_slogan.parquet\u001b[39;49m\u001b[38;5;124;43m\"\u001b[39;49m\u001b[43m)\u001b[49m\n",
      "File \u001b[1;32mc:\\VirtualEnvironment\\envs\\TIM_thesis\\Lib\\site-packages\\pandas\\io\\parquet.py:667\u001b[0m, in \u001b[0;36mread_parquet\u001b[1;34m(path, engine, columns, storage_options, use_nullable_dtypes, dtype_backend, filesystem, filters, **kwargs)\u001b[0m\n\u001b[0;32m    664\u001b[0m     use_nullable_dtypes \u001b[38;5;241m=\u001b[39m \u001b[38;5;28;01mFalse\u001b[39;00m\n\u001b[0;32m    665\u001b[0m check_dtype_backend(dtype_backend)\n\u001b[1;32m--> 667\u001b[0m \u001b[38;5;28;01mreturn\u001b[39;00m \u001b[43mimpl\u001b[49m\u001b[38;5;241;43m.\u001b[39;49m\u001b[43mread\u001b[49m\u001b[43m(\u001b[49m\n\u001b[0;32m    668\u001b[0m \u001b[43m    \u001b[49m\u001b[43mpath\u001b[49m\u001b[43m,\u001b[49m\n\u001b[0;32m    669\u001b[0m \u001b[43m    \u001b[49m\u001b[43mcolumns\u001b[49m\u001b[38;5;241;43m=\u001b[39;49m\u001b[43mcolumns\u001b[49m\u001b[43m,\u001b[49m\n\u001b[0;32m    670\u001b[0m \u001b[43m    \u001b[49m\u001b[43mfilters\u001b[49m\u001b[38;5;241;43m=\u001b[39;49m\u001b[43mfilters\u001b[49m\u001b[43m,\u001b[49m\n\u001b[0;32m    671\u001b[0m \u001b[43m    \u001b[49m\u001b[43mstorage_options\u001b[49m\u001b[38;5;241;43m=\u001b[39;49m\u001b[43mstorage_options\u001b[49m\u001b[43m,\u001b[49m\n\u001b[0;32m    672\u001b[0m \u001b[43m    \u001b[49m\u001b[43muse_nullable_dtypes\u001b[49m\u001b[38;5;241;43m=\u001b[39;49m\u001b[43muse_nullable_dtypes\u001b[49m\u001b[43m,\u001b[49m\n\u001b[0;32m    673\u001b[0m \u001b[43m    \u001b[49m\u001b[43mdtype_backend\u001b[49m\u001b[38;5;241;43m=\u001b[39;49m\u001b[43mdtype_backend\u001b[49m\u001b[43m,\u001b[49m\n\u001b[0;32m    674\u001b[0m \u001b[43m    \u001b[49m\u001b[43mfilesystem\u001b[49m\u001b[38;5;241;43m=\u001b[39;49m\u001b[43mfilesystem\u001b[49m\u001b[43m,\u001b[49m\n\u001b[0;32m    675\u001b[0m \u001b[43m    \u001b[49m\u001b[38;5;241;43m*\u001b[39;49m\u001b[38;5;241;43m*\u001b[39;49m\u001b[43mkwargs\u001b[49m\u001b[43m,\u001b[49m\n\u001b[0;32m    676\u001b[0m \u001b[43m\u001b[49m\u001b[43m)\u001b[49m\n",
      "File \u001b[1;32mc:\\VirtualEnvironment\\envs\\TIM_thesis\\Lib\\site-packages\\pandas\\io\\parquet.py:281\u001b[0m, in \u001b[0;36mPyArrowImpl.read\u001b[1;34m(self, path, columns, filters, use_nullable_dtypes, dtype_backend, storage_options, filesystem, **kwargs)\u001b[0m\n\u001b[0;32m    273\u001b[0m \u001b[38;5;28;01mtry\u001b[39;00m:\n\u001b[0;32m    274\u001b[0m     pa_table \u001b[38;5;241m=\u001b[39m \u001b[38;5;28mself\u001b[39m\u001b[38;5;241m.\u001b[39mapi\u001b[38;5;241m.\u001b[39mparquet\u001b[38;5;241m.\u001b[39mread_table(\n\u001b[0;32m    275\u001b[0m         path_or_handle,\n\u001b[0;32m    276\u001b[0m         columns\u001b[38;5;241m=\u001b[39mcolumns,\n\u001b[1;32m   (...)\u001b[0m\n\u001b[0;32m    279\u001b[0m         \u001b[38;5;241m*\u001b[39m\u001b[38;5;241m*\u001b[39mkwargs,\n\u001b[0;32m    280\u001b[0m     )\n\u001b[1;32m--> 281\u001b[0m     result \u001b[38;5;241m=\u001b[39m \u001b[43mpa_table\u001b[49m\u001b[38;5;241;43m.\u001b[39;49m\u001b[43mto_pandas\u001b[49m\u001b[43m(\u001b[49m\u001b[38;5;241;43m*\u001b[39;49m\u001b[38;5;241;43m*\u001b[39;49m\u001b[43mto_pandas_kwargs\u001b[49m\u001b[43m)\u001b[49m\n\u001b[0;32m    283\u001b[0m     \u001b[38;5;28;01mif\u001b[39;00m manager \u001b[38;5;241m==\u001b[39m \u001b[38;5;124m\"\u001b[39m\u001b[38;5;124marray\u001b[39m\u001b[38;5;124m\"\u001b[39m:\n\u001b[0;32m    284\u001b[0m         result \u001b[38;5;241m=\u001b[39m result\u001b[38;5;241m.\u001b[39m_as_manager(\u001b[38;5;124m\"\u001b[39m\u001b[38;5;124marray\u001b[39m\u001b[38;5;124m\"\u001b[39m, copy\u001b[38;5;241m=\u001b[39m\u001b[38;5;28;01mFalse\u001b[39;00m)\n",
      "File \u001b[1;32mc:\\VirtualEnvironment\\envs\\TIM_thesis\\Lib\\site-packages\\pyarrow\\array.pxi:883\u001b[0m, in \u001b[0;36mpyarrow.lib._PandasConvertible.to_pandas\u001b[1;34m()\u001b[0m\n",
      "File \u001b[1;32mc:\\VirtualEnvironment\\envs\\TIM_thesis\\Lib\\site-packages\\pyarrow\\table.pxi:4251\u001b[0m, in \u001b[0;36mpyarrow.lib.Table._to_pandas\u001b[1;34m()\u001b[0m\n",
      "File \u001b[1;32mc:\\VirtualEnvironment\\envs\\TIM_thesis\\Lib\\site-packages\\pyarrow\\pandas_compat.py:777\u001b[0m, in \u001b[0;36mtable_to_dataframe\u001b[1;34m(options, table, categories, ignore_metadata, types_mapper)\u001b[0m\n\u001b[0;32m    775\u001b[0m _check_data_column_metadata_consistency(all_columns)\n\u001b[0;32m    776\u001b[0m columns \u001b[38;5;241m=\u001b[39m _deserialize_column_index(table, all_columns, column_indexes)\n\u001b[1;32m--> 777\u001b[0m blocks \u001b[38;5;241m=\u001b[39m \u001b[43m_table_to_blocks\u001b[49m\u001b[43m(\u001b[49m\u001b[43moptions\u001b[49m\u001b[43m,\u001b[49m\u001b[43m \u001b[49m\u001b[43mtable\u001b[49m\u001b[43m,\u001b[49m\u001b[43m \u001b[49m\u001b[43mcategories\u001b[49m\u001b[43m,\u001b[49m\u001b[43m \u001b[49m\u001b[43mext_columns_dtypes\u001b[49m\u001b[43m)\u001b[49m\n\u001b[0;32m    779\u001b[0m axes \u001b[38;5;241m=\u001b[39m [columns, index]\n\u001b[0;32m    780\u001b[0m mgr \u001b[38;5;241m=\u001b[39m BlockManager(blocks, axes)\n",
      "File \u001b[1;32mc:\\VirtualEnvironment\\envs\\TIM_thesis\\Lib\\site-packages\\pyarrow\\pandas_compat.py:1131\u001b[0m, in \u001b[0;36m_table_to_blocks\u001b[1;34m(options, block_table, categories, extension_columns)\u001b[0m\n\u001b[0;32m   1126\u001b[0m \u001b[38;5;28;01mdef\u001b[39;00m \u001b[38;5;21m_table_to_blocks\u001b[39m(options, block_table, categories, extension_columns):\n\u001b[0;32m   1127\u001b[0m     \u001b[38;5;66;03m# Part of table_to_blockmanager\u001b[39;00m\n\u001b[0;32m   1128\u001b[0m \n\u001b[0;32m   1129\u001b[0m     \u001b[38;5;66;03m# Convert an arrow table to Block from the internal pandas API\u001b[39;00m\n\u001b[0;32m   1130\u001b[0m     columns \u001b[38;5;241m=\u001b[39m block_table\u001b[38;5;241m.\u001b[39mcolumn_names\n\u001b[1;32m-> 1131\u001b[0m     result \u001b[38;5;241m=\u001b[39m \u001b[43mpa\u001b[49m\u001b[38;5;241;43m.\u001b[39;49m\u001b[43mlib\u001b[49m\u001b[38;5;241;43m.\u001b[39;49m\u001b[43mtable_to_blocks\u001b[49m\u001b[43m(\u001b[49m\u001b[43moptions\u001b[49m\u001b[43m,\u001b[49m\u001b[43m \u001b[49m\u001b[43mblock_table\u001b[49m\u001b[43m,\u001b[49m\u001b[43m \u001b[49m\u001b[43mcategories\u001b[49m\u001b[43m,\u001b[49m\n\u001b[0;32m   1132\u001b[0m \u001b[43m                                    \u001b[49m\u001b[38;5;28;43mlist\u001b[39;49m\u001b[43m(\u001b[49m\u001b[43mextension_columns\u001b[49m\u001b[38;5;241;43m.\u001b[39;49m\u001b[43mkeys\u001b[49m\u001b[43m(\u001b[49m\u001b[43m)\u001b[49m\u001b[43m)\u001b[49m\u001b[43m)\u001b[49m\n\u001b[0;32m   1133\u001b[0m     \u001b[38;5;28;01mreturn\u001b[39;00m [_reconstruct_block(item, columns, extension_columns)\n\u001b[0;32m   1134\u001b[0m             \u001b[38;5;28;01mfor\u001b[39;00m item \u001b[38;5;129;01min\u001b[39;00m result]\n",
      "\u001b[1;31mKeyboardInterrupt\u001b[0m: "
     ]
    }
   ],
   "source": [
    "alarms_slogan = pd.read_parquet(\"alarms datasets/alarms_slogan.parquet\")"
   ]
  },
  {
   "cell_type": "code",
   "execution_count": 7,
   "metadata": {},
   "outputs": [],
   "source": [
    "alarms_slogan = alarms_slogan.drop(\"alarm_id\", axis=1)"
   ]
  },
  {
   "cell_type": "code",
   "execution_count": 8,
   "metadata": {},
   "outputs": [
    {
     "data": {
      "text/html": [
       "<div>\n",
       "<style scoped>\n",
       "    .dataframe tbody tr th:only-of-type {\n",
       "        vertical-align: middle;\n",
       "    }\n",
       "\n",
       "    .dataframe tbody tr th {\n",
       "        vertical-align: top;\n",
       "    }\n",
       "\n",
       "    .dataframe thead th {\n",
       "        text-align: right;\n",
       "    }\n",
       "</style>\n",
       "<table border=\"1\" class=\"dataframe\">\n",
       "  <thead>\n",
       "    <tr style=\"text-align: right;\">\n",
       "      <th></th>\n",
       "      <th>slogan</th>\n",
       "    </tr>\n",
       "  </thead>\n",
       "  <tbody>\n",
       "    <tr>\n",
       "      <th>0</th>\n",
       "      <td>None</td>\n",
       "    </tr>\n",
       "    <tr>\n",
       "      <th>1</th>\n",
       "      <td>None</td>\n",
       "    </tr>\n",
       "    <tr>\n",
       "      <th>2</th>\n",
       "      <td>None</td>\n",
       "    </tr>\n",
       "    <tr>\n",
       "      <th>3</th>\n",
       "      <td>None</td>\n",
       "    </tr>\n",
       "    <tr>\n",
       "      <th>4</th>\n",
       "      <td>None</td>\n",
       "    </tr>\n",
       "    <tr>\n",
       "      <th>...</th>\n",
       "      <td>...</td>\n",
       "    </tr>\n",
       "    <tr>\n",
       "      <th>805948</th>\n",
       "      <td>fama no alarm since hh</td>\n",
       "    </tr>\n",
       "    <tr>\n",
       "      <th>805949</th>\n",
       "      <td>offline sw fama nport</td>\n",
       "    </tr>\n",
       "    <tr>\n",
       "      <th>805950</th>\n",
       "      <td>fama no alarm since hh</td>\n",
       "    </tr>\n",
       "    <tr>\n",
       "      <th>805951</th>\n",
       "      <td>signal degraded</td>\n",
       "    </tr>\n",
       "    <tr>\n",
       "      <th>805952</th>\n",
       "      <td>ser guasto della ser</td>\n",
       "    </tr>\n",
       "  </tbody>\n",
       "</table>\n",
       "<p>49966959 rows × 1 columns</p>\n",
       "</div>"
      ],
      "text/plain": [
       "                        slogan\n",
       "0                         None\n",
       "1                         None\n",
       "2                         None\n",
       "3                         None\n",
       "4                         None\n",
       "...                        ...\n",
       "805948  fama no alarm since hh\n",
       "805949   offline sw fama nport\n",
       "805950  fama no alarm since hh\n",
       "805951         signal degraded\n",
       "805952    ser guasto della ser\n",
       "\n",
       "[49966959 rows x 1 columns]"
      ]
     },
     "execution_count": 8,
     "metadata": {},
     "output_type": "execute_result"
    }
   ],
   "source": [
    "alarms_slogan"
   ]
  },
  {
   "cell_type": "markdown",
   "metadata": {},
   "source": [
    "## Associate for each Cluster a bitmap with the slogans "
   ]
  },
  {
   "cell_type": "code",
   "execution_count": 11,
   "metadata": {},
   "outputs": [],
   "source": [
    "alarms_slogan = pd.read_parquet(\"alarms datasets/alarms_slogan.parquet\")"
   ]
  },
  {
   "cell_type": "code",
   "execution_count": 12,
   "metadata": {},
   "outputs": [
    {
     "data": {
      "text/html": [
       "<div>\n",
       "<style scoped>\n",
       "    .dataframe tbody tr th:only-of-type {\n",
       "        vertical-align: middle;\n",
       "    }\n",
       "\n",
       "    .dataframe tbody tr th {\n",
       "        vertical-align: top;\n",
       "    }\n",
       "\n",
       "    .dataframe thead th {\n",
       "        text-align: right;\n",
       "    }\n",
       "</style>\n",
       "<table border=\"1\" class=\"dataframe\">\n",
       "  <thead>\n",
       "    <tr style=\"text-align: right;\">\n",
       "      <th></th>\n",
       "      <th>alarm_id</th>\n",
       "      <th>slogan</th>\n",
       "    </tr>\n",
       "  </thead>\n",
       "  <tbody>\n",
       "    <tr>\n",
       "      <th>0</th>\n",
       "      <td>EFM;63b098b01a65d200011620f8</td>\n",
       "      <td>None</td>\n",
       "    </tr>\n",
       "    <tr>\n",
       "      <th>1</th>\n",
       "      <td>EFM;63b0b476c623b40001a68b45</td>\n",
       "      <td>None</td>\n",
       "    </tr>\n",
       "    <tr>\n",
       "      <th>2</th>\n",
       "      <td>EFM;63b0b5a8c623b40001a68b9b</td>\n",
       "      <td>None</td>\n",
       "    </tr>\n",
       "    <tr>\n",
       "      <th>3</th>\n",
       "      <td>EFM;63b0b5c6c623b40001a68ba2</td>\n",
       "      <td>None</td>\n",
       "    </tr>\n",
       "    <tr>\n",
       "      <th>4</th>\n",
       "      <td>EFM;63b0b675c623b40001a68c03</td>\n",
       "      <td>None</td>\n",
       "    </tr>\n",
       "    <tr>\n",
       "      <th>...</th>\n",
       "      <td>...</td>\n",
       "      <td>...</td>\n",
       "    </tr>\n",
       "    <tr>\n",
       "      <th>805948</th>\n",
       "      <td>EFMTX;6483fbf332d3d9000193e3a2</td>\n",
       "      <td>fama no alarm since hh</td>\n",
       "    </tr>\n",
       "    <tr>\n",
       "      <th>805949</th>\n",
       "      <td>EFMTX;64c92bbe008e1d0001c7ff49</td>\n",
       "      <td>offline sw fama nport</td>\n",
       "    </tr>\n",
       "    <tr>\n",
       "      <th>805950</th>\n",
       "      <td>EFMTX;65661efc590d4500011934d1</td>\n",
       "      <td>fama no alarm since hh</td>\n",
       "    </tr>\n",
       "    <tr>\n",
       "      <th>805951</th>\n",
       "      <td>EFMTX;6591f1b6975f5100015a48b6</td>\n",
       "      <td>signal degraded</td>\n",
       "    </tr>\n",
       "    <tr>\n",
       "      <th>805952</th>\n",
       "      <td>EFMTX;658f5efad7d6bc0001921429</td>\n",
       "      <td>ser guasto della ser</td>\n",
       "    </tr>\n",
       "  </tbody>\n",
       "</table>\n",
       "<p>49966959 rows × 2 columns</p>\n",
       "</div>"
      ],
      "text/plain": [
       "                              alarm_id                  slogan\n",
       "0         EFM;63b098b01a65d200011620f8                    None\n",
       "1         EFM;63b0b476c623b40001a68b45                    None\n",
       "2         EFM;63b0b5a8c623b40001a68b9b                    None\n",
       "3         EFM;63b0b5c6c623b40001a68ba2                    None\n",
       "4         EFM;63b0b675c623b40001a68c03                    None\n",
       "...                                ...                     ...\n",
       "805948  EFMTX;6483fbf332d3d9000193e3a2  fama no alarm since hh\n",
       "805949  EFMTX;64c92bbe008e1d0001c7ff49   offline sw fama nport\n",
       "805950  EFMTX;65661efc590d4500011934d1  fama no alarm since hh\n",
       "805951  EFMTX;6591f1b6975f5100015a48b6         signal degraded\n",
       "805952  EFMTX;658f5efad7d6bc0001921429    ser guasto della ser\n",
       "\n",
       "[49966959 rows x 2 columns]"
      ]
     },
     "execution_count": 12,
     "metadata": {},
     "output_type": "execute_result"
    }
   ],
   "source": [
    "alarms_slogan"
   ]
  },
  {
   "cell_type": "code",
   "execution_count": 13,
   "metadata": {},
   "outputs": [],
   "source": [
    "grouped_alarms = alarms_slogan.groupby(\"alarm_id\")"
   ]
  },
  {
   "cell_type": "code",
   "execution_count": 6,
   "metadata": {},
   "outputs": [
    {
     "data": {
      "text/plain": [
       "alarm_id\n",
       "COS1B;107016710                   1\n",
       "EFMTX;644ea414adefac00017e2cdf    1\n",
       "EFMTX;644ea3da4ed0ed00011c5a22    1\n",
       "EFMTX;644ea4044ed0ed00011c5a40    1\n",
       "EFMTX;644ea405e9081200013c14d7    1\n",
       "                                 ..\n",
       "EFM;64a2ac80a4a90400015bf004      1\n",
       "EFM;64a2ac813a4a890001d85ae4      1\n",
       "EFM;64a2ac813a4a890001d85ae5      1\n",
       "EFM;64a2ac822a3b2e00012a2726      1\n",
       "ROS1P;172620901                   1\n",
       "Length: 49966959, dtype: int64"
      ]
     },
     "execution_count": 6,
     "metadata": {},
     "output_type": "execute_result"
    }
   ],
   "source": [
    "grouped_alarms.size().sort_values(ascending=False)"
   ]
  },
  {
   "cell_type": "code",
   "execution_count": 14,
   "metadata": {},
   "outputs": [],
   "source": [
    "clusters_filtered = clusters[[\"alarm_id\", \"cluster_id\", \"cluster_id2\"]]"
   ]
  },
  {
   "cell_type": "code",
   "execution_count": 15,
   "metadata": {},
   "outputs": [
    {
     "data": {
      "text/html": [
       "<div>\n",
       "<style scoped>\n",
       "    .dataframe tbody tr th:only-of-type {\n",
       "        vertical-align: middle;\n",
       "    }\n",
       "\n",
       "    .dataframe tbody tr th {\n",
       "        vertical-align: top;\n",
       "    }\n",
       "\n",
       "    .dataframe thead th {\n",
       "        text-align: right;\n",
       "    }\n",
       "</style>\n",
       "<table border=\"1\" class=\"dataframe\">\n",
       "  <thead>\n",
       "    <tr style=\"text-align: right;\">\n",
       "      <th></th>\n",
       "      <th>alarm_id</th>\n",
       "      <th>cluster_id</th>\n",
       "      <th>cluster_id2</th>\n",
       "    </tr>\n",
       "  </thead>\n",
       "  <tbody>\n",
       "    <tr>\n",
       "      <th>0</th>\n",
       "      <td>EFM;63af9dfe2aaf2c000125807a</td>\n",
       "      <td>202301010000_3</td>\n",
       "      <td>202301010000_1</td>\n",
       "    </tr>\n",
       "    <tr>\n",
       "      <th>1</th>\n",
       "      <td>EFM;63af9dfec623b40001a5c9cf</td>\n",
       "      <td>202301010000_3</td>\n",
       "      <td>202301010000_1</td>\n",
       "    </tr>\n",
       "    <tr>\n",
       "      <th>2</th>\n",
       "      <td>COS1P;136902468</td>\n",
       "      <td>202301010000_20</td>\n",
       "      <td>202301010000_2</td>\n",
       "    </tr>\n",
       "    <tr>\n",
       "      <th>3</th>\n",
       "      <td>EFM;63b0beaf2aaf2c0001258736</td>\n",
       "      <td>202301010000_9</td>\n",
       "      <td>202301010000_3</td>\n",
       "    </tr>\n",
       "    <tr>\n",
       "      <th>4</th>\n",
       "      <td>COS1P;136891403</td>\n",
       "      <td>202301010000_21</td>\n",
       "      <td>202301010000_4</td>\n",
       "    </tr>\n",
       "    <tr>\n",
       "      <th>...</th>\n",
       "      <td>...</td>\n",
       "      <td>...</td>\n",
       "      <td>...</td>\n",
       "    </tr>\n",
       "    <tr>\n",
       "      <th>38</th>\n",
       "      <td>EFMTX;6591efb9d7d6bc00019444d8</td>\n",
       "      <td>202312312350_16</td>\n",
       "      <td>202312312350_13</td>\n",
       "    </tr>\n",
       "    <tr>\n",
       "      <th>39</th>\n",
       "      <td>EFMTX;6591f046d8beb800016deaef</td>\n",
       "      <td>202312312348_17</td>\n",
       "      <td>202312312344_9</td>\n",
       "    </tr>\n",
       "    <tr>\n",
       "      <th>40</th>\n",
       "      <td>EFM;6591f199d4c961000177739d</td>\n",
       "      <td>202312312358_1</td>\n",
       "      <td>202312312358_13</td>\n",
       "    </tr>\n",
       "    <tr>\n",
       "      <th>41</th>\n",
       "      <td>EFM;6591f19aba09b0000160c08d</td>\n",
       "      <td>202312312358_1</td>\n",
       "      <td>202312312358_13</td>\n",
       "    </tr>\n",
       "    <tr>\n",
       "      <th>42</th>\n",
       "      <td>EFMTX;6591ef19d7d6bc000194445c</td>\n",
       "      <td>202312312358_28</td>\n",
       "      <td>202312312358_14</td>\n",
       "    </tr>\n",
       "  </tbody>\n",
       "</table>\n",
       "<p>13123614 rows × 3 columns</p>\n",
       "</div>"
      ],
      "text/plain": [
       "                          alarm_id       cluster_id      cluster_id2\n",
       "0     EFM;63af9dfe2aaf2c000125807a   202301010000_3   202301010000_1\n",
       "1     EFM;63af9dfec623b40001a5c9cf   202301010000_3   202301010000_1\n",
       "2                  COS1P;136902468  202301010000_20   202301010000_2\n",
       "3     EFM;63b0beaf2aaf2c0001258736   202301010000_9   202301010000_3\n",
       "4                  COS1P;136891403  202301010000_21   202301010000_4\n",
       "..                             ...              ...              ...\n",
       "38  EFMTX;6591efb9d7d6bc00019444d8  202312312350_16  202312312350_13\n",
       "39  EFMTX;6591f046d8beb800016deaef  202312312348_17   202312312344_9\n",
       "40    EFM;6591f199d4c961000177739d   202312312358_1  202312312358_13\n",
       "41    EFM;6591f19aba09b0000160c08d   202312312358_1  202312312358_13\n",
       "42  EFMTX;6591ef19d7d6bc000194445c  202312312358_28  202312312358_14\n",
       "\n",
       "[13123614 rows x 3 columns]"
      ]
     },
     "execution_count": 15,
     "metadata": {},
     "output_type": "execute_result"
    }
   ],
   "source": [
    "clusters_filtered"
   ]
  },
  {
   "cell_type": "code",
   "execution_count": 16,
   "metadata": {},
   "outputs": [],
   "source": [
    "clusters_with_slogans = pd.merge(clusters_filtered, alarms_slogan, on='alarm_id', how='left')"
   ]
  },
  {
   "cell_type": "code",
   "execution_count": 4,
   "metadata": {},
   "outputs": [
    {
     "ename": "NameError",
     "evalue": "name 'clusters_with_slogans' is not defined",
     "output_type": "error",
     "traceback": [
      "\u001b[1;31m---------------------------------------------------------------------------\u001b[0m",
      "\u001b[1;31mNameError\u001b[0m                                 Traceback (most recent call last)",
      "Cell \u001b[1;32mIn[4], line 1\u001b[0m\n\u001b[1;32m----> 1\u001b[0m \u001b[43mclusters_with_slogans\u001b[49m\u001b[38;5;241m.\u001b[39mto_parquet(\u001b[38;5;124m\"\u001b[39m\u001b[38;5;124mreal-time clusters/clusters_with_slogans.parquet\u001b[39m\u001b[38;5;124m\"\u001b[39m)\n",
      "\u001b[1;31mNameError\u001b[0m: name 'clusters_with_slogans' is not defined"
     ]
    }
   ],
   "source": [
    "clusters_with_slogans.to_parquet(\"real-time clusters/clusters_with_slogans.parquet\")"
   ]
  },
  {
   "cell_type": "code",
   "execution_count": 4,
   "metadata": {},
   "outputs": [],
   "source": [
    "clusters_with_slogans = pd.read_parquet(\"real-time clusters/clusters_with_slogans.parquet\")"
   ]
  },
  {
   "cell_type": "code",
   "execution_count": 5,
   "metadata": {},
   "outputs": [],
   "source": [
    "unique_slogans = clusters_with_slogans['slogan'].unique()"
   ]
  },
  {
   "cell_type": "code",
   "execution_count": 7,
   "metadata": {},
   "outputs": [
    {
     "data": {
      "text/plain": [
       "92"
      ]
     },
     "execution_count": 7,
     "metadata": {},
     "output_type": "execute_result"
    }
   ],
   "source": [
    "len(unique_slogans)"
   ]
  },
  {
   "cell_type": "code",
   "execution_count": 8,
   "metadata": {},
   "outputs": [],
   "source": [
    "grouped_clusters = clusters_with_slogans.groupby([\"cluster_id\", \"cluster_id2\"])"
   ]
  },
  {
   "cell_type": "code",
   "execution_count": 9,
   "metadata": {},
   "outputs": [
    {
     "name": "stderr",
     "output_type": "stream",
     "text": [
      " 53%|█████▎    | 3347790/6369401 [10:29<08:36, 5851.63it/s]  "
     ]
    }
   ],
   "source": [
    "\n",
    "# Definisci una funzione per calcolare la presenza di ciascuno slogan\n",
    "def calculate_presence(group):\n",
    "    presence = {slogan: 0 for slogan in unique_slogans}\n",
    "    for slogan in group['slogan']:\n",
    "        presence[slogan] = 1\n",
    "    return pd.Series(presence)\n",
    "\n",
    "tqdm.pandas()\n",
    "\n",
    "# Applica la funzione a ciascun gruppo e crea un nuovo dataframe con i risultati\n",
    "result_df = grouped_clusters.progress_apply(calculate_presence)\n",
    "\n",
    "result_df.index = result_df.index.map(lambda x: f\"cluster_id: {x[0]} , cluster_id2: {x[1]}\")\n",
    "\n"
   ]
  },
  {
   "cell_type": "code",
   "execution_count": null,
   "metadata": {},
   "outputs": [],
   "source": [
    "result_df.to_parquet(\"real-time clusters/result_df.parquet\")"
   ]
  }
 ],
 "metadata": {
  "kernelspec": {
   "display_name": "TIM_thesis",
   "language": "python",
   "name": "python3"
  },
  "language_info": {
   "codemirror_mode": {
    "name": "ipython",
    "version": 3
   },
   "file_extension": ".py",
   "mimetype": "text/x-python",
   "name": "python",
   "nbconvert_exporter": "python",
   "pygments_lexer": "ipython3",
   "version": "3.12.2"
  }
 },
 "nbformat": 4,
 "nbformat_minor": 2
}
