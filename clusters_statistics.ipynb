{
 "cells": [
  {
   "cell_type": "code",
   "execution_count": 2,
   "metadata": {},
   "outputs": [],
   "source": [
    "import pandas as pd\n",
    "from tqdm import tqdm"
   ]
  },
  {
   "cell_type": "markdown",
   "metadata": {},
   "source": [
    "## Load Clusters and Alarms"
   ]
  },
  {
   "cell_type": "code",
   "execution_count": 2,
   "metadata": {},
   "outputs": [],
   "source": [
    "clusters = pd.read_parquet(\"real-time clusters/20230101-20240101_real_time_clusters.parquet\")"
   ]
  },
  {
   "cell_type": "code",
   "execution_count": 3,
   "metadata": {},
   "outputs": [],
   "source": [
    "mob = pd.read_parquet(\"alarms datasets/mob/20230101-20240101_inpas_mob_preprocess__an__last_event__last_event__ext1.parquet\")"
   ]
  },
  {
   "cell_type": "code",
   "execution_count": 4,
   "metadata": {},
   "outputs": [],
   "source": [
    "adsl = pd.read_parquet(\"alarms datasets/tx/20230101-20240101_inpas_tx_preprocess__adsl__last_event__last_event__ext1.parquet\")"
   ]
  },
  {
   "cell_type": "code",
   "execution_count": 5,
   "metadata": {},
   "outputs": [],
   "source": [
    "ptn = pd.read_parquet(\"alarms datasets/tx/20230101-20240101_inpas_tx_preprocess__ptn__last_event__last_event__ext1.parquet\")"
   ]
  },
  {
   "cell_type": "code",
   "execution_count": 6,
   "metadata": {},
   "outputs": [],
   "source": [
    "sdh = pd.read_parquet(\"alarms datasets/tx/20230101-20240101_inpas_tx_preprocess__sdh__last_event__last_event__ext1.parquet\")"
   ]
  },
  {
   "cell_type": "code",
   "execution_count": 7,
   "metadata": {},
   "outputs": [],
   "source": [
    "pdh = pd.read_parquet(\"alarms datasets/tx/20230101-20240101_inpas_tx_preprocess__ptn__last_event__last_event__ext1.parquet\")"
   ]
  },
  {
   "cell_type": "code",
   "execution_count": 9,
   "metadata": {},
   "outputs": [],
   "source": [
    "mob = mob[[\"alarm_id\", \"last_occurrence\"]]"
   ]
  },
  {
   "cell_type": "code",
   "execution_count": 11,
   "metadata": {},
   "outputs": [],
   "source": [
    "adsl = adsl[[\"alarm_id\", \"last_occurrence\"]]\n",
    "ptn = ptn[[\"alarm_id\", \"last_occurrence\"]]\n",
    "sdh = sdh[[\"alarm_id\", \"last_occurrence\"]]\n",
    "pdh = pdh[[\"alarm_id\", \"last_occurrence\"]]\n"
   ]
  },
  {
   "cell_type": "code",
   "execution_count": 12,
   "metadata": {},
   "outputs": [],
   "source": [
    "alarms = pd.concat([mob, adsl, ptn, sdh, pdh])\n"
   ]
  },
  {
   "cell_type": "code",
   "execution_count": 13,
   "metadata": {},
   "outputs": [],
   "source": [
    "alarms.to_parquet(\"alarms datasets/alarms.parquet\")"
   ]
  },
  {
   "cell_type": "markdown",
   "metadata": {},
   "source": [
    "## Clusters Statistics"
   ]
  },
  {
   "cell_type": "code",
   "execution_count": 30,
   "metadata": {},
   "outputs": [],
   "source": [
    "clusters = pd.read_parquet(\"real-time clusters/20230101-20240101_real_time_clusters.parquet\")\n",
    "alarms = pd.read_parquet(\"alarms datasets/alarms.parquet\")"
   ]
  },
  {
   "cell_type": "code",
   "execution_count": 31,
   "metadata": {},
   "outputs": [],
   "source": [
    "clusters_filtered = clusters[[\"alarm_id\", \"cluster_id\", \"cluster_id2\",\"first_occurrence\"]]"
   ]
  },
  {
   "cell_type": "code",
   "execution_count": 35,
   "metadata": {},
   "outputs": [],
   "source": [
    "clusters_complete = clusters_filtered.merge(alarms, on=\"alarm_id\", how=\"left\")"
   ]
  },
  {
   "cell_type": "code",
   "execution_count": 44,
   "metadata": {},
   "outputs": [],
   "source": [
    "clusters_complete[\"first_occurrence\"] = pd.to_datetime(clusters_complete[\"first_occurrence\"])"
   ]
  },
  {
   "cell_type": "code",
   "execution_count": 54,
   "metadata": {},
   "outputs": [],
   "source": [
    "clusters_complete = clusters_complete.dropna(subset=[\"last_occurrence\"])"
   ]
  },
  {
   "cell_type": "code",
   "execution_count": 56,
   "metadata": {},
   "outputs": [],
   "source": [
    "clusters_complete.to_parquet(\"real-time clusters/clusters_complete.parquet\")"
   ]
  },
  {
   "cell_type": "markdown",
   "metadata": {},
   "source": [
    "### Clusters Size"
   ]
  },
  {
   "cell_type": "code",
   "execution_count": 57,
   "metadata": {},
   "outputs": [],
   "source": [
    "clusters_grouped_by_id = clusters_complete.groupby([\"cluster_id\", \"cluster_id2\"])"
   ]
  },
  {
   "cell_type": "code",
   "execution_count": 72,
   "metadata": {},
   "outputs": [],
   "source": [
    "clusters_grouped = clusters_grouped_by_id"
   ]
  },
  {
   "cell_type": "code",
   "execution_count": 58,
   "metadata": {},
   "outputs": [
    {
     "data": {
      "text/plain": [
       "cluster_id        cluster_id2     \n",
       "202301010000_1    202301010000_33     1\n",
       "202301010000_10   202301010000_133    1\n",
       "202301010000_104  202301010000_79     1\n",
       "202301010000_105  202301010000_80     1\n",
       "202301010000_106  202301010000_81     1\n",
       "                                     ..\n",
       "202312312358_5    202312312354_5      1\n",
       "202312312358_6    202312312354_5      1\n",
       "202312312358_7    202312312354_5      1\n",
       "202312312358_8    202312312354_7      1\n",
       "202312312358_9    202312312354_7      1\n",
       "Length: 6369371, dtype: int64"
      ]
     },
     "execution_count": 58,
     "metadata": {},
     "output_type": "execute_result"
    }
   ],
   "source": [
    "clusters_grouped_by_id.size()"
   ]
  },
  {
   "cell_type": "markdown",
   "metadata": {},
   "source": [
    "### Clusters Lifespan"
   ]
  },
  {
   "cell_type": "code",
   "execution_count": 73,
   "metadata": {},
   "outputs": [],
   "source": [
    "# Definisci una funzione per calcolare la lifespan\n",
    "def calculate_lifespan(group):\n",
    "    return group['last_occurrence'].max() - group['first_occurrence'].min()\n",
    "\n",
    "tqdm.pandas()\n",
    "\n",
    "# Raggruppa il dataframe e applica la funzione di calcolo della lifespan\n",
    "lifespan_df = clusters_grouped.apply(calculate_lifespan, include_groups=False).reset_index(name='lifespan')\n"
   ]
  },
  {
   "cell_type": "code",
   "execution_count": 75,
   "metadata": {},
   "outputs": [],
   "source": [
    "lifespan_df.to_parquet(\"real-time clusters/lifespan_df.parquet\")"
   ]
  },
  {
   "cell_type": "markdown",
   "metadata": {},
   "source": [
    "### Clusters Delta First Occurrence"
   ]
  },
  {
   "cell_type": "code",
   "execution_count": 76,
   "metadata": {},
   "outputs": [
    {
     "name": "stderr",
     "output_type": "stream",
     "text": [
      "100%|██████████| 6369371/6369371 [17:32<00:00, 6048.92it/s]\n"
     ]
    }
   ],
   "source": [
    "\n",
    "\n",
    "# Definisci una funzione per calcolare la lifespan\n",
    "def calculate_lifespan(group):\n",
    "    return group['first_occurrence'].max() - group['first_occurrence'].min()\n",
    "\n",
    "# Crea un oggetto tqdm per il DataFrame\n",
    "tqdm.pandas()\n",
    "\n",
    "# Raggruppa il dataframe e applica la funzione di calcolo della lifespan\n",
    "delta_df = clusters_grouped.progress_apply(calculate_lifespan).reset_index(name='lifespan')"
   ]
  },
  {
   "cell_type": "code",
   "execution_count": 77,
   "metadata": {},
   "outputs": [
    {
     "data": {
      "text/html": [
       "<div>\n",
       "<style scoped>\n",
       "    .dataframe tbody tr th:only-of-type {\n",
       "        vertical-align: middle;\n",
       "    }\n",
       "\n",
       "    .dataframe tbody tr th {\n",
       "        vertical-align: top;\n",
       "    }\n",
       "\n",
       "    .dataframe thead th {\n",
       "        text-align: right;\n",
       "    }\n",
       "</style>\n",
       "<table border=\"1\" class=\"dataframe\">\n",
       "  <thead>\n",
       "    <tr style=\"text-align: right;\">\n",
       "      <th></th>\n",
       "      <th>cluster_id</th>\n",
       "      <th>cluster_id2</th>\n",
       "      <th>lifespan</th>\n",
       "    </tr>\n",
       "  </thead>\n",
       "  <tbody>\n",
       "    <tr>\n",
       "      <th>0</th>\n",
       "      <td>202301010000_1</td>\n",
       "      <td>202301010000_33</td>\n",
       "      <td>0 days</td>\n",
       "    </tr>\n",
       "    <tr>\n",
       "      <th>1</th>\n",
       "      <td>202301010000_10</td>\n",
       "      <td>202301010000_133</td>\n",
       "      <td>0 days</td>\n",
       "    </tr>\n",
       "    <tr>\n",
       "      <th>2</th>\n",
       "      <td>202301010000_104</td>\n",
       "      <td>202301010000_79</td>\n",
       "      <td>0 days</td>\n",
       "    </tr>\n",
       "    <tr>\n",
       "      <th>3</th>\n",
       "      <td>202301010000_105</td>\n",
       "      <td>202301010000_80</td>\n",
       "      <td>0 days</td>\n",
       "    </tr>\n",
       "    <tr>\n",
       "      <th>4</th>\n",
       "      <td>202301010000_106</td>\n",
       "      <td>202301010000_81</td>\n",
       "      <td>0 days</td>\n",
       "    </tr>\n",
       "    <tr>\n",
       "      <th>...</th>\n",
       "      <td>...</td>\n",
       "      <td>...</td>\n",
       "      <td>...</td>\n",
       "    </tr>\n",
       "    <tr>\n",
       "      <th>6369366</th>\n",
       "      <td>202312312358_5</td>\n",
       "      <td>202312312354_5</td>\n",
       "      <td>0 days</td>\n",
       "    </tr>\n",
       "    <tr>\n",
       "      <th>6369367</th>\n",
       "      <td>202312312358_6</td>\n",
       "      <td>202312312354_5</td>\n",
       "      <td>0 days</td>\n",
       "    </tr>\n",
       "    <tr>\n",
       "      <th>6369368</th>\n",
       "      <td>202312312358_7</td>\n",
       "      <td>202312312354_5</td>\n",
       "      <td>0 days</td>\n",
       "    </tr>\n",
       "    <tr>\n",
       "      <th>6369369</th>\n",
       "      <td>202312312358_8</td>\n",
       "      <td>202312312354_7</td>\n",
       "      <td>0 days</td>\n",
       "    </tr>\n",
       "    <tr>\n",
       "      <th>6369370</th>\n",
       "      <td>202312312358_9</td>\n",
       "      <td>202312312354_7</td>\n",
       "      <td>0 days</td>\n",
       "    </tr>\n",
       "  </tbody>\n",
       "</table>\n",
       "<p>6369371 rows × 3 columns</p>\n",
       "</div>"
      ],
      "text/plain": [
       "               cluster_id       cluster_id2 lifespan\n",
       "0          202301010000_1   202301010000_33   0 days\n",
       "1         202301010000_10  202301010000_133   0 days\n",
       "2        202301010000_104   202301010000_79   0 days\n",
       "3        202301010000_105   202301010000_80   0 days\n",
       "4        202301010000_106   202301010000_81   0 days\n",
       "...                   ...               ...      ...\n",
       "6369366    202312312358_5    202312312354_5   0 days\n",
       "6369367    202312312358_6    202312312354_5   0 days\n",
       "6369368    202312312358_7    202312312354_5   0 days\n",
       "6369369    202312312358_8    202312312354_7   0 days\n",
       "6369370    202312312358_9    202312312354_7   0 days\n",
       "\n",
       "[6369371 rows x 3 columns]"
      ]
     },
     "execution_count": 77,
     "metadata": {},
     "output_type": "execute_result"
    }
   ],
   "source": [
    "delta_df"
   ]
  },
  {
   "cell_type": "code",
   "execution_count": 78,
   "metadata": {},
   "outputs": [],
   "source": [
    "delta_df.to_parquet(\"real-time clusters/delta_df.parquet\")"
   ]
  }
 ],
 "metadata": {
  "kernelspec": {
   "display_name": "TIM_thesis",
   "language": "python",
   "name": "python3"
  },
  "language_info": {
   "codemirror_mode": {
    "name": "ipython",
    "version": 3
   },
   "file_extension": ".py",
   "mimetype": "text/x-python",
   "name": "python",
   "nbconvert_exporter": "python",
   "pygments_lexer": "ipython3",
   "version": "3.12.2"
  }
 },
 "nbformat": 4,
 "nbformat_minor": 2
}
