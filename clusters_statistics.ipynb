{
 "cells": [
  {
   "cell_type": "code",
   "execution_count": 1,
   "metadata": {},
   "outputs": [],
   "source": [
    "import pandas as pd\n",
    "from tqdm import tqdm"
   ]
  },
  {
   "cell_type": "markdown",
   "metadata": {},
   "source": [
    "## Load Clusters and Alarms"
   ]
  },
  {
   "cell_type": "code",
   "execution_count": 2,
   "metadata": {},
   "outputs": [],
   "source": [
    "clusters = pd.read_parquet(\"real-time clusters/20230101-20240101_real_time_clusters.parquet\")"
   ]
  },
  {
   "cell_type": "code",
   "execution_count": 4,
   "metadata": {},
   "outputs": [],
   "source": [
    "mob = pd.read_parquet(\"alarms datasets/mob/20230101-20240101_inpas_mob_preprocess__an__last_event__last_event__ext1.parquet\")"
   ]
  },
  {
   "cell_type": "code",
   "execution_count": 3,
   "metadata": {},
   "outputs": [],
   "source": [
    "adsl = pd.read_parquet(\"alarms datasets/tx/20230101-20240101_inpas_tx_preprocess__adsl__last_event__last_event__ext1.parquet\")"
   ]
  },
  {
   "cell_type": "code",
   "execution_count": 4,
   "metadata": {},
   "outputs": [],
   "source": [
    "ptn = pd.read_parquet(\"alarms datasets/tx/20230101-20240101_inpas_tx_preprocess__ptn__last_event__last_event__ext1.parquet\")"
   ]
  },
  {
   "cell_type": "code",
   "execution_count": 5,
   "metadata": {},
   "outputs": [],
   "source": [
    "sdh = pd.read_parquet(\"alarms datasets/tx/20230101-20240101_inpas_tx_preprocess__sdh__last_event__last_event__ext1.parquet\")"
   ]
  },
  {
   "cell_type": "code",
   "execution_count": 6,
   "metadata": {},
   "outputs": [],
   "source": [
    "pdh = pd.read_parquet(\"alarms datasets/tx/20230101-20240101_inpas_tx_preprocess__pdh__last_event__last_event__ext1.parquet\")"
   ]
  },
  {
   "cell_type": "code",
   "execution_count": 9,
   "metadata": {},
   "outputs": [],
   "source": [
    "mob = mob[[\"alarm_id\", \"last_occurrence\"]]"
   ]
  },
  {
   "cell_type": "code",
   "execution_count": 11,
   "metadata": {},
   "outputs": [],
   "source": [
    "adsl = adsl[[\"alarm_id\", \"last_occurrence\"]]\n",
    "ptn = ptn[[\"alarm_id\", \"last_occurrence\"]]\n",
    "sdh = sdh[[\"alarm_id\", \"last_occurrence\"]]\n",
    "pdh = pdh[[\"alarm_id\", \"last_occurrence\"]]\n"
   ]
  },
  {
   "cell_type": "code",
   "execution_count": 12,
   "metadata": {},
   "outputs": [],
   "source": [
    "alarms = pd.concat([mob, adsl, ptn, sdh, pdh])\n"
   ]
  },
  {
   "cell_type": "code",
   "execution_count": 13,
   "metadata": {},
   "outputs": [],
   "source": [
    "alarms.to_parquet(\"alarms datasets/alarms.parquet\")"
   ]
  },
  {
   "cell_type": "markdown",
   "metadata": {},
   "source": [
    "## Clusters Statistics"
   ]
  },
  {
   "cell_type": "code",
   "execution_count": 30,
   "metadata": {},
   "outputs": [],
   "source": [
    "clusters = pd.read_parquet(\"real-time clusters/20230101-20240101_real_time_clusters.parquet\")\n",
    "alarms = pd.read_parquet(\"alarms datasets/alarms.parquet\")"
   ]
  },
  {
   "cell_type": "code",
   "execution_count": 31,
   "metadata": {},
   "outputs": [],
   "source": [
    "clusters_filtered = clusters[[\"alarm_id\", \"cluster_id\", \"cluster_id2\",\"first_occurrence\"]]"
   ]
  },
  {
   "cell_type": "code",
   "execution_count": 35,
   "metadata": {},
   "outputs": [],
   "source": [
    "clusters_complete = clusters_filtered.merge(alarms, on=\"alarm_id\", how=\"left\")"
   ]
  },
  {
   "cell_type": "code",
   "execution_count": 44,
   "metadata": {},
   "outputs": [],
   "source": [
    "clusters_complete[\"first_occurrence\"] = pd.to_datetime(clusters_complete[\"first_occurrence\"])"
   ]
  },
  {
   "cell_type": "code",
   "execution_count": 54,
   "metadata": {},
   "outputs": [],
   "source": [
    "clusters_complete = clusters_complete.dropna(subset=[\"last_occurrence\"])"
   ]
  },
  {
   "cell_type": "code",
   "execution_count": 56,
   "metadata": {},
   "outputs": [],
   "source": [
    "clusters_complete.to_parquet(\"real-time clusters/clusters_complete.parquet\")"
   ]
  },
  {
   "cell_type": "markdown",
   "metadata": {},
   "source": [
    "### Clusters Size\n",
    "\n",
    "Number of alarms within a cluster"
   ]
  },
  {
   "cell_type": "code",
   "execution_count": 6,
   "metadata": {},
   "outputs": [],
   "source": [
    "clusters_complete = pd.read_parquet(\"real-time clusters/clusters_complete.parquet\")"
   ]
  },
  {
   "cell_type": "code",
   "execution_count": 7,
   "metadata": {},
   "outputs": [],
   "source": [
    "clusters_grouped_by_id = clusters_complete.groupby([\"cluster_id\", \"cluster_id2\"])"
   ]
  },
  {
   "cell_type": "code",
   "execution_count": 12,
   "metadata": {},
   "outputs": [],
   "source": [
    "clusters_grouped = clusters_grouped_by_id "
   ]
  },
  {
   "cell_type": "code",
   "execution_count": 13,
   "metadata": {},
   "outputs": [],
   "source": [
    "size_df = clusters_grouped_by_id.size().reset_index(name='size')"
   ]
  },
  {
   "cell_type": "code",
   "execution_count": 14,
   "metadata": {},
   "outputs": [],
   "source": [
    "size_df.to_parquet(\"real-time clusters/size_df.parquet\")"
   ]
  },
  {
   "cell_type": "markdown",
   "metadata": {},
   "source": [
    "### Clusters Lifespan\n",
    "\n",
    "Time difference from the last last_occurrence and the first first_occurrence of alarms "
   ]
  },
  {
   "cell_type": "code",
   "execution_count": 73,
   "metadata": {},
   "outputs": [],
   "source": [
    "\n",
    "def calculate_lifespan(group):\n",
    "    return group['last_occurrence'].max() - group['first_occurrence'].min()\n",
    "\n",
    "tqdm.pandas()\n",
    "\n",
    "\n",
    "lifespan_df = clusters_grouped.apply(calculate_lifespan, include_groups=False).reset_index(name='lifespan')\n"
   ]
  },
  {
   "cell_type": "code",
   "execution_count": 75,
   "metadata": {},
   "outputs": [],
   "source": [
    "lifespan_df.to_parquet(\"real-time clusters/lifespan_df.parquet\")"
   ]
  },
  {
   "cell_type": "markdown",
   "metadata": {},
   "source": [
    "### Clusters Delta First Occurrence\n",
    "\n",
    "Distance between the last available first_occurrence and the first"
   ]
  },
  {
   "cell_type": "code",
   "execution_count": 76,
   "metadata": {},
   "outputs": [
    {
     "name": "stderr",
     "output_type": "stream",
     "text": [
      "100%|██████████| 6369371/6369371 [17:32<00:00, 6048.92it/s]\n"
     ]
    }
   ],
   "source": [
    "\n",
    "\n",
    "def calculate_lifespan(group):\n",
    "    return group['first_occurrence'].max() - group['first_occurrence'].min()\n",
    "\n",
    "\n",
    "tqdm.pandas()\n",
    "\n",
    "\n",
    "delta_df = clusters_grouped.progress_apply(calculate_lifespan).reset_index(name='delta first occurrence')"
   ]
  },
  {
   "cell_type": "code",
   "execution_count": 77,
   "metadata": {},
   "outputs": [
    {
     "data": {
      "text/html": [
       "<div>\n",
       "<style scoped>\n",
       "    .dataframe tbody tr th:only-of-type {\n",
       "        vertical-align: middle;\n",
       "    }\n",
       "\n",
       "    .dataframe tbody tr th {\n",
       "        vertical-align: top;\n",
       "    }\n",
       "\n",
       "    .dataframe thead th {\n",
       "        text-align: right;\n",
       "    }\n",
       "</style>\n",
       "<table border=\"1\" class=\"dataframe\">\n",
       "  <thead>\n",
       "    <tr style=\"text-align: right;\">\n",
       "      <th></th>\n",
       "      <th>cluster_id</th>\n",
       "      <th>cluster_id2</th>\n",
       "      <th>lifespan</th>\n",
       "    </tr>\n",
       "  </thead>\n",
       "  <tbody>\n",
       "    <tr>\n",
       "      <th>0</th>\n",
       "      <td>202301010000_1</td>\n",
       "      <td>202301010000_33</td>\n",
       "      <td>0 days</td>\n",
       "    </tr>\n",
       "    <tr>\n",
       "      <th>1</th>\n",
       "      <td>202301010000_10</td>\n",
       "      <td>202301010000_133</td>\n",
       "      <td>0 days</td>\n",
       "    </tr>\n",
       "    <tr>\n",
       "      <th>2</th>\n",
       "      <td>202301010000_104</td>\n",
       "      <td>202301010000_79</td>\n",
       "      <td>0 days</td>\n",
       "    </tr>\n",
       "    <tr>\n",
       "      <th>3</th>\n",
       "      <td>202301010000_105</td>\n",
       "      <td>202301010000_80</td>\n",
       "      <td>0 days</td>\n",
       "    </tr>\n",
       "    <tr>\n",
       "      <th>4</th>\n",
       "      <td>202301010000_106</td>\n",
       "      <td>202301010000_81</td>\n",
       "      <td>0 days</td>\n",
       "    </tr>\n",
       "    <tr>\n",
       "      <th>...</th>\n",
       "      <td>...</td>\n",
       "      <td>...</td>\n",
       "      <td>...</td>\n",
       "    </tr>\n",
       "    <tr>\n",
       "      <th>6369366</th>\n",
       "      <td>202312312358_5</td>\n",
       "      <td>202312312354_5</td>\n",
       "      <td>0 days</td>\n",
       "    </tr>\n",
       "    <tr>\n",
       "      <th>6369367</th>\n",
       "      <td>202312312358_6</td>\n",
       "      <td>202312312354_5</td>\n",
       "      <td>0 days</td>\n",
       "    </tr>\n",
       "    <tr>\n",
       "      <th>6369368</th>\n",
       "      <td>202312312358_7</td>\n",
       "      <td>202312312354_5</td>\n",
       "      <td>0 days</td>\n",
       "    </tr>\n",
       "    <tr>\n",
       "      <th>6369369</th>\n",
       "      <td>202312312358_8</td>\n",
       "      <td>202312312354_7</td>\n",
       "      <td>0 days</td>\n",
       "    </tr>\n",
       "    <tr>\n",
       "      <th>6369370</th>\n",
       "      <td>202312312358_9</td>\n",
       "      <td>202312312354_7</td>\n",
       "      <td>0 days</td>\n",
       "    </tr>\n",
       "  </tbody>\n",
       "</table>\n",
       "<p>6369371 rows × 3 columns</p>\n",
       "</div>"
      ],
      "text/plain": [
       "               cluster_id       cluster_id2 lifespan\n",
       "0          202301010000_1   202301010000_33   0 days\n",
       "1         202301010000_10  202301010000_133   0 days\n",
       "2        202301010000_104   202301010000_79   0 days\n",
       "3        202301010000_105   202301010000_80   0 days\n",
       "4        202301010000_106   202301010000_81   0 days\n",
       "...                   ...               ...      ...\n",
       "6369366    202312312358_5    202312312354_5   0 days\n",
       "6369367    202312312358_6    202312312354_5   0 days\n",
       "6369368    202312312358_7    202312312354_5   0 days\n",
       "6369369    202312312358_8    202312312354_7   0 days\n",
       "6369370    202312312358_9    202312312354_7   0 days\n",
       "\n",
       "[6369371 rows x 3 columns]"
      ]
     },
     "execution_count": 77,
     "metadata": {},
     "output_type": "execute_result"
    }
   ],
   "source": [
    "delta_df"
   ]
  },
  {
   "cell_type": "code",
   "execution_count": 78,
   "metadata": {},
   "outputs": [],
   "source": [
    "delta_df.to_parquet(\"real-time clusters/delta_df.parquet\")"
   ]
  },
  {
   "cell_type": "code",
   "execution_count": 3,
   "metadata": {},
   "outputs": [],
   "source": [
    "delta_df = pd.read_parquet(\"real-time clusters/delta_df.parquet\")"
   ]
  },
  {
   "cell_type": "code",
   "execution_count": 5,
   "metadata": {},
   "outputs": [
    {
     "data": {
      "text/html": [
       "<div>\n",
       "<style scoped>\n",
       "    .dataframe tbody tr th:only-of-type {\n",
       "        vertical-align: middle;\n",
       "    }\n",
       "\n",
       "    .dataframe tbody tr th {\n",
       "        vertical-align: top;\n",
       "    }\n",
       "\n",
       "    .dataframe thead th {\n",
       "        text-align: right;\n",
       "    }\n",
       "</style>\n",
       "<table border=\"1\" class=\"dataframe\">\n",
       "  <thead>\n",
       "    <tr style=\"text-align: right;\">\n",
       "      <th></th>\n",
       "      <th>cluster_id</th>\n",
       "      <th>cluster_id2</th>\n",
       "      <th>lifespan</th>\n",
       "    </tr>\n",
       "  </thead>\n",
       "  <tbody>\n",
       "    <tr>\n",
       "      <th>5187223</th>\n",
       "      <td>202311041120_19</td>\n",
       "      <td>202311041120_6</td>\n",
       "      <td>0 days 02:07:54</td>\n",
       "    </tr>\n",
       "    <tr>\n",
       "      <th>4355824</th>\n",
       "      <td>202309272328_4</td>\n",
       "      <td>202309272328_3</td>\n",
       "      <td>0 days 01:53:46</td>\n",
       "    </tr>\n",
       "    <tr>\n",
       "      <th>3079985</th>\n",
       "      <td>202307270332_16</td>\n",
       "      <td>202307270332_10</td>\n",
       "      <td>0 days 01:34:24</td>\n",
       "    </tr>\n",
       "    <tr>\n",
       "      <th>5710744</th>\n",
       "      <td>202311272202_10</td>\n",
       "      <td>202311272202_3</td>\n",
       "      <td>0 days 01:32:50</td>\n",
       "    </tr>\n",
       "    <tr>\n",
       "      <th>399034</th>\n",
       "      <td>202302020154_50</td>\n",
       "      <td>202302020154_8</td>\n",
       "      <td>0 days 01:22:56</td>\n",
       "    </tr>\n",
       "    <tr>\n",
       "      <th>...</th>\n",
       "      <td>...</td>\n",
       "      <td>...</td>\n",
       "      <td>...</td>\n",
       "    </tr>\n",
       "    <tr>\n",
       "      <th>2419111</th>\n",
       "      <td>202306300446_37</td>\n",
       "      <td>202306300434_9</td>\n",
       "      <td>0 days 00:00:00</td>\n",
       "    </tr>\n",
       "    <tr>\n",
       "      <th>2419110</th>\n",
       "      <td>202306300446_36</td>\n",
       "      <td>202306300434_9</td>\n",
       "      <td>0 days 00:00:00</td>\n",
       "    </tr>\n",
       "    <tr>\n",
       "      <th>2419109</th>\n",
       "      <td>202306300446_35</td>\n",
       "      <td>202306300434_9</td>\n",
       "      <td>0 days 00:00:00</td>\n",
       "    </tr>\n",
       "    <tr>\n",
       "      <th>2419105</th>\n",
       "      <td>202306300446_31</td>\n",
       "      <td>202306300442_9</td>\n",
       "      <td>0 days 00:00:00</td>\n",
       "    </tr>\n",
       "    <tr>\n",
       "      <th>6369370</th>\n",
       "      <td>202312312358_9</td>\n",
       "      <td>202312312354_7</td>\n",
       "      <td>0 days 00:00:00</td>\n",
       "    </tr>\n",
       "  </tbody>\n",
       "</table>\n",
       "<p>6369371 rows × 3 columns</p>\n",
       "</div>"
      ],
      "text/plain": [
       "              cluster_id      cluster_id2        lifespan\n",
       "5187223  202311041120_19   202311041120_6 0 days 02:07:54\n",
       "4355824   202309272328_4   202309272328_3 0 days 01:53:46\n",
       "3079985  202307270332_16  202307270332_10 0 days 01:34:24\n",
       "5710744  202311272202_10   202311272202_3 0 days 01:32:50\n",
       "399034   202302020154_50   202302020154_8 0 days 01:22:56\n",
       "...                  ...              ...             ...\n",
       "2419111  202306300446_37   202306300434_9 0 days 00:00:00\n",
       "2419110  202306300446_36   202306300434_9 0 days 00:00:00\n",
       "2419109  202306300446_35   202306300434_9 0 days 00:00:00\n",
       "2419105  202306300446_31   202306300442_9 0 days 00:00:00\n",
       "6369370   202312312358_9   202312312354_7 0 days 00:00:00\n",
       "\n",
       "[6369371 rows x 3 columns]"
      ]
     },
     "execution_count": 5,
     "metadata": {},
     "output_type": "execute_result"
    }
   ],
   "source": [
    "delta_df.sort_values(by=\"delta first occurrence\", ascending=False)"
   ]
  },
  {
   "cell_type": "markdown",
   "metadata": {},
   "source": [
    "## Merge Statistics"
   ]
  },
  {
   "cell_type": "code",
   "execution_count": 15,
   "metadata": {},
   "outputs": [],
   "source": [
    "size_df = pd.read_parquet(\"real-time clusters/size_df.parquet\")\n",
    "lifespan_df = pd.read_parquet(\"real-time clusters/lifespan_df.parquet\")\n",
    "delta_df = pd.read_parquet(\"real-time clusters/delta_df.parquet\")"
   ]
  },
  {
   "cell_type": "code",
   "execution_count": 18,
   "metadata": {},
   "outputs": [],
   "source": [
    "clusters_statistics = size_df.merge(lifespan_df, on=[\"cluster_id\", \"cluster_id2\"], how=\"left\").merge(delta_df, on=[\"cluster_id\", \"cluster_id2\"], how=\"left\")"
   ]
  },
  {
   "cell_type": "code",
   "execution_count": 19,
   "metadata": {},
   "outputs": [
    {
     "data": {
      "text/html": [
       "<div>\n",
       "<style scoped>\n",
       "    .dataframe tbody tr th:only-of-type {\n",
       "        vertical-align: middle;\n",
       "    }\n",
       "\n",
       "    .dataframe tbody tr th {\n",
       "        vertical-align: top;\n",
       "    }\n",
       "\n",
       "    .dataframe thead th {\n",
       "        text-align: right;\n",
       "    }\n",
       "</style>\n",
       "<table border=\"1\" class=\"dataframe\">\n",
       "  <thead>\n",
       "    <tr style=\"text-align: right;\">\n",
       "      <th></th>\n",
       "      <th>cluster_id</th>\n",
       "      <th>cluster_id2</th>\n",
       "      <th>size</th>\n",
       "      <th>lifespan_x</th>\n",
       "      <th>lifespan_y</th>\n",
       "    </tr>\n",
       "  </thead>\n",
       "  <tbody>\n",
       "    <tr>\n",
       "      <th>0</th>\n",
       "      <td>202301010000_1</td>\n",
       "      <td>202301010000_33</td>\n",
       "      <td>1</td>\n",
       "      <td>1 days 23:25:34</td>\n",
       "      <td>0 days</td>\n",
       "    </tr>\n",
       "    <tr>\n",
       "      <th>1</th>\n",
       "      <td>202301010000_10</td>\n",
       "      <td>202301010000_133</td>\n",
       "      <td>1</td>\n",
       "      <td>0 days 01:14:29</td>\n",
       "      <td>0 days</td>\n",
       "    </tr>\n",
       "    <tr>\n",
       "      <th>2</th>\n",
       "      <td>202301010000_104</td>\n",
       "      <td>202301010000_79</td>\n",
       "      <td>1</td>\n",
       "      <td>0 days 01:38:28</td>\n",
       "      <td>0 days</td>\n",
       "    </tr>\n",
       "    <tr>\n",
       "      <th>3</th>\n",
       "      <td>202301010000_105</td>\n",
       "      <td>202301010000_80</td>\n",
       "      <td>1</td>\n",
       "      <td>0 days 01:58:25</td>\n",
       "      <td>0 days</td>\n",
       "    </tr>\n",
       "    <tr>\n",
       "      <th>4</th>\n",
       "      <td>202301010000_106</td>\n",
       "      <td>202301010000_81</td>\n",
       "      <td>1</td>\n",
       "      <td>0 days 06:55:03</td>\n",
       "      <td>0 days</td>\n",
       "    </tr>\n",
       "    <tr>\n",
       "      <th>...</th>\n",
       "      <td>...</td>\n",
       "      <td>...</td>\n",
       "      <td>...</td>\n",
       "      <td>...</td>\n",
       "      <td>...</td>\n",
       "    </tr>\n",
       "    <tr>\n",
       "      <th>6369366</th>\n",
       "      <td>202312312358_5</td>\n",
       "      <td>202312312354_5</td>\n",
       "      <td>1</td>\n",
       "      <td>0 days 00:04:34</td>\n",
       "      <td>0 days</td>\n",
       "    </tr>\n",
       "    <tr>\n",
       "      <th>6369367</th>\n",
       "      <td>202312312358_6</td>\n",
       "      <td>202312312354_5</td>\n",
       "      <td>1</td>\n",
       "      <td>0 days 00:03:57</td>\n",
       "      <td>0 days</td>\n",
       "    </tr>\n",
       "    <tr>\n",
       "      <th>6369368</th>\n",
       "      <td>202312312358_7</td>\n",
       "      <td>202312312354_5</td>\n",
       "      <td>1</td>\n",
       "      <td>0 days 00:00:00</td>\n",
       "      <td>0 days</td>\n",
       "    </tr>\n",
       "    <tr>\n",
       "      <th>6369369</th>\n",
       "      <td>202312312358_8</td>\n",
       "      <td>202312312354_7</td>\n",
       "      <td>1</td>\n",
       "      <td>0 days 00:05:31</td>\n",
       "      <td>0 days</td>\n",
       "    </tr>\n",
       "    <tr>\n",
       "      <th>6369370</th>\n",
       "      <td>202312312358_9</td>\n",
       "      <td>202312312354_7</td>\n",
       "      <td>1</td>\n",
       "      <td>0 days 00:04:40</td>\n",
       "      <td>0 days</td>\n",
       "    </tr>\n",
       "  </tbody>\n",
       "</table>\n",
       "<p>6369371 rows × 5 columns</p>\n",
       "</div>"
      ],
      "text/plain": [
       "               cluster_id       cluster_id2  size      lifespan_x lifespan_y\n",
       "0          202301010000_1   202301010000_33     1 1 days 23:25:34     0 days\n",
       "1         202301010000_10  202301010000_133     1 0 days 01:14:29     0 days\n",
       "2        202301010000_104   202301010000_79     1 0 days 01:38:28     0 days\n",
       "3        202301010000_105   202301010000_80     1 0 days 01:58:25     0 days\n",
       "4        202301010000_106   202301010000_81     1 0 days 06:55:03     0 days\n",
       "...                   ...               ...   ...             ...        ...\n",
       "6369366    202312312358_5    202312312354_5     1 0 days 00:04:34     0 days\n",
       "6369367    202312312358_6    202312312354_5     1 0 days 00:03:57     0 days\n",
       "6369368    202312312358_7    202312312354_5     1 0 days 00:00:00     0 days\n",
       "6369369    202312312358_8    202312312354_7     1 0 days 00:05:31     0 days\n",
       "6369370    202312312358_9    202312312354_7     1 0 days 00:04:40     0 days\n",
       "\n",
       "[6369371 rows x 5 columns]"
      ]
     },
     "execution_count": 19,
     "metadata": {},
     "output_type": "execute_result"
    }
   ],
   "source": [
    "clusters_statistics"
   ]
  },
  {
   "cell_type": "code",
   "execution_count": 20,
   "metadata": {},
   "outputs": [],
   "source": [
    "clusters_statistics.to_parquet(\"real-time clusters/clusters_statistics.parquet\")"
   ]
  },
  {
   "cell_type": "markdown",
   "metadata": {},
   "source": [
    "## Extract Unique Slogans from Alarms\n"
   ]
  },
  {
   "cell_type": "code",
   "execution_count": 16,
   "metadata": {},
   "outputs": [],
   "source": [
    "mob_slogan = mob[[\"alarm_id\", \"mob_slogan\"]]\n",
    "adsl_slogan = adsl[[\"alarm_id\", \"std_probable_cause_no\"]]## , \"summary\"]\n",
    "ptn_slogan = ptn[[\"alarm_id\", \"std_probable_cause_no\"]]\n",
    "sdh_slogan = sdh[[\"alarm_id\", \"std_probable_cause_no\"]]\n",
    "pdh_slogan = pdh[[\"alarm_id\", \"std_probable_cause_no\"]]\n"
   ]
  },
  {
   "cell_type": "code",
   "execution_count": 20,
   "metadata": {},
   "outputs": [
    {
     "name": "stderr",
     "output_type": "stream",
     "text": [
      "C:\\Users\\Nicolò Caradonna\\AppData\\Local\\Temp\\ipykernel_15016\\1332658854.py:1: SettingWithCopyWarning: \n",
      "A value is trying to be set on a copy of a slice from a DataFrame\n",
      "\n",
      "See the caveats in the documentation: https://pandas.pydata.org/pandas-docs/stable/user_guide/indexing.html#returning-a-view-versus-a-copy\n",
      "  mob_slogan.rename(columns={\"mob_slogan\": \"slogan\"}, inplace=True)\n",
      "C:\\Users\\Nicolò Caradonna\\AppData\\Local\\Temp\\ipykernel_15016\\1332658854.py:2: SettingWithCopyWarning: \n",
      "A value is trying to be set on a copy of a slice from a DataFrame\n",
      "\n",
      "See the caveats in the documentation: https://pandas.pydata.org/pandas-docs/stable/user_guide/indexing.html#returning-a-view-versus-a-copy\n",
      "  adsl_slogan.rename(columns={\"std_probable_cause_no\": \"slogan\"}, inplace=True)\n",
      "C:\\Users\\Nicolò Caradonna\\AppData\\Local\\Temp\\ipykernel_15016\\1332658854.py:3: SettingWithCopyWarning: \n",
      "A value is trying to be set on a copy of a slice from a DataFrame\n",
      "\n",
      "See the caveats in the documentation: https://pandas.pydata.org/pandas-docs/stable/user_guide/indexing.html#returning-a-view-versus-a-copy\n",
      "  ptn_slogan.rename(columns={\"std_probable_cause_no\": \"slogan\"}, inplace=True)\n",
      "C:\\Users\\Nicolò Caradonna\\AppData\\Local\\Temp\\ipykernel_15016\\1332658854.py:4: SettingWithCopyWarning: \n",
      "A value is trying to be set on a copy of a slice from a DataFrame\n",
      "\n",
      "See the caveats in the documentation: https://pandas.pydata.org/pandas-docs/stable/user_guide/indexing.html#returning-a-view-versus-a-copy\n",
      "  sdh_slogan.rename(columns={\"std_probable_cause_no\": \"slogan\"}, inplace=True)\n",
      "C:\\Users\\Nicolò Caradonna\\AppData\\Local\\Temp\\ipykernel_15016\\1332658854.py:5: SettingWithCopyWarning: \n",
      "A value is trying to be set on a copy of a slice from a DataFrame\n",
      "\n",
      "See the caveats in the documentation: https://pandas.pydata.org/pandas-docs/stable/user_guide/indexing.html#returning-a-view-versus-a-copy\n",
      "  pdh_slogan.rename(columns={\"std_probable_cause_no\": \"slogan\"}, inplace=True)\n"
     ]
    }
   ],
   "source": [
    "mob_slogan.rename(columns={\"mob_slogan\": \"slogan\"}, inplace=True)\n",
    "adsl_slogan.rename(columns={\"std_probable_cause_no\": \"slogan\"}, inplace=True)\n",
    "ptn_slogan.rename(columns={\"std_probable_cause_no\": \"slogan\"}, inplace=True)\n",
    "sdh_slogan.rename(columns={\"std_probable_cause_no\": \"slogan\"}, inplace=True)\n",
    "pdh_slogan.rename(columns={\"std_probable_cause_no\": \"slogan\"}, inplace=True)\n",
    "\n"
   ]
  },
  {
   "cell_type": "code",
   "execution_count": 21,
   "metadata": {},
   "outputs": [
    {
     "data": {
      "text/html": [
       "<div>\n",
       "<style scoped>\n",
       "    .dataframe tbody tr th:only-of-type {\n",
       "        vertical-align: middle;\n",
       "    }\n",
       "\n",
       "    .dataframe tbody tr th {\n",
       "        vertical-align: top;\n",
       "    }\n",
       "\n",
       "    .dataframe thead th {\n",
       "        text-align: right;\n",
       "    }\n",
       "</style>\n",
       "<table border=\"1\" class=\"dataframe\">\n",
       "  <thead>\n",
       "    <tr style=\"text-align: right;\">\n",
       "      <th></th>\n",
       "      <th>alarm_id</th>\n",
       "      <th>slogan</th>\n",
       "    </tr>\n",
       "  </thead>\n",
       "  <tbody>\n",
       "    <tr>\n",
       "      <th>0</th>\n",
       "      <td>COS4P;86723842</td>\n",
       "      <td>fermo totale apparato</td>\n",
       "    </tr>\n",
       "    <tr>\n",
       "      <th>1</th>\n",
       "      <td>COS3P;66481069</td>\n",
       "      <td>loss of signal los</td>\n",
       "    </tr>\n",
       "    <tr>\n",
       "      <th>2</th>\n",
       "      <td>COS4P;86723883</td>\n",
       "      <td>loss of signal los</td>\n",
       "    </tr>\n",
       "    <tr>\n",
       "      <th>3</th>\n",
       "      <td>COS4P;86723880</td>\n",
       "      <td>loss of signal los</td>\n",
       "    </tr>\n",
       "    <tr>\n",
       "      <th>4</th>\n",
       "      <td>COS4P;86723881</td>\n",
       "      <td>loss of signal los</td>\n",
       "    </tr>\n",
       "    <tr>\n",
       "      <th>...</th>\n",
       "      <td>...</td>\n",
       "      <td>...</td>\n",
       "    </tr>\n",
       "    <tr>\n",
       "      <th>9326841</th>\n",
       "      <td>EFMTX;6591efa50d1c1f0001da3661</td>\n",
       "      <td>loss of signal los</td>\n",
       "    </tr>\n",
       "    <tr>\n",
       "      <th>9326842</th>\n",
       "      <td>EFMTX;6591f1e60d1c1f0001da3841</td>\n",
       "      <td>allarme alimentazione</td>\n",
       "    </tr>\n",
       "    <tr>\n",
       "      <th>9326843</th>\n",
       "      <td>EFMTX;6591f101975f5100015a4868</td>\n",
       "      <td>apparato isolato</td>\n",
       "    </tr>\n",
       "    <tr>\n",
       "      <th>9326844</th>\n",
       "      <td>EFMTX;6591f092feea70000175b052</td>\n",
       "      <td>allarme alimentazione</td>\n",
       "    </tr>\n",
       "    <tr>\n",
       "      <th>9326845</th>\n",
       "      <td>EFMTX;658ef13bd8beb800016ac3e5</td>\n",
       "      <td>guasto ima</td>\n",
       "    </tr>\n",
       "  </tbody>\n",
       "</table>\n",
       "<p>9326846 rows × 2 columns</p>\n",
       "</div>"
      ],
      "text/plain": [
       "                               alarm_id                 slogan\n",
       "0                        COS4P;86723842  fermo totale apparato\n",
       "1                        COS3P;66481069     loss of signal los\n",
       "2                        COS4P;86723883     loss of signal los\n",
       "3                        COS4P;86723880     loss of signal los\n",
       "4                        COS4P;86723881     loss of signal los\n",
       "...                                 ...                    ...\n",
       "9326841  EFMTX;6591efa50d1c1f0001da3661     loss of signal los\n",
       "9326842  EFMTX;6591f1e60d1c1f0001da3841  allarme alimentazione\n",
       "9326843  EFMTX;6591f101975f5100015a4868       apparato isolato\n",
       "9326844  EFMTX;6591f092feea70000175b052  allarme alimentazione\n",
       "9326845  EFMTX;658ef13bd8beb800016ac3e5             guasto ima\n",
       "\n",
       "[9326846 rows x 2 columns]"
      ]
     },
     "execution_count": 21,
     "metadata": {},
     "output_type": "execute_result"
    }
   ],
   "source": [
    "adsl_slogan"
   ]
  },
  {
   "cell_type": "code",
   "execution_count": 22,
   "metadata": {},
   "outputs": [],
   "source": [
    "alarms_slogan = pd.concat([mob_slogan, adsl_slogan, ptn_slogan, sdh_slogan, pdh_slogan])"
   ]
  },
  {
   "cell_type": "code",
   "execution_count": 23,
   "metadata": {},
   "outputs": [
    {
     "data": {
      "text/html": [
       "<div>\n",
       "<style scoped>\n",
       "    .dataframe tbody tr th:only-of-type {\n",
       "        vertical-align: middle;\n",
       "    }\n",
       "\n",
       "    .dataframe tbody tr th {\n",
       "        vertical-align: top;\n",
       "    }\n",
       "\n",
       "    .dataframe thead th {\n",
       "        text-align: right;\n",
       "    }\n",
       "</style>\n",
       "<table border=\"1\" class=\"dataframe\">\n",
       "  <thead>\n",
       "    <tr style=\"text-align: right;\">\n",
       "      <th></th>\n",
       "      <th>alarm_id</th>\n",
       "      <th>slogan</th>\n",
       "    </tr>\n",
       "  </thead>\n",
       "  <tbody>\n",
       "    <tr>\n",
       "      <th>0</th>\n",
       "      <td>EFM;63b098b01a65d200011620f8</td>\n",
       "      <td>NaN</td>\n",
       "    </tr>\n",
       "    <tr>\n",
       "      <th>1</th>\n",
       "      <td>EFM;63b0b476c623b40001a68b45</td>\n",
       "      <td>NaN</td>\n",
       "    </tr>\n",
       "    <tr>\n",
       "      <th>2</th>\n",
       "      <td>EFM;63b0b5a8c623b40001a68b9b</td>\n",
       "      <td>NaN</td>\n",
       "    </tr>\n",
       "    <tr>\n",
       "      <th>3</th>\n",
       "      <td>EFM;63b0b5c6c623b40001a68ba2</td>\n",
       "      <td>NaN</td>\n",
       "    </tr>\n",
       "    <tr>\n",
       "      <th>4</th>\n",
       "      <td>EFM;63b0b675c623b40001a68c03</td>\n",
       "      <td>NaN</td>\n",
       "    </tr>\n",
       "    <tr>\n",
       "      <th>...</th>\n",
       "      <td>...</td>\n",
       "      <td>...</td>\n",
       "    </tr>\n",
       "    <tr>\n",
       "      <th>408772</th>\n",
       "      <td>EFMTX;65913ce9c23c110001552471</td>\n",
       "      <td>tunnel aps degraded downgrade of aps tunnel pr...</td>\n",
       "    </tr>\n",
       "    <tr>\n",
       "      <th>408773</th>\n",
       "      <td>EFMTX;65913e2cc23c110001552527</td>\n",
       "      <td>tunnel aps degraded downgrade of aps tunnel pr...</td>\n",
       "    </tr>\n",
       "    <tr>\n",
       "      <th>408774</th>\n",
       "      <td>EFMTX;6530d7a8eedb1500019c416e</td>\n",
       "      <td>opttxlow reducedtransmitteroutputpower</td>\n",
       "    </tr>\n",
       "    <tr>\n",
       "      <th>408775</th>\n",
       "      <td>EFMTX;658cd3bf975f510001572fd9</td>\n",
       "      <td>tunnel aps degraded downgrade of aps tunnel pr...</td>\n",
       "    </tr>\n",
       "    <tr>\n",
       "      <th>408776</th>\n",
       "      <td>EFMTX;6590c9381d392e0001f866b6</td>\n",
       "      <td>tunnel aps degraded downgrade of aps tunnel pr...</td>\n",
       "    </tr>\n",
       "  </tbody>\n",
       "</table>\n",
       "<p>49569783 rows × 2 columns</p>\n",
       "</div>"
      ],
      "text/plain": [
       "                              alarm_id  \\\n",
       "0         EFM;63b098b01a65d200011620f8   \n",
       "1         EFM;63b0b476c623b40001a68b45   \n",
       "2         EFM;63b0b5a8c623b40001a68b9b   \n",
       "3         EFM;63b0b5c6c623b40001a68ba2   \n",
       "4         EFM;63b0b675c623b40001a68c03   \n",
       "...                                ...   \n",
       "408772  EFMTX;65913ce9c23c110001552471   \n",
       "408773  EFMTX;65913e2cc23c110001552527   \n",
       "408774  EFMTX;6530d7a8eedb1500019c416e   \n",
       "408775  EFMTX;658cd3bf975f510001572fd9   \n",
       "408776  EFMTX;6590c9381d392e0001f866b6   \n",
       "\n",
       "                                                   slogan  \n",
       "0                                                     NaN  \n",
       "1                                                     NaN  \n",
       "2                                                     NaN  \n",
       "3                                                     NaN  \n",
       "4                                                     NaN  \n",
       "...                                                   ...  \n",
       "408772  tunnel aps degraded downgrade of aps tunnel pr...  \n",
       "408773  tunnel aps degraded downgrade of aps tunnel pr...  \n",
       "408774             opttxlow reducedtransmitteroutputpower  \n",
       "408775  tunnel aps degraded downgrade of aps tunnel pr...  \n",
       "408776  tunnel aps degraded downgrade of aps tunnel pr...  \n",
       "\n",
       "[49569783 rows x 2 columns]"
      ]
     },
     "execution_count": 23,
     "metadata": {},
     "output_type": "execute_result"
    }
   ],
   "source": [
    "alarms_slogan"
   ]
  },
  {
   "cell_type": "code",
   "execution_count": 24,
   "metadata": {},
   "outputs": [],
   "source": [
    "alarms_slogan.to_parquet(\"alarms datasets/alarms_slogan.parquet\")"
   ]
  },
  {
   "cell_type": "code",
   "execution_count": 3,
   "metadata": {},
   "outputs": [],
   "source": [
    "alarms_slogan = pd.read_parquet(\"alarms datasets/alarms_slogan.parquet\")"
   ]
  },
  {
   "cell_type": "code",
   "execution_count": 4,
   "metadata": {},
   "outputs": [],
   "source": [
    "alarms_slogan = alarms_slogan.drop(\"alarm_id\", axis=1)"
   ]
  },
  {
   "cell_type": "code",
   "execution_count": 5,
   "metadata": {},
   "outputs": [
    {
     "data": {
      "text/html": [
       "<div>\n",
       "<style scoped>\n",
       "    .dataframe tbody tr th:only-of-type {\n",
       "        vertical-align: middle;\n",
       "    }\n",
       "\n",
       "    .dataframe tbody tr th {\n",
       "        vertical-align: top;\n",
       "    }\n",
       "\n",
       "    .dataframe thead th {\n",
       "        text-align: right;\n",
       "    }\n",
       "</style>\n",
       "<table border=\"1\" class=\"dataframe\">\n",
       "  <thead>\n",
       "    <tr style=\"text-align: right;\">\n",
       "      <th></th>\n",
       "      <th>slogan</th>\n",
       "    </tr>\n",
       "  </thead>\n",
       "  <tbody>\n",
       "    <tr>\n",
       "      <th>0</th>\n",
       "      <td>None</td>\n",
       "    </tr>\n",
       "    <tr>\n",
       "      <th>1</th>\n",
       "      <td>None</td>\n",
       "    </tr>\n",
       "    <tr>\n",
       "      <th>2</th>\n",
       "      <td>None</td>\n",
       "    </tr>\n",
       "    <tr>\n",
       "      <th>3</th>\n",
       "      <td>None</td>\n",
       "    </tr>\n",
       "    <tr>\n",
       "      <th>4</th>\n",
       "      <td>None</td>\n",
       "    </tr>\n",
       "    <tr>\n",
       "      <th>...</th>\n",
       "      <td>...</td>\n",
       "    </tr>\n",
       "    <tr>\n",
       "      <th>408772</th>\n",
       "      <td>tunnel aps degraded downgrade of aps tunnel pr...</td>\n",
       "    </tr>\n",
       "    <tr>\n",
       "      <th>408773</th>\n",
       "      <td>tunnel aps degraded downgrade of aps tunnel pr...</td>\n",
       "    </tr>\n",
       "    <tr>\n",
       "      <th>408774</th>\n",
       "      <td>opttxlow reducedtransmitteroutputpower</td>\n",
       "    </tr>\n",
       "    <tr>\n",
       "      <th>408775</th>\n",
       "      <td>tunnel aps degraded downgrade of aps tunnel pr...</td>\n",
       "    </tr>\n",
       "    <tr>\n",
       "      <th>408776</th>\n",
       "      <td>tunnel aps degraded downgrade of aps tunnel pr...</td>\n",
       "    </tr>\n",
       "  </tbody>\n",
       "</table>\n",
       "<p>49569783 rows × 1 columns</p>\n",
       "</div>"
      ],
      "text/plain": [
       "                                                   slogan\n",
       "0                                                    None\n",
       "1                                                    None\n",
       "2                                                    None\n",
       "3                                                    None\n",
       "4                                                    None\n",
       "...                                                   ...\n",
       "408772  tunnel aps degraded downgrade of aps tunnel pr...\n",
       "408773  tunnel aps degraded downgrade of aps tunnel pr...\n",
       "408774             opttxlow reducedtransmitteroutputpower\n",
       "408775  tunnel aps degraded downgrade of aps tunnel pr...\n",
       "408776  tunnel aps degraded downgrade of aps tunnel pr...\n",
       "\n",
       "[49569783 rows x 1 columns]"
      ]
     },
     "execution_count": 5,
     "metadata": {},
     "output_type": "execute_result"
    }
   ],
   "source": [
    "alarms_slogan"
   ]
  },
  {
   "cell_type": "code",
   "execution_count": 6,
   "metadata": {},
   "outputs": [
    {
     "name": "stdout",
     "output_type": "stream",
     "text": [
      "                                                  slogan\n",
      "0                                                   None\n",
      "1                        guasto sistema di alimentazione\n",
      "2                        allarme interruttore batteria b\n",
      "3                           guasto grave condizionamento\n",
      "4                                          mancanza rete\n",
      "...                                                  ...\n",
      "19055  lateitaq prer link bandwidth reduced due to mi...\n",
      "19056                                         low bernsa\n",
      "19057                  synchronization source mismatchmx\n",
      "19058  normal cac kt cz qcva variazione stato operati...\n",
      "19059          ptp sync packet correction field abnormal\n",
      "\n",
      "[19060 rows x 1 columns]\n"
     ]
    }
   ],
   "source": [
    "unique_slogans = alarms_slogan['slogan'].unique()\n",
    "\n",
    "alarms_slogan_unique_slogans = pd.DataFrame({'slogan': unique_slogans})\n"
   ]
  },
  {
   "cell_type": "code",
   "execution_count": 8,
   "metadata": {},
   "outputs": [],
   "source": [
    "alarms_slogan_unique_slogans.to_parquet(\"alarms datasets/alarms_slogan_unique_slogans.parquet\")"
   ]
  },
  {
   "cell_type": "markdown",
   "metadata": {},
   "source": [
    "## Associate for each Cluster a bitmap with the slogans "
   ]
  },
  {
   "cell_type": "code",
   "execution_count": 7,
   "metadata": {},
   "outputs": [],
   "source": [
    "alarms_slogan = pd.read_parquet(\"alarms datasets/alarms_slogan.parquet\")"
   ]
  },
  {
   "cell_type": "code",
   "execution_count": 8,
   "metadata": {},
   "outputs": [
    {
     "data": {
      "text/html": [
       "<div>\n",
       "<style scoped>\n",
       "    .dataframe tbody tr th:only-of-type {\n",
       "        vertical-align: middle;\n",
       "    }\n",
       "\n",
       "    .dataframe tbody tr th {\n",
       "        vertical-align: top;\n",
       "    }\n",
       "\n",
       "    .dataframe thead th {\n",
       "        text-align: right;\n",
       "    }\n",
       "</style>\n",
       "<table border=\"1\" class=\"dataframe\">\n",
       "  <thead>\n",
       "    <tr style=\"text-align: right;\">\n",
       "      <th></th>\n",
       "      <th>alarm_id</th>\n",
       "      <th>slogan</th>\n",
       "    </tr>\n",
       "  </thead>\n",
       "  <tbody>\n",
       "    <tr>\n",
       "      <th>0</th>\n",
       "      <td>EFM;63b098b01a65d200011620f8</td>\n",
       "      <td>None</td>\n",
       "    </tr>\n",
       "    <tr>\n",
       "      <th>1</th>\n",
       "      <td>EFM;63b0b476c623b40001a68b45</td>\n",
       "      <td>None</td>\n",
       "    </tr>\n",
       "    <tr>\n",
       "      <th>2</th>\n",
       "      <td>EFM;63b0b5a8c623b40001a68b9b</td>\n",
       "      <td>None</td>\n",
       "    </tr>\n",
       "    <tr>\n",
       "      <th>3</th>\n",
       "      <td>EFM;63b0b5c6c623b40001a68ba2</td>\n",
       "      <td>None</td>\n",
       "    </tr>\n",
       "    <tr>\n",
       "      <th>4</th>\n",
       "      <td>EFM;63b0b675c623b40001a68c03</td>\n",
       "      <td>None</td>\n",
       "    </tr>\n",
       "    <tr>\n",
       "      <th>...</th>\n",
       "      <td>...</td>\n",
       "      <td>...</td>\n",
       "    </tr>\n",
       "    <tr>\n",
       "      <th>408772</th>\n",
       "      <td>EFMTX;65913ce9c23c110001552471</td>\n",
       "      <td>tunnel aps degraded downgrade of aps tunnel pr...</td>\n",
       "    </tr>\n",
       "    <tr>\n",
       "      <th>408773</th>\n",
       "      <td>EFMTX;65913e2cc23c110001552527</td>\n",
       "      <td>tunnel aps degraded downgrade of aps tunnel pr...</td>\n",
       "    </tr>\n",
       "    <tr>\n",
       "      <th>408774</th>\n",
       "      <td>EFMTX;6530d7a8eedb1500019c416e</td>\n",
       "      <td>opttxlow reducedtransmitteroutputpower</td>\n",
       "    </tr>\n",
       "    <tr>\n",
       "      <th>408775</th>\n",
       "      <td>EFMTX;658cd3bf975f510001572fd9</td>\n",
       "      <td>tunnel aps degraded downgrade of aps tunnel pr...</td>\n",
       "    </tr>\n",
       "    <tr>\n",
       "      <th>408776</th>\n",
       "      <td>EFMTX;6590c9381d392e0001f866b6</td>\n",
       "      <td>tunnel aps degraded downgrade of aps tunnel pr...</td>\n",
       "    </tr>\n",
       "  </tbody>\n",
       "</table>\n",
       "<p>49569783 rows × 2 columns</p>\n",
       "</div>"
      ],
      "text/plain": [
       "                              alarm_id  \\\n",
       "0         EFM;63b098b01a65d200011620f8   \n",
       "1         EFM;63b0b476c623b40001a68b45   \n",
       "2         EFM;63b0b5a8c623b40001a68b9b   \n",
       "3         EFM;63b0b5c6c623b40001a68ba2   \n",
       "4         EFM;63b0b675c623b40001a68c03   \n",
       "...                                ...   \n",
       "408772  EFMTX;65913ce9c23c110001552471   \n",
       "408773  EFMTX;65913e2cc23c110001552527   \n",
       "408774  EFMTX;6530d7a8eedb1500019c416e   \n",
       "408775  EFMTX;658cd3bf975f510001572fd9   \n",
       "408776  EFMTX;6590c9381d392e0001f866b6   \n",
       "\n",
       "                                                   slogan  \n",
       "0                                                    None  \n",
       "1                                                    None  \n",
       "2                                                    None  \n",
       "3                                                    None  \n",
       "4                                                    None  \n",
       "...                                                   ...  \n",
       "408772  tunnel aps degraded downgrade of aps tunnel pr...  \n",
       "408773  tunnel aps degraded downgrade of aps tunnel pr...  \n",
       "408774             opttxlow reducedtransmitteroutputpower  \n",
       "408775  tunnel aps degraded downgrade of aps tunnel pr...  \n",
       "408776  tunnel aps degraded downgrade of aps tunnel pr...  \n",
       "\n",
       "[49569783 rows x 2 columns]"
      ]
     },
     "execution_count": 8,
     "metadata": {},
     "output_type": "execute_result"
    }
   ],
   "source": [
    "alarms_slogan"
   ]
  },
  {
   "cell_type": "code",
   "execution_count": 9,
   "metadata": {},
   "outputs": [],
   "source": [
    "grouped_alarms = alarms_slogan.groupby(\"alarm_id\")"
   ]
  },
  {
   "cell_type": "code",
   "execution_count": 11,
   "metadata": {},
   "outputs": [
    {
     "data": {
      "text/plain": [
       "alarm_id\n",
       "EFMTX;6499ea4d343d87000126b546    2\n",
       "EFMTX;64fb6e453dbe2e000111ca1f    2\n",
       "EFMTX;65096d9797d34f0001d7d811    2\n",
       "EFMTX;650f2fc0347786000100ae20    2\n",
       "EFMTX;650f2fc1352583000180f26f    2\n",
       "                                 ..\n",
       "EFM;64a277c2fbeac90001bf6c4b      1\n",
       "EFM;64a277c3fbeac90001bf6c4e      1\n",
       "EFM;64a277c42a3b2e00012a0b15      1\n",
       "EFM;64a277c5a4a90400015bc7a8      1\n",
       "ROS1P;172620901                   1\n",
       "Length: 49161006, dtype: int64"
      ]
     },
     "execution_count": 11,
     "metadata": {},
     "output_type": "execute_result"
    }
   ],
   "source": [
    "grouped_alarms.size().sort_values(ascending=False)"
   ]
  },
  {
   "cell_type": "code",
   "execution_count": 4,
   "metadata": {},
   "outputs": [],
   "source": [
    "unique_alarm_ids = alarms_slogan['alarm_id'].unique()"
   ]
  },
  {
   "cell_type": "code",
   "execution_count": 6,
   "metadata": {},
   "outputs": [
    {
     "data": {
      "text/plain": [
       "49161006"
      ]
     },
     "execution_count": 6,
     "metadata": {},
     "output_type": "execute_result"
    }
   ],
   "source": [
    "len(unique_alarm_ids)"
   ]
  },
  {
   "cell_type": "code",
   "execution_count": 8,
   "metadata": {},
   "outputs": [
    {
     "data": {
      "text/plain": [
       "21393339"
      ]
     },
     "execution_count": 8,
     "metadata": {},
     "output_type": "execute_result"
    }
   ],
   "source": [
    "tot_alarms = adsl.shape[0] + ptn.shape[0] + sdh.shape[0] + pdh.shape[0]\n",
    "tot_alarms"
   ]
  },
  {
   "cell_type": "code",
   "execution_count": 6,
   "metadata": {},
   "outputs": [
    {
     "data": {
      "text/plain": [
       "49569783"
      ]
     },
     "execution_count": 6,
     "metadata": {},
     "output_type": "execute_result"
    }
   ],
   "source": [
    "tot = 21393339 + mob.shape[0]\n",
    "tot"
   ]
  },
  {
   "cell_type": "code",
   "execution_count": 13,
   "metadata": {},
   "outputs": [],
   "source": [
    "clusters_filtered = clusters[[\"alarm_id\", \"cluster_id\", \"cluster_id2\"]]"
   ]
  },
  {
   "cell_type": "code",
   "execution_count": 14,
   "metadata": {},
   "outputs": [
    {
     "data": {
      "text/html": [
       "<div>\n",
       "<style scoped>\n",
       "    .dataframe tbody tr th:only-of-type {\n",
       "        vertical-align: middle;\n",
       "    }\n",
       "\n",
       "    .dataframe tbody tr th {\n",
       "        vertical-align: top;\n",
       "    }\n",
       "\n",
       "    .dataframe thead th {\n",
       "        text-align: right;\n",
       "    }\n",
       "</style>\n",
       "<table border=\"1\" class=\"dataframe\">\n",
       "  <thead>\n",
       "    <tr style=\"text-align: right;\">\n",
       "      <th></th>\n",
       "      <th>alarm_id</th>\n",
       "      <th>cluster_id</th>\n",
       "      <th>cluster_id2</th>\n",
       "    </tr>\n",
       "  </thead>\n",
       "  <tbody>\n",
       "    <tr>\n",
       "      <th>0</th>\n",
       "      <td>EFM;63af9dfe2aaf2c000125807a</td>\n",
       "      <td>202301010000_3</td>\n",
       "      <td>202301010000_1</td>\n",
       "    </tr>\n",
       "    <tr>\n",
       "      <th>1</th>\n",
       "      <td>EFM;63af9dfec623b40001a5c9cf</td>\n",
       "      <td>202301010000_3</td>\n",
       "      <td>202301010000_1</td>\n",
       "    </tr>\n",
       "    <tr>\n",
       "      <th>2</th>\n",
       "      <td>COS1P;136902468</td>\n",
       "      <td>202301010000_20</td>\n",
       "      <td>202301010000_2</td>\n",
       "    </tr>\n",
       "    <tr>\n",
       "      <th>3</th>\n",
       "      <td>EFM;63b0beaf2aaf2c0001258736</td>\n",
       "      <td>202301010000_9</td>\n",
       "      <td>202301010000_3</td>\n",
       "    </tr>\n",
       "    <tr>\n",
       "      <th>4</th>\n",
       "      <td>COS1P;136891403</td>\n",
       "      <td>202301010000_21</td>\n",
       "      <td>202301010000_4</td>\n",
       "    </tr>\n",
       "    <tr>\n",
       "      <th>...</th>\n",
       "      <td>...</td>\n",
       "      <td>...</td>\n",
       "      <td>...</td>\n",
       "    </tr>\n",
       "    <tr>\n",
       "      <th>38</th>\n",
       "      <td>EFMTX;6591efb9d7d6bc00019444d8</td>\n",
       "      <td>202312312350_16</td>\n",
       "      <td>202312312350_13</td>\n",
       "    </tr>\n",
       "    <tr>\n",
       "      <th>39</th>\n",
       "      <td>EFMTX;6591f046d8beb800016deaef</td>\n",
       "      <td>202312312348_17</td>\n",
       "      <td>202312312344_9</td>\n",
       "    </tr>\n",
       "    <tr>\n",
       "      <th>40</th>\n",
       "      <td>EFM;6591f199d4c961000177739d</td>\n",
       "      <td>202312312358_1</td>\n",
       "      <td>202312312358_13</td>\n",
       "    </tr>\n",
       "    <tr>\n",
       "      <th>41</th>\n",
       "      <td>EFM;6591f19aba09b0000160c08d</td>\n",
       "      <td>202312312358_1</td>\n",
       "      <td>202312312358_13</td>\n",
       "    </tr>\n",
       "    <tr>\n",
       "      <th>42</th>\n",
       "      <td>EFMTX;6591ef19d7d6bc000194445c</td>\n",
       "      <td>202312312358_28</td>\n",
       "      <td>202312312358_14</td>\n",
       "    </tr>\n",
       "  </tbody>\n",
       "</table>\n",
       "<p>13123614 rows × 3 columns</p>\n",
       "</div>"
      ],
      "text/plain": [
       "                          alarm_id       cluster_id      cluster_id2\n",
       "0     EFM;63af9dfe2aaf2c000125807a   202301010000_3   202301010000_1\n",
       "1     EFM;63af9dfec623b40001a5c9cf   202301010000_3   202301010000_1\n",
       "2                  COS1P;136902468  202301010000_20   202301010000_2\n",
       "3     EFM;63b0beaf2aaf2c0001258736   202301010000_9   202301010000_3\n",
       "4                  COS1P;136891403  202301010000_21   202301010000_4\n",
       "..                             ...              ...              ...\n",
       "38  EFMTX;6591efb9d7d6bc00019444d8  202312312350_16  202312312350_13\n",
       "39  EFMTX;6591f046d8beb800016deaef  202312312348_17   202312312344_9\n",
       "40    EFM;6591f199d4c961000177739d   202312312358_1  202312312358_13\n",
       "41    EFM;6591f19aba09b0000160c08d   202312312358_1  202312312358_13\n",
       "42  EFMTX;6591ef19d7d6bc000194445c  202312312358_28  202312312358_14\n",
       "\n",
       "[13123614 rows x 3 columns]"
      ]
     },
     "execution_count": 14,
     "metadata": {},
     "output_type": "execute_result"
    }
   ],
   "source": [
    "clusters_filtered"
   ]
  },
  {
   "cell_type": "code",
   "execution_count": 25,
   "metadata": {},
   "outputs": [],
   "source": [
    "alarms_duplicated = alarms_slogan[alarms_slogan.duplicated(subset=[\"alarm_id\"], keep=False)]"
   ]
  },
  {
   "cell_type": "code",
   "execution_count": 26,
   "metadata": {},
   "outputs": [
    {
     "data": {
      "text/html": [
       "<div>\n",
       "<style scoped>\n",
       "    .dataframe tbody tr th:only-of-type {\n",
       "        vertical-align: middle;\n",
       "    }\n",
       "\n",
       "    .dataframe tbody tr th {\n",
       "        vertical-align: top;\n",
       "    }\n",
       "\n",
       "    .dataframe thead th {\n",
       "        text-align: right;\n",
       "    }\n",
       "</style>\n",
       "<table border=\"1\" class=\"dataframe\">\n",
       "  <thead>\n",
       "    <tr style=\"text-align: right;\">\n",
       "      <th></th>\n",
       "      <th>alarm_id</th>\n",
       "      <th>slogan</th>\n",
       "    </tr>\n",
       "  </thead>\n",
       "  <tbody>\n",
       "    <tr>\n",
       "      <th>0</th>\n",
       "      <td>COS1P;136904679</td>\n",
       "      <td>allarme sincronismo</td>\n",
       "    </tr>\n",
       "    <tr>\n",
       "      <th>1</th>\n",
       "      <td>COS1P;136904680</td>\n",
       "      <td>scheda guasta</td>\n",
       "    </tr>\n",
       "    <tr>\n",
       "      <th>2</th>\n",
       "      <td>COS1P;136904397</td>\n",
       "      <td>potenza ottica anomala</td>\n",
       "    </tr>\n",
       "    <tr>\n",
       "      <th>3</th>\n",
       "      <td>COS1P;136898692</td>\n",
       "      <td>apparato isolato</td>\n",
       "    </tr>\n",
       "    <tr>\n",
       "      <th>4</th>\n",
       "      <td>COS1P;136904264</td>\n",
       "      <td>oamloc locv</td>\n",
       "    </tr>\n",
       "    <tr>\n",
       "      <th>...</th>\n",
       "      <td>...</td>\n",
       "      <td>...</td>\n",
       "    </tr>\n",
       "    <tr>\n",
       "      <th>408772</th>\n",
       "      <td>EFMTX;65913ce9c23c110001552471</td>\n",
       "      <td>tunnel aps degraded downgrade of aps tunnel pr...</td>\n",
       "    </tr>\n",
       "    <tr>\n",
       "      <th>408773</th>\n",
       "      <td>EFMTX;65913e2cc23c110001552527</td>\n",
       "      <td>tunnel aps degraded downgrade of aps tunnel pr...</td>\n",
       "    </tr>\n",
       "    <tr>\n",
       "      <th>408774</th>\n",
       "      <td>EFMTX;6530d7a8eedb1500019c416e</td>\n",
       "      <td>opttxlow reducedtransmitteroutputpower</td>\n",
       "    </tr>\n",
       "    <tr>\n",
       "      <th>408775</th>\n",
       "      <td>EFMTX;658cd3bf975f510001572fd9</td>\n",
       "      <td>tunnel aps degraded downgrade of aps tunnel pr...</td>\n",
       "    </tr>\n",
       "    <tr>\n",
       "      <th>408776</th>\n",
       "      <td>EFMTX;6590c9381d392e0001f866b6</td>\n",
       "      <td>tunnel aps degraded downgrade of aps tunnel pr...</td>\n",
       "    </tr>\n",
       "  </tbody>\n",
       "</table>\n",
       "<p>817554 rows × 2 columns</p>\n",
       "</div>"
      ],
      "text/plain": [
       "                              alarm_id  \\\n",
       "0                      COS1P;136904679   \n",
       "1                      COS1P;136904680   \n",
       "2                      COS1P;136904397   \n",
       "3                      COS1P;136898692   \n",
       "4                      COS1P;136904264   \n",
       "...                                ...   \n",
       "408772  EFMTX;65913ce9c23c110001552471   \n",
       "408773  EFMTX;65913e2cc23c110001552527   \n",
       "408774  EFMTX;6530d7a8eedb1500019c416e   \n",
       "408775  EFMTX;658cd3bf975f510001572fd9   \n",
       "408776  EFMTX;6590c9381d392e0001f866b6   \n",
       "\n",
       "                                                   slogan  \n",
       "0                                     allarme sincronismo  \n",
       "1                                           scheda guasta  \n",
       "2                                  potenza ottica anomala  \n",
       "3                                        apparato isolato  \n",
       "4                                             oamloc locv  \n",
       "...                                                   ...  \n",
       "408772  tunnel aps degraded downgrade of aps tunnel pr...  \n",
       "408773  tunnel aps degraded downgrade of aps tunnel pr...  \n",
       "408774             opttxlow reducedtransmitteroutputpower  \n",
       "408775  tunnel aps degraded downgrade of aps tunnel pr...  \n",
       "408776  tunnel aps degraded downgrade of aps tunnel pr...  \n",
       "\n",
       "[817554 rows x 2 columns]"
      ]
     },
     "execution_count": 26,
     "metadata": {},
     "output_type": "execute_result"
    }
   ],
   "source": [
    "alarms_duplicated"
   ]
  },
  {
   "cell_type": "code",
   "execution_count": 28,
   "metadata": {},
   "outputs": [],
   "source": [
    "find_alarm_by_id = alarms_slogan[alarms_slogan[\"alarm_id\"] == \"COS1P;136904397\"]"
   ]
  },
  {
   "cell_type": "code",
   "execution_count": 29,
   "metadata": {},
   "outputs": [
    {
     "data": {
      "text/html": [
       "<div>\n",
       "<style scoped>\n",
       "    .dataframe tbody tr th:only-of-type {\n",
       "        vertical-align: middle;\n",
       "    }\n",
       "\n",
       "    .dataframe tbody tr th {\n",
       "        vertical-align: top;\n",
       "    }\n",
       "\n",
       "    .dataframe thead th {\n",
       "        text-align: right;\n",
       "    }\n",
       "</style>\n",
       "<table border=\"1\" class=\"dataframe\">\n",
       "  <thead>\n",
       "    <tr style=\"text-align: right;\">\n",
       "      <th></th>\n",
       "      <th>alarm_id</th>\n",
       "      <th>slogan</th>\n",
       "    </tr>\n",
       "  </thead>\n",
       "  <tbody>\n",
       "    <tr>\n",
       "      <th>2</th>\n",
       "      <td>COS1P;136904397</td>\n",
       "      <td>potenza ottica anomala</td>\n",
       "    </tr>\n",
       "    <tr>\n",
       "      <th>2</th>\n",
       "      <td>COS1P;136904397</td>\n",
       "      <td>potenza ottica anomala</td>\n",
       "    </tr>\n",
       "  </tbody>\n",
       "</table>\n",
       "</div>"
      ],
      "text/plain": [
       "          alarm_id                  slogan\n",
       "2  COS1P;136904397  potenza ottica anomala\n",
       "2  COS1P;136904397  potenza ottica anomala"
      ]
     },
     "execution_count": 29,
     "metadata": {},
     "output_type": "execute_result"
    }
   ],
   "source": [
    "find_alarm_by_id"
   ]
  },
  {
   "cell_type": "code",
   "execution_count": 18,
   "metadata": {},
   "outputs": [],
   "source": [
    "alarms_slogan = alarms_slogan.drop_duplicates()"
   ]
  },
  {
   "cell_type": "code",
   "execution_count": 19,
   "metadata": {},
   "outputs": [
    {
     "data": {
      "text/html": [
       "<div>\n",
       "<style scoped>\n",
       "    .dataframe tbody tr th:only-of-type {\n",
       "        vertical-align: middle;\n",
       "    }\n",
       "\n",
       "    .dataframe tbody tr th {\n",
       "        vertical-align: top;\n",
       "    }\n",
       "\n",
       "    .dataframe thead th {\n",
       "        text-align: right;\n",
       "    }\n",
       "</style>\n",
       "<table border=\"1\" class=\"dataframe\">\n",
       "  <thead>\n",
       "    <tr style=\"text-align: right;\">\n",
       "      <th></th>\n",
       "      <th>alarm_id</th>\n",
       "      <th>slogan</th>\n",
       "    </tr>\n",
       "  </thead>\n",
       "  <tbody>\n",
       "    <tr>\n",
       "      <th>0</th>\n",
       "      <td>EFM;63b098b01a65d200011620f8</td>\n",
       "      <td>None</td>\n",
       "    </tr>\n",
       "    <tr>\n",
       "      <th>1</th>\n",
       "      <td>EFM;63b0b476c623b40001a68b45</td>\n",
       "      <td>None</td>\n",
       "    </tr>\n",
       "    <tr>\n",
       "      <th>2</th>\n",
       "      <td>EFM;63b0b5a8c623b40001a68b9b</td>\n",
       "      <td>None</td>\n",
       "    </tr>\n",
       "    <tr>\n",
       "      <th>3</th>\n",
       "      <td>EFM;63b0b5c6c623b40001a68ba2</td>\n",
       "      <td>None</td>\n",
       "    </tr>\n",
       "    <tr>\n",
       "      <th>4</th>\n",
       "      <td>EFM;63b0b675c623b40001a68c03</td>\n",
       "      <td>None</td>\n",
       "    </tr>\n",
       "    <tr>\n",
       "      <th>...</th>\n",
       "      <td>...</td>\n",
       "      <td>...</td>\n",
       "    </tr>\n",
       "    <tr>\n",
       "      <th>11248934</th>\n",
       "      <td>EFMTX;65645b6951c2e00001864ba8</td>\n",
       "      <td>problemi wdm</td>\n",
       "    </tr>\n",
       "    <tr>\n",
       "      <th>11248935</th>\n",
       "      <td>EFMTX;659148d5feea700001755c78</td>\n",
       "      <td>problema su bus di comunicazione</td>\n",
       "    </tr>\n",
       "    <tr>\n",
       "      <th>11248936</th>\n",
       "      <td>EFMTX;6591f1c3e294c600010bf336</td>\n",
       "      <td>sef sef</td>\n",
       "    </tr>\n",
       "    <tr>\n",
       "      <th>11248937</th>\n",
       "      <td>EFMTX;656f3be5f9d31e0001ccb86f</td>\n",
       "      <td>degrado laser tx</td>\n",
       "    </tr>\n",
       "    <tr>\n",
       "      <th>11248938</th>\n",
       "      <td>EFMTX;6591f1aad8beb800016dec4f</td>\n",
       "      <td>fuori servizio</td>\n",
       "    </tr>\n",
       "  </tbody>\n",
       "</table>\n",
       "<p>49161006 rows × 2 columns</p>\n",
       "</div>"
      ],
      "text/plain": [
       "                                alarm_id                            slogan\n",
       "0           EFM;63b098b01a65d200011620f8                              None\n",
       "1           EFM;63b0b476c623b40001a68b45                              None\n",
       "2           EFM;63b0b5a8c623b40001a68b9b                              None\n",
       "3           EFM;63b0b5c6c623b40001a68ba2                              None\n",
       "4           EFM;63b0b675c623b40001a68c03                              None\n",
       "...                                  ...                               ...\n",
       "11248934  EFMTX;65645b6951c2e00001864ba8                      problemi wdm\n",
       "11248935  EFMTX;659148d5feea700001755c78  problema su bus di comunicazione\n",
       "11248936  EFMTX;6591f1c3e294c600010bf336                           sef sef\n",
       "11248937  EFMTX;656f3be5f9d31e0001ccb86f                  degrado laser tx\n",
       "11248938  EFMTX;6591f1aad8beb800016dec4f                    fuori servizio\n",
       "\n",
       "[49161006 rows x 2 columns]"
      ]
     },
     "execution_count": 19,
     "metadata": {},
     "output_type": "execute_result"
    }
   ],
   "source": [
    "alarms_slogan"
   ]
  },
  {
   "cell_type": "code",
   "execution_count": 20,
   "metadata": {},
   "outputs": [],
   "source": [
    "clusters_with_slogans = pd.merge(clusters_filtered, alarms_slogan, on='alarm_id', how='left')"
   ]
  },
  {
   "cell_type": "code",
   "execution_count": 21,
   "metadata": {},
   "outputs": [
    {
     "data": {
      "text/html": [
       "<div>\n",
       "<style scoped>\n",
       "    .dataframe tbody tr th:only-of-type {\n",
       "        vertical-align: middle;\n",
       "    }\n",
       "\n",
       "    .dataframe tbody tr th {\n",
       "        vertical-align: top;\n",
       "    }\n",
       "\n",
       "    .dataframe thead th {\n",
       "        text-align: right;\n",
       "    }\n",
       "</style>\n",
       "<table border=\"1\" class=\"dataframe\">\n",
       "  <thead>\n",
       "    <tr style=\"text-align: right;\">\n",
       "      <th></th>\n",
       "      <th>alarm_id</th>\n",
       "      <th>cluster_id</th>\n",
       "      <th>cluster_id2</th>\n",
       "      <th>slogan</th>\n",
       "    </tr>\n",
       "  </thead>\n",
       "  <tbody>\n",
       "    <tr>\n",
       "      <th>0</th>\n",
       "      <td>EFM;63af9dfe2aaf2c000125807a</td>\n",
       "      <td>202301010000_3</td>\n",
       "      <td>202301010000_1</td>\n",
       "      <td>None</td>\n",
       "    </tr>\n",
       "    <tr>\n",
       "      <th>1</th>\n",
       "      <td>EFM;63af9dfec623b40001a5c9cf</td>\n",
       "      <td>202301010000_3</td>\n",
       "      <td>202301010000_1</td>\n",
       "      <td>None</td>\n",
       "    </tr>\n",
       "    <tr>\n",
       "      <th>2</th>\n",
       "      <td>COS1P;136902468</td>\n",
       "      <td>202301010000_20</td>\n",
       "      <td>202301010000_2</td>\n",
       "      <td>NaN</td>\n",
       "    </tr>\n",
       "    <tr>\n",
       "      <th>3</th>\n",
       "      <td>EFM;63b0beaf2aaf2c0001258736</td>\n",
       "      <td>202301010000_9</td>\n",
       "      <td>202301010000_3</td>\n",
       "      <td>None</td>\n",
       "    </tr>\n",
       "    <tr>\n",
       "      <th>4</th>\n",
       "      <td>COS1P;136891403</td>\n",
       "      <td>202301010000_21</td>\n",
       "      <td>202301010000_4</td>\n",
       "      <td>apparato isolato</td>\n",
       "    </tr>\n",
       "    <tr>\n",
       "      <th>...</th>\n",
       "      <td>...</td>\n",
       "      <td>...</td>\n",
       "      <td>...</td>\n",
       "      <td>...</td>\n",
       "    </tr>\n",
       "    <tr>\n",
       "      <th>13123609</th>\n",
       "      <td>EFMTX;6591efb9d7d6bc00019444d8</td>\n",
       "      <td>202312312350_16</td>\n",
       "      <td>202312312350_13</td>\n",
       "      <td>guasto ima</td>\n",
       "    </tr>\n",
       "    <tr>\n",
       "      <th>13123610</th>\n",
       "      <td>EFMTX;6591f046d8beb800016deaef</td>\n",
       "      <td>202312312348_17</td>\n",
       "      <td>202312312344_9</td>\n",
       "      <td>oamloc locv</td>\n",
       "    </tr>\n",
       "    <tr>\n",
       "      <th>13123611</th>\n",
       "      <td>EFM;6591f199d4c961000177739d</td>\n",
       "      <td>202312312358_1</td>\n",
       "      <td>202312312358_13</td>\n",
       "      <td>None</td>\n",
       "    </tr>\n",
       "    <tr>\n",
       "      <th>13123612</th>\n",
       "      <td>EFM;6591f19aba09b0000160c08d</td>\n",
       "      <td>202312312358_1</td>\n",
       "      <td>202312312358_13</td>\n",
       "      <td>None</td>\n",
       "    </tr>\n",
       "    <tr>\n",
       "      <th>13123613</th>\n",
       "      <td>EFMTX;6591ef19d7d6bc000194445c</td>\n",
       "      <td>202312312358_28</td>\n",
       "      <td>202312312358_14</td>\n",
       "      <td>lof</td>\n",
       "    </tr>\n",
       "  </tbody>\n",
       "</table>\n",
       "<p>13123614 rows × 4 columns</p>\n",
       "</div>"
      ],
      "text/plain": [
       "                                alarm_id       cluster_id      cluster_id2  \\\n",
       "0           EFM;63af9dfe2aaf2c000125807a   202301010000_3   202301010000_1   \n",
       "1           EFM;63af9dfec623b40001a5c9cf   202301010000_3   202301010000_1   \n",
       "2                        COS1P;136902468  202301010000_20   202301010000_2   \n",
       "3           EFM;63b0beaf2aaf2c0001258736   202301010000_9   202301010000_3   \n",
       "4                        COS1P;136891403  202301010000_21   202301010000_4   \n",
       "...                                  ...              ...              ...   \n",
       "13123609  EFMTX;6591efb9d7d6bc00019444d8  202312312350_16  202312312350_13   \n",
       "13123610  EFMTX;6591f046d8beb800016deaef  202312312348_17   202312312344_9   \n",
       "13123611    EFM;6591f199d4c961000177739d   202312312358_1  202312312358_13   \n",
       "13123612    EFM;6591f19aba09b0000160c08d   202312312358_1  202312312358_13   \n",
       "13123613  EFMTX;6591ef19d7d6bc000194445c  202312312358_28  202312312358_14   \n",
       "\n",
       "                    slogan  \n",
       "0                     None  \n",
       "1                     None  \n",
       "2                      NaN  \n",
       "3                     None  \n",
       "4         apparato isolato  \n",
       "...                    ...  \n",
       "13123609        guasto ima  \n",
       "13123610       oamloc locv  \n",
       "13123611              None  \n",
       "13123612              None  \n",
       "13123613               lof  \n",
       "\n",
       "[13123614 rows x 4 columns]"
      ]
     },
     "execution_count": 21,
     "metadata": {},
     "output_type": "execute_result"
    }
   ],
   "source": [
    "clusters_with_slogans"
   ]
  },
  {
   "cell_type": "code",
   "execution_count": 15,
   "metadata": {},
   "outputs": [
    {
     "name": "stdout",
     "output_type": "stream",
     "text": [
      "   ID valore1 valore2\n",
      "0   1       A     NaN\n",
      "1   2       B       X\n",
      "2   3       C       Y\n",
      "3   4       D     NaN\n"
     ]
    }
   ],
   "source": [
    "import pandas as pd\n",
    "\n",
    "# Creiamo due dataframe di esempio\n",
    "df1 = pd.DataFrame({'ID': [1, 2, 3, 4], 'valore1': ['A', 'B', 'C', 'D']})\n",
    "df2 = pd.DataFrame({'ID': [2, 3, 5], 'valore2': ['X', 'Y', 'Z']})\n",
    "\n",
    "# Effettuiamo il merge mantenendo solo gli ID della prima colonna (df1)\n",
    "merged_df = pd.merge(df1, df2, on='ID', how='left')\n",
    "\n",
    "# Visualizziamo il dataframe risultante\n",
    "print(merged_df)\n"
   ]
  }
 ],
 "metadata": {
  "kernelspec": {
   "display_name": "TIM_thesis",
   "language": "python",
   "name": "python3"
  },
  "language_info": {
   "codemirror_mode": {
    "name": "ipython",
    "version": 3
   },
   "file_extension": ".py",
   "mimetype": "text/x-python",
   "name": "python",
   "nbconvert_exporter": "python",
   "pygments_lexer": "ipython3",
   "version": "3.12.2"
  }
 },
 "nbformat": 4,
 "nbformat_minor": 2
}
