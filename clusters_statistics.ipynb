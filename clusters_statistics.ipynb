{
 "cells": [
  {
   "cell_type": "code",
   "execution_count": 1,
   "metadata": {},
   "outputs": [],
   "source": [
    "import pandas as pd\n",
    "from tqdm import tqdm"
   ]
  },
  {
   "cell_type": "markdown",
   "metadata": {},
   "source": [
    "## Load Clusters and Alarms"
   ]
  },
  {
   "cell_type": "code",
   "execution_count": 2,
   "metadata": {},
   "outputs": [],
   "source": [
    "clusters = pd.read_parquet(\"real-time clusters/20230101-20240101_real_time_clusters.parquet\")"
   ]
  },
  {
   "cell_type": "code",
   "execution_count": 2,
   "metadata": {},
   "outputs": [],
   "source": [
    "mob = pd.read_parquet(\"alarms datasets/mob/20230101-20240101_inpas_mob_preprocess__an__last_event__last_event__ext1.parquet\")"
   ]
  },
  {
   "cell_type": "code",
   "execution_count": 3,
   "metadata": {},
   "outputs": [],
   "source": [
    "adsl = pd.read_parquet(\"alarms datasets/tx/20230101-20240101_inpas_tx_preprocess__adsl__last_event__last_event__ext1.parquet\")"
   ]
  },
  {
   "cell_type": "code",
   "execution_count": 4,
   "metadata": {},
   "outputs": [],
   "source": [
    "ptn = pd.read_parquet(\"alarms datasets/tx/20230101-20240101_inpas_tx_preprocess__ptn__last_event__last_event__ext1.parquet\")"
   ]
  },
  {
   "cell_type": "code",
   "execution_count": 5,
   "metadata": {},
   "outputs": [],
   "source": [
    "sdh = pd.read_parquet(\"alarms datasets/tx/20230101-20240101_inpas_tx_preprocess__sdh__last_event__last_event__ext1.parquet\")"
   ]
  },
  {
   "cell_type": "code",
   "execution_count": 6,
   "metadata": {},
   "outputs": [],
   "source": [
    "pdh = pd.read_parquet(\"alarms datasets/tx/20230101-20240101_inpas_tx_preprocess__ptn__last_event__last_event__ext1.parquet\")"
   ]
  },
  {
   "cell_type": "code",
   "execution_count": 9,
   "metadata": {},
   "outputs": [],
   "source": [
    "mob = mob[[\"alarm_id\", \"last_occurrence\"]]"
   ]
  },
  {
   "cell_type": "code",
   "execution_count": 11,
   "metadata": {},
   "outputs": [],
   "source": [
    "adsl = adsl[[\"alarm_id\", \"last_occurrence\"]]\n",
    "ptn = ptn[[\"alarm_id\", \"last_occurrence\"]]\n",
    "sdh = sdh[[\"alarm_id\", \"last_occurrence\"]]\n",
    "pdh = pdh[[\"alarm_id\", \"last_occurrence\"]]\n"
   ]
  },
  {
   "cell_type": "code",
   "execution_count": 12,
   "metadata": {},
   "outputs": [],
   "source": [
    "alarms = pd.concat([mob, adsl, ptn, sdh, pdh])\n"
   ]
  },
  {
   "cell_type": "code",
   "execution_count": 13,
   "metadata": {},
   "outputs": [],
   "source": [
    "alarms.to_parquet(\"alarms datasets/alarms.parquet\")"
   ]
  },
  {
   "cell_type": "markdown",
   "metadata": {},
   "source": [
    "## Clusters Statistics"
   ]
  },
  {
   "cell_type": "code",
   "execution_count": 30,
   "metadata": {},
   "outputs": [],
   "source": [
    "clusters = pd.read_parquet(\"real-time clusters/20230101-20240101_real_time_clusters.parquet\")\n",
    "alarms = pd.read_parquet(\"alarms datasets/alarms.parquet\")"
   ]
  },
  {
   "cell_type": "code",
   "execution_count": 31,
   "metadata": {},
   "outputs": [],
   "source": [
    "clusters_filtered = clusters[[\"alarm_id\", \"cluster_id\", \"cluster_id2\",\"first_occurrence\"]]"
   ]
  },
  {
   "cell_type": "code",
   "execution_count": 35,
   "metadata": {},
   "outputs": [],
   "source": [
    "clusters_complete = clusters_filtered.merge(alarms, on=\"alarm_id\", how=\"left\")"
   ]
  },
  {
   "cell_type": "code",
   "execution_count": 44,
   "metadata": {},
   "outputs": [],
   "source": [
    "clusters_complete[\"first_occurrence\"] = pd.to_datetime(clusters_complete[\"first_occurrence\"])"
   ]
  },
  {
   "cell_type": "code",
   "execution_count": 54,
   "metadata": {},
   "outputs": [],
   "source": [
    "clusters_complete = clusters_complete.dropna(subset=[\"last_occurrence\"])"
   ]
  },
  {
   "cell_type": "code",
   "execution_count": 56,
   "metadata": {},
   "outputs": [],
   "source": [
    "clusters_complete.to_parquet(\"real-time clusters/clusters_complete.parquet\")"
   ]
  },
  {
   "cell_type": "markdown",
   "metadata": {},
   "source": [
    "### Clusters Size\n",
    "\n",
    "Number of alarms within a cluster"
   ]
  },
  {
   "cell_type": "code",
   "execution_count": 6,
   "metadata": {},
   "outputs": [],
   "source": [
    "clusters_complete = pd.read_parquet(\"real-time clusters/clusters_complete.parquet\")"
   ]
  },
  {
   "cell_type": "code",
   "execution_count": 7,
   "metadata": {},
   "outputs": [],
   "source": [
    "clusters_grouped_by_id = clusters_complete.groupby([\"cluster_id\", \"cluster_id2\"])"
   ]
  },
  {
   "cell_type": "code",
   "execution_count": 12,
   "metadata": {},
   "outputs": [],
   "source": [
    "clusters_grouped = clusters_grouped_by_id "
   ]
  },
  {
   "cell_type": "code",
   "execution_count": 13,
   "metadata": {},
   "outputs": [],
   "source": [
    "size_df = clusters_grouped_by_id.size().reset_index(name='size')"
   ]
  },
  {
   "cell_type": "code",
   "execution_count": 14,
   "metadata": {},
   "outputs": [],
   "source": [
    "size_df.to_parquet(\"real-time clusters/size_df.parquet\")"
   ]
  },
  {
   "cell_type": "markdown",
   "metadata": {},
   "source": [
    "### Clusters Lifespan\n",
    "\n",
    "Time difference from the last last_occurrence and the first first_occurrence of alarms "
   ]
  },
  {
   "cell_type": "code",
   "execution_count": 73,
   "metadata": {},
   "outputs": [],
   "source": [
    "\n",
    "def calculate_lifespan(group):\n",
    "    return group['last_occurrence'].max() - group['first_occurrence'].min()\n",
    "\n",
    "tqdm.pandas()\n",
    "\n",
    "\n",
    "lifespan_df = clusters_grouped.apply(calculate_lifespan, include_groups=False).reset_index(name='lifespan')\n"
   ]
  },
  {
   "cell_type": "code",
   "execution_count": 75,
   "metadata": {},
   "outputs": [],
   "source": [
    "lifespan_df.to_parquet(\"real-time clusters/lifespan_df.parquet\")"
   ]
  },
  {
   "cell_type": "markdown",
   "metadata": {},
   "source": [
    "### Clusters Delta First Occurrence\n",
    "\n",
    "Distance between the last available first_occurrence and the first"
   ]
  },
  {
   "cell_type": "code",
   "execution_count": 76,
   "metadata": {},
   "outputs": [
    {
     "name": "stderr",
     "output_type": "stream",
     "text": [
      "100%|██████████| 6369371/6369371 [17:32<00:00, 6048.92it/s]\n"
     ]
    }
   ],
   "source": [
    "\n",
    "\n",
    "def calculate_lifespan(group):\n",
    "    return group['first_occurrence'].max() - group['first_occurrence'].min()\n",
    "\n",
    "\n",
    "tqdm.pandas()\n",
    "\n",
    "\n",
    "delta_df = clusters_grouped.progress_apply(calculate_lifespan).reset_index(name='delta first occurrence')"
   ]
  },
  {
   "cell_type": "code",
   "execution_count": 77,
   "metadata": {},
   "outputs": [
    {
     "data": {
      "text/html": [
       "<div>\n",
       "<style scoped>\n",
       "    .dataframe tbody tr th:only-of-type {\n",
       "        vertical-align: middle;\n",
       "    }\n",
       "\n",
       "    .dataframe tbody tr th {\n",
       "        vertical-align: top;\n",
       "    }\n",
       "\n",
       "    .dataframe thead th {\n",
       "        text-align: right;\n",
       "    }\n",
       "</style>\n",
       "<table border=\"1\" class=\"dataframe\">\n",
       "  <thead>\n",
       "    <tr style=\"text-align: right;\">\n",
       "      <th></th>\n",
       "      <th>cluster_id</th>\n",
       "      <th>cluster_id2</th>\n",
       "      <th>lifespan</th>\n",
       "    </tr>\n",
       "  </thead>\n",
       "  <tbody>\n",
       "    <tr>\n",
       "      <th>0</th>\n",
       "      <td>202301010000_1</td>\n",
       "      <td>202301010000_33</td>\n",
       "      <td>0 days</td>\n",
       "    </tr>\n",
       "    <tr>\n",
       "      <th>1</th>\n",
       "      <td>202301010000_10</td>\n",
       "      <td>202301010000_133</td>\n",
       "      <td>0 days</td>\n",
       "    </tr>\n",
       "    <tr>\n",
       "      <th>2</th>\n",
       "      <td>202301010000_104</td>\n",
       "      <td>202301010000_79</td>\n",
       "      <td>0 days</td>\n",
       "    </tr>\n",
       "    <tr>\n",
       "      <th>3</th>\n",
       "      <td>202301010000_105</td>\n",
       "      <td>202301010000_80</td>\n",
       "      <td>0 days</td>\n",
       "    </tr>\n",
       "    <tr>\n",
       "      <th>4</th>\n",
       "      <td>202301010000_106</td>\n",
       "      <td>202301010000_81</td>\n",
       "      <td>0 days</td>\n",
       "    </tr>\n",
       "    <tr>\n",
       "      <th>...</th>\n",
       "      <td>...</td>\n",
       "      <td>...</td>\n",
       "      <td>...</td>\n",
       "    </tr>\n",
       "    <tr>\n",
       "      <th>6369366</th>\n",
       "      <td>202312312358_5</td>\n",
       "      <td>202312312354_5</td>\n",
       "      <td>0 days</td>\n",
       "    </tr>\n",
       "    <tr>\n",
       "      <th>6369367</th>\n",
       "      <td>202312312358_6</td>\n",
       "      <td>202312312354_5</td>\n",
       "      <td>0 days</td>\n",
       "    </tr>\n",
       "    <tr>\n",
       "      <th>6369368</th>\n",
       "      <td>202312312358_7</td>\n",
       "      <td>202312312354_5</td>\n",
       "      <td>0 days</td>\n",
       "    </tr>\n",
       "    <tr>\n",
       "      <th>6369369</th>\n",
       "      <td>202312312358_8</td>\n",
       "      <td>202312312354_7</td>\n",
       "      <td>0 days</td>\n",
       "    </tr>\n",
       "    <tr>\n",
       "      <th>6369370</th>\n",
       "      <td>202312312358_9</td>\n",
       "      <td>202312312354_7</td>\n",
       "      <td>0 days</td>\n",
       "    </tr>\n",
       "  </tbody>\n",
       "</table>\n",
       "<p>6369371 rows × 3 columns</p>\n",
       "</div>"
      ],
      "text/plain": [
       "               cluster_id       cluster_id2 lifespan\n",
       "0          202301010000_1   202301010000_33   0 days\n",
       "1         202301010000_10  202301010000_133   0 days\n",
       "2        202301010000_104   202301010000_79   0 days\n",
       "3        202301010000_105   202301010000_80   0 days\n",
       "4        202301010000_106   202301010000_81   0 days\n",
       "...                   ...               ...      ...\n",
       "6369366    202312312358_5    202312312354_5   0 days\n",
       "6369367    202312312358_6    202312312354_5   0 days\n",
       "6369368    202312312358_7    202312312354_5   0 days\n",
       "6369369    202312312358_8    202312312354_7   0 days\n",
       "6369370    202312312358_9    202312312354_7   0 days\n",
       "\n",
       "[6369371 rows x 3 columns]"
      ]
     },
     "execution_count": 77,
     "metadata": {},
     "output_type": "execute_result"
    }
   ],
   "source": [
    "delta_df"
   ]
  },
  {
   "cell_type": "code",
   "execution_count": 78,
   "metadata": {},
   "outputs": [],
   "source": [
    "delta_df.to_parquet(\"real-time clusters/delta_df.parquet\")"
   ]
  },
  {
   "cell_type": "code",
   "execution_count": 3,
   "metadata": {},
   "outputs": [],
   "source": [
    "delta_df = pd.read_parquet(\"real-time clusters/delta_df.parquet\")"
   ]
  },
  {
   "cell_type": "code",
   "execution_count": 5,
   "metadata": {},
   "outputs": [
    {
     "data": {
      "text/html": [
       "<div>\n",
       "<style scoped>\n",
       "    .dataframe tbody tr th:only-of-type {\n",
       "        vertical-align: middle;\n",
       "    }\n",
       "\n",
       "    .dataframe tbody tr th {\n",
       "        vertical-align: top;\n",
       "    }\n",
       "\n",
       "    .dataframe thead th {\n",
       "        text-align: right;\n",
       "    }\n",
       "</style>\n",
       "<table border=\"1\" class=\"dataframe\">\n",
       "  <thead>\n",
       "    <tr style=\"text-align: right;\">\n",
       "      <th></th>\n",
       "      <th>cluster_id</th>\n",
       "      <th>cluster_id2</th>\n",
       "      <th>lifespan</th>\n",
       "    </tr>\n",
       "  </thead>\n",
       "  <tbody>\n",
       "    <tr>\n",
       "      <th>5187223</th>\n",
       "      <td>202311041120_19</td>\n",
       "      <td>202311041120_6</td>\n",
       "      <td>0 days 02:07:54</td>\n",
       "    </tr>\n",
       "    <tr>\n",
       "      <th>4355824</th>\n",
       "      <td>202309272328_4</td>\n",
       "      <td>202309272328_3</td>\n",
       "      <td>0 days 01:53:46</td>\n",
       "    </tr>\n",
       "    <tr>\n",
       "      <th>3079985</th>\n",
       "      <td>202307270332_16</td>\n",
       "      <td>202307270332_10</td>\n",
       "      <td>0 days 01:34:24</td>\n",
       "    </tr>\n",
       "    <tr>\n",
       "      <th>5710744</th>\n",
       "      <td>202311272202_10</td>\n",
       "      <td>202311272202_3</td>\n",
       "      <td>0 days 01:32:50</td>\n",
       "    </tr>\n",
       "    <tr>\n",
       "      <th>399034</th>\n",
       "      <td>202302020154_50</td>\n",
       "      <td>202302020154_8</td>\n",
       "      <td>0 days 01:22:56</td>\n",
       "    </tr>\n",
       "    <tr>\n",
       "      <th>...</th>\n",
       "      <td>...</td>\n",
       "      <td>...</td>\n",
       "      <td>...</td>\n",
       "    </tr>\n",
       "    <tr>\n",
       "      <th>2419111</th>\n",
       "      <td>202306300446_37</td>\n",
       "      <td>202306300434_9</td>\n",
       "      <td>0 days 00:00:00</td>\n",
       "    </tr>\n",
       "    <tr>\n",
       "      <th>2419110</th>\n",
       "      <td>202306300446_36</td>\n",
       "      <td>202306300434_9</td>\n",
       "      <td>0 days 00:00:00</td>\n",
       "    </tr>\n",
       "    <tr>\n",
       "      <th>2419109</th>\n",
       "      <td>202306300446_35</td>\n",
       "      <td>202306300434_9</td>\n",
       "      <td>0 days 00:00:00</td>\n",
       "    </tr>\n",
       "    <tr>\n",
       "      <th>2419105</th>\n",
       "      <td>202306300446_31</td>\n",
       "      <td>202306300442_9</td>\n",
       "      <td>0 days 00:00:00</td>\n",
       "    </tr>\n",
       "    <tr>\n",
       "      <th>6369370</th>\n",
       "      <td>202312312358_9</td>\n",
       "      <td>202312312354_7</td>\n",
       "      <td>0 days 00:00:00</td>\n",
       "    </tr>\n",
       "  </tbody>\n",
       "</table>\n",
       "<p>6369371 rows × 3 columns</p>\n",
       "</div>"
      ],
      "text/plain": [
       "              cluster_id      cluster_id2        lifespan\n",
       "5187223  202311041120_19   202311041120_6 0 days 02:07:54\n",
       "4355824   202309272328_4   202309272328_3 0 days 01:53:46\n",
       "3079985  202307270332_16  202307270332_10 0 days 01:34:24\n",
       "5710744  202311272202_10   202311272202_3 0 days 01:32:50\n",
       "399034   202302020154_50   202302020154_8 0 days 01:22:56\n",
       "...                  ...              ...             ...\n",
       "2419111  202306300446_37   202306300434_9 0 days 00:00:00\n",
       "2419110  202306300446_36   202306300434_9 0 days 00:00:00\n",
       "2419109  202306300446_35   202306300434_9 0 days 00:00:00\n",
       "2419105  202306300446_31   202306300442_9 0 days 00:00:00\n",
       "6369370   202312312358_9   202312312354_7 0 days 00:00:00\n",
       "\n",
       "[6369371 rows x 3 columns]"
      ]
     },
     "execution_count": 5,
     "metadata": {},
     "output_type": "execute_result"
    }
   ],
   "source": [
    "delta_df.sort_values(by=\"delta first occurrence\", ascending=False)"
   ]
  },
  {
   "cell_type": "markdown",
   "metadata": {},
   "source": [
    "## Merge Statistics"
   ]
  },
  {
   "cell_type": "code",
   "execution_count": 15,
   "metadata": {},
   "outputs": [],
   "source": [
    "size_df = pd.read_parquet(\"real-time clusters/size_df.parquet\")\n",
    "lifespan_df = pd.read_parquet(\"real-time clusters/lifespan_df.parquet\")\n",
    "delta_df = pd.read_parquet(\"real-time clusters/delta_df.parquet\")"
   ]
  },
  {
   "cell_type": "code",
   "execution_count": 18,
   "metadata": {},
   "outputs": [],
   "source": [
    "clusters_statistics = size_df.merge(lifespan_df, on=[\"cluster_id\", \"cluster_id2\"], how=\"left\").merge(delta_df, on=[\"cluster_id\", \"cluster_id2\"], how=\"left\")"
   ]
  },
  {
   "cell_type": "code",
   "execution_count": 19,
   "metadata": {},
   "outputs": [
    {
     "data": {
      "text/html": [
       "<div>\n",
       "<style scoped>\n",
       "    .dataframe tbody tr th:only-of-type {\n",
       "        vertical-align: middle;\n",
       "    }\n",
       "\n",
       "    .dataframe tbody tr th {\n",
       "        vertical-align: top;\n",
       "    }\n",
       "\n",
       "    .dataframe thead th {\n",
       "        text-align: right;\n",
       "    }\n",
       "</style>\n",
       "<table border=\"1\" class=\"dataframe\">\n",
       "  <thead>\n",
       "    <tr style=\"text-align: right;\">\n",
       "      <th></th>\n",
       "      <th>cluster_id</th>\n",
       "      <th>cluster_id2</th>\n",
       "      <th>size</th>\n",
       "      <th>lifespan_x</th>\n",
       "      <th>lifespan_y</th>\n",
       "    </tr>\n",
       "  </thead>\n",
       "  <tbody>\n",
       "    <tr>\n",
       "      <th>0</th>\n",
       "      <td>202301010000_1</td>\n",
       "      <td>202301010000_33</td>\n",
       "      <td>1</td>\n",
       "      <td>1 days 23:25:34</td>\n",
       "      <td>0 days</td>\n",
       "    </tr>\n",
       "    <tr>\n",
       "      <th>1</th>\n",
       "      <td>202301010000_10</td>\n",
       "      <td>202301010000_133</td>\n",
       "      <td>1</td>\n",
       "      <td>0 days 01:14:29</td>\n",
       "      <td>0 days</td>\n",
       "    </tr>\n",
       "    <tr>\n",
       "      <th>2</th>\n",
       "      <td>202301010000_104</td>\n",
       "      <td>202301010000_79</td>\n",
       "      <td>1</td>\n",
       "      <td>0 days 01:38:28</td>\n",
       "      <td>0 days</td>\n",
       "    </tr>\n",
       "    <tr>\n",
       "      <th>3</th>\n",
       "      <td>202301010000_105</td>\n",
       "      <td>202301010000_80</td>\n",
       "      <td>1</td>\n",
       "      <td>0 days 01:58:25</td>\n",
       "      <td>0 days</td>\n",
       "    </tr>\n",
       "    <tr>\n",
       "      <th>4</th>\n",
       "      <td>202301010000_106</td>\n",
       "      <td>202301010000_81</td>\n",
       "      <td>1</td>\n",
       "      <td>0 days 06:55:03</td>\n",
       "      <td>0 days</td>\n",
       "    </tr>\n",
       "    <tr>\n",
       "      <th>...</th>\n",
       "      <td>...</td>\n",
       "      <td>...</td>\n",
       "      <td>...</td>\n",
       "      <td>...</td>\n",
       "      <td>...</td>\n",
       "    </tr>\n",
       "    <tr>\n",
       "      <th>6369366</th>\n",
       "      <td>202312312358_5</td>\n",
       "      <td>202312312354_5</td>\n",
       "      <td>1</td>\n",
       "      <td>0 days 00:04:34</td>\n",
       "      <td>0 days</td>\n",
       "    </tr>\n",
       "    <tr>\n",
       "      <th>6369367</th>\n",
       "      <td>202312312358_6</td>\n",
       "      <td>202312312354_5</td>\n",
       "      <td>1</td>\n",
       "      <td>0 days 00:03:57</td>\n",
       "      <td>0 days</td>\n",
       "    </tr>\n",
       "    <tr>\n",
       "      <th>6369368</th>\n",
       "      <td>202312312358_7</td>\n",
       "      <td>202312312354_5</td>\n",
       "      <td>1</td>\n",
       "      <td>0 days 00:00:00</td>\n",
       "      <td>0 days</td>\n",
       "    </tr>\n",
       "    <tr>\n",
       "      <th>6369369</th>\n",
       "      <td>202312312358_8</td>\n",
       "      <td>202312312354_7</td>\n",
       "      <td>1</td>\n",
       "      <td>0 days 00:05:31</td>\n",
       "      <td>0 days</td>\n",
       "    </tr>\n",
       "    <tr>\n",
       "      <th>6369370</th>\n",
       "      <td>202312312358_9</td>\n",
       "      <td>202312312354_7</td>\n",
       "      <td>1</td>\n",
       "      <td>0 days 00:04:40</td>\n",
       "      <td>0 days</td>\n",
       "    </tr>\n",
       "  </tbody>\n",
       "</table>\n",
       "<p>6369371 rows × 5 columns</p>\n",
       "</div>"
      ],
      "text/plain": [
       "               cluster_id       cluster_id2  size      lifespan_x lifespan_y\n",
       "0          202301010000_1   202301010000_33     1 1 days 23:25:34     0 days\n",
       "1         202301010000_10  202301010000_133     1 0 days 01:14:29     0 days\n",
       "2        202301010000_104   202301010000_79     1 0 days 01:38:28     0 days\n",
       "3        202301010000_105   202301010000_80     1 0 days 01:58:25     0 days\n",
       "4        202301010000_106   202301010000_81     1 0 days 06:55:03     0 days\n",
       "...                   ...               ...   ...             ...        ...\n",
       "6369366    202312312358_5    202312312354_5     1 0 days 00:04:34     0 days\n",
       "6369367    202312312358_6    202312312354_5     1 0 days 00:03:57     0 days\n",
       "6369368    202312312358_7    202312312354_5     1 0 days 00:00:00     0 days\n",
       "6369369    202312312358_8    202312312354_7     1 0 days 00:05:31     0 days\n",
       "6369370    202312312358_9    202312312354_7     1 0 days 00:04:40     0 days\n",
       "\n",
       "[6369371 rows x 5 columns]"
      ]
     },
     "execution_count": 19,
     "metadata": {},
     "output_type": "execute_result"
    }
   ],
   "source": [
    "clusters_statistics"
   ]
  },
  {
   "cell_type": "code",
   "execution_count": 20,
   "metadata": {},
   "outputs": [],
   "source": [
    "clusters_statistics.to_parquet(\"real-time clusters/clusters_statistics.parquet\")"
   ]
  },
  {
   "cell_type": "markdown",
   "metadata": {},
   "source": [
    "## Slogans\n"
   ]
  },
  {
   "cell_type": "code",
   "execution_count": 17,
   "metadata": {},
   "outputs": [],
   "source": [
    "mob_slogan = mob[[\"alarm_id\", \"mob_slogan\"]]\n",
    "adsl_slogan = adsl[[\"alarm_id\", \"std_probable_cause_no\"]]## , \"summary\"]\n",
    "ptn_slogan = ptn[[\"alarm_id\", \"std_probable_cause_no\"]]\n",
    "sdh_slogan = sdh[[\"alarm_id\", \"std_probable_cause_no\"]]\n",
    "pdh_slogan = pdh[[\"alarm_id\", \"std_probable_cause_no\"]]\n"
   ]
  },
  {
   "cell_type": "code",
   "execution_count": 24,
   "metadata": {},
   "outputs": [
    {
     "data": {
      "text/plain": [
       "0           NaN\n",
       "1           NaN\n",
       "2           NaN\n",
       "3           NaN\n",
       "4           NaN\n",
       "           ... \n",
       "28176439    NaN\n",
       "28176440    NaN\n",
       "28176441    NaN\n",
       "28176442    NaN\n",
       "28176443    NaN\n",
       "Name: mob_slogan, Length: 28176444, dtype: category\n",
       "Categories (1142, object): ['', 'a', 'a incendio', 'a min batteria', ..., 'wi alllarme porta', 'wi guasto grave condizionamento', 'wi guasto sistema di alimentazione', 'wi mancanza rete']"
      ]
     },
     "execution_count": 24,
     "metadata": {},
     "output_type": "execute_result"
    }
   ],
   "source": [
    "mob[\"mob_slogan\"]"
   ]
  },
  {
   "cell_type": "code",
   "execution_count": 23,
   "metadata": {},
   "outputs": [
    {
     "data": {
      "text/html": [
       "<div>\n",
       "<style scoped>\n",
       "    .dataframe tbody tr th:only-of-type {\n",
       "        vertical-align: middle;\n",
       "    }\n",
       "\n",
       "    .dataframe tbody tr th {\n",
       "        vertical-align: top;\n",
       "    }\n",
       "\n",
       "    .dataframe thead th {\n",
       "        text-align: right;\n",
       "    }\n",
       "</style>\n",
       "<table border=\"1\" class=\"dataframe\">\n",
       "  <thead>\n",
       "    <tr style=\"text-align: right;\">\n",
       "      <th></th>\n",
       "      <th>alarm_id</th>\n",
       "      <th>mob_slogan</th>\n",
       "    </tr>\n",
       "  </thead>\n",
       "  <tbody>\n",
       "    <tr>\n",
       "      <th>0</th>\n",
       "      <td>EFM;63b098b01a65d200011620f8</td>\n",
       "      <td>NaN</td>\n",
       "    </tr>\n",
       "    <tr>\n",
       "      <th>1</th>\n",
       "      <td>EFM;63b0b476c623b40001a68b45</td>\n",
       "      <td>NaN</td>\n",
       "    </tr>\n",
       "    <tr>\n",
       "      <th>2</th>\n",
       "      <td>EFM;63b0b5a8c623b40001a68b9b</td>\n",
       "      <td>NaN</td>\n",
       "    </tr>\n",
       "    <tr>\n",
       "      <th>3</th>\n",
       "      <td>EFM;63b0b5c6c623b40001a68ba2</td>\n",
       "      <td>NaN</td>\n",
       "    </tr>\n",
       "    <tr>\n",
       "      <th>4</th>\n",
       "      <td>EFM;63b0b675c623b40001a68c03</td>\n",
       "      <td>NaN</td>\n",
       "    </tr>\n",
       "    <tr>\n",
       "      <th>...</th>\n",
       "      <td>...</td>\n",
       "      <td>...</td>\n",
       "    </tr>\n",
       "    <tr>\n",
       "      <th>28176439</th>\n",
       "      <td>EFM;6591f1f639628d000137853b</td>\n",
       "      <td>NaN</td>\n",
       "    </tr>\n",
       "    <tr>\n",
       "      <th>28176440</th>\n",
       "      <td>EFM;6591f1f739628d000137854e</td>\n",
       "      <td>NaN</td>\n",
       "    </tr>\n",
       "    <tr>\n",
       "      <th>28176441</th>\n",
       "      <td>EFM;6591f1f739628d0001378554</td>\n",
       "      <td>NaN</td>\n",
       "    </tr>\n",
       "    <tr>\n",
       "      <th>28176442</th>\n",
       "      <td>EFM;6591f1f939628d0001378585</td>\n",
       "      <td>NaN</td>\n",
       "    </tr>\n",
       "    <tr>\n",
       "      <th>28176443</th>\n",
       "      <td>EFM;6591f1fa39628d0001378594</td>\n",
       "      <td>NaN</td>\n",
       "    </tr>\n",
       "  </tbody>\n",
       "</table>\n",
       "<p>28176444 rows × 2 columns</p>\n",
       "</div>"
      ],
      "text/plain": [
       "                              alarm_id mob_slogan\n",
       "0         EFM;63b098b01a65d200011620f8        NaN\n",
       "1         EFM;63b0b476c623b40001a68b45        NaN\n",
       "2         EFM;63b0b5a8c623b40001a68b9b        NaN\n",
       "3         EFM;63b0b5c6c623b40001a68ba2        NaN\n",
       "4         EFM;63b0b675c623b40001a68c03        NaN\n",
       "...                                ...        ...\n",
       "28176439  EFM;6591f1f639628d000137853b        NaN\n",
       "28176440  EFM;6591f1f739628d000137854e        NaN\n",
       "28176441  EFM;6591f1f739628d0001378554        NaN\n",
       "28176442  EFM;6591f1f939628d0001378585        NaN\n",
       "28176443  EFM;6591f1fa39628d0001378594        NaN\n",
       "\n",
       "[28176444 rows x 2 columns]"
      ]
     },
     "execution_count": 23,
     "metadata": {},
     "output_type": "execute_result"
    }
   ],
   "source": [
    "mob_slogan"
   ]
  },
  {
   "cell_type": "code",
   "execution_count": 11,
   "metadata": {},
   "outputs": [
    {
     "name": "stderr",
     "output_type": "stream",
     "text": [
      "C:\\Users\\Nicolò Caradonna\\AppData\\Local\\Temp\\ipykernel_15288\\753721231.py:1: SettingWithCopyWarning: \n",
      "A value is trying to be set on a copy of a slice from a DataFrame\n",
      "\n",
      "See the caveats in the documentation: https://pandas.pydata.org/pandas-docs/stable/user_guide/indexing.html#returning-a-view-versus-a-copy\n",
      "  mob_slogan.rename(columns={\"mob_slogan\": \"slogan\"}, inplace=True)\n"
     ]
    }
   ],
   "source": [
    "mob_slogan.rename(columns={\"mob_slogan\": \"slogan\"}, inplace=True)\n"
   ]
  },
  {
   "cell_type": "code",
   "execution_count": 14,
   "metadata": {},
   "outputs": [
    {
     "data": {
      "text/html": [
       "<div>\n",
       "<style scoped>\n",
       "    .dataframe tbody tr th:only-of-type {\n",
       "        vertical-align: middle;\n",
       "    }\n",
       "\n",
       "    .dataframe tbody tr th {\n",
       "        vertical-align: top;\n",
       "    }\n",
       "\n",
       "    .dataframe thead th {\n",
       "        text-align: right;\n",
       "    }\n",
       "</style>\n",
       "<table border=\"1\" class=\"dataframe\">\n",
       "  <thead>\n",
       "    <tr style=\"text-align: right;\">\n",
       "      <th></th>\n",
       "      <th>alarm_id</th>\n",
       "      <th>slogan</th>\n",
       "    </tr>\n",
       "  </thead>\n",
       "  <tbody>\n",
       "    <tr>\n",
       "      <th>0</th>\n",
       "      <td>EFM;63b098b01a65d200011620f8</td>\n",
       "      <td>NaN</td>\n",
       "    </tr>\n",
       "    <tr>\n",
       "      <th>1</th>\n",
       "      <td>EFM;63b0b476c623b40001a68b45</td>\n",
       "      <td>NaN</td>\n",
       "    </tr>\n",
       "    <tr>\n",
       "      <th>2</th>\n",
       "      <td>EFM;63b0b5a8c623b40001a68b9b</td>\n",
       "      <td>NaN</td>\n",
       "    </tr>\n",
       "    <tr>\n",
       "      <th>3</th>\n",
       "      <td>EFM;63b0b5c6c623b40001a68ba2</td>\n",
       "      <td>NaN</td>\n",
       "    </tr>\n",
       "    <tr>\n",
       "      <th>4</th>\n",
       "      <td>EFM;63b0b675c623b40001a68c03</td>\n",
       "      <td>NaN</td>\n",
       "    </tr>\n",
       "    <tr>\n",
       "      <th>...</th>\n",
       "      <td>...</td>\n",
       "      <td>...</td>\n",
       "    </tr>\n",
       "    <tr>\n",
       "      <th>28176439</th>\n",
       "      <td>EFM;6591f1f639628d000137853b</td>\n",
       "      <td>NaN</td>\n",
       "    </tr>\n",
       "    <tr>\n",
       "      <th>28176440</th>\n",
       "      <td>EFM;6591f1f739628d000137854e</td>\n",
       "      <td>NaN</td>\n",
       "    </tr>\n",
       "    <tr>\n",
       "      <th>28176441</th>\n",
       "      <td>EFM;6591f1f739628d0001378554</td>\n",
       "      <td>NaN</td>\n",
       "    </tr>\n",
       "    <tr>\n",
       "      <th>28176442</th>\n",
       "      <td>EFM;6591f1f939628d0001378585</td>\n",
       "      <td>NaN</td>\n",
       "    </tr>\n",
       "    <tr>\n",
       "      <th>28176443</th>\n",
       "      <td>EFM;6591f1fa39628d0001378594</td>\n",
       "      <td>NaN</td>\n",
       "    </tr>\n",
       "  </tbody>\n",
       "</table>\n",
       "<p>28176444 rows × 2 columns</p>\n",
       "</div>"
      ],
      "text/plain": [
       "                              alarm_id slogan\n",
       "0         EFM;63b098b01a65d200011620f8    NaN\n",
       "1         EFM;63b0b476c623b40001a68b45    NaN\n",
       "2         EFM;63b0b5a8c623b40001a68b9b    NaN\n",
       "3         EFM;63b0b5c6c623b40001a68ba2    NaN\n",
       "4         EFM;63b0b675c623b40001a68c03    NaN\n",
       "...                                ...    ...\n",
       "28176439  EFM;6591f1f639628d000137853b    NaN\n",
       "28176440  EFM;6591f1f739628d000137854e    NaN\n",
       "28176441  EFM;6591f1f739628d0001378554    NaN\n",
       "28176442  EFM;6591f1f939628d0001378585    NaN\n",
       "28176443  EFM;6591f1fa39628d0001378594    NaN\n",
       "\n",
       "[28176444 rows x 2 columns]"
      ]
     },
     "execution_count": 14,
     "metadata": {},
     "output_type": "execute_result"
    }
   ],
   "source": [
    "mob_slogan"
   ]
  },
  {
   "cell_type": "code",
   "execution_count": 9,
   "metadata": {},
   "outputs": [],
   "source": [
    "alarms_slogan = pd.concat([mob_slogan, adsl_slogan, ptn_slogan, sdh_slogan, pdh_slogan])"
   ]
  },
  {
   "cell_type": "code",
   "execution_count": 10,
   "metadata": {},
   "outputs": [
    {
     "data": {
      "text/html": [
       "<div>\n",
       "<style scoped>\n",
       "    .dataframe tbody tr th:only-of-type {\n",
       "        vertical-align: middle;\n",
       "    }\n",
       "\n",
       "    .dataframe tbody tr th {\n",
       "        vertical-align: top;\n",
       "    }\n",
       "\n",
       "    .dataframe thead th {\n",
       "        text-align: right;\n",
       "    }\n",
       "</style>\n",
       "<table border=\"1\" class=\"dataframe\">\n",
       "  <thead>\n",
       "    <tr style=\"text-align: right;\">\n",
       "      <th></th>\n",
       "      <th>alarm_id</th>\n",
       "      <th>slogan</th>\n",
       "      <th>std_probable_cause_no</th>\n",
       "    </tr>\n",
       "  </thead>\n",
       "  <tbody>\n",
       "    <tr>\n",
       "      <th>0</th>\n",
       "      <td>EFM;63b098b01a65d200011620f8</td>\n",
       "      <td>NaN</td>\n",
       "      <td>NaN</td>\n",
       "    </tr>\n",
       "    <tr>\n",
       "      <th>1</th>\n",
       "      <td>EFM;63b0b476c623b40001a68b45</td>\n",
       "      <td>NaN</td>\n",
       "      <td>NaN</td>\n",
       "    </tr>\n",
       "    <tr>\n",
       "      <th>2</th>\n",
       "      <td>EFM;63b0b5a8c623b40001a68b9b</td>\n",
       "      <td>NaN</td>\n",
       "      <td>NaN</td>\n",
       "    </tr>\n",
       "    <tr>\n",
       "      <th>3</th>\n",
       "      <td>EFM;63b0b5c6c623b40001a68ba2</td>\n",
       "      <td>NaN</td>\n",
       "      <td>NaN</td>\n",
       "    </tr>\n",
       "    <tr>\n",
       "      <th>4</th>\n",
       "      <td>EFM;63b0b675c623b40001a68c03</td>\n",
       "      <td>NaN</td>\n",
       "      <td>NaN</td>\n",
       "    </tr>\n",
       "    <tr>\n",
       "      <th>...</th>\n",
       "      <td>...</td>\n",
       "      <td>...</td>\n",
       "      <td>...</td>\n",
       "    </tr>\n",
       "    <tr>\n",
       "      <th>408772</th>\n",
       "      <td>EFMTX;65913ce9c23c110001552471</td>\n",
       "      <td>NaN</td>\n",
       "      <td>tunnel aps degraded downgrade of aps tunnel pr...</td>\n",
       "    </tr>\n",
       "    <tr>\n",
       "      <th>408773</th>\n",
       "      <td>EFMTX;65913e2cc23c110001552527</td>\n",
       "      <td>NaN</td>\n",
       "      <td>tunnel aps degraded downgrade of aps tunnel pr...</td>\n",
       "    </tr>\n",
       "    <tr>\n",
       "      <th>408774</th>\n",
       "      <td>EFMTX;6530d7a8eedb1500019c416e</td>\n",
       "      <td>NaN</td>\n",
       "      <td>opttxlow reducedtransmitteroutputpower</td>\n",
       "    </tr>\n",
       "    <tr>\n",
       "      <th>408775</th>\n",
       "      <td>EFMTX;658cd3bf975f510001572fd9</td>\n",
       "      <td>NaN</td>\n",
       "      <td>tunnel aps degraded downgrade of aps tunnel pr...</td>\n",
       "    </tr>\n",
       "    <tr>\n",
       "      <th>408776</th>\n",
       "      <td>EFMTX;6590c9381d392e0001f866b6</td>\n",
       "      <td>NaN</td>\n",
       "      <td>tunnel aps degraded downgrade of aps tunnel pr...</td>\n",
       "    </tr>\n",
       "  </tbody>\n",
       "</table>\n",
       "<p>49569783 rows × 3 columns</p>\n",
       "</div>"
      ],
      "text/plain": [
       "                              alarm_id slogan  \\\n",
       "0         EFM;63b098b01a65d200011620f8    NaN   \n",
       "1         EFM;63b0b476c623b40001a68b45    NaN   \n",
       "2         EFM;63b0b5a8c623b40001a68b9b    NaN   \n",
       "3         EFM;63b0b5c6c623b40001a68ba2    NaN   \n",
       "4         EFM;63b0b675c623b40001a68c03    NaN   \n",
       "...                                ...    ...   \n",
       "408772  EFMTX;65913ce9c23c110001552471    NaN   \n",
       "408773  EFMTX;65913e2cc23c110001552527    NaN   \n",
       "408774  EFMTX;6530d7a8eedb1500019c416e    NaN   \n",
       "408775  EFMTX;658cd3bf975f510001572fd9    NaN   \n",
       "408776  EFMTX;6590c9381d392e0001f866b6    NaN   \n",
       "\n",
       "                                    std_probable_cause_no  \n",
       "0                                                     NaN  \n",
       "1                                                     NaN  \n",
       "2                                                     NaN  \n",
       "3                                                     NaN  \n",
       "4                                                     NaN  \n",
       "...                                                   ...  \n",
       "408772  tunnel aps degraded downgrade of aps tunnel pr...  \n",
       "408773  tunnel aps degraded downgrade of aps tunnel pr...  \n",
       "408774             opttxlow reducedtransmitteroutputpower  \n",
       "408775  tunnel aps degraded downgrade of aps tunnel pr...  \n",
       "408776  tunnel aps degraded downgrade of aps tunnel pr...  \n",
       "\n",
       "[49569783 rows x 3 columns]"
      ]
     },
     "execution_count": 10,
     "metadata": {},
     "output_type": "execute_result"
    }
   ],
   "source": [
    "alarms_slogan"
   ]
  },
  {
   "cell_type": "code",
   "execution_count": 40,
   "metadata": {},
   "outputs": [],
   "source": [
    "alarms_slogan.to_parquet(\"alarms datasets/alarms_slogan.parquet\")"
   ]
  },
  {
   "cell_type": "code",
   "execution_count": null,
   "metadata": {},
   "outputs": [],
   "source": []
  },
  {
   "cell_type": "code",
   "execution_count": 41,
   "metadata": {},
   "outputs": [
    {
     "name": "stdout",
     "output_type": "stream",
     "text": [
      "   colonna\n",
      "0        1\n",
      "1        2\n",
      "2        3\n",
      "3        4\n"
     ]
    }
   ],
   "source": [
    "import pandas as pd\n",
    "\n",
    "# Creazione di un DataFrame di esempio\n",
    "data = {'colonna': [1, 2, 3, 4, 1, 2, 3]}\n",
    "df = pd.DataFrame(data)\n",
    "\n",
    "# Ottenere solo gli elementi unici della colonna 'colonna'\n",
    "elementi_unici = df['colonna'].unique()\n",
    "\n",
    "# Creare un nuovo DataFrame con gli elementi unici della colonna 'colonna'\n",
    "df_elementi_unici = pd.DataFrame({'colonna': elementi_unici})\n",
    "\n",
    "print(df_elementi_unici)\n"
   ]
  }
 ],
 "metadata": {
  "kernelspec": {
   "display_name": "TIM_thesis",
   "language": "python",
   "name": "python3"
  },
  "language_info": {
   "codemirror_mode": {
    "name": "ipython",
    "version": 3
   },
   "file_extension": ".py",
   "mimetype": "text/x-python",
   "name": "python",
   "nbconvert_exporter": "python",
   "pygments_lexer": "ipython3",
   "version": "3.12.2"
  }
 },
 "nbformat": 4,
 "nbformat_minor": 2
}
