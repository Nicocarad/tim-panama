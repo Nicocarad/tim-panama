{
 "cells": [
  {
   "cell_type": "code",
   "execution_count": 2,
   "metadata": {},
   "outputs": [],
   "source": [
    "import pandas as pd\n"
   ]
  },
  {
   "cell_type": "markdown",
   "metadata": {},
   "source": [
    "## Load Clusters and Alarms"
   ]
  },
  {
   "cell_type": "code",
   "execution_count": 3,
   "metadata": {},
   "outputs": [],
   "source": [
    "real_time_clusters_df = pd.read_parquet(\"real-time clusters/20230101-20240101_real_time_clusters.parquet\")"
   ]
  },
  {
   "cell_type": "code",
   "execution_count": 8,
   "metadata": {},
   "outputs": [],
   "source": [
    "filtered_tx_alarms_adsl_df = pd.read_parquet('alarms datasets/tx/[filtered]20230101-20240101_inpas_tx_preprocess__adsl__last_event__last_event__ext1.parquet')"
   ]
  },
  {
   "cell_type": "code",
   "execution_count": 7,
   "metadata": {},
   "outputs": [],
   "source": [
    "filtered_tx_alarms_pdh_df = pd.read_parquet('alarms datasets/tx/[filtered]20230101-20240101_inpas_tx_preprocess__pdh__last_event__last_event__ext1.parquet')"
   ]
  },
  {
   "cell_type": "code",
   "execution_count": 6,
   "metadata": {},
   "outputs": [],
   "source": [
    "filtered_tx_alarms_ptn_df = pd.read_parquet('alarms datasets/tx/[filtered]20230101-20240101_inpas_tx_preprocess__ptn__last_event__last_event__ext1.parquet')\n"
   ]
  },
  {
   "cell_type": "code",
   "execution_count": 5,
   "metadata": {},
   "outputs": [],
   "source": [
    "filtered_mob_alarms_df = pd.read_parquet('alarms datasets/mob/[filtered]20230101-20240101_inpas_mob_preprocess__an__last_event__last_event__ext1.parquet')"
   ]
  },
  {
   "cell_type": "markdown",
   "metadata": {},
   "source": [
    "## Extract Last Occurence field form Alarms"
   ]
  },
  {
   "cell_type": "code",
   "execution_count": 9,
   "metadata": {},
   "outputs": [],
   "source": [
    "adsl_last_occurence = filtered_tx_alarms_adsl_df.loc[:, ['alarm_id', 'last_occurrence']]\n",
    "pdh_last_occurence = filtered_tx_alarms_pdh_df.loc[:, ['alarm_id', 'last_occurrence']]\n",
    "ptn_last_occurence = filtered_tx_alarms_ptn_df.loc[:, ['alarm_id', 'last_occurrence']]\n",
    "mob_last_occurence = filtered_mob_alarms_df.loc[:, ['alarm_id', 'last_occurrence']]\n"
   ]
  },
  {
   "cell_type": "code",
   "execution_count": 10,
   "metadata": {},
   "outputs": [],
   "source": [
    "all_alarms = pd.concat([adsl_last_occurence, pdh_last_occurence, ptn_last_occurence, mob_last_occurence])"
   ]
  },
  {
   "cell_type": "code",
   "execution_count": 12,
   "metadata": {},
   "outputs": [],
   "source": [
    "all_alarms.to_parquet('alarms datasets/alarms_last_occurence.parquet')"
   ]
  },
  {
   "cell_type": "markdown",
   "metadata": {},
   "source": [
    "## Join Clusters with Last Occurence"
   ]
  },
  {
   "cell_type": "code",
   "execution_count": 4,
   "metadata": {},
   "outputs": [],
   "source": [
    "all_alarms = pd.read_parquet('alarms datasets/alarms_last_occurence.parquet')"
   ]
  },
  {
   "cell_type": "code",
   "execution_count": 5,
   "metadata": {},
   "outputs": [],
   "source": [
    "clusters_merge_df = pd.merge(real_time_clusters_df, all_alarms, on='alarm_id', how='left')"
   ]
  },
  {
   "cell_type": "code",
   "execution_count": 6,
   "metadata": {},
   "outputs": [
    {
     "data": {
      "text/html": [
       "<div>\n",
       "<style scoped>\n",
       "    .dataframe tbody tr th:only-of-type {\n",
       "        vertical-align: middle;\n",
       "    }\n",
       "\n",
       "    .dataframe tbody tr th {\n",
       "        vertical-align: top;\n",
       "    }\n",
       "\n",
       "    .dataframe thead th {\n",
       "        text-align: right;\n",
       "    }\n",
       "</style>\n",
       "<table border=\"1\" class=\"dataframe\">\n",
       "  <thead>\n",
       "    <tr style=\"text-align: right;\">\n",
       "      <th></th>\n",
       "      <th>alarm_id</th>\n",
       "      <th>network</th>\n",
       "      <th>ne_type</th>\n",
       "      <th>first_occurrence</th>\n",
       "      <th>last_update</th>\n",
       "      <th>data</th>\n",
       "      <th>ne_id</th>\n",
       "      <th>geo_code</th>\n",
       "      <th>min_cluster_first_occurrence</th>\n",
       "      <th>domain</th>\n",
       "      <th>link_cluster</th>\n",
       "      <th>cluster_id</th>\n",
       "      <th>cluster_id2</th>\n",
       "      <th>last_occurrence</th>\n",
       "    </tr>\n",
       "  </thead>\n",
       "  <tbody>\n",
       "    <tr>\n",
       "      <th>0</th>\n",
       "      <td>EFM;63af9dfe2aaf2c000125807a</td>\n",
       "      <td>an</td>\n",
       "      <td>lnbts</td>\n",
       "      <td>2022-12-31 03:27:10</td>\n",
       "      <td>2022-12-31 23:59:01</td>\n",
       "      <td>2023-01-01 00:00:02</td>\n",
       "      <td>1btste08d</td>\n",
       "      <td>alad</td>\n",
       "      <td>2022-12-31 03:27:10</td>\n",
       "      <td>mob</td>\n",
       "      <td>None</td>\n",
       "      <td>202301010000_3</td>\n",
       "      <td>202301010000_1</td>\n",
       "      <td>2023-01-02 13:52:56</td>\n",
       "    </tr>\n",
       "    <tr>\n",
       "      <th>1</th>\n",
       "      <td>EFM;63af9dfec623b40001a5c9cf</td>\n",
       "      <td>an</td>\n",
       "      <td>lnbts</td>\n",
       "      <td>2022-12-31 03:27:10</td>\n",
       "      <td>2022-12-31 23:58:55</td>\n",
       "      <td>2023-01-01 00:00:02</td>\n",
       "      <td>1btste08d</td>\n",
       "      <td>alad</td>\n",
       "      <td>2022-12-31 03:27:10</td>\n",
       "      <td>mob</td>\n",
       "      <td>None</td>\n",
       "      <td>202301010000_3</td>\n",
       "      <td>202301010000_1</td>\n",
       "      <td>2023-01-02 13:52:56</td>\n",
       "    </tr>\n",
       "    <tr>\n",
       "      <th>2</th>\n",
       "      <td>COS1P;136902468</td>\n",
       "      <td>sdh</td>\n",
       "      <td>ad16</td>\n",
       "      <td>2022-12-31 22:19:34</td>\n",
       "      <td>2022-12-31 23:58:46</td>\n",
       "      <td>2023-01-01 00:00:02</td>\n",
       "      <td>alesitaj/ad16/73</td>\n",
       "      <td>ales</td>\n",
       "      <td>2022-12-31 22:19:34</td>\n",
       "      <td>tx</td>\n",
       "      <td>None</td>\n",
       "      <td>202301010000_20</td>\n",
       "      <td>202301010000_2</td>\n",
       "      <td>NaT</td>\n",
       "    </tr>\n",
       "    <tr>\n",
       "      <th>3</th>\n",
       "      <td>EFM;63b0beaf2aaf2c0001258736</td>\n",
       "      <td>an</td>\n",
       "      <td>lebts</td>\n",
       "      <td>2022-12-31 23:58:55</td>\n",
       "      <td>2022-12-31 23:59:27</td>\n",
       "      <td>2023-01-01 00:00:02</td>\n",
       "      <td>5btsle119</td>\n",
       "      <td>alss</td>\n",
       "      <td>2022-12-31 23:58:55</td>\n",
       "      <td>mob</td>\n",
       "      <td>None</td>\n",
       "      <td>202301010000_9</td>\n",
       "      <td>202301010000_3</td>\n",
       "      <td>2023-01-01 00:08:06</td>\n",
       "    </tr>\n",
       "    <tr>\n",
       "      <th>4</th>\n",
       "      <td>COS1P;136891403</td>\n",
       "      <td>sdh</td>\n",
       "      <td>oadm</td>\n",
       "      <td>2022-12-31 11:26:16</td>\n",
       "      <td>2022-12-31 23:59:52</td>\n",
       "      <td>2023-01-01 00:00:02</td>\n",
       "      <td>ancoitab/oadm/1</td>\n",
       "      <td>anco</td>\n",
       "      <td>2022-12-31 11:26:16</td>\n",
       "      <td>tx</td>\n",
       "      <td>None</td>\n",
       "      <td>202301010000_21</td>\n",
       "      <td>202301010000_4</td>\n",
       "      <td>NaT</td>\n",
       "    </tr>\n",
       "    <tr>\n",
       "      <th>...</th>\n",
       "      <td>...</td>\n",
       "      <td>...</td>\n",
       "      <td>...</td>\n",
       "      <td>...</td>\n",
       "      <td>...</td>\n",
       "      <td>...</td>\n",
       "      <td>...</td>\n",
       "      <td>...</td>\n",
       "      <td>...</td>\n",
       "      <td>...</td>\n",
       "      <td>...</td>\n",
       "      <td>...</td>\n",
       "      <td>...</td>\n",
       "      <td>...</td>\n",
       "    </tr>\n",
       "    <tr>\n",
       "      <th>13123609</th>\n",
       "      <td>EFMTX;6591efb9d7d6bc00019444d8</td>\n",
       "      <td>adsl</td>\n",
       "      <td>adsl</td>\n",
       "      <td>2023-12-31 23:48:25</td>\n",
       "      <td>2023-12-31 23:56:43</td>\n",
       "      <td>2023-12-31 23:58:02</td>\n",
       "      <td>taglitac/adsl/1</td>\n",
       "      <td>tagl</td>\n",
       "      <td>2023-12-31 23:48:24</td>\n",
       "      <td>tx</td>\n",
       "      <td>None</td>\n",
       "      <td>202312312350_16</td>\n",
       "      <td>202312312350_13</td>\n",
       "      <td>2023-12-31 23:52:28</td>\n",
       "    </tr>\n",
       "    <tr>\n",
       "      <th>13123610</th>\n",
       "      <td>EFMTX;6591f046d8beb800016deaef</td>\n",
       "      <td>ptn</td>\n",
       "      <td>ptn3</td>\n",
       "      <td>2023-12-31 23:50:46</td>\n",
       "      <td>2023-12-31 23:57:34</td>\n",
       "      <td>2023-12-31 23:58:02</td>\n",
       "      <td>thesitae/ptn3/1</td>\n",
       "      <td>thes</td>\n",
       "      <td>2023-12-31 23:44:44</td>\n",
       "      <td>tx</td>\n",
       "      <td>None</td>\n",
       "      <td>202312312348_17</td>\n",
       "      <td>202312312344_9</td>\n",
       "      <td>2023-12-31 23:50:46</td>\n",
       "    </tr>\n",
       "    <tr>\n",
       "      <th>13123611</th>\n",
       "      <td>EFM;6591f199d4c961000177739d</td>\n",
       "      <td>an</td>\n",
       "      <td>lnbts</td>\n",
       "      <td>2023-12-31 23:56:25</td>\n",
       "      <td>2023-12-31 23:56:37</td>\n",
       "      <td>2023-12-31 23:58:03</td>\n",
       "      <td>1btsts059</td>\n",
       "      <td>trie</td>\n",
       "      <td>2023-12-31 23:56:25</td>\n",
       "      <td>mob</td>\n",
       "      <td>None</td>\n",
       "      <td>202312312358_1</td>\n",
       "      <td>202312312358_13</td>\n",
       "      <td>2023-12-31 23:58:21</td>\n",
       "    </tr>\n",
       "    <tr>\n",
       "      <th>13123612</th>\n",
       "      <td>EFM;6591f19aba09b0000160c08d</td>\n",
       "      <td>an</td>\n",
       "      <td>lnbts</td>\n",
       "      <td>2023-12-31 23:56:26</td>\n",
       "      <td>2023-12-31 23:57:59</td>\n",
       "      <td>2023-12-31 23:58:03</td>\n",
       "      <td>1btsts059</td>\n",
       "      <td>trie</td>\n",
       "      <td>2023-12-31 23:56:25</td>\n",
       "      <td>mob</td>\n",
       "      <td>None</td>\n",
       "      <td>202312312358_1</td>\n",
       "      <td>202312312358_13</td>\n",
       "      <td>2023-12-31 23:58:21</td>\n",
       "    </tr>\n",
       "    <tr>\n",
       "      <th>13123613</th>\n",
       "      <td>EFMTX;6591ef19d7d6bc000194445c</td>\n",
       "      <td>sdh</td>\n",
       "      <td>prhu</td>\n",
       "      <td>2023-12-31 23:45:45</td>\n",
       "      <td>2023-12-31 23:57:22</td>\n",
       "      <td>2023-12-31 23:58:02</td>\n",
       "      <td>viarital/prhu/4</td>\n",
       "      <td>viar</td>\n",
       "      <td>2023-12-31 23:45:45</td>\n",
       "      <td>tx</td>\n",
       "      <td>None</td>\n",
       "      <td>202312312358_28</td>\n",
       "      <td>202312312358_14</td>\n",
       "      <td>NaT</td>\n",
       "    </tr>\n",
       "  </tbody>\n",
       "</table>\n",
       "<p>13123614 rows × 14 columns</p>\n",
       "</div>"
      ],
      "text/plain": [
       "                                alarm_id network ne_type     first_occurrence  \\\n",
       "0           EFM;63af9dfe2aaf2c000125807a      an   lnbts  2022-12-31 03:27:10   \n",
       "1           EFM;63af9dfec623b40001a5c9cf      an   lnbts  2022-12-31 03:27:10   \n",
       "2                        COS1P;136902468     sdh    ad16  2022-12-31 22:19:34   \n",
       "3           EFM;63b0beaf2aaf2c0001258736      an   lebts  2022-12-31 23:58:55   \n",
       "4                        COS1P;136891403     sdh    oadm  2022-12-31 11:26:16   \n",
       "...                                  ...     ...     ...                  ...   \n",
       "13123609  EFMTX;6591efb9d7d6bc00019444d8    adsl    adsl  2023-12-31 23:48:25   \n",
       "13123610  EFMTX;6591f046d8beb800016deaef     ptn    ptn3  2023-12-31 23:50:46   \n",
       "13123611    EFM;6591f199d4c961000177739d      an   lnbts  2023-12-31 23:56:25   \n",
       "13123612    EFM;6591f19aba09b0000160c08d      an   lnbts  2023-12-31 23:56:26   \n",
       "13123613  EFMTX;6591ef19d7d6bc000194445c     sdh    prhu  2023-12-31 23:45:45   \n",
       "\n",
       "                  last_update                 data             ne_id geo_code  \\\n",
       "0         2022-12-31 23:59:01  2023-01-01 00:00:02         1btste08d     alad   \n",
       "1         2022-12-31 23:58:55  2023-01-01 00:00:02         1btste08d     alad   \n",
       "2         2022-12-31 23:58:46  2023-01-01 00:00:02  alesitaj/ad16/73     ales   \n",
       "3         2022-12-31 23:59:27  2023-01-01 00:00:02         5btsle119     alss   \n",
       "4         2022-12-31 23:59:52  2023-01-01 00:00:02   ancoitab/oadm/1     anco   \n",
       "...                       ...                  ...               ...      ...   \n",
       "13123609  2023-12-31 23:56:43  2023-12-31 23:58:02   taglitac/adsl/1     tagl   \n",
       "13123610  2023-12-31 23:57:34  2023-12-31 23:58:02   thesitae/ptn3/1     thes   \n",
       "13123611  2023-12-31 23:56:37  2023-12-31 23:58:03         1btsts059     trie   \n",
       "13123612  2023-12-31 23:57:59  2023-12-31 23:58:03         1btsts059     trie   \n",
       "13123613  2023-12-31 23:57:22  2023-12-31 23:58:02   viarital/prhu/4     viar   \n",
       "\n",
       "         min_cluster_first_occurrence domain link_cluster       cluster_id  \\\n",
       "0                 2022-12-31 03:27:10    mob         None   202301010000_3   \n",
       "1                 2022-12-31 03:27:10    mob         None   202301010000_3   \n",
       "2                 2022-12-31 22:19:34     tx         None  202301010000_20   \n",
       "3                 2022-12-31 23:58:55    mob         None   202301010000_9   \n",
       "4                 2022-12-31 11:26:16     tx         None  202301010000_21   \n",
       "...                               ...    ...          ...              ...   \n",
       "13123609          2023-12-31 23:48:24     tx         None  202312312350_16   \n",
       "13123610          2023-12-31 23:44:44     tx         None  202312312348_17   \n",
       "13123611          2023-12-31 23:56:25    mob         None   202312312358_1   \n",
       "13123612          2023-12-31 23:56:25    mob         None   202312312358_1   \n",
       "13123613          2023-12-31 23:45:45     tx         None  202312312358_28   \n",
       "\n",
       "              cluster_id2     last_occurrence  \n",
       "0          202301010000_1 2023-01-02 13:52:56  \n",
       "1          202301010000_1 2023-01-02 13:52:56  \n",
       "2          202301010000_2                 NaT  \n",
       "3          202301010000_3 2023-01-01 00:08:06  \n",
       "4          202301010000_4                 NaT  \n",
       "...                   ...                 ...  \n",
       "13123609  202312312350_13 2023-12-31 23:52:28  \n",
       "13123610   202312312344_9 2023-12-31 23:50:46  \n",
       "13123611  202312312358_13 2023-12-31 23:58:21  \n",
       "13123612  202312312358_13 2023-12-31 23:58:21  \n",
       "13123613  202312312358_14                 NaT  \n",
       "\n",
       "[13123614 rows x 14 columns]"
      ]
     },
     "execution_count": 6,
     "metadata": {},
     "output_type": "execute_result"
    }
   ],
   "source": [
    "clusters_merge_df"
   ]
  },
  {
   "cell_type": "code",
   "execution_count": 13,
   "metadata": {},
   "outputs": [],
   "source": [
    "cluster_merge_without_sdh = clusters_merge_df[clusters_merge_df['network'] != \"sdh\"]\n",
    "cluster_merge_without_sdh.insert(4, 'last_occurrence', cluster_merge_without_sdh.pop('last_occurrence'))\n",
    "cluster_merge_without_sdh.to_parquet('real-time clusters/20230101-20240101_real_time_clusters_with_last_occurence.parquet')"
   ]
  },
  {
   "cell_type": "markdown",
   "metadata": {},
   "source": [
    "## Extract Cluster from Datasets"
   ]
  },
  {
   "cell_type": "code",
   "execution_count": null,
   "metadata": {},
   "outputs": [],
   "source": [
    "gruppi = real_time_clusters_df.groupby(['cluster_id', 'cluster_id2'])\n",
    "clusters = []\n",
    "\n",
    "# Itera sui gruppi e salva i cluster in una nuova struttura dati\n",
    "for nome_gruppo, gruppo in gruppi:\n",
    "    clusters.append(gruppo)"
   ]
  },
  {
   "cell_type": "code",
   "execution_count": null,
   "metadata": {},
   "outputs": [],
   "source": [
    "gruppi_count = gruppi.size().reset_index(name='size')"
   ]
  },
  {
   "cell_type": "code",
   "execution_count": null,
   "metadata": {},
   "outputs": [],
   "source": [
    "gruppi_count.sort_values(by=\"size\", ascending=False)"
   ]
  },
  {
   "cell_type": "markdown",
   "metadata": {},
   "source": [
    "## Clusters Statistics\n",
    "\n",
    "- Size: number of alarms within it\n",
    "- Duration/lifespan: difference in time from the last last occurrence to the first first occurrence\n",
    "- Delta first occurrence: distance between the last available first occurrence and the first ever first occurrence"
   ]
  }
 ],
 "metadata": {
  "kernelspec": {
   "display_name": "TIM_thesis",
   "language": "python",
   "name": "python3"
  },
  "language_info": {
   "codemirror_mode": {
    "name": "ipython",
    "version": 3
   },
   "file_extension": ".py",
   "mimetype": "text/x-python",
   "name": "python",
   "nbconvert_exporter": "python",
   "pygments_lexer": "ipython3",
   "version": "3.12.2"
  }
 },
 "nbformat": 4,
 "nbformat_minor": 2
}
